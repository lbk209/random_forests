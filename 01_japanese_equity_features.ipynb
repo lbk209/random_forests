{
 "cells": [
  {
   "cell_type": "markdown",
   "metadata": {},
   "source": [
    "# Japanese Equity Data - Feature Engineering"
   ]
  },
  {
   "cell_type": "markdown",
   "metadata": {},
   "source": [
    "## Imports & Settings"
   ]
  },
  {
   "cell_type": "code",
   "execution_count": 1,
   "metadata": {
    "collapsed": true,
    "jupyter": {
     "outputs_hidden": true
    }
   },
   "outputs": [
    {
     "name": "stdout",
     "output_type": "stream",
     "text": [
      "Collecting ipython-autotime\n",
      "  Downloading ipython_autotime-0.3.1-py2.py3-none-any.whl (6.8 kB)\n",
      "Requirement already satisfied: ipython in /opt/conda/lib/python3.7/site-packages (from ipython-autotime) (7.22.0)\n",
      "Requirement already satisfied: pickleshare in /opt/conda/lib/python3.7/site-packages (from ipython->ipython-autotime) (0.7.5)\n",
      "Requirement already satisfied: setuptools>=18.5 in /opt/conda/lib/python3.7/site-packages (from ipython->ipython-autotime) (49.6.0.post20210108)\n",
      "Requirement already satisfied: decorator in /opt/conda/lib/python3.7/site-packages (from ipython->ipython-autotime) (5.0.7)\n",
      "Requirement already satisfied: pexpect>4.3 in /opt/conda/lib/python3.7/site-packages (from ipython->ipython-autotime) (4.8.0)\n",
      "Requirement already satisfied: jedi>=0.16 in /opt/conda/lib/python3.7/site-packages (from ipython->ipython-autotime) (0.18.0)\n",
      "Requirement already satisfied: backcall in /opt/conda/lib/python3.7/site-packages (from ipython->ipython-autotime) (0.2.0)\n",
      "Requirement already satisfied: prompt-toolkit!=3.0.0,!=3.0.1,<3.1.0,>=2.0.0 in /opt/conda/lib/python3.7/site-packages (from ipython->ipython-autotime) (3.0.18)\n",
      "Requirement already satisfied: pygments in /opt/conda/lib/python3.7/site-packages (from ipython->ipython-autotime) (2.8.1)\n",
      "Requirement already satisfied: traitlets>=4.2 in /opt/conda/lib/python3.7/site-packages (from ipython->ipython-autotime) (5.0.5)\n",
      "Requirement already satisfied: parso<0.9.0,>=0.8.0 in /opt/conda/lib/python3.7/site-packages (from jedi>=0.16->ipython->ipython-autotime) (0.8.2)\n",
      "Requirement already satisfied: ptyprocess>=0.5 in /opt/conda/lib/python3.7/site-packages (from pexpect>4.3->ipython->ipython-autotime) (0.7.0)\n",
      "Requirement already satisfied: wcwidth in /opt/conda/lib/python3.7/site-packages (from prompt-toolkit!=3.0.0,!=3.0.1,<3.1.0,>=2.0.0->ipython->ipython-autotime) (0.2.5)\n",
      "Requirement already satisfied: ipython-genutils in /opt/conda/lib/python3.7/site-packages (from traitlets>=4.2->ipython->ipython-autotime) (0.2.0)\n",
      "Installing collected packages: ipython-autotime\n",
      "Successfully installed ipython-autotime-0.3.1\n",
      "Collecting package metadata (current_repodata.json): done\n",
      "Solving environment: done\n",
      "\n",
      "\n",
      "==> WARNING: A newer version of conda exists. <==\n",
      "  current version: 4.9.2\n",
      "  latest version: 4.10.1\n",
      "\n",
      "Please update conda by running\n",
      "\n",
      "    $ conda update -n base conda\n",
      "\n",
      "\n",
      "\n",
      "## Package Plan ##\n",
      "\n",
      "  environment location: /opt/conda\n",
      "\n",
      "  added / updated specs:\n",
      "    - ta-lib\n",
      "\n",
      "\n",
      "The following packages will be downloaded:\n",
      "\n",
      "    package                    |            build\n",
      "    ---------------------------|-----------------\n",
      "    libta-lib-0.4.0            |       h516909a_0         503 KB  conda-forge\n",
      "    ta-lib-0.4.19              |   py37ha21ca33_2         407 KB  conda-forge\n",
      "    ------------------------------------------------------------\n",
      "                                           Total:         910 KB\n",
      "\n",
      "The following NEW packages will be INSTALLED:\n",
      "\n",
      "  libta-lib          conda-forge/linux-64::libta-lib-0.4.0-h516909a_0\n",
      "  ta-lib             conda-forge/linux-64::ta-lib-0.4.19-py37ha21ca33_2\n",
      "\n",
      "\n",
      "\n",
      "Downloading and Extracting Packages\n",
      "ta-lib-0.4.19        | 407 KB    | ##################################### | 100% \n",
      "libta-lib-0.4.0      | 503 KB    | ##################################### | 100% \n",
      "Preparing transaction: done\n",
      "Verifying transaction: done\n",
      "Executing transaction: done\n"
     ]
    }
   ],
   "source": [
    "!pip install ipython-autotime\n",
    "!conda install -y -c quantopian ta-lib"
   ]
  },
  {
   "cell_type": "code",
   "execution_count": 3,
   "metadata": {
    "ExecuteTime": {
     "end_time": "2021-02-23T20:52:01.991713Z",
     "start_time": "2021-02-23T20:52:01.989888Z"
    }
   },
   "outputs": [
    {
     "name": "stdout",
     "output_type": "stream",
     "text": [
      "time: 639 µs (started: 2021-04-23 22:25:04 +00:00)\n"
     ]
    }
   ],
   "source": [
    "import warnings\n",
    "warnings.filterwarnings('ignore')"
   ]
  },
  {
   "cell_type": "code",
   "execution_count": 2,
   "metadata": {
    "ExecuteTime": {
     "end_time": "2021-02-23T20:52:02.715516Z",
     "start_time": "2021-02-23T20:52:02.122124Z"
    }
   },
   "outputs": [
    {
     "name": "stdout",
     "output_type": "stream",
     "text": [
      "time: 793 ms (started: 2021-04-23 22:25:00 +00:00)\n"
     ]
    }
   ],
   "source": [
    "%matplotlib inline\n",
    "%load_ext autotime\n",
    "\n",
    "from pathlib import Path\n",
    "\n",
    "import numpy as np\n",
    "import pandas as pd\n",
    "import talib\n",
    "\n",
    "import matplotlib.pyplot as plt\n",
    "import seaborn as sns"
   ]
  },
  {
   "cell_type": "code",
   "execution_count": 4,
   "metadata": {
    "ExecuteTime": {
     "end_time": "2021-02-23T20:52:02.718899Z",
     "start_time": "2021-02-23T20:52:02.716739Z"
    }
   },
   "outputs": [
    {
     "name": "stdout",
     "output_type": "stream",
     "text": [
      "time: 923 µs (started: 2021-04-23 22:25:07 +00:00)\n"
     ]
    }
   ],
   "source": [
    "sns.set_style('white')"
   ]
  },
  {
   "cell_type": "code",
   "execution_count": 5,
   "metadata": {
    "ExecuteTime": {
     "end_time": "2021-02-23T20:52:02.835865Z",
     "start_time": "2021-02-23T20:52:02.833947Z"
    }
   },
   "outputs": [
    {
     "name": "stdout",
     "output_type": "stream",
     "text": [
      "time: 458 µs (started: 2021-04-23 22:25:08 +00:00)\n"
     ]
    }
   ],
   "source": [
    "idx = pd.IndexSlice"
   ]
  },
  {
   "cell_type": "markdown",
   "metadata": {},
   "source": [
    "## Get Data"
   ]
  },
  {
   "cell_type": "markdown",
   "metadata": {},
   "source": [
    "### Stooq Japanese Equity data 2014-2019"
   ]
  },
  {
   "cell_type": "code",
   "execution_count": 6,
   "metadata": {},
   "outputs": [
    {
     "name": "stdout",
     "output_type": "stream",
     "text": [
      "time: 2.29 ms (started: 2021-04-23 22:25:17 +00:00)\n"
     ]
    }
   ],
   "source": [
    "### set path\n",
    "import os\n",
    "from pathlib import Path\n",
    "path_home = os.getcwd()\n",
    "path_home = Path(path_home)\n",
    "path_data = path_home / 'data'\n",
    "if not path_data.exists():\n",
    "    path_data.mkdir()\n",
    "#path_result = path_home / 'result'"
   ]
  },
  {
   "cell_type": "code",
   "execution_count": 7,
   "metadata": {
    "ExecuteTime": {
     "end_time": "2021-02-23T20:52:04.071212Z",
     "start_time": "2021-02-23T20:52:04.069416Z"
    }
   },
   "outputs": [
    {
     "name": "stdout",
     "output_type": "stream",
     "text": [
      "time: 393 µs (started: 2021-04-23 22:25:23 +00:00)\n"
     ]
    }
   ],
   "source": [
    "DATA_DIR = path_data"
   ]
  },
  {
   "cell_type": "code",
   "execution_count": 8,
   "metadata": {},
   "outputs": [
    {
     "name": "stdout",
     "output_type": "stream",
     "text": [
      "Copying gs://finance_data_bucket/data_stooq.zip...\n",
      "| [1 files][386.2 MiB/386.2 MiB]                                                \n",
      "Operation completed over 1 objects/386.2 MiB.                                    \n",
      "Archive:  data_stooq.zip\n",
      "  inflating: data/stooq_jp_tse_stocks_prices.csv  \n",
      "  inflating: data/stooq_jp_tse_stocks_tickers.csv  \n",
      "time: 14.5 s (started: 2021-04-23 22:25:51 +00:00)\n"
     ]
    }
   ],
   "source": [
    "!gsutil cp gs://finance_data_bucket/data_stooq.zip .\n",
    "!unzip data_stooq.zip data/stooq_jp_tse_stocks_prices.csv data/stooq_jp_tse_stocks_tickers.csv"
   ]
  },
  {
   "cell_type": "code",
   "execution_count": 9,
   "metadata": {
    "ExecuteTime": {
     "end_time": "2021-02-23T20:53:37.810380Z",
     "start_time": "2021-02-23T20:53:28.777679Z"
    }
   },
   "outputs": [
    {
     "name": "stdout",
     "output_type": "stream",
     "text": [
      "<class 'pandas.core.frame.DataFrame'>\n",
      "MultiIndex: 7405525 entries, ('1301.JP', Timestamp('2010-01-04 00:00:00')) to ('9997.JP', Timestamp('2019-12-30 00:00:00'))\n",
      "Data columns (total 5 columns):\n",
      " #   Column  Non-Null Count    Dtype  \n",
      "---  ------  --------------    -----  \n",
      " 0   open    7405525 non-null  float64\n",
      " 1   high    7405525 non-null  float64\n",
      " 2   low     7405525 non-null  float64\n",
      " 3   close   7405525 non-null  float64\n",
      " 4   volume  7405525 non-null  int64  \n",
      "dtypes: float64(4), int64(1)\n",
      "memory usage: 311.1+ MB\n",
      "time: 15 s (started: 2021-04-23 22:26:24 +00:00)\n"
     ]
    }
   ],
   "source": [
    "prices = (pd.read_csv(DATA_DIR / 'stooq_jp_tse_stocks_prices.csv', parse_dates=['date'])\n",
    "          .set_index(['ticker','date'])\n",
    "          .sort_index(level=['ticker','date'])\n",
    "          .loc[idx[:, '2010': '2019'], :]\n",
    "          .loc[lambda df: ~df.index.duplicated(), :])\n",
    "\n",
    "prices.info(show_counts=True)"
   ]
  },
  {
   "cell_type": "code",
   "execution_count": 10,
   "metadata": {
    "ExecuteTime": {
     "end_time": "2021-02-23T20:53:50.288894Z",
     "start_time": "2021-02-23T20:53:50.244145Z"
    }
   },
   "outputs": [
    {
     "name": "stdout",
     "output_type": "stream",
     "text": [
      "time: 85.1 ms (started: 2021-04-23 22:28:55 +00:00)\n"
     ]
    }
   ],
   "source": [
    "before = len(prices.index.unique('ticker').unique())"
   ]
  },
  {
   "cell_type": "markdown",
   "metadata": {},
   "source": [
    "### Remove symbols with missing values"
   ]
  },
  {
   "cell_type": "code",
   "execution_count": 11,
   "metadata": {},
   "outputs": [
    {
     "name": "stdout",
     "output_type": "stream",
     "text": [
      "<class 'pandas.core.frame.DataFrame'>\n",
      "MultiIndex: 5515148 entries, ('1301.JP', Timestamp('2010-01-04 00:00:00')) to ('9997.JP', Timestamp('2019-12-30 00:00:00'))\n",
      "Data columns (total 5 columns):\n",
      " #   Column  Non-Null Count    Dtype  \n",
      "---  ------  --------------    -----  \n",
      " 0   open    5515148 non-null  float64\n",
      " 1   high    5515148 non-null  float64\n",
      " 2   low     5515148 non-null  float64\n",
      " 3   close   5515148 non-null  float64\n",
      " 4   volume  5515148 non-null  float64\n",
      "dtypes: float64(5)\n",
      "memory usage: 231.7+ MB\n",
      "time: 6.96 s (started: 2021-04-23 22:29:20 +00:00)\n"
     ]
    }
   ],
   "source": [
    "prices = (prices.unstack('ticker')\n",
    "        .sort_index()\n",
    "        .ffill(limit=5)\n",
    "        .dropna(axis=1)\n",
    "        .stack('ticker')\n",
    "        .swaplevel())\n",
    "prices.info(show_counts=True)"
   ]
  },
  {
   "cell_type": "code",
   "execution_count": 12,
   "metadata": {
    "ExecuteTime": {
     "end_time": "2021-02-23T20:54:00.924062Z",
     "start_time": "2021-02-23T20:54:00.878458Z"
    }
   },
   "outputs": [
    {
     "name": "stdout",
     "output_type": "stream",
     "text": [
      "Before: 3,623 after: 2,252\n",
      "time: 67 ms (started: 2021-04-23 22:31:22 +00:00)\n"
     ]
    }
   ],
   "source": [
    "after = len(prices.index.unique('ticker').unique())\n",
    "print(f'Before: {before:,.0f} after: {after:,.0f}')"
   ]
  },
  {
   "cell_type": "markdown",
   "metadata": {},
   "source": [
    "### Keep most traded symbols"
   ]
  },
  {
   "cell_type": "code",
   "execution_count": 13,
   "metadata": {
    "ExecuteTime": {
     "end_time": "2021-02-23T20:54:05.693317Z",
     "start_time": "2021-02-23T20:54:05.390629Z"
    }
   },
   "outputs": [
    {
     "name": "stdout",
     "output_type": "stream",
     "text": [
      "time: 381 ms (started: 2021-04-23 22:31:37 +00:00)\n"
     ]
    }
   ],
   "source": [
    "dv = prices.close.mul(prices.volume)\n",
    "keep = dv.groupby('ticker').median().nlargest(1000).index.tolist()"
   ]
  },
  {
   "cell_type": "code",
   "execution_count": 14,
   "metadata": {
    "ExecuteTime": {
     "end_time": "2021-02-23T20:55:07.095475Z",
     "start_time": "2021-02-23T20:54:05.694392Z"
    }
   },
   "outputs": [
    {
     "name": "stdout",
     "output_type": "stream",
     "text": [
      "<class 'pandas.core.frame.DataFrame'>\n",
      "MultiIndex: 2449000 entries, ('9984.JP', Timestamp('2010-01-04 00:00:00')) to ('8550.JP', Timestamp('2019-12-30 00:00:00'))\n",
      "Data columns (total 5 columns):\n",
      " #   Column  Dtype  \n",
      "---  ------  -----  \n",
      " 0   open    float64\n",
      " 1   high    float64\n",
      " 2   low     float64\n",
      " 3   close   float64\n",
      " 4   volume  float64\n",
      "dtypes: float64(5)\n",
      "memory usage: 103.0+ MB\n",
      "time: 1min 51s (started: 2021-04-23 22:31:44 +00:00)\n"
     ]
    }
   ],
   "source": [
    "prices = prices.loc[idx[keep, :], :]\n",
    "prices.info()"
   ]
  },
  {
   "cell_type": "markdown",
   "metadata": {},
   "source": [
    "## Feature Engineering"
   ]
  },
  {
   "cell_type": "markdown",
   "metadata": {},
   "source": [
    "### Compute period returns"
   ]
  },
  {
   "cell_type": "code",
   "execution_count": 15,
   "metadata": {
    "ExecuteTime": {
     "end_time": "2021-02-23T20:55:07.099170Z",
     "start_time": "2021-02-23T20:55:07.097345Z"
    }
   },
   "outputs": [
    {
     "name": "stdout",
     "output_type": "stream",
     "text": [
      "time: 483 µs (started: 2021-04-23 22:35:22 +00:00)\n"
     ]
    }
   ],
   "source": [
    "intervals = [1, 5, 10, 21, 63]"
   ]
  },
  {
   "cell_type": "code",
   "execution_count": 16,
   "metadata": {
    "ExecuteTime": {
     "end_time": "2021-02-23T20:55:08.643487Z",
     "start_time": "2021-02-23T20:55:07.100128Z"
    }
   },
   "outputs": [
    {
     "name": "stdout",
     "output_type": "stream",
     "text": [
      "time: 2.36 s (started: 2021-04-23 22:35:26 +00:00)\n"
     ]
    }
   ],
   "source": [
    "returns = []\n",
    "by_ticker = prices.groupby(level='ticker').close\n",
    "for t in intervals:\n",
    "    returns.append(by_ticker.pct_change(t).to_frame(f'ret_{t}'))\n",
    "returns = pd.concat(returns, axis=1)"
   ]
  },
  {
   "cell_type": "code",
   "execution_count": 17,
   "metadata": {
    "ExecuteTime": {
     "end_time": "2021-02-23T20:55:08.653500Z",
     "start_time": "2021-02-23T20:55:08.644530Z"
    }
   },
   "outputs": [
    {
     "name": "stdout",
     "output_type": "stream",
     "text": [
      "<class 'pandas.core.frame.DataFrame'>\n",
      "MultiIndex: 2449000 entries, ('9984.JP', Timestamp('2010-01-04 00:00:00')) to ('8550.JP', Timestamp('2019-12-30 00:00:00'))\n",
      "Data columns (total 5 columns):\n",
      " #   Column  Dtype  \n",
      "---  ------  -----  \n",
      " 0   ret_1   float64\n",
      " 1   ret_5   float64\n",
      " 2   ret_10  float64\n",
      " 3   ret_21  float64\n",
      " 4   ret_63  float64\n",
      "dtypes: float64(5)\n",
      "memory usage: 103.0+ MB\n",
      "time: 7.67 ms (started: 2021-04-23 22:35:31 +00:00)\n"
     ]
    }
   ],
   "source": [
    "returns.info()"
   ]
  },
  {
   "cell_type": "markdown",
   "metadata": {},
   "source": [
    "### Remove outliers"
   ]
  },
  {
   "cell_type": "code",
   "execution_count": 18,
   "metadata": {
    "ExecuteTime": {
     "end_time": "2021-02-23T20:55:08.850013Z",
     "start_time": "2021-02-23T20:55:08.655061Z"
    }
   },
   "outputs": [
    {
     "name": "stdout",
     "output_type": "stream",
     "text": [
      "time: 306 ms (started: 2021-04-23 22:35:39 +00:00)\n"
     ]
    }
   ],
   "source": [
    "max_ret_by_sym = returns.groupby(level='ticker').max()"
   ]
  },
  {
   "cell_type": "code",
   "execution_count": 19,
   "metadata": {
    "ExecuteTime": {
     "end_time": "2021-02-23T20:55:08.871539Z",
     "start_time": "2021-02-23T20:55:08.851093Z"
    }
   },
   "outputs": [
    {
     "data": {
      "text/html": [
       "<div>\n",
       "<style scoped>\n",
       "    .dataframe tbody tr th:only-of-type {\n",
       "        vertical-align: middle;\n",
       "    }\n",
       "\n",
       "    .dataframe tbody tr th {\n",
       "        vertical-align: top;\n",
       "    }\n",
       "\n",
       "    .dataframe thead th {\n",
       "        text-align: right;\n",
       "    }\n",
       "</style>\n",
       "<table border=\"1\" class=\"dataframe\">\n",
       "  <thead>\n",
       "    <tr style=\"text-align: right;\">\n",
       "      <th></th>\n",
       "      <th>ret_1</th>\n",
       "      <th>ret_5</th>\n",
       "      <th>ret_10</th>\n",
       "      <th>ret_21</th>\n",
       "      <th>ret_63</th>\n",
       "    </tr>\n",
       "  </thead>\n",
       "  <tbody>\n",
       "    <tr>\n",
       "      <th>count</th>\n",
       "      <td>1000.000000</td>\n",
       "      <td>1000.000000</td>\n",
       "      <td>1000.000000</td>\n",
       "      <td>1000.000000</td>\n",
       "      <td>1000.000000</td>\n",
       "    </tr>\n",
       "    <tr>\n",
       "      <th>mean</th>\n",
       "      <td>0.171569</td>\n",
       "      <td>0.350224</td>\n",
       "      <td>0.470135</td>\n",
       "      <td>0.623475</td>\n",
       "      <td>1.018064</td>\n",
       "    </tr>\n",
       "    <tr>\n",
       "      <th>std</th>\n",
       "      <td>0.085262</td>\n",
       "      <td>0.294997</td>\n",
       "      <td>0.525405</td>\n",
       "      <td>0.808769</td>\n",
       "      <td>1.501504</td>\n",
       "    </tr>\n",
       "    <tr>\n",
       "      <th>min</th>\n",
       "      <td>0.066822</td>\n",
       "      <td>0.105317</td>\n",
       "      <td>0.106830</td>\n",
       "      <td>0.130860</td>\n",
       "      <td>0.204479</td>\n",
       "    </tr>\n",
       "    <tr>\n",
       "      <th>50%</th>\n",
       "      <td>0.150560</td>\n",
       "      <td>0.253131</td>\n",
       "      <td>0.307138</td>\n",
       "      <td>0.389828</td>\n",
       "      <td>0.640128</td>\n",
       "    </tr>\n",
       "    <tr>\n",
       "      <th>90%</th>\n",
       "      <td>0.269886</td>\n",
       "      <td>0.620255</td>\n",
       "      <td>0.848460</td>\n",
       "      <td>1.061653</td>\n",
       "      <td>1.759173</td>\n",
       "    </tr>\n",
       "    <tr>\n",
       "      <th>95%</th>\n",
       "      <td>0.342345</td>\n",
       "      <td>0.934733</td>\n",
       "      <td>1.381337</td>\n",
       "      <td>1.643186</td>\n",
       "      <td>2.573662</td>\n",
       "    </tr>\n",
       "    <tr>\n",
       "      <th>97.5%</th>\n",
       "      <td>0.384632</td>\n",
       "      <td>1.354155</td>\n",
       "      <td>2.042885</td>\n",
       "      <td>2.863317</td>\n",
       "      <td>4.228995</td>\n",
       "    </tr>\n",
       "    <tr>\n",
       "      <th>99%</th>\n",
       "      <td>0.471793</td>\n",
       "      <td>1.641298</td>\n",
       "      <td>3.184961</td>\n",
       "      <td>4.627203</td>\n",
       "      <td>8.028316</td>\n",
       "    </tr>\n",
       "    <tr>\n",
       "      <th>99.5%</th>\n",
       "      <td>0.600000</td>\n",
       "      <td>1.958242</td>\n",
       "      <td>3.590278</td>\n",
       "      <td>5.666306</td>\n",
       "      <td>9.627482</td>\n",
       "    </tr>\n",
       "    <tr>\n",
       "      <th>99.9%</th>\n",
       "      <td>0.789489</td>\n",
       "      <td>2.166895</td>\n",
       "      <td>4.385537</td>\n",
       "      <td>8.049485</td>\n",
       "      <td>17.754620</td>\n",
       "    </tr>\n",
       "    <tr>\n",
       "      <th>max</th>\n",
       "      <td>0.826024</td>\n",
       "      <td>2.402364</td>\n",
       "      <td>5.336406</td>\n",
       "      <td>9.085616</td>\n",
       "      <td>22.067797</td>\n",
       "    </tr>\n",
       "  </tbody>\n",
       "</table>\n",
       "</div>"
      ],
      "text/plain": [
       "             ret_1        ret_5       ret_10       ret_21       ret_63\n",
       "count  1000.000000  1000.000000  1000.000000  1000.000000  1000.000000\n",
       "mean      0.171569     0.350224     0.470135     0.623475     1.018064\n",
       "std       0.085262     0.294997     0.525405     0.808769     1.501504\n",
       "min       0.066822     0.105317     0.106830     0.130860     0.204479\n",
       "50%       0.150560     0.253131     0.307138     0.389828     0.640128\n",
       "90%       0.269886     0.620255     0.848460     1.061653     1.759173\n",
       "95%       0.342345     0.934733     1.381337     1.643186     2.573662\n",
       "97.5%     0.384632     1.354155     2.042885     2.863317     4.228995\n",
       "99%       0.471793     1.641298     3.184961     4.627203     8.028316\n",
       "99.5%     0.600000     1.958242     3.590278     5.666306     9.627482\n",
       "99.9%     0.789489     2.166895     4.385537     8.049485    17.754620\n",
       "max       0.826024     2.402364     5.336406     9.085616    22.067797"
      ]
     },
     "execution_count": 19,
     "metadata": {},
     "output_type": "execute_result"
    },
    {
     "name": "stdout",
     "output_type": "stream",
     "text": [
      "time: 54.6 ms (started: 2021-04-23 22:35:42 +00:00)\n"
     ]
    }
   ],
   "source": [
    "percentiles = [0.001, .005, .01, .025, .05, .1]\n",
    "percentiles += [1-p for p in percentiles]\n",
    "max_ret_by_sym.describe(percentiles=sorted(percentiles)[6:])"
   ]
  },
  {
   "cell_type": "code",
   "execution_count": 20,
   "metadata": {
    "ExecuteTime": {
     "end_time": "2021-02-23T20:55:08.884025Z",
     "start_time": "2021-02-23T20:55:08.873299Z"
    }
   },
   "outputs": [
    {
     "name": "stdout",
     "output_type": "stream",
     "text": [
      "time: 6.81 ms (started: 2021-04-23 22:36:21 +00:00)\n"
     ]
    }
   ],
   "source": [
    "quantiles = max_ret_by_sym.quantile(.95)\n",
    "to_drop = []\n",
    "for ret, q in quantiles.items():\n",
    "    to_drop.extend(max_ret_by_sym[max_ret_by_sym[ret]>q].index.tolist()) "
   ]
  },
  {
   "cell_type": "code",
   "execution_count": 21,
   "metadata": {
    "ExecuteTime": {
     "end_time": "2021-02-23T20:55:08.899082Z",
     "start_time": "2021-02-23T20:55:08.885562Z"
    }
   },
   "outputs": [
    {
     "data": {
      "text/plain": [
       "59"
      ]
     },
     "execution_count": 21,
     "metadata": {},
     "output_type": "execute_result"
    },
    {
     "name": "stdout",
     "output_type": "stream",
     "text": [
      "time: 4.86 ms (started: 2021-04-23 22:36:23 +00:00)\n"
     ]
    }
   ],
   "source": [
    "to_drop = pd.Series(to_drop).value_counts()\n",
    "to_drop = to_drop[to_drop > 1].index.tolist()\n",
    "len(to_drop)"
   ]
  },
  {
   "cell_type": "code",
   "execution_count": 22,
   "metadata": {
    "ExecuteTime": {
     "end_time": "2021-02-23T20:55:20.739495Z",
     "start_time": "2021-02-23T20:55:08.900191Z"
    }
   },
   "outputs": [
    {
     "name": "stdout",
     "output_type": "stream",
     "text": [
      "<class 'pandas.core.frame.DataFrame'>\n",
      "MultiIndex: 2304509 entries, ('9984.JP', Timestamp('2010-01-04 00:00:00')) to ('8550.JP', Timestamp('2019-12-30 00:00:00'))\n",
      "Data columns (total 5 columns):\n",
      " #   Column  Non-Null Count    Dtype  \n",
      "---  ------  --------------    -----  \n",
      " 0   open    2304509 non-null  float64\n",
      " 1   high    2304509 non-null  float64\n",
      " 2   low     2304509 non-null  float64\n",
      " 3   close   2304509 non-null  float64\n",
      " 4   volume  2304509 non-null  float64\n",
      "dtypes: float64(5)\n",
      "memory usage: 96.9+ MB\n",
      "time: 12.5 s (started: 2021-04-23 22:36:31 +00:00)\n"
     ]
    }
   ],
   "source": [
    "prices = prices.drop(to_drop, level='ticker')\n",
    "prices.info(show_counts=True)"
   ]
  },
  {
   "cell_type": "markdown",
   "metadata": {},
   "source": [
    "### Calculate relative return percentiles"
   ]
  },
  {
   "cell_type": "code",
   "execution_count": 23,
   "metadata": {},
   "outputs": [
    {
     "data": {
      "text/html": [
       "<div>\n",
       "<style scoped>\n",
       "    .dataframe tbody tr th:only-of-type {\n",
       "        vertical-align: middle;\n",
       "    }\n",
       "\n",
       "    .dataframe tbody tr th {\n",
       "        vertical-align: top;\n",
       "    }\n",
       "\n",
       "    .dataframe thead th {\n",
       "        text-align: right;\n",
       "    }\n",
       "</style>\n",
       "<table border=\"1\" class=\"dataframe\">\n",
       "  <thead>\n",
       "    <tr style=\"text-align: right;\">\n",
       "      <th></th>\n",
       "      <th></th>\n",
       "      <th>ret_1</th>\n",
       "      <th>ret_5</th>\n",
       "      <th>ret_10</th>\n",
       "      <th>ret_21</th>\n",
       "      <th>ret_63</th>\n",
       "    </tr>\n",
       "    <tr>\n",
       "      <th>ticker</th>\n",
       "      <th>date</th>\n",
       "      <th></th>\n",
       "      <th></th>\n",
       "      <th></th>\n",
       "      <th></th>\n",
       "      <th></th>\n",
       "    </tr>\n",
       "  </thead>\n",
       "  <tbody>\n",
       "    <tr>\n",
       "      <th rowspan=\"5\" valign=\"top\">9984.JP</th>\n",
       "      <th>2010-01-04</th>\n",
       "      <td>NaN</td>\n",
       "      <td>NaN</td>\n",
       "      <td>NaN</td>\n",
       "      <td>NaN</td>\n",
       "      <td>NaN</td>\n",
       "    </tr>\n",
       "    <tr>\n",
       "      <th>2010-01-05</th>\n",
       "      <td>0.001846</td>\n",
       "      <td>NaN</td>\n",
       "      <td>NaN</td>\n",
       "      <td>NaN</td>\n",
       "      <td>NaN</td>\n",
       "    </tr>\n",
       "    <tr>\n",
       "      <th>2010-01-06</th>\n",
       "      <td>0.001370</td>\n",
       "      <td>NaN</td>\n",
       "      <td>NaN</td>\n",
       "      <td>NaN</td>\n",
       "      <td>NaN</td>\n",
       "    </tr>\n",
       "    <tr>\n",
       "      <th>2010-01-07</th>\n",
       "      <td>0.005955</td>\n",
       "      <td>NaN</td>\n",
       "      <td>NaN</td>\n",
       "      <td>NaN</td>\n",
       "      <td>NaN</td>\n",
       "    </tr>\n",
       "    <tr>\n",
       "      <th>2010-01-08</th>\n",
       "      <td>-0.007279</td>\n",
       "      <td>NaN</td>\n",
       "      <td>NaN</td>\n",
       "      <td>NaN</td>\n",
       "      <td>NaN</td>\n",
       "    </tr>\n",
       "  </tbody>\n",
       "</table>\n",
       "</div>"
      ],
      "text/plain": [
       "                       ret_1  ret_5  ret_10  ret_21  ret_63\n",
       "ticker  date                                               \n",
       "9984.JP 2010-01-04       NaN    NaN     NaN     NaN     NaN\n",
       "        2010-01-05  0.001846    NaN     NaN     NaN     NaN\n",
       "        2010-01-06  0.001370    NaN     NaN     NaN     NaN\n",
       "        2010-01-07  0.005955    NaN     NaN     NaN     NaN\n",
       "        2010-01-08 -0.007279    NaN     NaN     NaN     NaN"
      ]
     },
     "execution_count": 23,
     "metadata": {},
     "output_type": "execute_result"
    },
    {
     "name": "stdout",
     "output_type": "stream",
     "text": [
      "time: 19.8 ms (started: 2021-04-23 22:40:15 +00:00)\n"
     ]
    }
   ],
   "source": [
    "returns.head()"
   ]
  },
  {
   "cell_type": "code",
   "execution_count": 24,
   "metadata": {
    "ExecuteTime": {
     "end_time": "2021-02-23T20:56:35.060799Z",
     "start_time": "2021-02-23T20:55:20.740911Z"
    }
   },
   "outputs": [
    {
     "data": {
      "text/html": [
       "<div>\n",
       "<style scoped>\n",
       "    .dataframe tbody tr th:only-of-type {\n",
       "        vertical-align: middle;\n",
       "    }\n",
       "\n",
       "    .dataframe tbody tr th {\n",
       "        vertical-align: top;\n",
       "    }\n",
       "\n",
       "    .dataframe thead th {\n",
       "        text-align: right;\n",
       "    }\n",
       "</style>\n",
       "<table border=\"1\" class=\"dataframe\">\n",
       "  <thead>\n",
       "    <tr style=\"text-align: right;\">\n",
       "      <th></th>\n",
       "      <th></th>\n",
       "      <th>ret_1</th>\n",
       "      <th>ret_rel_perc_1</th>\n",
       "      <th>ret_5</th>\n",
       "      <th>ret_rel_perc_5</th>\n",
       "      <th>ret_10</th>\n",
       "      <th>ret_rel_perc_10</th>\n",
       "      <th>ret_21</th>\n",
       "      <th>ret_rel_perc_21</th>\n",
       "      <th>ret_63</th>\n",
       "      <th>ret_rel_perc_63</th>\n",
       "    </tr>\n",
       "    <tr>\n",
       "      <th>ticker</th>\n",
       "      <th>date</th>\n",
       "      <th></th>\n",
       "      <th></th>\n",
       "      <th></th>\n",
       "      <th></th>\n",
       "      <th></th>\n",
       "      <th></th>\n",
       "      <th></th>\n",
       "      <th></th>\n",
       "      <th></th>\n",
       "      <th></th>\n",
       "    </tr>\n",
       "  </thead>\n",
       "  <tbody>\n",
       "    <tr>\n",
       "      <th rowspan=\"5\" valign=\"top\">9984.JP</th>\n",
       "      <th>2010-01-04</th>\n",
       "      <td>NaN</td>\n",
       "      <td>NaN</td>\n",
       "      <td>NaN</td>\n",
       "      <td>NaN</td>\n",
       "      <td>NaN</td>\n",
       "      <td>NaN</td>\n",
       "      <td>NaN</td>\n",
       "      <td>NaN</td>\n",
       "      <td>NaN</td>\n",
       "      <td>NaN</td>\n",
       "    </tr>\n",
       "    <tr>\n",
       "      <th>2010-01-05</th>\n",
       "      <td>0.001846</td>\n",
       "      <td>10.0</td>\n",
       "      <td>NaN</td>\n",
       "      <td>NaN</td>\n",
       "      <td>NaN</td>\n",
       "      <td>NaN</td>\n",
       "      <td>NaN</td>\n",
       "      <td>NaN</td>\n",
       "      <td>NaN</td>\n",
       "      <td>NaN</td>\n",
       "    </tr>\n",
       "    <tr>\n",
       "      <th>2010-01-06</th>\n",
       "      <td>0.001370</td>\n",
       "      <td>7.0</td>\n",
       "      <td>NaN</td>\n",
       "      <td>NaN</td>\n",
       "      <td>NaN</td>\n",
       "      <td>NaN</td>\n",
       "      <td>NaN</td>\n",
       "      <td>NaN</td>\n",
       "      <td>NaN</td>\n",
       "      <td>NaN</td>\n",
       "    </tr>\n",
       "    <tr>\n",
       "      <th>2010-01-07</th>\n",
       "      <td>0.005955</td>\n",
       "      <td>12.0</td>\n",
       "      <td>NaN</td>\n",
       "      <td>NaN</td>\n",
       "      <td>NaN</td>\n",
       "      <td>NaN</td>\n",
       "      <td>NaN</td>\n",
       "      <td>NaN</td>\n",
       "      <td>NaN</td>\n",
       "      <td>NaN</td>\n",
       "    </tr>\n",
       "    <tr>\n",
       "      <th>2010-01-08</th>\n",
       "      <td>-0.007279</td>\n",
       "      <td>2.0</td>\n",
       "      <td>NaN</td>\n",
       "      <td>NaN</td>\n",
       "      <td>NaN</td>\n",
       "      <td>NaN</td>\n",
       "      <td>NaN</td>\n",
       "      <td>NaN</td>\n",
       "      <td>NaN</td>\n",
       "      <td>NaN</td>\n",
       "    </tr>\n",
       "  </tbody>\n",
       "</table>\n",
       "</div>"
      ],
      "text/plain": [
       "                       ret_1  ret_rel_perc_1  ret_5  ret_rel_perc_5  ret_10  \\\n",
       "ticker  date                                                                  \n",
       "9984.JP 2010-01-04       NaN             NaN    NaN             NaN     NaN   \n",
       "        2010-01-05  0.001846            10.0    NaN             NaN     NaN   \n",
       "        2010-01-06  0.001370             7.0    NaN             NaN     NaN   \n",
       "        2010-01-07  0.005955            12.0    NaN             NaN     NaN   \n",
       "        2010-01-08 -0.007279             2.0    NaN             NaN     NaN   \n",
       "\n",
       "                    ret_rel_perc_10  ret_21  ret_rel_perc_21  ret_63  \\\n",
       "ticker  date                                                           \n",
       "9984.JP 2010-01-04              NaN     NaN              NaN     NaN   \n",
       "        2010-01-05              NaN     NaN              NaN     NaN   \n",
       "        2010-01-06              NaN     NaN              NaN     NaN   \n",
       "        2010-01-07              NaN     NaN              NaN     NaN   \n",
       "        2010-01-08              NaN     NaN              NaN     NaN   \n",
       "\n",
       "                    ret_rel_perc_63  \n",
       "ticker  date                         \n",
       "9984.JP 2010-01-04              NaN  \n",
       "        2010-01-05              NaN  \n",
       "        2010-01-06              NaN  \n",
       "        2010-01-07              NaN  \n",
       "        2010-01-08              NaN  "
      ]
     },
     "execution_count": 24,
     "metadata": {},
     "output_type": "execute_result"
    },
    {
     "name": "stdout",
     "output_type": "stream",
     "text": [
      "time: 1min 24s (started: 2021-04-23 22:40:29 +00:00)\n"
     ]
    }
   ],
   "source": [
    "returns = []\n",
    "by_sym = prices.groupby(level='ticker').close\n",
    "for t in intervals:\n",
    "    ret = by_sym.pct_change(t)\n",
    "    rel_perc = (ret.groupby(level='date')\n",
    "             .apply(lambda x: pd.qcut(x, q=20, labels=False, duplicates='drop')))\n",
    "    returns.extend([ret.to_frame(f'ret_{t}'), rel_perc.to_frame(f'ret_rel_perc_{t}')])\n",
    "returns = pd.concat(returns, axis=1)\n",
    "returns.head()"
   ]
  },
  {
   "cell_type": "markdown",
   "metadata": {},
   "source": [
    "### Technical Indicators"
   ]
  },
  {
   "cell_type": "markdown",
   "metadata": {},
   "source": [
    "#### Percentage Price Oscillator"
   ]
  },
  {
   "cell_type": "code",
   "execution_count": 25,
   "metadata": {
    "ExecuteTime": {
     "end_time": "2021-02-23T20:56:46.007693Z",
     "start_time": "2021-02-23T20:56:35.061783Z"
    }
   },
   "outputs": [
    {
     "name": "stdout",
     "output_type": "stream",
     "text": [
      "time: 12.7 s (started: 2021-04-23 22:43:01 +00:00)\n"
     ]
    }
   ],
   "source": [
    "ppo = prices.groupby(level='ticker').close.apply(talib.PPO).to_frame('PPO')"
   ]
  },
  {
   "cell_type": "markdown",
   "metadata": {},
   "source": [
    "#### Normalized Average True Range"
   ]
  },
  {
   "cell_type": "code",
   "execution_count": 26,
   "metadata": {
    "ExecuteTime": {
     "end_time": "2021-02-23T20:56:46.703740Z",
     "start_time": "2021-02-23T20:56:46.008746Z"
    }
   },
   "outputs": [
    {
     "name": "stdout",
     "output_type": "stream",
     "text": [
      "time: 1.1 s (started: 2021-04-23 22:43:13 +00:00)\n"
     ]
    }
   ],
   "source": [
    "natr = prices.groupby(level='ticker', group_keys=False).apply(lambda x: talib.NATR(x.high, x.low, x.close)).to_frame('NATR')"
   ]
  },
  {
   "cell_type": "markdown",
   "metadata": {},
   "source": [
    "#### Relative Strength Indicator"
   ]
  },
  {
   "cell_type": "code",
   "execution_count": 27,
   "metadata": {
    "ExecuteTime": {
     "end_time": "2021-02-23T20:56:56.951382Z",
     "start_time": "2021-02-23T20:56:46.704740Z"
    }
   },
   "outputs": [
    {
     "name": "stdout",
     "output_type": "stream",
     "text": [
      "time: 13.1 s (started: 2021-04-23 22:43:15 +00:00)\n"
     ]
    }
   ],
   "source": [
    "rsi = prices.groupby(level='ticker').close.apply(talib.RSI).to_frame('RSI')"
   ]
  },
  {
   "cell_type": "markdown",
   "metadata": {},
   "source": [
    "#### Bollinger Bands"
   ]
  },
  {
   "cell_type": "code",
   "execution_count": 28,
   "metadata": {
    "ExecuteTime": {
     "end_time": "2021-02-23T20:56:56.954648Z",
     "start_time": "2021-02-23T20:56:56.952318Z"
    }
   },
   "outputs": [
    {
     "name": "stdout",
     "output_type": "stream",
     "text": [
      "time: 800 µs (started: 2021-04-23 22:43:28 +00:00)\n"
     ]
    }
   ],
   "source": [
    "def get_bollinger(x):\n",
    "    u, m, l = talib.BBANDS(x)\n",
    "    return pd.DataFrame({'u': u, 'm': m, 'l': l})"
   ]
  },
  {
   "cell_type": "code",
   "execution_count": 29,
   "metadata": {
    "ExecuteTime": {
     "end_time": "2021-02-23T20:57:11.582203Z",
     "start_time": "2021-02-23T20:56:56.955779Z"
    }
   },
   "outputs": [
    {
     "name": "stdout",
     "output_type": "stream",
     "text": [
      "time: 14.6 s (started: 2021-04-23 22:43:28 +00:00)\n"
     ]
    }
   ],
   "source": [
    "bbands = prices.groupby(level='ticker').close.apply(get_bollinger)"
   ]
  },
  {
   "cell_type": "markdown",
   "metadata": {},
   "source": [
    "### Combine Features"
   ]
  },
  {
   "cell_type": "code",
   "execution_count": 30,
   "metadata": {
    "ExecuteTime": {
     "end_time": "2021-02-23T20:58:21.465132Z",
     "start_time": "2021-02-23T20:57:11.583380Z"
    }
   },
   "outputs": [
    {
     "name": "stdout",
     "output_type": "stream",
     "text": [
      "time: 1min 24s (started: 2021-04-23 22:43:42 +00:00)\n"
     ]
    }
   ],
   "source": [
    "data = pd.concat([prices, returns, ppo, natr, rsi, bbands], axis=1)"
   ]
  },
  {
   "cell_type": "code",
   "execution_count": 31,
   "metadata": {
    "ExecuteTime": {
     "end_time": "2021-02-23T20:58:21.670030Z",
     "start_time": "2021-02-23T20:58:21.466056Z"
    }
   },
   "outputs": [
    {
     "name": "stdout",
     "output_type": "stream",
     "text": [
      "time: 1.2 s (started: 2021-04-23 22:45:06 +00:00)\n"
     ]
    }
   ],
   "source": [
    "data['bbl'] = data.close.div(data.l)\n",
    "data['bbu'] = data.u.div(data.close)\n",
    "data = data.drop(['u', 'm', 'l'], axis=1)"
   ]
  },
  {
   "cell_type": "code",
   "execution_count": 32,
   "metadata": {
    "ExecuteTime": {
     "end_time": "2021-02-23T20:58:22.489378Z",
     "start_time": "2021-02-23T20:58:21.671030Z"
    }
   },
   "outputs": [
    {
     "data": {
      "text/plain": [
       "-0.15827443837455113"
      ]
     },
     "execution_count": 32,
     "metadata": {},
     "output_type": "execute_result"
    },
    {
     "name": "stdout",
     "output_type": "stream",
     "text": [
      "time: 1.14 s (started: 2021-04-23 22:45:07 +00:00)\n"
     ]
    }
   ],
   "source": [
    "data.bbu.corr(data.bbl, method='spearman')"
   ]
  },
  {
   "cell_type": "markdown",
   "metadata": {},
   "source": [
    "### Plot Indicators for randomly sample ticker"
   ]
  },
  {
   "cell_type": "code",
   "execution_count": 33,
   "metadata": {
    "ExecuteTime": {
     "end_time": "2021-02-23T20:58:23.603017Z",
     "start_time": "2021-02-23T20:58:22.490614Z"
    }
   },
   "outputs": [
    {
     "data": {
      "image/png": "[encoded data removed]",
      "text/plain": [
       "<Figure size 1152x720 with 6 Axes>"
      ]
     },
     "metadata": {},
     "output_type": "display_data"
    },
    {
     "name": "stdout",
     "output_type": "stream",
     "text": [
      "time: 1.96 s (started: 2021-04-23 22:47:14 +00:00)\n"
     ]
    }
   ],
   "source": [
    "indicators = ['close', 'bbl', 'bbu', 'PPO', 'NATR', 'RSI']\n",
    "ticker = np.random.choice(data.index.get_level_values('ticker'))\n",
    "(data.loc[idx[ticker, :], indicators].reset_index('ticker', drop=True)\n",
    " .plot(lw=1, subplots=True, figsize=(16, 10), title=indicators, layout=(3, 2), legend=False))\n",
    "plt.suptitle(ticker, fontsize=14)\n",
    "sns.despine()\n",
    "plt.tight_layout()\n",
    "plt.subplots_adjust(top=.95)"
   ]
  },
  {
   "cell_type": "code",
   "execution_count": 34,
   "metadata": {
    "ExecuteTime": {
     "end_time": "2021-02-23T20:58:23.651877Z",
     "start_time": "2021-02-23T20:58:23.603991Z"
    }
   },
   "outputs": [
    {
     "name": "stdout",
     "output_type": "stream",
     "text": [
      "time: 155 ms (started: 2021-04-23 22:47:50 +00:00)\n"
     ]
    }
   ],
   "source": [
    "data = data.drop(prices.columns, axis=1)"
   ]
  },
  {
   "cell_type": "markdown",
   "metadata": {},
   "source": [
    "### Create time period indicators"
   ]
  },
  {
   "cell_type": "code",
   "execution_count": 35,
   "metadata": {
    "ExecuteTime": {
     "end_time": "2021-02-23T20:58:24.065814Z",
     "start_time": "2021-02-23T20:58:23.653021Z"
    }
   },
   "outputs": [
    {
     "name": "stdout",
     "output_type": "stream",
     "text": [
      "time: 704 ms (started: 2021-04-23 22:47:53 +00:00)\n"
     ]
    }
   ],
   "source": [
    "dates = data.index.get_level_values('date')\n",
    "data['weekday'] = dates.weekday\n",
    "data['month'] = dates.month\n",
    "data['year'] = dates.year"
   ]
  },
  {
   "cell_type": "markdown",
   "metadata": {},
   "source": [
    "## Compute forward returns"
   ]
  },
  {
   "cell_type": "code",
   "execution_count": 36,
   "metadata": {
    "ExecuteTime": {
     "end_time": "2021-02-23T20:58:24.234580Z",
     "start_time": "2021-02-23T20:58:24.067745Z"
    }
   },
   "outputs": [
    {
     "name": "stdout",
     "output_type": "stream",
     "text": [
      "time: 345 ms (started: 2021-04-23 22:47:55 +00:00)\n"
     ]
    }
   ],
   "source": [
    "outcomes = []\n",
    "by_ticker = data.groupby('ticker')\n",
    "for t in intervals:\n",
    "    k = f'fwd_ret_{t:02}'\n",
    "    outcomes.append(k)\n",
    "    data[k] = by_ticker[f'ret_{t}'].shift(-t)"
   ]
  },
  {
   "cell_type": "code",
   "execution_count": 37,
   "metadata": {
    "ExecuteTime": {
     "end_time": "2021-02-23T20:58:24.334797Z",
     "start_time": "2021-02-23T20:58:24.235663Z"
    }
   },
   "outputs": [
    {
     "name": "stdout",
     "output_type": "stream",
     "text": [
      "<class 'pandas.core.frame.DataFrame'>\n",
      "MultiIndex: 2304509 entries, ('1332.JP', Timestamp('2010-01-04 00:00:00')) to ('9990.JP', Timestamp('2019-12-30 00:00:00'))\n",
      "Data columns (total 23 columns):\n",
      " #   Column           Non-Null Count    Dtype  \n",
      "---  ------           --------------    -----  \n",
      " 0   ret_1            2303568 non-null  float64\n",
      " 1   ret_rel_perc_1   2303568 non-null  float64\n",
      " 2   ret_5            2299804 non-null  float64\n",
      " 3   ret_rel_perc_5   2299804 non-null  float64\n",
      " 4   ret_10           2295099 non-null  float64\n",
      " 5   ret_rel_perc_10  2295099 non-null  float64\n",
      " 6   ret_21           2284748 non-null  float64\n",
      " 7   ret_rel_perc_21  2284748 non-null  float64\n",
      " 8   ret_63           2245226 non-null  float64\n",
      " 9   ret_rel_perc_63  2245226 non-null  float64\n",
      " 10  PPO              2280984 non-null  float64\n",
      " 11  NATR             2291335 non-null  float64\n",
      " 12  RSI              2291335 non-null  float64\n",
      " 13  bbl              2300745 non-null  float64\n",
      " 14  bbu              2300745 non-null  float64\n",
      " 15  weekday          2304509 non-null  int64  \n",
      " 16  month            2304509 non-null  int64  \n",
      " 17  year             2304509 non-null  int64  \n",
      " 18  fwd_ret_01       2303568 non-null  float64\n",
      " 19  fwd_ret_05       2299804 non-null  float64\n",
      " 20  fwd_ret_10       2295099 non-null  float64\n",
      " 21  fwd_ret_21       2284748 non-null  float64\n",
      " 22  fwd_ret_63       2245226 non-null  float64\n",
      "dtypes: float64(20), int64(3)\n",
      "memory usage: 413.3+ MB\n",
      "time: 210 ms (started: 2021-04-23 22:47:56 +00:00)\n"
     ]
    }
   ],
   "source": [
    "data.info(null_counts=True)"
   ]
  },
  {
   "cell_type": "code",
   "execution_count": 38,
   "metadata": {
    "ExecuteTime": {
     "end_time": "2021-02-23T20:58:24.790841Z",
     "start_time": "2021-02-23T20:58:24.335874Z"
    }
   },
   "outputs": [
    {
     "name": "stdout",
     "output_type": "stream",
     "text": [
      "  adding: data/stooq_japan_equities.csv (deflated 65%)\n",
      "Copying file://data_stooq.zip [Content-Type=application/zip]...\n",
      "==> NOTE: You are uploading one or more large file(s), which would run          \n",
      "significantly faster if you enable parallel composite uploads. This\n",
      "feature can be enabled by editing the\n",
      "\"parallel_composite_upload_threshold\" value in your .boto\n",
      "configuration file. However, note that if you do this large files will\n",
      "be uploaded as `composite objects\n",
      "<https://cloud.google.com/storage/docs/composite-objects>`_,which\n",
      "means that any user who downloads such objects will need to have a\n",
      "compiled crcmod installed (see \"gsutil help crcmod\"). This is because\n",
      "without a compiled crcmod, computing checksums on composite objects is\n",
      "so slow that gsutil disables downloads of composite objects.\n",
      "\n",
      "\\ [1 files][651.8 MiB/651.8 MiB]                                                \n",
      "Operation completed over 1 objects/651.8 MiB.                                    \n",
      "time: 3min 1s (started: 2021-04-23 22:49:59 +00:00)\n"
     ]
    }
   ],
   "source": [
    "data.to_csv(path_data / 'stooq_japan_equities.csv')\n",
    "!zip -u data_stooq.zip data/stooq_japan_equities.csv\n",
    "!gsutil cp data_stooq.zip gs://finance_data_bucket"
   ]
  },
  {
   "cell_type": "code",
   "execution_count": null,
   "metadata": {},
   "outputs": [],
   "source": []
  }
 ],
 "metadata": {
  "environment": {
   "name": "common-cpu.m65",
   "type": "gcloud",
   "uri": "gcr.io/deeplearning-platform-release/base-cpu:m65"
  },
  "kernelspec": {
   "display_name": "Python [conda env:root] *",
   "language": "python",
   "name": "conda-root-py"
  },
  "language_info": {
   "codemirror_mode": {
    "name": "ipython",
    "version": 3
   },
   "file_extension": ".py",
   "mimetype": "text/x-python",
   "name": "python",
   "nbconvert_exporter": "python",
   "pygments_lexer": "ipython3",
   "version": "3.7.10"
  },
  "toc": {
   "base_numbering": 1,
   "nav_menu": {},
   "number_sections": true,
   "sideBar": true,
   "skip_h1_title": true,
   "title_cell": "Table of Contents",
   "title_sidebar": "Contents",
   "toc_cell": false,
   "toc_position": {
    "height": "calc(100% - 180px)",
    "left": "10px",
    "top": "150px",
    "width": "271.165px"
   },
   "toc_section_display": true,
   "toc_window_display": true
  }
 },
 "nbformat": 4,
 "nbformat_minor": 4
}
