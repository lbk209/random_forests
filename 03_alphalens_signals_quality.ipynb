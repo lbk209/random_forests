{
 "cells": [
  {
   "cell_type": "markdown",
   "metadata": {},
   "source": [
    "# Testing the signal quality with Alphalens"
   ]
  },
  {
   "cell_type": "markdown",
   "metadata": {},
   "source": [
    "## Imports & Settings"
   ]
  },
  {
   "cell_type": "code",
   "execution_count": 1,
   "metadata": {
    "scrolled": true
   },
   "outputs": [
    {
     "name": "stdout",
     "output_type": "stream",
     "text": [
      "Collecting ipython-autotime\n",
      "  Downloading ipython_autotime-0.3.1-py2.py3-none-any.whl (6.8 kB)\n",
      "Requirement already satisfied: ipython in /opt/conda/lib/python3.7/site-packages (from ipython-autotime) (7.22.0)\n",
      "Requirement already satisfied: decorator in /opt/conda/lib/python3.7/site-packages (from ipython->ipython-autotime) (5.0.7)\n",
      "Requirement already satisfied: traitlets>=4.2 in /opt/conda/lib/python3.7/site-packages (from ipython->ipython-autotime) (5.0.5)\n",
      "Requirement already satisfied: pickleshare in /opt/conda/lib/python3.7/site-packages (from ipython->ipython-autotime) (0.7.5)\n",
      "Requirement already satisfied: prompt-toolkit!=3.0.0,!=3.0.1,<3.1.0,>=2.0.0 in /opt/conda/lib/python3.7/site-packages (from ipython->ipython-autotime) (3.0.18)\n",
      "Requirement already satisfied: setuptools>=18.5 in /opt/conda/lib/python3.7/site-packages (from ipython->ipython-autotime) (49.6.0.post20210108)\n",
      "Requirement already satisfied: pygments in /opt/conda/lib/python3.7/site-packages (from ipython->ipython-autotime) (2.8.1)\n",
      "Requirement already satisfied: pexpect>4.3 in /opt/conda/lib/python3.7/site-packages (from ipython->ipython-autotime) (4.8.0)\n",
      "Requirement already satisfied: backcall in /opt/conda/lib/python3.7/site-packages (from ipython->ipython-autotime) (0.2.0)\n",
      "Requirement already satisfied: jedi>=0.16 in /opt/conda/lib/python3.7/site-packages (from ipython->ipython-autotime) (0.18.0)\n",
      "Requirement already satisfied: parso<0.9.0,>=0.8.0 in /opt/conda/lib/python3.7/site-packages (from jedi>=0.16->ipython->ipython-autotime) (0.8.2)\n",
      "Requirement already satisfied: ptyprocess>=0.5 in /opt/conda/lib/python3.7/site-packages (from pexpect>4.3->ipython->ipython-autotime) (0.7.0)\n",
      "Requirement already satisfied: wcwidth in /opt/conda/lib/python3.7/site-packages (from prompt-toolkit!=3.0.0,!=3.0.1,<3.1.0,>=2.0.0->ipython->ipython-autotime) (0.2.5)\n",
      "Requirement already satisfied: ipython-genutils in /opt/conda/lib/python3.7/site-packages (from traitlets>=4.2->ipython->ipython-autotime) (0.2.0)\n",
      "Installing collected packages: ipython-autotime\n",
      "Successfully installed ipython-autotime-0.3.1\n",
      "Collecting alphalens\n",
      "  Downloading alphalens-0.4.0.tar.gz (24.0 MB)\n",
      "\u001b[K     |████████████████████████████████| 24.0 MB 6.6 MB/s eta 0:00:01\n",
      "\u001b[?25hRequirement already satisfied: matplotlib>=1.4.0 in /opt/conda/lib/python3.7/site-packages (from alphalens) (3.4.1)\n",
      "Requirement already satisfied: numpy>=1.9.1 in /opt/conda/lib/python3.7/site-packages (from alphalens) (1.19.5)\n",
      "Requirement already satisfied: pandas>=0.18.0 in /opt/conda/lib/python3.7/site-packages (from alphalens) (1.2.4)\n",
      "Requirement already satisfied: scipy>=0.14.0 in /opt/conda/lib/python3.7/site-packages (from alphalens) (1.6.2)\n",
      "Requirement already satisfied: seaborn>=0.6.0 in /opt/conda/lib/python3.7/site-packages (from alphalens) (0.11.1)\n",
      "Requirement already satisfied: statsmodels>=0.6.1 in /opt/conda/lib/python3.7/site-packages (from alphalens) (0.12.2)\n",
      "Requirement already satisfied: IPython>=3.2.3 in /opt/conda/lib/python3.7/site-packages (from alphalens) (7.22.0)\n",
      "Collecting empyrical>=0.5.0\n",
      "  Downloading empyrical-0.5.5.tar.gz (52 kB)\n",
      "\u001b[K     |████████████████████████████████| 52 kB 2.0 MB/s  eta 0:00:01\n",
      "\u001b[?25hCollecting pandas-datareader>=0.2\n",
      "  Downloading pandas_datareader-0.9.0-py3-none-any.whl (107 kB)\n",
      "\u001b[K     |████████████████████████████████| 107 kB 46.7 MB/s eta 0:00:01\n",
      "\u001b[?25hRequirement already satisfied: pexpect>4.3 in /opt/conda/lib/python3.7/site-packages (from IPython>=3.2.3->alphalens) (4.8.0)\n",
      "Requirement already satisfied: traitlets>=4.2 in /opt/conda/lib/python3.7/site-packages (from IPython>=3.2.3->alphalens) (5.0.5)\n",
      "Requirement already satisfied: jedi>=0.16 in /opt/conda/lib/python3.7/site-packages (from IPython>=3.2.3->alphalens) (0.18.0)\n",
      "Requirement already satisfied: pygments in /opt/conda/lib/python3.7/site-packages (from IPython>=3.2.3->alphalens) (2.8.1)\n",
      "Requirement already satisfied: prompt-toolkit!=3.0.0,!=3.0.1,<3.1.0,>=2.0.0 in /opt/conda/lib/python3.7/site-packages (from IPython>=3.2.3->alphalens) (3.0.18)\n",
      "Requirement already satisfied: pickleshare in /opt/conda/lib/python3.7/site-packages (from IPython>=3.2.3->alphalens) (0.7.5)\n",
      "Requirement already satisfied: setuptools>=18.5 in /opt/conda/lib/python3.7/site-packages (from IPython>=3.2.3->alphalens) (49.6.0.post20210108)\n",
      "Requirement already satisfied: backcall in /opt/conda/lib/python3.7/site-packages (from IPython>=3.2.3->alphalens) (0.2.0)\n",
      "Requirement already satisfied: decorator in /opt/conda/lib/python3.7/site-packages (from IPython>=3.2.3->alphalens) (5.0.7)\n",
      "Requirement already satisfied: parso<0.9.0,>=0.8.0 in /opt/conda/lib/python3.7/site-packages (from jedi>=0.16->IPython>=3.2.3->alphalens) (0.8.2)\n",
      "Requirement already satisfied: python-dateutil>=2.7 in /opt/conda/lib/python3.7/site-packages (from matplotlib>=1.4.0->alphalens) (2.8.1)\n",
      "Requirement already satisfied: kiwisolver>=1.0.1 in /opt/conda/lib/python3.7/site-packages (from matplotlib>=1.4.0->alphalens) (1.3.1)\n",
      "Requirement already satisfied: cycler>=0.10 in /opt/conda/lib/python3.7/site-packages (from matplotlib>=1.4.0->alphalens) (0.10.0)\n",
      "Requirement already satisfied: pyparsing>=2.2.1 in /opt/conda/lib/python3.7/site-packages (from matplotlib>=1.4.0->alphalens) (2.4.7)\n",
      "Requirement already satisfied: pillow>=6.2.0 in /opt/conda/lib/python3.7/site-packages (from matplotlib>=1.4.0->alphalens) (8.1.2)\n",
      "Requirement already satisfied: six in /opt/conda/lib/python3.7/site-packages (from cycler>=0.10->matplotlib>=1.4.0->alphalens) (1.15.0)\n",
      "Requirement already satisfied: pytz>=2017.3 in /opt/conda/lib/python3.7/site-packages (from pandas>=0.18.0->alphalens) (2021.1)\n",
      "Collecting lxml\n",
      "  Downloading lxml-4.6.3-cp37-cp37m-manylinux1_x86_64.whl (5.5 MB)\n",
      "\u001b[K     |████████████████████████████████| 5.5 MB 42.7 MB/s eta 0:00:01     |██                              | 337 kB 42.7 MB/s eta 0:00:01\n",
      "\u001b[?25hRequirement already satisfied: requests>=2.19.0 in /opt/conda/lib/python3.7/site-packages (from pandas-datareader>=0.2->empyrical>=0.5.0->alphalens) (2.25.1)\n",
      "Requirement already satisfied: ptyprocess>=0.5 in /opt/conda/lib/python3.7/site-packages (from pexpect>4.3->IPython>=3.2.3->alphalens) (0.7.0)\n",
      "Requirement already satisfied: wcwidth in /opt/conda/lib/python3.7/site-packages (from prompt-toolkit!=3.0.0,!=3.0.1,<3.1.0,>=2.0.0->IPython>=3.2.3->alphalens) (0.2.5)\n",
      "Requirement already satisfied: idna<3,>=2.5 in /opt/conda/lib/python3.7/site-packages (from requests>=2.19.0->pandas-datareader>=0.2->empyrical>=0.5.0->alphalens) (2.10)\n",
      "Requirement already satisfied: urllib3<1.27,>=1.21.1 in /opt/conda/lib/python3.7/site-packages (from requests>=2.19.0->pandas-datareader>=0.2->empyrical>=0.5.0->alphalens) (1.26.4)\n",
      "Requirement already satisfied: chardet<5,>=3.0.2 in /opt/conda/lib/python3.7/site-packages (from requests>=2.19.0->pandas-datareader>=0.2->empyrical>=0.5.0->alphalens) (4.0.0)\n",
      "Requirement already satisfied: certifi>=2017.4.17 in /opt/conda/lib/python3.7/site-packages (from requests>=2.19.0->pandas-datareader>=0.2->empyrical>=0.5.0->alphalens) (2020.12.5)\n",
      "Requirement already satisfied: patsy>=0.5 in /opt/conda/lib/python3.7/site-packages (from statsmodels>=0.6.1->alphalens) (0.5.1)\n",
      "Requirement already satisfied: ipython-genutils in /opt/conda/lib/python3.7/site-packages (from traitlets>=4.2->IPython>=3.2.3->alphalens) (0.2.0)\n",
      "Building wheels for collected packages: alphalens, empyrical\n",
      "  Building wheel for alphalens (setup.py) ... \u001b[?25ldone\n",
      "\u001b[?25h  Created wheel for alphalens: filename=alphalens-0.4.0-py3-none-any.whl size=24027558 sha256=ec2c8a6d8d41cb889f69d2b52570a65bf7966aae90cc9a8e554c8114def6120c\n",
      "  Stored in directory: /home/jupyter/.cache/pip/wheels/10/a6/42/026fe89e82dbcde7f6f756465a10a045ada9902eb4592ce2d3\n",
      "  Building wheel for empyrical (setup.py) ... \u001b[?25ldone\n",
      "\u001b[?25h  Created wheel for empyrical: filename=empyrical-0.5.5-py3-none-any.whl size=39764 sha256=f79dd0d7c0a32cfa864cfd609e69f9d1344c98a36efac2fb9a6da6a6e75df380\n",
      "  Stored in directory: /home/jupyter/.cache/pip/wheels/d9/91/4b/654fcff57477efcf149eaca236da2fce991526cbab431bf312\n",
      "Successfully built alphalens empyrical\n",
      "Installing collected packages: lxml, pandas-datareader, empyrical, alphalens\n",
      "Successfully installed alphalens-0.4.0 empyrical-0.5.5 lxml-4.6.3 pandas-datareader-0.9.0\n"
     ]
    }
   ],
   "source": [
    "!pip install ipython-autotime\n",
    "!pip install alphalens"
   ]
  },
  {
   "cell_type": "code",
   "execution_count": 2,
   "metadata": {
    "ExecuteTime": {
     "end_time": "2021-02-23T21:53:42.266978Z",
     "start_time": "2021-02-23T21:53:41.549019Z"
    }
   },
   "outputs": [
    {
     "name": "stdout",
     "output_type": "stream",
     "text": [
      "time: 1.97 s (started: 2021-05-02 06:11:14 +00:00)\n"
     ]
    }
   ],
   "source": [
    "%matplotlib inline\n",
    "%load_ext autotime\n",
    "\n",
    "import pandas as pd\n",
    "import seaborn as sns\n",
    "\n",
    "from alphalens.tears import (create_summary_tear_sheet,\n",
    "                             create_full_tear_sheet)\n",
    "\n",
    "from alphalens.utils import get_clean_factor_and_forward_returns\n",
    "\n",
    "import warnings\n",
    "warnings.filterwarnings('ignore')\n",
    "\n",
    "sns.set_style('whitegrid')\n",
    "idx = pd.IndexSlice"
   ]
  },
  {
   "cell_type": "code",
   "execution_count": 3,
   "metadata": {},
   "outputs": [
    {
     "name": "stdout",
     "output_type": "stream",
     "text": [
      "time: 1.04 ms (started: 2021-05-02 06:11:16 +00:00)\n"
     ]
    }
   ],
   "source": [
    "### set path\n",
    "import os\n",
    "from pathlib import Path\n",
    "\n",
    "path_home = os.getcwd()\n",
    "path_home = Path(path_home)\n",
    "path_data = path_home / 'data'\n",
    "path_result = path_home / 'result'"
   ]
  },
  {
   "cell_type": "code",
   "execution_count": 5,
   "metadata": {},
   "outputs": [
    {
     "name": "stdout",
     "output_type": "stream",
     "text": [
      "Copying gs://finance_data_bucket/lbk/rf/stooq_jp_data.zip...\n",
      "| [1 files][401.4 MiB/401.4 MiB]                                                \n",
      "Operation completed over 1 objects/401.4 MiB.                                    \n",
      "Archive:  stooq_jp_data.zip\n",
      "  inflating: data/stooq_jp_tse_stocks_prices.csv  \n",
      "  inflating: data/stooq_jp_tse_stocks_tickers.csv  \n",
      "  inflating: data/stooq_jp_equities.csv  \n",
      "Copying gs://finance_data_bucket/lbk/rf/stooq_jp_result.zip...\n",
      "- [1 files][ 49.4 MiB/ 49.4 MiB]                                                \n",
      "Operation completed over 1 objects/49.4 MiB.                                     \n",
      "Archive:  stooq_jp_result.zip\n",
      "  inflating: result/lin_reg_performance.csv  \n",
      "  inflating: result/test_01.csv      \n",
      "  inflating: result/daily_ic_avg.csv  \n",
      "  inflating: result/prediction_01.csv  \n",
      "time: 27.4 s (started: 2021-05-02 06:11:59 +00:00)\n"
     ]
    }
   ],
   "source": [
    "!gsutil cp gs://finance_data_bucket/lbk/rf/stooq_jp_data.zip .\n",
    "!unzip stooq_jp_data.zip\n",
    "\n",
    "!gsutil cp gs://finance_data_bucket/lbk/rf/stooq_jp_result.zip .\n",
    "!unzip stooq_jp_result.zip"
   ]
  },
  {
   "cell_type": "markdown",
   "metadata": {},
   "source": [
    "## Evaluating the Cross-Validation Results"
   ]
  },
  {
   "cell_type": "code",
   "execution_count": 6,
   "metadata": {
    "ExecuteTime": {
     "end_time": "2021-02-23T21:53:43.336155Z",
     "start_time": "2021-02-23T21:53:43.334395Z"
    }
   },
   "outputs": [
    {
     "name": "stdout",
     "output_type": "stream",
     "text": [
      "time: 474 µs (started: 2021-05-02 06:13:07 +00:00)\n"
     ]
    }
   ],
   "source": [
    "lookahead = 1"
   ]
  },
  {
   "cell_type": "markdown",
   "metadata": {},
   "source": [
    "### Get AlphaLens Input"
   ]
  },
  {
   "cell_type": "markdown",
   "metadata": {},
   "source": [
    "Using next available prices."
   ]
  },
  {
   "cell_type": "code",
   "execution_count": 7,
   "metadata": {
    "ExecuteTime": {
     "end_time": "2021-02-23T21:53:44.782303Z",
     "start_time": "2021-02-23T21:53:44.779680Z"
    }
   },
   "outputs": [
    {
     "name": "stdout",
     "output_type": "stream",
     "text": [
      "time: 746 µs (started: 2021-05-02 06:13:09 +00:00)\n"
     ]
    }
   ],
   "source": [
    "def get_trade_prices(tickers):\n",
    "    prices = (pd.read_csv(path_data / 'stooq_jp_tse_stocks_prices.csv', parse_dates=['date'])\n",
    "                .set_index(['ticker','date'])\n",
    "                .sort_index(level=['ticker','date']))\n",
    "    return (prices.loc[idx[tickers, '2015': '2019'], 'open']\n",
    "            .unstack('ticker')\n",
    "            .sort_index()\n",
    "            .shift(-1)\n",
    "            .dropna()\n",
    "            .tz_localize('UTC'))"
   ]
  },
  {
   "cell_type": "markdown",
   "metadata": {},
   "source": [
    "Reloading predictions."
   ]
  },
  {
   "cell_type": "code",
   "execution_count": 8,
   "metadata": {
    "ExecuteTime": {
     "end_time": "2021-02-23T21:53:47.204124Z",
     "start_time": "2021-02-23T21:53:46.957870Z"
    }
   },
   "outputs": [
    {
     "name": "stdout",
     "output_type": "stream",
     "text": [
      "<class 'pandas.core.frame.DataFrame'>\n",
      "MultiIndex: 474264 entries, ('1332.JP', Timestamp('2016-12-14 00:00:00')) to ('9990.JP', Timestamp('2018-12-28 00:00:00'))\n",
      "Data columns (total 10 columns):\n",
      " #   Column  Non-Null Count   Dtype  \n",
      "---  ------  --------------   -----  \n",
      " 0   0       474264 non-null  float64\n",
      " 1   1       474264 non-null  float64\n",
      " 2   2       474264 non-null  float64\n",
      " 3   3       474264 non-null  float64\n",
      " 4   4       474264 non-null  float64\n",
      " 5   5       474264 non-null  float64\n",
      " 6   6       474264 non-null  float64\n",
      " 7   7       474264 non-null  float64\n",
      " 8   8       474264 non-null  float64\n",
      " 9   9       474264 non-null  float64\n",
      "dtypes: float64(10)\n",
      "memory usage: 38.1+ MB\n",
      "time: 1.44 s (started: 2021-05-02 06:13:12 +00:00)\n"
     ]
    }
   ],
   "source": [
    "best_predictions = (pd.read_csv(path_result / f'test_{lookahead:02}.csv', parse_dates=['date'])\n",
    "                      .set_index(['ticker','date'])\n",
    "                      .sort_index(level=['ticker','date'])\n",
    "                      .drop('y_test', axis=1))            \n",
    "best_predictions.info()"
   ]
  },
  {
   "cell_type": "code",
   "execution_count": 9,
   "metadata": {
    "ExecuteTime": {
     "end_time": "2021-02-23T21:53:47.238715Z",
     "start_time": "2021-02-23T21:53:47.205529Z"
    }
   },
   "outputs": [
    {
     "name": "stdout",
     "output_type": "stream",
     "text": [
      "<class 'pandas.core.frame.DataFrame'>\n",
      "DatetimeIndex: 1220 entries, 2015-01-05 00:00:00+00:00 to 2019-12-27 00:00:00+00:00\n",
      "Columns: 941 entries, 1332.JP to 9990.JP\n",
      "dtypes: float64(941)\n",
      "memory usage: 8.8 MB\n",
      "time: 3min 6s (started: 2021-05-02 06:13:18 +00:00)\n"
     ]
    }
   ],
   "source": [
    "test_tickers = best_predictions.index.get_level_values('ticker').unique()\n",
    "trade_prices = get_trade_prices(test_tickers)\n",
    "trade_prices.info()"
   ]
  },
  {
   "cell_type": "code",
   "execution_count": 10,
   "metadata": {
    "ExecuteTime": {
     "end_time": "2021-02-23T21:55:43.258680Z",
     "start_time": "2021-02-23T21:55:43.118664Z"
    }
   },
   "outputs": [
    {
     "name": "stdout",
     "output_type": "stream",
     "text": [
      "Dropped 0.0% entries from factor data: 0.0% in forward returns computation and 0.0% in binning phase (set max_loss=0 to see potentially suppressed Exceptions).\n",
      "max_loss is 35.0%, not exceeded: OK!\n",
      "<class 'pandas.core.frame.DataFrame'>\n",
      "MultiIndex: 243719 entries, (Timestamp('2016-12-14 00:00:00+0000', tz='UTC', freq='C'), '1332.JP') to (Timestamp('2017-12-29 00:00:00+0000', tz='UTC', freq='C'), '9990.JP')\n",
      "Data columns (total 6 columns):\n",
      " #   Column           Non-Null Count   Dtype  \n",
      "---  ------           --------------   -----  \n",
      " 0   1D               243719 non-null  float64\n",
      " 1   5D               243719 non-null  float64\n",
      " 2   10D              243719 non-null  float64\n",
      " 3   21D              243719 non-null  float64\n",
      " 4   factor           243719 non-null  float64\n",
      " 5   factor_quantile  243719 non-null  int64  \n",
      "dtypes: float64(5), int64(1)\n",
      "memory usage: 12.1+ MB\n",
      "time: 4.59 s (started: 2021-05-02 06:16:24 +00:00)\n"
     ]
    }
   ],
   "source": [
    "factor = (best_predictions\n",
    "          #.loc[idx[:, :'2017'], ['0']] # in-sample\n",
    "          .loc[idx[:, :'2017'], :].mean(1) # in-sample\n",
    "          .tz_localize('UTC', level='date')\n",
    "          .swaplevel()\n",
    "          .dropna()\n",
    "          .reset_index()\n",
    "          .drop_duplicates()\n",
    "          .set_index(['date', 'ticker']))\n",
    "\n",
    "factor_data = get_clean_factor_and_forward_returns(factor=factor,\n",
    "                                                   prices=trade_prices,\n",
    "                                                   quantiles=5,\n",
    "                                                   periods=(1, 5, 10, 21))\n",
    "factor_data.sort_index().info()"
   ]
  },
  {
   "cell_type": "markdown",
   "metadata": {},
   "source": [
    "### Summary Tearsheet"
   ]
  },
  {
   "cell_type": "code",
   "execution_count": 11,
   "metadata": {
    "ExecuteTime": {
     "end_time": "2021-02-23T21:56:06.970788Z",
     "start_time": "2021-02-23T21:55:48.403623Z"
    }
   },
   "outputs": [
    {
     "name": "stdout",
     "output_type": "stream",
     "text": [
      "Quantiles Statistics\n"
     ]
    },
    {
     "data": {
      "text/html": [
       "<div>\n",
       "<style scoped>\n",
       "    .dataframe tbody tr th:only-of-type {\n",
       "        vertical-align: middle;\n",
       "    }\n",
       "\n",
       "    .dataframe tbody tr th {\n",
       "        vertical-align: top;\n",
       "    }\n",
       "\n",
       "    .dataframe thead th {\n",
       "        text-align: right;\n",
       "    }\n",
       "</style>\n",
       "<table border=\"1\" class=\"dataframe\">\n",
       "  <thead>\n",
       "    <tr style=\"text-align: right;\">\n",
       "      <th></th>\n",
       "      <th>min</th>\n",
       "      <th>max</th>\n",
       "      <th>mean</th>\n",
       "      <th>std</th>\n",
       "      <th>count</th>\n",
       "      <th>count %</th>\n",
       "    </tr>\n",
       "    <tr>\n",
       "      <th>factor_quantile</th>\n",
       "      <th></th>\n",
       "      <th></th>\n",
       "      <th></th>\n",
       "      <th></th>\n",
       "      <th></th>\n",
       "      <th></th>\n",
       "    </tr>\n",
       "  </thead>\n",
       "  <tbody>\n",
       "    <tr>\n",
       "      <th>1</th>\n",
       "      <td>-0.011432</td>\n",
       "      <td>0.004447</td>\n",
       "      <td>-0.000920</td>\n",
       "      <td>0.002919</td>\n",
       "      <td>49003</td>\n",
       "      <td>20.106352</td>\n",
       "    </tr>\n",
       "    <tr>\n",
       "      <th>2</th>\n",
       "      <td>-0.010994</td>\n",
       "      <td>0.005414</td>\n",
       "      <td>-0.000359</td>\n",
       "      <td>0.002914</td>\n",
       "      <td>48660</td>\n",
       "      <td>19.965616</td>\n",
       "    </tr>\n",
       "    <tr>\n",
       "      <th>3</th>\n",
       "      <td>-0.010618</td>\n",
       "      <td>0.006576</td>\n",
       "      <td>0.000062</td>\n",
       "      <td>0.002884</td>\n",
       "      <td>48694</td>\n",
       "      <td>19.979567</td>\n",
       "    </tr>\n",
       "    <tr>\n",
       "      <th>4</th>\n",
       "      <td>-0.010197</td>\n",
       "      <td>0.007972</td>\n",
       "      <td>0.000513</td>\n",
       "      <td>0.002860</td>\n",
       "      <td>48678</td>\n",
       "      <td>19.973002</td>\n",
       "    </tr>\n",
       "    <tr>\n",
       "      <th>5</th>\n",
       "      <td>-0.010164</td>\n",
       "      <td>0.022209</td>\n",
       "      <td>0.001476</td>\n",
       "      <td>0.003133</td>\n",
       "      <td>48684</td>\n",
       "      <td>19.975464</td>\n",
       "    </tr>\n",
       "  </tbody>\n",
       "</table>\n",
       "</div>"
      ],
      "text/plain": [
       "                      min       max      mean       std  count    count %\n",
       "factor_quantile                                                          \n",
       "1               -0.011432  0.004447 -0.000920  0.002919  49003  20.106352\n",
       "2               -0.010994  0.005414 -0.000359  0.002914  48660  19.965616\n",
       "3               -0.010618  0.006576  0.000062  0.002884  48694  19.979567\n",
       "4               -0.010197  0.007972  0.000513  0.002860  48678  19.973002\n",
       "5               -0.010164  0.022209  0.001476  0.003133  48684  19.975464"
      ]
     },
     "metadata": {},
     "output_type": "display_data"
    },
    {
     "name": "stdout",
     "output_type": "stream",
     "text": [
      "Returns Analysis\n"
     ]
    },
    {
     "data": {
      "text/html": [
       "<div>\n",
       "<style scoped>\n",
       "    .dataframe tbody tr th:only-of-type {\n",
       "        vertical-align: middle;\n",
       "    }\n",
       "\n",
       "    .dataframe tbody tr th {\n",
       "        vertical-align: top;\n",
       "    }\n",
       "\n",
       "    .dataframe thead th {\n",
       "        text-align: right;\n",
       "    }\n",
       "</style>\n",
       "<table border=\"1\" class=\"dataframe\">\n",
       "  <thead>\n",
       "    <tr style=\"text-align: right;\">\n",
       "      <th></th>\n",
       "      <th>1D</th>\n",
       "      <th>5D</th>\n",
       "      <th>10D</th>\n",
       "      <th>21D</th>\n",
       "    </tr>\n",
       "  </thead>\n",
       "  <tbody>\n",
       "    <tr>\n",
       "      <th>Ann. alpha</th>\n",
       "      <td>0.039</td>\n",
       "      <td>-0.002</td>\n",
       "      <td>-0.006</td>\n",
       "      <td>0.010</td>\n",
       "    </tr>\n",
       "    <tr>\n",
       "      <th>beta</th>\n",
       "      <td>0.014</td>\n",
       "      <td>0.040</td>\n",
       "      <td>0.081</td>\n",
       "      <td>0.034</td>\n",
       "    </tr>\n",
       "    <tr>\n",
       "      <th>Mean Period Wise Return Top Quantile (bps)</th>\n",
       "      <td>2.486</td>\n",
       "      <td>0.745</td>\n",
       "      <td>1.071</td>\n",
       "      <td>1.311</td>\n",
       "    </tr>\n",
       "    <tr>\n",
       "      <th>Mean Period Wise Return Bottom Quantile (bps)</th>\n",
       "      <td>-0.994</td>\n",
       "      <td>-0.151</td>\n",
       "      <td>-0.450</td>\n",
       "      <td>-0.669</td>\n",
       "    </tr>\n",
       "    <tr>\n",
       "      <th>Mean Period Wise Spread (bps)</th>\n",
       "      <td>3.480</td>\n",
       "      <td>0.896</td>\n",
       "      <td>1.523</td>\n",
       "      <td>1.979</td>\n",
       "    </tr>\n",
       "  </tbody>\n",
       "</table>\n",
       "</div>"
      ],
      "text/plain": [
       "                                                  1D     5D    10D    21D\n",
       "Ann. alpha                                     0.039 -0.002 -0.006  0.010\n",
       "beta                                           0.014  0.040  0.081  0.034\n",
       "Mean Period Wise Return Top Quantile (bps)     2.486  0.745  1.071  1.311\n",
       "Mean Period Wise Return Bottom Quantile (bps) -0.994 -0.151 -0.450 -0.669\n",
       "Mean Period Wise Spread (bps)                  3.480  0.896  1.523  1.979"
      ]
     },
     "metadata": {},
     "output_type": "display_data"
    },
    {
     "name": "stdout",
     "output_type": "stream",
     "text": [
      "Information Analysis\n"
     ]
    },
    {
     "data": {
      "text/html": [
       "<div>\n",
       "<style scoped>\n",
       "    .dataframe tbody tr th:only-of-type {\n",
       "        vertical-align: middle;\n",
       "    }\n",
       "\n",
       "    .dataframe tbody tr th {\n",
       "        vertical-align: top;\n",
       "    }\n",
       "\n",
       "    .dataframe thead th {\n",
       "        text-align: right;\n",
       "    }\n",
       "</style>\n",
       "<table border=\"1\" class=\"dataframe\">\n",
       "  <thead>\n",
       "    <tr style=\"text-align: right;\">\n",
       "      <th></th>\n",
       "      <th>1D</th>\n",
       "      <th>5D</th>\n",
       "      <th>10D</th>\n",
       "      <th>21D</th>\n",
       "    </tr>\n",
       "  </thead>\n",
       "  <tbody>\n",
       "    <tr>\n",
       "      <th>IC Mean</th>\n",
       "      <td>0.005</td>\n",
       "      <td>0.002</td>\n",
       "      <td>0.008</td>\n",
       "      <td>0.022</td>\n",
       "    </tr>\n",
       "    <tr>\n",
       "      <th>IC Std.</th>\n",
       "      <td>0.104</td>\n",
       "      <td>0.088</td>\n",
       "      <td>0.089</td>\n",
       "      <td>0.080</td>\n",
       "    </tr>\n",
       "    <tr>\n",
       "      <th>Risk-Adjusted IC</th>\n",
       "      <td>0.048</td>\n",
       "      <td>0.025</td>\n",
       "      <td>0.085</td>\n",
       "      <td>0.270</td>\n",
       "    </tr>\n",
       "    <tr>\n",
       "      <th>t-stat(IC)</th>\n",
       "      <td>0.767</td>\n",
       "      <td>0.407</td>\n",
       "      <td>1.368</td>\n",
       "      <td>4.344</td>\n",
       "    </tr>\n",
       "    <tr>\n",
       "      <th>p-value(IC)</th>\n",
       "      <td>0.444</td>\n",
       "      <td>0.684</td>\n",
       "      <td>0.172</td>\n",
       "      <td>0.000</td>\n",
       "    </tr>\n",
       "    <tr>\n",
       "      <th>IC Skew</th>\n",
       "      <td>0.188</td>\n",
       "      <td>0.205</td>\n",
       "      <td>0.108</td>\n",
       "      <td>0.256</td>\n",
       "    </tr>\n",
       "    <tr>\n",
       "      <th>IC Kurtosis</th>\n",
       "      <td>1.609</td>\n",
       "      <td>1.100</td>\n",
       "      <td>1.390</td>\n",
       "      <td>1.091</td>\n",
       "    </tr>\n",
       "  </tbody>\n",
       "</table>\n",
       "</div>"
      ],
      "text/plain": [
       "                     1D     5D    10D    21D\n",
       "IC Mean           0.005  0.002  0.008  0.022\n",
       "IC Std.           0.104  0.088  0.089  0.080\n",
       "Risk-Adjusted IC  0.048  0.025  0.085  0.270\n",
       "t-stat(IC)        0.767  0.407  1.368  4.344\n",
       "p-value(IC)       0.444  0.684  0.172  0.000\n",
       "IC Skew           0.188  0.205  0.108  0.256\n",
       "IC Kurtosis       1.609  1.100  1.390  1.091"
      ]
     },
     "metadata": {},
     "output_type": "display_data"
    },
    {
     "name": "stdout",
     "output_type": "stream",
     "text": [
      "Turnover Analysis\n"
     ]
    },
    {
     "data": {
      "text/html": [
       "<div>\n",
       "<style scoped>\n",
       "    .dataframe tbody tr th:only-of-type {\n",
       "        vertical-align: middle;\n",
       "    }\n",
       "\n",
       "    .dataframe tbody tr th {\n",
       "        vertical-align: top;\n",
       "    }\n",
       "\n",
       "    .dataframe thead th {\n",
       "        text-align: right;\n",
       "    }\n",
       "</style>\n",
       "<table border=\"1\" class=\"dataframe\">\n",
       "  <thead>\n",
       "    <tr style=\"text-align: right;\">\n",
       "      <th></th>\n",
       "      <th>1D</th>\n",
       "      <th>5D</th>\n",
       "      <th>10D</th>\n",
       "      <th>21D</th>\n",
       "    </tr>\n",
       "  </thead>\n",
       "  <tbody>\n",
       "    <tr>\n",
       "      <th>Quantile 1 Mean Turnover</th>\n",
       "      <td>0.697</td>\n",
       "      <td>0.716</td>\n",
       "      <td>0.778</td>\n",
       "      <td>0.800</td>\n",
       "    </tr>\n",
       "    <tr>\n",
       "      <th>Quantile 2 Mean Turnover</th>\n",
       "      <td>0.752</td>\n",
       "      <td>0.762</td>\n",
       "      <td>0.784</td>\n",
       "      <td>0.800</td>\n",
       "    </tr>\n",
       "    <tr>\n",
       "      <th>Quantile 3 Mean Turnover</th>\n",
       "      <td>0.766</td>\n",
       "      <td>0.776</td>\n",
       "      <td>0.794</td>\n",
       "      <td>0.797</td>\n",
       "    </tr>\n",
       "    <tr>\n",
       "      <th>Quantile 4 Mean Turnover</th>\n",
       "      <td>0.748</td>\n",
       "      <td>0.767</td>\n",
       "      <td>0.788</td>\n",
       "      <td>0.801</td>\n",
       "    </tr>\n",
       "    <tr>\n",
       "      <th>Quantile 5 Mean Turnover</th>\n",
       "      <td>0.637</td>\n",
       "      <td>0.688</td>\n",
       "      <td>0.747</td>\n",
       "      <td>0.786</td>\n",
       "    </tr>\n",
       "  </tbody>\n",
       "</table>\n",
       "</div>"
      ],
      "text/plain": [
       "                              1D     5D    10D    21D\n",
       "Quantile 1 Mean Turnover   0.697  0.716  0.778  0.800\n",
       "Quantile 2 Mean Turnover   0.752  0.762  0.784  0.800\n",
       "Quantile 3 Mean Turnover   0.766  0.776  0.794  0.797\n",
       "Quantile 4 Mean Turnover   0.748  0.767  0.788  0.801\n",
       "Quantile 5 Mean Turnover   0.637  0.688  0.747  0.786"
      ]
     },
     "metadata": {},
     "output_type": "display_data"
    },
    {
     "data": {
      "text/html": [
       "<div>\n",
       "<style scoped>\n",
       "    .dataframe tbody tr th:only-of-type {\n",
       "        vertical-align: middle;\n",
       "    }\n",
       "\n",
       "    .dataframe tbody tr th {\n",
       "        vertical-align: top;\n",
       "    }\n",
       "\n",
       "    .dataframe thead th {\n",
       "        text-align: right;\n",
       "    }\n",
       "</style>\n",
       "<table border=\"1\" class=\"dataframe\">\n",
       "  <thead>\n",
       "    <tr style=\"text-align: right;\">\n",
       "      <th></th>\n",
       "      <th>1D</th>\n",
       "      <th>5D</th>\n",
       "      <th>10D</th>\n",
       "      <th>21D</th>\n",
       "    </tr>\n",
       "  </thead>\n",
       "  <tbody>\n",
       "    <tr>\n",
       "      <th>Mean Factor Rank Autocorrelation</th>\n",
       "      <td>0.241</td>\n",
       "      <td>0.2</td>\n",
       "      <td>0.076</td>\n",
       "      <td>0.003</td>\n",
       "    </tr>\n",
       "  </tbody>\n",
       "</table>\n",
       "</div>"
      ],
      "text/plain": [
       "                                     1D   5D    10D    21D\n",
       "Mean Factor Rank Autocorrelation  0.241  0.2  0.076  0.003"
      ]
     },
     "metadata": {},
     "output_type": "display_data"
    },
    {
     "data": {
      "text/plain": [
       "<Figure size 432x288 with 0 Axes>"
      ]
     },
     "metadata": {},
     "output_type": "display_data"
    },
    {
     "data": {
      "image/png": "[encoded data removed]",
      "text/plain": [
       "<Figure size 1008x7056 with 1 Axes>"
      ]
     },
     "metadata": {},
     "output_type": "display_data"
    },
    {
     "name": "stdout",
     "output_type": "stream",
     "text": [
      "time: 10.8 s (started: 2021-05-02 06:16:37 +00:00)\n"
     ]
    }
   ],
   "source": [
    "create_summary_tear_sheet(factor_data)"
   ]
  },
  {
   "cell_type": "markdown",
   "metadata": {},
   "source": [
    "## Evaluating the Out-of-sample predictions"
   ]
  },
  {
   "cell_type": "markdown",
   "metadata": {},
   "source": [
    "### Prepare Factor Data"
   ]
  },
  {
   "cell_type": "code",
   "execution_count": 12,
   "metadata": {
    "ExecuteTime": {
     "end_time": "2021-02-23T21:56:07.039165Z",
     "start_time": "2021-02-23T21:56:06.971729Z"
    }
   },
   "outputs": [
    {
     "name": "stdout",
     "output_type": "stream",
     "text": [
      "<class 'pandas.core.frame.DataFrame'>\n",
      "MultiIndex: 474264 entries, ('1332.JP', Timestamp('2016-12-14 00:00:00')) to ('9990.JP', Timestamp('2018-12-28 00:00:00'))\n",
      "Data columns (total 10 columns):\n",
      " #   Column  Non-Null Count   Dtype  \n",
      "---  ------  --------------   -----  \n",
      " 0   0       474264 non-null  float64\n",
      " 1   1       474264 non-null  float64\n",
      " 2   2       474264 non-null  float64\n",
      " 3   3       474264 non-null  float64\n",
      " 4   4       474264 non-null  float64\n",
      " 5   5       474264 non-null  float64\n",
      " 6   6       474264 non-null  float64\n",
      " 7   7       474264 non-null  float64\n",
      " 8   8       474264 non-null  float64\n",
      " 9   9       474264 non-null  float64\n",
      "dtypes: float64(10)\n",
      "memory usage: 38.1+ MB\n",
      "time: 1.34 s (started: 2021-05-02 06:16:58 +00:00)\n"
     ]
    }
   ],
   "source": [
    "t = 1\n",
    "predictions = (pd.read_csv(path_result / f'test_{t:02}.csv', parse_dates=['date'])\n",
    "                 .set_index(['ticker','date'])\n",
    "                 .sort_index(level=['ticker','date'])   \n",
    "                 .drop('y_test', axis=1))\n",
    "predictions.info()"
   ]
  },
  {
   "cell_type": "code",
   "execution_count": 13,
   "metadata": {
    "ExecuteTime": {
     "end_time": "2021-02-23T21:56:07.123618Z",
     "start_time": "2021-02-23T21:56:07.057679Z"
    }
   },
   "outputs": [
    {
     "data": {
      "text/plain": [
       "date                       ticker \n",
       "2018-01-04 00:00:00+00:00  1332.JP   -0.002073\n",
       "2018-01-05 00:00:00+00:00  1332.JP    0.000645\n",
       "2018-01-09 00:00:00+00:00  1332.JP   -0.000411\n",
       "2018-01-10 00:00:00+00:00  1332.JP    0.001646\n",
       "2018-01-11 00:00:00+00:00  1332.JP   -0.000931\n",
       "dtype: float64"
      ]
     },
     "execution_count": 13,
     "metadata": {},
     "output_type": "execute_result"
    },
    {
     "name": "stdout",
     "output_type": "stream",
     "text": [
      "time: 118 ms (started: 2021-05-02 06:16:59 +00:00)\n"
     ]
    }
   ],
   "source": [
    "factor = (predictions.loc[idx[:,'2018'], :]\n",
    "                   .mean(1)\n",
    "                   .sort_index().tz_localize('UTC', level='date').swaplevel().dropna())\n",
    "factor.head()"
   ]
  },
  {
   "cell_type": "markdown",
   "metadata": {},
   "source": [
    "### Select next available trade prices"
   ]
  },
  {
   "cell_type": "markdown",
   "metadata": {},
   "source": [
    "Using next available prices."
   ]
  },
  {
   "cell_type": "code",
   "execution_count": 14,
   "metadata": {
    "ExecuteTime": {
     "end_time": "2021-02-23T21:57:56.213347Z",
     "start_time": "2021-02-23T21:56:07.124802Z"
    },
    "scrolled": true
   },
   "outputs": [
    {
     "name": "stdout",
     "output_type": "stream",
     "text": [
      "<class 'pandas.core.frame.DataFrame'>\n",
      "DatetimeIndex: 1220 entries, 2015-01-05 00:00:00+00:00 to 2019-12-27 00:00:00+00:00\n",
      "Columns: 941 entries, 1332.JP to 9990.JP\n",
      "dtypes: float64(941)\n",
      "memory usage: 8.8 MB\n",
      "time: 3min 11s (started: 2021-05-02 06:17:02 +00:00)\n"
     ]
    }
   ],
   "source": [
    "tickers = factor.index.get_level_values('ticker').unique()\n",
    "trade_prices = get_trade_prices(tickers)\n",
    "trade_prices.info()"
   ]
  },
  {
   "cell_type": "markdown",
   "metadata": {},
   "source": [
    "### Get AlphaLens Inputs"
   ]
  },
  {
   "cell_type": "code",
   "execution_count": 15,
   "metadata": {
    "ExecuteTime": {
     "end_time": "2021-02-23T21:58:01.225924Z",
     "start_time": "2021-02-23T21:57:56.214344Z"
    }
   },
   "outputs": [
    {
     "name": "stdout",
     "output_type": "stream",
     "text": [
      "Dropped 0.0% entries from factor data: 0.0% in forward returns computation and 0.0% in binning phase (set max_loss=0 to see potentially suppressed Exceptions).\n",
      "max_loss is 35.0%, not exceeded: OK!\n",
      "<class 'pandas.core.frame.DataFrame'>\n",
      "MultiIndex: 230545 entries, (Timestamp('2018-01-04 00:00:00+0000', tz='UTC', freq='C'), '1332.JP') to (Timestamp('2018-12-28 00:00:00+0000', tz='UTC', freq='C'), '9990.JP')\n",
      "Data columns (total 6 columns):\n",
      " #   Column           Non-Null Count   Dtype  \n",
      "---  ------           --------------   -----  \n",
      " 0   1D               230545 non-null  float64\n",
      " 1   5D               230545 non-null  float64\n",
      " 2   10D              230545 non-null  float64\n",
      " 3   21D              230545 non-null  float64\n",
      " 4   factor           230545 non-null  float64\n",
      " 5   factor_quantile  230545 non-null  int64  \n",
      "dtypes: float64(5), int64(1)\n",
      "memory usage: 11.5+ MB\n",
      "time: 4.39 s (started: 2021-05-02 06:20:14 +00:00)\n"
     ]
    }
   ],
   "source": [
    "factor_data = get_clean_factor_and_forward_returns(factor=factor,\n",
    "                                                   prices=trade_prices,\n",
    "                                                   quantiles=5,\n",
    "                                                   periods=(1, 5, 10, 21))\n",
    "factor_data.sort_index().info()"
   ]
  },
  {
   "cell_type": "markdown",
   "metadata": {},
   "source": [
    "### Summary Tearsheet"
   ]
  },
  {
   "cell_type": "code",
   "execution_count": 16,
   "metadata": {
    "ExecuteTime": {
     "end_time": "2021-02-23T21:58:20.197397Z",
     "start_time": "2021-02-23T21:58:01.226791Z"
    }
   },
   "outputs": [
    {
     "name": "stdout",
     "output_type": "stream",
     "text": [
      "Quantiles Statistics\n"
     ]
    },
    {
     "data": {
      "text/html": [
       "<div>\n",
       "<style scoped>\n",
       "    .dataframe tbody tr th:only-of-type {\n",
       "        vertical-align: middle;\n",
       "    }\n",
       "\n",
       "    .dataframe tbody tr th {\n",
       "        vertical-align: top;\n",
       "    }\n",
       "\n",
       "    .dataframe thead th {\n",
       "        text-align: right;\n",
       "    }\n",
       "</style>\n",
       "<table border=\"1\" class=\"dataframe\">\n",
       "  <thead>\n",
       "    <tr style=\"text-align: right;\">\n",
       "      <th></th>\n",
       "      <th>min</th>\n",
       "      <th>max</th>\n",
       "      <th>mean</th>\n",
       "      <th>std</th>\n",
       "      <th>count</th>\n",
       "      <th>count %</th>\n",
       "    </tr>\n",
       "    <tr>\n",
       "      <th>factor_quantile</th>\n",
       "      <th></th>\n",
       "      <th></th>\n",
       "      <th></th>\n",
       "      <th></th>\n",
       "      <th></th>\n",
       "      <th></th>\n",
       "    </tr>\n",
       "  </thead>\n",
       "  <tbody>\n",
       "    <tr>\n",
       "      <th>1</th>\n",
       "      <td>-0.036597</td>\n",
       "      <td>0.007507</td>\n",
       "      <td>-0.003023</td>\n",
       "      <td>0.004730</td>\n",
       "      <td>46310</td>\n",
       "      <td>20.087185</td>\n",
       "    </tr>\n",
       "    <tr>\n",
       "      <th>2</th>\n",
       "      <td>-0.025832</td>\n",
       "      <td>0.008919</td>\n",
       "      <td>-0.001993</td>\n",
       "      <td>0.004050</td>\n",
       "      <td>46059</td>\n",
       "      <td>19.978312</td>\n",
       "    </tr>\n",
       "    <tr>\n",
       "      <th>3</th>\n",
       "      <td>-0.021078</td>\n",
       "      <td>0.009497</td>\n",
       "      <td>-0.001266</td>\n",
       "      <td>0.003579</td>\n",
       "      <td>46060</td>\n",
       "      <td>19.978746</td>\n",
       "    </tr>\n",
       "    <tr>\n",
       "      <th>4</th>\n",
       "      <td>-0.016346</td>\n",
       "      <td>0.009945</td>\n",
       "      <td>-0.000672</td>\n",
       "      <td>0.003293</td>\n",
       "      <td>46058</td>\n",
       "      <td>19.977879</td>\n",
       "    </tr>\n",
       "    <tr>\n",
       "      <th>5</th>\n",
       "      <td>-0.013150</td>\n",
       "      <td>0.011988</td>\n",
       "      <td>0.000242</td>\n",
       "      <td>0.003129</td>\n",
       "      <td>46058</td>\n",
       "      <td>19.977879</td>\n",
       "    </tr>\n",
       "  </tbody>\n",
       "</table>\n",
       "</div>"
      ],
      "text/plain": [
       "                      min       max      mean       std  count    count %\n",
       "factor_quantile                                                          \n",
       "1               -0.036597  0.007507 -0.003023  0.004730  46310  20.087185\n",
       "2               -0.025832  0.008919 -0.001993  0.004050  46059  19.978312\n",
       "3               -0.021078  0.009497 -0.001266  0.003579  46060  19.978746\n",
       "4               -0.016346  0.009945 -0.000672  0.003293  46058  19.977879\n",
       "5               -0.013150  0.011988  0.000242  0.003129  46058  19.977879"
      ]
     },
     "metadata": {},
     "output_type": "display_data"
    },
    {
     "name": "stdout",
     "output_type": "stream",
     "text": [
      "Returns Analysis\n"
     ]
    },
    {
     "data": {
      "text/html": [
       "<div>\n",
       "<style scoped>\n",
       "    .dataframe tbody tr th:only-of-type {\n",
       "        vertical-align: middle;\n",
       "    }\n",
       "\n",
       "    .dataframe tbody tr th {\n",
       "        vertical-align: top;\n",
       "    }\n",
       "\n",
       "    .dataframe thead th {\n",
       "        text-align: right;\n",
       "    }\n",
       "</style>\n",
       "<table border=\"1\" class=\"dataframe\">\n",
       "  <thead>\n",
       "    <tr style=\"text-align: right;\">\n",
       "      <th></th>\n",
       "      <th>1D</th>\n",
       "      <th>5D</th>\n",
       "      <th>10D</th>\n",
       "      <th>21D</th>\n",
       "    </tr>\n",
       "  </thead>\n",
       "  <tbody>\n",
       "    <tr>\n",
       "      <th>Ann. alpha</th>\n",
       "      <td>0.090</td>\n",
       "      <td>0.022</td>\n",
       "      <td>0.006</td>\n",
       "      <td>0.005</td>\n",
       "    </tr>\n",
       "    <tr>\n",
       "      <th>beta</th>\n",
       "      <td>0.059</td>\n",
       "      <td>0.038</td>\n",
       "      <td>0.046</td>\n",
       "      <td>0.051</td>\n",
       "    </tr>\n",
       "    <tr>\n",
       "      <th>Mean Period Wise Return Top Quantile (bps)</th>\n",
       "      <td>4.568</td>\n",
       "      <td>0.305</td>\n",
       "      <td>-0.348</td>\n",
       "      <td>-0.501</td>\n",
       "    </tr>\n",
       "    <tr>\n",
       "      <th>Mean Period Wise Return Bottom Quantile (bps)</th>\n",
       "      <td>-3.584</td>\n",
       "      <td>-0.459</td>\n",
       "      <td>-0.102</td>\n",
       "      <td>-0.290</td>\n",
       "    </tr>\n",
       "    <tr>\n",
       "      <th>Mean Period Wise Spread (bps)</th>\n",
       "      <td>8.152</td>\n",
       "      <td>0.764</td>\n",
       "      <td>-0.250</td>\n",
       "      <td>-0.217</td>\n",
       "    </tr>\n",
       "  </tbody>\n",
       "</table>\n",
       "</div>"
      ],
      "text/plain": [
       "                                                  1D     5D    10D    21D\n",
       "Ann. alpha                                     0.090  0.022  0.006  0.005\n",
       "beta                                           0.059  0.038  0.046  0.051\n",
       "Mean Period Wise Return Top Quantile (bps)     4.568  0.305 -0.348 -0.501\n",
       "Mean Period Wise Return Bottom Quantile (bps) -3.584 -0.459 -0.102 -0.290\n",
       "Mean Period Wise Spread (bps)                  8.152  0.764 -0.250 -0.217"
      ]
     },
     "metadata": {},
     "output_type": "display_data"
    },
    {
     "name": "stdout",
     "output_type": "stream",
     "text": [
      "Information Analysis\n"
     ]
    },
    {
     "data": {
      "text/html": [
       "<div>\n",
       "<style scoped>\n",
       "    .dataframe tbody tr th:only-of-type {\n",
       "        vertical-align: middle;\n",
       "    }\n",
       "\n",
       "    .dataframe tbody tr th {\n",
       "        vertical-align: top;\n",
       "    }\n",
       "\n",
       "    .dataframe thead th {\n",
       "        text-align: right;\n",
       "    }\n",
       "</style>\n",
       "<table border=\"1\" class=\"dataframe\">\n",
       "  <thead>\n",
       "    <tr style=\"text-align: right;\">\n",
       "      <th></th>\n",
       "      <th>1D</th>\n",
       "      <th>5D</th>\n",
       "      <th>10D</th>\n",
       "      <th>21D</th>\n",
       "    </tr>\n",
       "  </thead>\n",
       "  <tbody>\n",
       "    <tr>\n",
       "      <th>IC Mean</th>\n",
       "      <td>0.016</td>\n",
       "      <td>0.007</td>\n",
       "      <td>-0.002</td>\n",
       "      <td>-0.003</td>\n",
       "    </tr>\n",
       "    <tr>\n",
       "      <th>IC Std.</th>\n",
       "      <td>0.103</td>\n",
       "      <td>0.108</td>\n",
       "      <td>0.097</td>\n",
       "      <td>0.097</td>\n",
       "    </tr>\n",
       "    <tr>\n",
       "      <th>Risk-Adjusted IC</th>\n",
       "      <td>0.152</td>\n",
       "      <td>0.069</td>\n",
       "      <td>-0.019</td>\n",
       "      <td>-0.028</td>\n",
       "    </tr>\n",
       "    <tr>\n",
       "      <th>t-stat(IC)</th>\n",
       "      <td>2.379</td>\n",
       "      <td>1.074</td>\n",
       "      <td>-0.298</td>\n",
       "      <td>-0.434</td>\n",
       "    </tr>\n",
       "    <tr>\n",
       "      <th>p-value(IC)</th>\n",
       "      <td>0.018</td>\n",
       "      <td>0.284</td>\n",
       "      <td>0.766</td>\n",
       "      <td>0.665</td>\n",
       "    </tr>\n",
       "    <tr>\n",
       "      <th>IC Skew</th>\n",
       "      <td>0.050</td>\n",
       "      <td>0.219</td>\n",
       "      <td>0.333</td>\n",
       "      <td>0.333</td>\n",
       "    </tr>\n",
       "    <tr>\n",
       "      <th>IC Kurtosis</th>\n",
       "      <td>0.865</td>\n",
       "      <td>0.731</td>\n",
       "      <td>1.644</td>\n",
       "      <td>1.101</td>\n",
       "    </tr>\n",
       "  </tbody>\n",
       "</table>\n",
       "</div>"
      ],
      "text/plain": [
       "                     1D     5D    10D    21D\n",
       "IC Mean           0.016  0.007 -0.002 -0.003\n",
       "IC Std.           0.103  0.108  0.097  0.097\n",
       "Risk-Adjusted IC  0.152  0.069 -0.019 -0.028\n",
       "t-stat(IC)        2.379  1.074 -0.298 -0.434\n",
       "p-value(IC)       0.018  0.284  0.766  0.665\n",
       "IC Skew           0.050  0.219  0.333  0.333\n",
       "IC Kurtosis       0.865  0.731  1.644  1.101"
      ]
     },
     "metadata": {},
     "output_type": "display_data"
    },
    {
     "name": "stdout",
     "output_type": "stream",
     "text": [
      "Turnover Analysis\n"
     ]
    },
    {
     "data": {
      "text/html": [
       "<div>\n",
       "<style scoped>\n",
       "    .dataframe tbody tr th:only-of-type {\n",
       "        vertical-align: middle;\n",
       "    }\n",
       "\n",
       "    .dataframe tbody tr th {\n",
       "        vertical-align: top;\n",
       "    }\n",
       "\n",
       "    .dataframe thead th {\n",
       "        text-align: right;\n",
       "    }\n",
       "</style>\n",
       "<table border=\"1\" class=\"dataframe\">\n",
       "  <thead>\n",
       "    <tr style=\"text-align: right;\">\n",
       "      <th></th>\n",
       "      <th>1D</th>\n",
       "      <th>5D</th>\n",
       "      <th>10D</th>\n",
       "      <th>21D</th>\n",
       "    </tr>\n",
       "  </thead>\n",
       "  <tbody>\n",
       "    <tr>\n",
       "      <th>Quantile 1 Mean Turnover</th>\n",
       "      <td>0.735</td>\n",
       "      <td>0.769</td>\n",
       "      <td>0.791</td>\n",
       "      <td>0.796</td>\n",
       "    </tr>\n",
       "    <tr>\n",
       "      <th>Quantile 2 Mean Turnover</th>\n",
       "      <td>0.773</td>\n",
       "      <td>0.787</td>\n",
       "      <td>0.792</td>\n",
       "      <td>0.797</td>\n",
       "    </tr>\n",
       "    <tr>\n",
       "      <th>Quantile 3 Mean Turnover</th>\n",
       "      <td>0.775</td>\n",
       "      <td>0.790</td>\n",
       "      <td>0.795</td>\n",
       "      <td>0.795</td>\n",
       "    </tr>\n",
       "    <tr>\n",
       "      <th>Quantile 4 Mean Turnover</th>\n",
       "      <td>0.772</td>\n",
       "      <td>0.791</td>\n",
       "      <td>0.799</td>\n",
       "      <td>0.795</td>\n",
       "    </tr>\n",
       "    <tr>\n",
       "      <th>Quantile 5 Mean Turnover</th>\n",
       "      <td>0.681</td>\n",
       "      <td>0.740</td>\n",
       "      <td>0.776</td>\n",
       "      <td>0.792</td>\n",
       "    </tr>\n",
       "  </tbody>\n",
       "</table>\n",
       "</div>"
      ],
      "text/plain": [
       "                              1D     5D    10D    21D\n",
       "Quantile 1 Mean Turnover   0.735  0.769  0.791  0.796\n",
       "Quantile 2 Mean Turnover   0.773  0.787  0.792  0.797\n",
       "Quantile 3 Mean Turnover   0.775  0.790  0.795  0.795\n",
       "Quantile 4 Mean Turnover   0.772  0.791  0.799  0.795\n",
       "Quantile 5 Mean Turnover   0.681  0.740  0.776  0.792"
      ]
     },
     "metadata": {},
     "output_type": "display_data"
    },
    {
     "data": {
      "text/html": [
       "<div>\n",
       "<style scoped>\n",
       "    .dataframe tbody tr th:only-of-type {\n",
       "        vertical-align: middle;\n",
       "    }\n",
       "\n",
       "    .dataframe tbody tr th {\n",
       "        vertical-align: top;\n",
       "    }\n",
       "\n",
       "    .dataframe thead th {\n",
       "        text-align: right;\n",
       "    }\n",
       "</style>\n",
       "<table border=\"1\" class=\"dataframe\">\n",
       "  <thead>\n",
       "    <tr style=\"text-align: right;\">\n",
       "      <th></th>\n",
       "      <th>1D</th>\n",
       "      <th>5D</th>\n",
       "      <th>10D</th>\n",
       "      <th>21D</th>\n",
       "    </tr>\n",
       "  </thead>\n",
       "  <tbody>\n",
       "    <tr>\n",
       "      <th>Mean Factor Rank Autocorrelation</th>\n",
       "      <td>0.15</td>\n",
       "      <td>0.076</td>\n",
       "      <td>0.016</td>\n",
       "      <td>0.006</td>\n",
       "    </tr>\n",
       "  </tbody>\n",
       "</table>\n",
       "</div>"
      ],
      "text/plain": [
       "                                    1D     5D    10D    21D\n",
       "Mean Factor Rank Autocorrelation  0.15  0.076  0.016  0.006"
      ]
     },
     "metadata": {},
     "output_type": "display_data"
    },
    {
     "data": {
      "text/plain": [
       "<Figure size 432x288 with 0 Axes>"
      ]
     },
     "metadata": {},
     "output_type": "display_data"
    },
    {
     "data": {
      "image/png": "[encoded data removed]",
      "text/plain": [
       "<Figure size 1008x7056 with 1 Axes>"
      ]
     },
     "metadata": {},
     "output_type": "display_data"
    },
    {
     "name": "stdout",
     "output_type": "stream",
     "text": [
      "time: 11.1 s (started: 2021-05-02 06:20:18 +00:00)\n"
     ]
    }
   ],
   "source": [
    "create_summary_tear_sheet(factor_data)"
   ]
  },
  {
   "cell_type": "code",
   "execution_count": null,
   "metadata": {},
   "outputs": [],
   "source": []
  }
 ],
 "metadata": {
  "environment": {
   "name": "common-cpu.m65",
   "type": "gcloud",
   "uri": "gcr.io/deeplearning-platform-release/base-cpu:m65"
  },
  "kernelspec": {
   "display_name": "Python 3",
   "language": "python",
   "name": "python3"
  },
  "language_info": {
   "codemirror_mode": {
    "name": "ipython",
    "version": 3
   },
   "file_extension": ".py",
   "mimetype": "text/x-python",
   "name": "python",
   "nbconvert_exporter": "python",
   "pygments_lexer": "ipython3",
   "version": "3.7.10"
  },
  "toc": {
   "base_numbering": 1,
   "nav_menu": {},
   "number_sections": true,
   "sideBar": true,
   "skip_h1_title": true,
   "title_cell": "Table of Contents",
   "title_sidebar": "Contents",
   "toc_cell": false,
   "toc_position": {
    "height": "calc(100% - 180px)",
    "left": "10px",
    "top": "150px",
    "width": "374.162px"
   },
   "toc_section_display": true,
   "toc_window_display": true
  }
 },
 "nbformat": 4,
 "nbformat_minor": 4
}
