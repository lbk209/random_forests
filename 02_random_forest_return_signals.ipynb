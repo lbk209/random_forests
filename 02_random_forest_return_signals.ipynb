{
 "cells": [
  {
   "cell_type": "markdown",
   "metadata": {},
   "source": [
    "# How to generate long-short trading signals with a Random Forest"
   ]
  },
  {
   "cell_type": "markdown",
   "metadata": {},
   "source": [
    "## Imports & Settings"
   ]
  },
  {
   "cell_type": "code",
   "execution_count": 37,
   "metadata": {
    "collapsed": true,
    "jupyter": {
     "outputs_hidden": true
    }
   },
   "outputs": [
    {
     "name": "stdout",
     "output_type": "stream",
     "text": [
      "Requirement already satisfied: ipython-autotime in /opt/conda/lib/python3.7/site-packages (0.3.1)\n",
      "Requirement already satisfied: ipython in /opt/conda/lib/python3.7/site-packages (from ipython-autotime) (7.22.0)\n",
      "Requirement already satisfied: jedi>=0.16 in /opt/conda/lib/python3.7/site-packages (from ipython->ipython-autotime) (0.18.0)\n",
      "Requirement already satisfied: setuptools>=18.5 in /opt/conda/lib/python3.7/site-packages (from ipython->ipython-autotime) (49.6.0.post20210108)\n",
      "Requirement already satisfied: decorator in /opt/conda/lib/python3.7/site-packages (from ipython->ipython-autotime) (5.0.7)\n",
      "Requirement already satisfied: pexpect>4.3 in /opt/conda/lib/python3.7/site-packages (from ipython->ipython-autotime) (4.8.0)\n",
      "Requirement already satisfied: pygments in /opt/conda/lib/python3.7/site-packages (from ipython->ipython-autotime) (2.8.1)\n",
      "Requirement already satisfied: backcall in /opt/conda/lib/python3.7/site-packages (from ipython->ipython-autotime) (0.2.0)\n",
      "Requirement already satisfied: pickleshare in /opt/conda/lib/python3.7/site-packages (from ipython->ipython-autotime) (0.7.5)\n",
      "Requirement already satisfied: prompt-toolkit!=3.0.0,!=3.0.1,<3.1.0,>=2.0.0 in /opt/conda/lib/python3.7/site-packages (from ipython->ipython-autotime) (3.0.18)\n",
      "Requirement already satisfied: traitlets>=4.2 in /opt/conda/lib/python3.7/site-packages (from ipython->ipython-autotime) (5.0.5)\n",
      "Requirement already satisfied: parso<0.9.0,>=0.8.0 in /opt/conda/lib/python3.7/site-packages (from jedi>=0.16->ipython->ipython-autotime) (0.8.2)\n",
      "Requirement already satisfied: ptyprocess>=0.5 in /opt/conda/lib/python3.7/site-packages (from pexpect>4.3->ipython->ipython-autotime) (0.7.0)\n",
      "Requirement already satisfied: wcwidth in /opt/conda/lib/python3.7/site-packages (from prompt-toolkit!=3.0.0,!=3.0.1,<3.1.0,>=2.0.0->ipython->ipython-autotime) (0.2.5)\n",
      "Requirement already satisfied: ipython-genutils in /opt/conda/lib/python3.7/site-packages (from traitlets>=4.2->ipython->ipython-autotime) (0.2.0)\n",
      "Requirement already satisfied: lightgbm in /opt/conda/lib/python3.7/site-packages (3.2.1)\n",
      "Requirement already satisfied: wheel in /opt/conda/lib/python3.7/site-packages (from lightgbm) (0.36.2)\n",
      "Requirement already satisfied: scipy in /opt/conda/lib/python3.7/site-packages (from lightgbm) (1.6.2)\n",
      "Requirement already satisfied: scikit-learn!=0.22.0 in /opt/conda/lib/python3.7/site-packages (from lightgbm) (0.24.1)\n",
      "Requirement already satisfied: numpy in /opt/conda/lib/python3.7/site-packages (from lightgbm) (1.19.5)\n",
      "Requirement already satisfied: threadpoolctl>=2.0.0 in /opt/conda/lib/python3.7/site-packages (from scikit-learn!=0.22.0->lightgbm) (2.1.0)\n",
      "Requirement already satisfied: joblib>=0.11 in /opt/conda/lib/python3.7/site-packages (from scikit-learn!=0.22.0->lightgbm) (1.0.1)\n",
      "time: 3.62 s (started: 2021-04-27 07:43:00 +00:00)\n"
     ]
    }
   ],
   "source": [
    "!pip install ipython-autotime\n",
    "!pip install lightgbm"
   ]
  },
  {
   "cell_type": "code",
   "execution_count": 1,
   "metadata": {
    "ExecuteTime": {
     "end_time": "2021-02-23T21:02:37.880680Z",
     "start_time": "2021-02-23T21:02:37.878801Z"
    }
   },
   "outputs": [],
   "source": [
    "import warnings\n",
    "warnings.filterwarnings('ignore')"
   ]
  },
  {
   "cell_type": "code",
   "execution_count": 2,
   "metadata": {
    "ExecuteTime": {
     "end_time": "2021-02-23T21:02:39.119332Z",
     "start_time": "2021-02-23T21:02:38.229457Z"
    },
    "scrolled": true
   },
   "outputs": [
    {
     "name": "stdout",
     "output_type": "stream",
     "text": [
      "time: 614 ms (started: 2021-04-27 07:43:23 +00:00)\n"
     ]
    }
   ],
   "source": [
    "%matplotlib inline\n",
    "%load_ext autotime\n",
    "\n",
    "from time import time\n",
    "from io import StringIO\n",
    "import sys, os\n",
    "from tqdm import tqdm\n",
    "\n",
    "from itertools import product\n",
    "from pathlib import Path\n",
    "\n",
    "import numpy as np\n",
    "import pandas as pd\n",
    "import statsmodels.api as sm\n",
    "\n",
    "import matplotlib.pyplot as plt\n",
    "import seaborn as sns\n",
    "\n",
    "import lightgbm as lgb\n",
    "\n",
    "from sklearn.linear_model import LinearRegression\n",
    "from scipy.stats import spearmanr"
   ]
  },
  {
   "cell_type": "code",
   "execution_count": 3,
   "metadata": {
    "ExecuteTime": {
     "end_time": "2021-02-23T21:02:39.123586Z",
     "start_time": "2021-02-23T21:02:39.120512Z"
    },
    "scrolled": true
   },
   "outputs": [
    {
     "name": "stdout",
     "output_type": "stream",
     "text": [
      "time: 1.21 ms (started: 2021-04-27 07:43:25 +00:00)\n"
     ]
    }
   ],
   "source": [
    "#sys.path.insert(1, os.path.join(sys.path[0], '..'))\n",
    "from utils import MultipleTimeSeriesCV, format_time"
   ]
  },
  {
   "cell_type": "code",
   "execution_count": 4,
   "metadata": {
    "ExecuteTime": {
     "end_time": "2021-02-23T21:02:39.138498Z",
     "start_time": "2021-02-23T21:02:39.124895Z"
    },
    "scrolled": true
   },
   "outputs": [
    {
     "name": "stdout",
     "output_type": "stream",
     "text": [
      "time: 620 µs (started: 2021-04-27 07:43:27 +00:00)\n"
     ]
    }
   ],
   "source": [
    "sns.set_style('whitegrid')"
   ]
  },
  {
   "cell_type": "code",
   "execution_count": 5,
   "metadata": {
    "ExecuteTime": {
     "end_time": "2021-02-23T21:02:39.160300Z",
     "start_time": "2021-02-23T21:02:39.140142Z"
    }
   },
   "outputs": [
    {
     "name": "stdout",
     "output_type": "stream",
     "text": [
      "time: 432 µs (started: 2021-04-27 07:43:28 +00:00)\n"
     ]
    }
   ],
   "source": [
    "np.random.seed(42)"
   ]
  },
  {
   "cell_type": "code",
   "execution_count": 6,
   "metadata": {
    "ExecuteTime": {
     "end_time": "2021-02-23T21:02:39.184217Z",
     "start_time": "2021-02-23T21:02:39.161267Z"
    },
    "scrolled": true
   },
   "outputs": [
    {
     "name": "stdout",
     "output_type": "stream",
     "text": [
      "time: 609 µs (started: 2021-04-27 07:43:28 +00:00)\n"
     ]
    }
   ],
   "source": [
    "YEAR = 252\n",
    "idx = pd.IndexSlice"
   ]
  },
  {
   "cell_type": "code",
   "execution_count": 7,
   "metadata": {
    "ExecuteTime": {
     "end_time": "2021-02-23T21:02:39.192310Z",
     "start_time": "2021-02-23T21:02:39.185309Z"
    }
   },
   "outputs": [
    {
     "name": "stdout",
     "output_type": "stream",
     "text": [
      "time: 1.04 ms (started: 2021-04-27 07:43:29 +00:00)\n"
     ]
    }
   ],
   "source": [
    "### set path\n",
    "import os\n",
    "from pathlib import Path\n",
    "path_home = os.getcwd()\n",
    "path_home = Path(path_home)\n",
    "path_data = path_home / 'data'\n",
    "if not path_data.exists():\n",
    "    path_data.mkdir()\n",
    "path_result = path_home / 'result'\n",
    "if not path_result.exists():\n",
    "    path_result.mkdir()\n",
    "\n",
    "DATA_DIR = path_data\n",
    "results_path = path_result"
   ]
  },
  {
   "cell_type": "markdown",
   "metadata": {},
   "source": [
    "## Get Data"
   ]
  },
  {
   "cell_type": "markdown",
   "metadata": {},
   "source": [
    "See the notebook [japanese_equity_features](03_japanese_equity_features.ipynb) in this directory for data preparation."
   ]
  },
  {
   "cell_type": "code",
   "execution_count": null,
   "metadata": {},
   "outputs": [],
   "source": [
    "!gs cp gs://finance_data_bucket/data_stooq.zip\n",
    "!unzip data_stooq.zip"
   ]
  },
  {
   "cell_type": "code",
   "execution_count": 8,
   "metadata": {
    "ExecuteTime": {
     "end_time": "2021-02-23T21:02:42.139113Z",
     "start_time": "2021-02-23T21:02:41.254125Z"
    }
   },
   "outputs": [
    {
     "name": "stdout",
     "output_type": "stream",
     "text": [
      "<class 'pandas.core.frame.DataFrame'>\n",
      "MultiIndex: 2304509 entries, ('1332.JP', Timestamp('2010-01-04 00:00:00')) to ('9990.JP', Timestamp('2019-12-30 00:00:00'))\n",
      "Data columns (total 23 columns):\n",
      " #   Column           Non-Null Count    Dtype  \n",
      "---  ------           --------------    -----  \n",
      " 0   ret_1            2303568 non-null  float64\n",
      " 1   ret_rel_perc_1   2303568 non-null  float64\n",
      " 2   ret_5            2299804 non-null  float64\n",
      " 3   ret_rel_perc_5   2299804 non-null  float64\n",
      " 4   ret_10           2295099 non-null  float64\n",
      " 5   ret_rel_perc_10  2295099 non-null  float64\n",
      " 6   ret_21           2284748 non-null  float64\n",
      " 7   ret_rel_perc_21  2284748 non-null  float64\n",
      " 8   ret_63           2245226 non-null  float64\n",
      " 9   ret_rel_perc_63  2245226 non-null  float64\n",
      " 10  PPO              2280984 non-null  float64\n",
      " 11  NATR             2291335 non-null  float64\n",
      " 12  RSI              2291335 non-null  float64\n",
      " 13  bbl              2300745 non-null  float64\n",
      " 14  bbu              2300745 non-null  float64\n",
      " 15  weekday          2304509 non-null  int64  \n",
      " 16  month            2304509 non-null  int64  \n",
      " 17  year             2304509 non-null  int64  \n",
      " 18  fwd_ret_01       2303568 non-null  float64\n",
      " 19  fwd_ret_05       2299804 non-null  float64\n",
      " 20  fwd_ret_10       2295099 non-null  float64\n",
      " 21  fwd_ret_21       2284748 non-null  float64\n",
      " 22  fwd_ret_63       2245226 non-null  float64\n",
      "dtypes: float64(20), int64(3)\n",
      "memory usage: 413.3+ MB\n",
      "time: 13.2 s (started: 2021-04-27 07:43:37 +00:00)\n"
     ]
    }
   ],
   "source": [
    "data = (pd.read_csv(path_data / 'stooq_japan_equities.csv', parse_dates=['date'])\n",
    "          .set_index(['ticker','date'])\n",
    "          .sort_index(level=['ticker','date'])      \n",
    "       )\n",
    "data.info(null_counts=True)"
   ]
  },
  {
   "cell_type": "markdown",
   "metadata": {},
   "source": [
    "We start with 941 tickers."
   ]
  },
  {
   "cell_type": "code",
   "execution_count": 10,
   "metadata": {
    "ExecuteTime": {
     "end_time": "2021-02-23T21:02:42.201856Z",
     "start_time": "2021-02-23T21:02:42.140240Z"
    }
   },
   "outputs": [
    {
     "data": {
      "text/plain": [
       "941"
      ]
     },
     "execution_count": 10,
     "metadata": {},
     "output_type": "execute_result"
    },
    {
     "name": "stdout",
     "output_type": "stream",
     "text": [
      "time: 20.8 ms (started: 2021-04-24 00:28:08 +00:00)\n"
     ]
    }
   ],
   "source": [
    "len(data.index.unique('ticker'))"
   ]
  },
  {
   "cell_type": "markdown",
   "metadata": {},
   "source": [
    "### Select universe of 250 most-liquid stocks"
   ]
  },
  {
   "cell_type": "markdown",
   "metadata": {},
   "source": [
    "We rank the stocks by their daily average dollar volume and select those with the 250 lowest average ranks and thus highest average volumes for the 2010-2017 period."
   ]
  },
  {
   "cell_type": "code",
   "execution_count": 9,
   "metadata": {
    "ExecuteTime": {
     "end_time": "2021-02-23T21:02:50.607742Z",
     "start_time": "2021-02-23T21:02:42.227048Z"
    }
   },
   "outputs": [
    {
     "name": "stdout",
     "output_type": "stream",
     "text": [
      "time: 15.8 s (started: 2021-04-27 07:44:12 +00:00)\n"
     ]
    }
   ],
   "source": [
    "prices = (pd.read_csv(path_data / 'stooq_jp_tse_stocks_prices.csv', parse_dates=['date'])\n",
    "          .set_index(['ticker','date'])\n",
    "          .sort_index(level=['ticker','date'])    \n",
    "          .loc[idx[:, '2010': '2017'], :]\n",
    "         )"
   ]
  },
  {
   "cell_type": "code",
   "execution_count": 11,
   "metadata": {
    "ExecuteTime": {
     "end_time": "2021-02-23T21:02:52.631450Z",
     "start_time": "2021-02-23T21:02:50.608766Z"
    }
   },
   "outputs": [
    {
     "name": "stdout",
     "output_type": "stream",
     "text": [
      "time: 3.31 s (started: 2021-04-27 07:45:05 +00:00)\n"
     ]
    }
   ],
   "source": [
    "dollar_vol = prices.close.mul(prices.volume)\n",
    "dollar_vol_rank = dollar_vol.groupby(level='date').rank(ascending=False)\n",
    "universe = dollar_vol_rank.groupby(level='ticker').mean().nsmallest(250).index"
   ]
  },
  {
   "cell_type": "markdown",
   "metadata": {},
   "source": [
    "## MultipleTimeSeriesCV"
   ]
  },
  {
   "cell_type": "markdown",
   "metadata": {},
   "source": [
    "See [Chapter 7 - Linear Models](../07_linear_models) for details."
   ]
  },
  {
   "cell_type": "code",
   "execution_count": 13,
   "metadata": {
    "ExecuteTime": {
     "end_time": "2021-02-23T21:02:52.637665Z",
     "start_time": "2021-02-23T21:02:52.632697Z"
    },
    "scrolled": true
   },
   "outputs": [
    {
     "name": "stdout",
     "output_type": "stream",
     "text": [
      "time: 463 µs (started: 2021-04-24 00:28:29 +00:00)\n"
     ]
    }
   ],
   "source": [
    "cv = MultipleTimeSeriesCV(n_splits=36,\n",
    "                          test_period_length=21,\n",
    "                          lookahead=5,\n",
    "                          train_period_length=2 * 252)"
   ]
  },
  {
   "cell_type": "markdown",
   "metadata": {},
   "source": [
    "For each fold, the train and test periods are separated by a `lookahead` number of periods and thus do not overlap:"
   ]
  },
  {
   "cell_type": "code",
   "execution_count": 14,
   "metadata": {
    "ExecuteTime": {
     "end_time": "2021-02-23T21:02:57.362939Z",
     "start_time": "2021-02-23T21:02:52.638837Z"
    },
    "scrolled": true
   },
   "outputs": [
    {
     "name": "stdout",
     "output_type": "stream",
     "text": [
      "Training: 2017-10-24-2019-11-25  (508 days) | Test: 2019-12-02-2019-12-30 (21 days)\n",
      "Training: 2017-09-22-2019-10-24  (508 days) | Test: 2019-10-31-2019-11-29 (21 days)\n",
      "Training: 2017-08-23-2019-09-20  (508 days) | Test: 2019-09-30-2019-10-30 (21 days)\n",
      "Training: 2017-07-24-2019-08-21  (508 days) | Test: 2019-08-28-2019-09-27 (21 days)\n",
      "time: 7.41 s (started: 2021-04-24 00:28:30 +00:00)\n"
     ]
    }
   ],
   "source": [
    "for i, (train_idx, test_idx) in enumerate(cv.split(X=data)):\n",
    "    train = data.iloc[train_idx]\n",
    "    train_dates = train.index.get_level_values('date')\n",
    "    test = data.iloc[test_idx]\n",
    "    test_dates = test.index.get_level_values('date')\n",
    "    df = train.reset_index().append(test.reset_index())\n",
    "    n = len(df)\n",
    "    assert n== len(df.drop_duplicates())\n",
    "    msg = f'Training: {train_dates.min().date()}-{train_dates.max().date()} '\n",
    "    msg += f' ({train.groupby(level=\"ticker\").size().value_counts().index[0]:,.0f} days) | '\n",
    "    msg += f'Test: {test_dates.min().date()}-{test_dates.max().date()} '\n",
    "    msg += f'({test.groupby(level=\"ticker\").size().value_counts().index[0]:,.0f} days)'\n",
    "    print(msg)\n",
    "    if i == 3:\n",
    "        break"
   ]
  },
  {
   "cell_type": "markdown",
   "metadata": {},
   "source": [
    "## Model Selection: Time Period and Horizon"
   ]
  },
  {
   "cell_type": "markdown",
   "metadata": {},
   "source": [
    "For the model selection step, we restrict training and validation sets to the 2010-2017 period."
   ]
  },
  {
   "cell_type": "code",
   "execution_count": 12,
   "metadata": {
    "ExecuteTime": {
     "end_time": "2021-02-23T21:03:05.380614Z",
     "start_time": "2021-02-23T21:03:02.618027Z"
    },
    "scrolled": true
   },
   "outputs": [
    {
     "name": "stdout",
     "output_type": "stream",
     "text": [
      "<class 'pandas.core.frame.DataFrame'>\n",
      "MultiIndex: 420082 entries, ('7203.JP', Timestamp('2010-01-04 00:00:00')) to ('4021.JP', Timestamp('2017-12-29 00:00:00'))\n",
      "Data columns (total 23 columns):\n",
      " #   Column           Non-Null Count   Dtype  \n",
      "---  ------           --------------   -----  \n",
      " 0   ret_1            419868 non-null  float64\n",
      " 1   ret_rel_perc_1   419868 non-null  float64\n",
      " 2   ret_5            419012 non-null  float64\n",
      " 3   ret_rel_perc_5   419012 non-null  float64\n",
      " 4   ret_10           417942 non-null  float64\n",
      " 5   ret_rel_perc_10  417942 non-null  float64\n",
      " 6   ret_21           415588 non-null  float64\n",
      " 7   ret_rel_perc_21  415588 non-null  float64\n",
      " 8   ret_63           406600 non-null  float64\n",
      " 9   ret_rel_perc_63  406600 non-null  float64\n",
      " 10  PPO              414732 non-null  float64\n",
      " 11  NATR             417086 non-null  float64\n",
      " 12  RSI              417086 non-null  float64\n",
      " 13  bbl              419226 non-null  float64\n",
      " 14  bbu              419226 non-null  float64\n",
      " 15  weekday          420082 non-null  int64  \n",
      " 16  month            420082 non-null  int64  \n",
      " 17  year             420082 non-null  int64  \n",
      " 18  fwd_ret_01       420082 non-null  float64\n",
      " 19  fwd_ret_05       420082 non-null  float64\n",
      " 20  fwd_ret_10       420082 non-null  float64\n",
      " 21  fwd_ret_21       420082 non-null  float64\n",
      " 22  fwd_ret_63       420082 non-null  float64\n",
      "dtypes: float64(20), int64(3)\n",
      "memory usage: 75.4+ MB\n",
      "time: 5 s (started: 2021-04-27 07:45:14 +00:00)\n"
     ]
    }
   ],
   "source": [
    "cv_data = data.loc[idx[universe, :'2017'], :]\n",
    "tickers = cv_data.index.unique('ticker')\n",
    "cv_data.info()"
   ]
  },
  {
   "cell_type": "markdown",
   "metadata": {},
   "source": [
    "Persist the data to save some time when running another experiment:"
   ]
  },
  {
   "cell_type": "code",
   "execution_count": 24,
   "metadata": {
    "ExecuteTime": {
     "end_time": "2021-02-23T21:03:05.443610Z",
     "start_time": "2021-02-23T21:03:05.381787Z"
    }
   },
   "outputs": [
    {
     "name": "stdout",
     "output_type": "stream",
     "text": [
      "time: 13.4 s (started: 2021-04-23 23:10:21 +00:00)\n"
     ]
    }
   ],
   "source": [
    "cv_data.to_csv(path_data / 'stooq_japan_equities_cv_data.csv')\n",
    "!zip -u data_stooq.zip data/stooq_japan_equities_cv_data.csv"
   ]
  },
  {
   "cell_type": "markdown",
   "metadata": {},
   "source": [
    "We're picking prediction horizons of 1, 5, 10 and 21 days:"
   ]
  },
  {
   "cell_type": "code",
   "execution_count": 16,
   "metadata": {
    "ExecuteTime": {
     "end_time": "2021-02-23T21:03:07.317733Z",
     "start_time": "2021-02-23T21:03:07.315943Z"
    },
    "scrolled": true
   },
   "outputs": [
    {
     "name": "stdout",
     "output_type": "stream",
     "text": [
      "time: 398 µs (started: 2021-04-24 00:28:52 +00:00)\n"
     ]
    }
   ],
   "source": [
    "lookaheads = [1, 5, 10, 21]"
   ]
  },
  {
   "cell_type": "markdown",
   "metadata": {},
   "source": [
    "## Baseline: Linear Regression"
   ]
  },
  {
   "cell_type": "markdown",
   "metadata": {},
   "source": [
    "Since it's quick to run and quite informative, we generate linear regression baseline predictions. See [Chapter 7 - Linear Models](../07_linear_models) for details."
   ]
  },
  {
   "cell_type": "code",
   "execution_count": 26,
   "metadata": {
    "ExecuteTime": {
     "end_time": "2021-02-23T21:03:10.361623Z",
     "start_time": "2021-02-23T21:03:10.359925Z"
    },
    "scrolled": true
   },
   "outputs": [
    {
     "name": "stdout",
     "output_type": "stream",
     "text": [
      "time: 459 µs (started: 2021-04-23 23:11:04 +00:00)\n"
     ]
    }
   ],
   "source": [
    "lr = LinearRegression(n_jobs=-1)"
   ]
  },
  {
   "cell_type": "code",
   "execution_count": 13,
   "metadata": {
    "ExecuteTime": {
     "end_time": "2021-02-23T21:03:10.484894Z",
     "start_time": "2021-02-23T21:03:10.479559Z"
    }
   },
   "outputs": [
    {
     "name": "stdout",
     "output_type": "stream",
     "text": [
      "time: 6.32 ms (started: 2021-04-27 07:46:01 +00:00)\n"
     ]
    }
   ],
   "source": [
    "labels = sorted(cv_data.filter(like='fwd').columns)\n",
    "features = cv_data.columns.difference(labels).tolist()"
   ]
  },
  {
   "cell_type": "markdown",
   "metadata": {},
   "source": [
    "### CV Parameters"
   ]
  },
  {
   "cell_type": "markdown",
   "metadata": {},
   "source": [
    "We set five different training lengths from 3 months to 5 years, and two test periods as follows:"
   ]
  },
  {
   "cell_type": "code",
   "execution_count": 29,
   "metadata": {
    "ExecuteTime": {
     "end_time": "2021-02-23T21:03:13.489653Z",
     "start_time": "2021-02-23T21:03:13.487857Z"
    },
    "scrolled": true
   },
   "outputs": [
    {
     "name": "stdout",
     "output_type": "stream",
     "text": [
      "time: 489 µs (started: 2021-04-23 23:12:09 +00:00)\n"
     ]
    }
   ],
   "source": [
    "train_lengths = [5 * YEAR, 3 * YEAR, YEAR, 126, 63]\n",
    "test_lengths = [5, 21]"
   ]
  },
  {
   "cell_type": "markdown",
   "metadata": {},
   "source": [
    "Since linear regression has no hyperparameters, our CV parameters are the cartesian product of prediction horizon and train/test period lengths:"
   ]
  },
  {
   "cell_type": "code",
   "execution_count": 30,
   "metadata": {
    "ExecuteTime": {
     "end_time": "2021-02-23T21:03:13.862028Z",
     "start_time": "2021-02-23T21:03:13.860080Z"
    },
    "scrolled": true
   },
   "outputs": [
    {
     "name": "stdout",
     "output_type": "stream",
     "text": [
      "time: 838 µs (started: 2021-04-23 23:12:11 +00:00)\n"
     ]
    }
   ],
   "source": [
    "test_params = list(product(lookaheads, train_lengths, test_lengths))"
   ]
  },
  {
   "cell_type": "markdown",
   "metadata": {},
   "source": [
    "Now we iterate over these parameters and train/validate the linear regression model while capturing the information coefficient of the model predictions, measure both on a daily basis and for each complete fold:"
   ]
  },
  {
   "cell_type": "code",
   "execution_count": 31,
   "metadata": {
    "ExecuteTime": {
     "end_time": "2021-02-23T21:06:13.550374Z",
     "start_time": "2021-02-23T21:03:14.743079Z"
    }
   },
   "outputs": [
    {
     "name": "stderr",
     "output_type": "stream",
     "text": [
      "100%|██████████| 40/40 [04:54<00:00,  7.36s/it]"
     ]
    },
    {
     "name": "stdout",
     "output_type": "stream",
     "text": [
      "time: 4min 54s (started: 2021-04-23 23:12:18 +00:00)\n"
     ]
    },
    {
     "name": "stderr",
     "output_type": "stream",
     "text": [
      "\n"
     ]
    }
   ],
   "source": [
    "lr_metrics = []\n",
    "for lookahead, train_length, test_length in tqdm(test_params):\n",
    "    label = f'fwd_ret_{lookahead:02}'\n",
    "    df = cv_data.loc[:, features + [label]].dropna()\n",
    "    X, y = df.drop(label, axis=1), df[label]\n",
    "\n",
    "    n_splits = int(2 * YEAR / test_length)\n",
    "    cv = MultipleTimeSeriesCV(n_splits=n_splits,\n",
    "                              test_period_length=test_length,\n",
    "                              lookahead=lookahead,\n",
    "                              train_period_length=train_length)\n",
    "\n",
    "    ic, preds = [], []\n",
    "    for i, (train_idx, test_idx) in enumerate(cv.split(X=X)):\n",
    "        X_train, y_train = X.iloc[train_idx], y.iloc[train_idx]\n",
    "        X_test, y_test = X.iloc[test_idx], y.iloc[test_idx]\n",
    "        lr.fit(X_train, y_train)\n",
    "        y_pred = lr.predict(X_test)\n",
    "        preds.append(y_test.to_frame('y_true').assign(y_pred=y_pred))\n",
    "        ic.append(spearmanr(y_test, y_pred)[0])\n",
    "    preds = pd.concat(preds)\n",
    "    lr_metrics.append([\n",
    "        lookahead, train_length, test_length,\n",
    "        np.mean(ic),\n",
    "        spearmanr(preds.y_true, preds.y_pred)[0]\n",
    "    ])\n",
    "\n",
    "columns = ['lookahead', 'train_length', 'test_length', 'ic_by_day', 'ic']\n",
    "lr_metrics = pd.DataFrame(lr_metrics, columns=columns)"
   ]
  },
  {
   "cell_type": "code",
   "execution_count": 32,
   "metadata": {
    "ExecuteTime": {
     "end_time": "2021-02-23T21:06:13.559369Z",
     "start_time": "2021-02-23T21:06:13.551735Z"
    }
   },
   "outputs": [
    {
     "name": "stdout",
     "output_type": "stream",
     "text": [
      "<class 'pandas.core.frame.DataFrame'>\n",
      "RangeIndex: 40 entries, 0 to 39\n",
      "Data columns (total 5 columns):\n",
      " #   Column        Non-Null Count  Dtype  \n",
      "---  ------        --------------  -----  \n",
      " 0   lookahead     40 non-null     int64  \n",
      " 1   train_length  40 non-null     int64  \n",
      " 2   test_length   40 non-null     int64  \n",
      " 3   ic_by_day     40 non-null     float64\n",
      " 4   ic            40 non-null     float64\n",
      "dtypes: float64(2), int64(3)\n",
      "memory usage: 1.7 KB\n",
      "time: 11.1 ms (started: 2021-04-23 23:41:57 +00:00)\n"
     ]
    }
   ],
   "source": [
    "lr_metrics.info()"
   ]
  },
  {
   "cell_type": "markdown",
   "metadata": {},
   "source": [
    "### Information Coefficient distribution by Lookahead"
   ]
  },
  {
   "cell_type": "markdown",
   "metadata": {},
   "source": [
    "Convert the data to long `seaborn`-friendly format:"
   ]
  },
  {
   "cell_type": "code",
   "execution_count": 33,
   "metadata": {
    "ExecuteTime": {
     "end_time": "2021-02-23T21:06:13.581232Z",
     "start_time": "2021-02-23T21:06:13.560493Z"
    }
   },
   "outputs": [
    {
     "name": "stdout",
     "output_type": "stream",
     "text": [
      "<class 'pandas.core.frame.DataFrame'>\n",
      "Int64Index: 80 entries, 0 to 39\n",
      "Data columns (total 5 columns):\n",
      " #   Column        Non-Null Count  Dtype  \n",
      "---  ------        --------------  -----  \n",
      " 0   Lookahead     80 non-null     int64  \n",
      " 1   Train Length  80 non-null     int64  \n",
      " 2   Test Length   80 non-null     int64  \n",
      " 3   IC            80 non-null     float64\n",
      " 4   Measure       80 non-null     object \n",
      "dtypes: float64(1), int64(3), object(1)\n",
      "memory usage: 3.8+ KB\n",
      "time: 20.7 ms (started: 2021-04-23 23:42:13 +00:00)\n"
     ]
    }
   ],
   "source": [
    "lr_metrics_long = pd.concat([(lr_metrics.drop('ic', axis=1)\n",
    "                              .rename(columns={'ic_by_day': 'ic'})\n",
    "                              .assign(Measured='By Day')),\n",
    "                             lr_metrics.drop('ic_by_day', axis=1)\n",
    "                             .assign(Measured='Overall')])\n",
    "lr_metrics_long.columns=['Lookahead', 'Train Length', 'Test Length', 'IC', 'Measure']\n",
    "lr_metrics_long.info()"
   ]
  },
  {
   "cell_type": "markdown",
   "metadata": {},
   "source": [
    "Plot both IC measures for the various CV parameters:"
   ]
  },
  {
   "cell_type": "code",
   "execution_count": 34,
   "metadata": {
    "ExecuteTime": {
     "end_time": "2021-02-23T21:06:14.939908Z",
     "start_time": "2021-02-23T21:06:13.694370Z"
    }
   },
   "outputs": [
    {
     "data": {
      "text/plain": [
       "<seaborn.axisgrid.FacetGrid at 0x7f46cd126310>"
      ]
     },
     "execution_count": 34,
     "metadata": {},
     "output_type": "execute_result"
    },
    {
     "data": {
      "image/png": "[encoded data removed]",
      "text/plain": [
       "<Figure size 1505.12x720 with 8 Axes>"
      ]
     },
     "metadata": {
      "needs_background": "light"
     },
     "output_type": "display_data"
    },
    {
     "name": "stdout",
     "output_type": "stream",
     "text": [
      "time: 1.94 s (started: 2021-04-23 23:42:18 +00:00)\n"
     ]
    }
   ],
   "source": [
    "sns.catplot(x='Train Length',\n",
    "            y='IC',\n",
    "            hue='Test Length',\n",
    "            col='Lookahead',\n",
    "            row='Measure',\n",
    "            data=lr_metrics_long,\n",
    "            kind='bar')"
   ]
  },
  {
   "cell_type": "markdown",
   "metadata": {},
   "source": [
    "Compare the distributions of each IC metric for the different prediction horizons:"
   ]
  },
  {
   "cell_type": "code",
   "execution_count": 35,
   "metadata": {
    "ExecuteTime": {
     "end_time": "2021-02-23T21:06:21.531611Z",
     "start_time": "2021-02-23T21:06:21.262501Z"
    }
   },
   "outputs": [
    {
     "data": {
      "image/png": "[encoded data removed]",
      "text/plain": [
       "<Figure size 1008x360 with 2 Axes>"
      ]
     },
     "metadata": {
      "needs_background": "light"
     },
     "output_type": "display_data"
    },
    {
     "name": "stdout",
     "output_type": "stream",
     "text": [
      "time: 512 ms (started: 2021-04-23 23:43:37 +00:00)\n"
     ]
    }
   ],
   "source": [
    "fig, axes =plt.subplots(ncols=2, figsize=(14,5), sharey=True)\n",
    "sns.boxplot(x='lookahead', y='ic_by_day',data=lr_metrics, ax=axes[0])\n",
    "axes[0].set_title('IC by Day')\n",
    "sns.boxplot(x='lookahead', y='ic',data=lr_metrics, ax=axes[1])\n",
    "axes[1].set_title('IC Overall')\n",
    "axes[0].set_ylabel('Information Coefficient')\n",
    "axes[1].set_ylabel('')\n",
    "sns.despine()\n",
    "fig.tight_layout()"
   ]
  },
  {
   "cell_type": "markdown",
   "metadata": {},
   "source": [
    "### Best Train/Test Period Lengths"
   ]
  },
  {
   "cell_type": "markdown",
   "metadata": {},
   "source": [
    "Show the best train/test period settings for the four prediction horizons:"
   ]
  },
  {
   "cell_type": "code",
   "execution_count": 36,
   "metadata": {
    "ExecuteTime": {
     "end_time": "2021-02-23T21:06:38.980665Z",
     "start_time": "2021-02-23T21:06:38.968811Z"
    }
   },
   "outputs": [
    {
     "data": {
      "text/html": [
       "<div>\n",
       "<style scoped>\n",
       "    .dataframe tbody tr th:only-of-type {\n",
       "        vertical-align: middle;\n",
       "    }\n",
       "\n",
       "    .dataframe tbody tr th {\n",
       "        vertical-align: top;\n",
       "    }\n",
       "\n",
       "    .dataframe thead th {\n",
       "        text-align: right;\n",
       "    }\n",
       "</style>\n",
       "<table border=\"1\" class=\"dataframe\">\n",
       "  <thead>\n",
       "    <tr style=\"text-align: right;\">\n",
       "      <th></th>\n",
       "      <th>lookahead</th>\n",
       "      <th>train_length</th>\n",
       "      <th>test_length</th>\n",
       "      <th>ic_by_day</th>\n",
       "      <th>ic</th>\n",
       "    </tr>\n",
       "  </thead>\n",
       "  <tbody>\n",
       "    <tr>\n",
       "      <th>9</th>\n",
       "      <td>1</td>\n",
       "      <td>63</td>\n",
       "      <td>21</td>\n",
       "      <td>0.033615</td>\n",
       "      <td>0.037822</td>\n",
       "    </tr>\n",
       "    <tr>\n",
       "      <th>7</th>\n",
       "      <td>1</td>\n",
       "      <td>126</td>\n",
       "      <td>21</td>\n",
       "      <td>0.015814</td>\n",
       "      <td>0.037618</td>\n",
       "    </tr>\n",
       "    <tr>\n",
       "      <th>5</th>\n",
       "      <td>1</td>\n",
       "      <td>252</td>\n",
       "      <td>21</td>\n",
       "      <td>0.042732</td>\n",
       "      <td>0.031847</td>\n",
       "    </tr>\n",
       "    <tr>\n",
       "      <th>19</th>\n",
       "      <td>5</td>\n",
       "      <td>63</td>\n",
       "      <td>21</td>\n",
       "      <td>0.148540</td>\n",
       "      <td>0.110126</td>\n",
       "    </tr>\n",
       "    <tr>\n",
       "      <th>17</th>\n",
       "      <td>5</td>\n",
       "      <td>126</td>\n",
       "      <td>21</td>\n",
       "      <td>0.115812</td>\n",
       "      <td>0.101829</td>\n",
       "    </tr>\n",
       "    <tr>\n",
       "      <th>16</th>\n",
       "      <td>5</td>\n",
       "      <td>126</td>\n",
       "      <td>5</td>\n",
       "      <td>0.114283</td>\n",
       "      <td>0.074268</td>\n",
       "    </tr>\n",
       "    <tr>\n",
       "      <th>26</th>\n",
       "      <td>10</td>\n",
       "      <td>126</td>\n",
       "      <td>5</td>\n",
       "      <td>0.098941</td>\n",
       "      <td>0.140911</td>\n",
       "    </tr>\n",
       "    <tr>\n",
       "      <th>27</th>\n",
       "      <td>10</td>\n",
       "      <td>126</td>\n",
       "      <td>21</td>\n",
       "      <td>0.158797</td>\n",
       "      <td>0.138540</td>\n",
       "    </tr>\n",
       "    <tr>\n",
       "      <th>28</th>\n",
       "      <td>10</td>\n",
       "      <td>63</td>\n",
       "      <td>5</td>\n",
       "      <td>0.080264</td>\n",
       "      <td>0.122674</td>\n",
       "    </tr>\n",
       "    <tr>\n",
       "      <th>39</th>\n",
       "      <td>21</td>\n",
       "      <td>63</td>\n",
       "      <td>21</td>\n",
       "      <td>0.174340</td>\n",
       "      <td>0.163393</td>\n",
       "    </tr>\n",
       "    <tr>\n",
       "      <th>38</th>\n",
       "      <td>21</td>\n",
       "      <td>63</td>\n",
       "      <td>5</td>\n",
       "      <td>0.071355</td>\n",
       "      <td>0.116145</td>\n",
       "    </tr>\n",
       "    <tr>\n",
       "      <th>37</th>\n",
       "      <td>21</td>\n",
       "      <td>126</td>\n",
       "      <td>21</td>\n",
       "      <td>0.162746</td>\n",
       "      <td>0.114384</td>\n",
       "    </tr>\n",
       "  </tbody>\n",
       "</table>\n",
       "</div>"
      ],
      "text/plain": [
       "    lookahead  train_length  test_length  ic_by_day        ic\n",
       "9           1            63           21   0.033615  0.037822\n",
       "7           1           126           21   0.015814  0.037618\n",
       "5           1           252           21   0.042732  0.031847\n",
       "19          5            63           21   0.148540  0.110126\n",
       "17          5           126           21   0.115812  0.101829\n",
       "16          5           126            5   0.114283  0.074268\n",
       "26         10           126            5   0.098941  0.140911\n",
       "27         10           126           21   0.158797  0.138540\n",
       "28         10            63            5   0.080264  0.122674\n",
       "39         21            63           21   0.174340  0.163393\n",
       "38         21            63            5   0.071355  0.116145\n",
       "37         21           126           21   0.162746  0.114384"
      ]
     },
     "execution_count": 36,
     "metadata": {},
     "output_type": "execute_result"
    },
    {
     "name": "stdout",
     "output_type": "stream",
     "text": [
      "time: 33.2 ms (started: 2021-04-23 23:44:10 +00:00)\n"
     ]
    }
   ],
   "source": [
    "(lr_metrics.groupby('lookahead', group_keys=False)\n",
    " .apply(lambda x: x.nlargest(3, 'ic')))"
   ]
  },
  {
   "cell_type": "code",
   "execution_count": 38,
   "metadata": {
    "ExecuteTime": {
     "end_time": "2021-02-23T21:06:39.692899Z",
     "start_time": "2021-02-23T21:06:39.687816Z"
    }
   },
   "outputs": [
    {
     "name": "stdout",
     "output_type": "stream",
     "text": [
      "time: 28.1 ms (started: 2021-04-23 23:45:05 +00:00)\n"
     ]
    }
   ],
   "source": [
    "lr_metrics.to_csv(results_path / 'lin_reg_performance.csv', index=False)"
   ]
  },
  {
   "cell_type": "markdown",
   "metadata": {},
   "source": [
    "## LightGBM Random Forest Model Tuning"
   ]
  },
  {
   "cell_type": "markdown",
   "metadata": {},
   "source": [
    "Helper function to obtain the LightGBM feature importance metrics:"
   ]
  },
  {
   "cell_type": "code",
   "execution_count": 17,
   "metadata": {
    "ExecuteTime": {
     "end_time": "2021-02-23T21:06:42.973574Z",
     "start_time": "2021-02-23T21:06:42.971491Z"
    }
   },
   "outputs": [
    {
     "name": "stdout",
     "output_type": "stream",
     "text": [
      "time: 505 µs (started: 2021-04-24 00:29:18 +00:00)\n"
     ]
    }
   ],
   "source": [
    "def get_fi(model):\n",
    "    fi = model.feature_importance(importance_type='gain')\n",
    "    return (pd.Series(fi / fi.sum(),\n",
    "                      index=model.feature_name()))"
   ]
  },
  {
   "cell_type": "markdown",
   "metadata": {},
   "source": [
    "LightGBM base parameter settings that are independent of hyperparameter tuning:"
   ]
  },
  {
   "cell_type": "code",
   "execution_count": 18,
   "metadata": {
    "ExecuteTime": {
     "end_time": "2021-02-23T21:06:43.275439Z",
     "start_time": "2021-02-23T21:06:43.273605Z"
    },
    "scrolled": true
   },
   "outputs": [
    {
     "name": "stdout",
     "output_type": "stream",
     "text": [
      "# of cpus: 8\n",
      "time: 725 µs (started: 2021-04-24 00:29:20 +00:00)\n"
     ]
    }
   ],
   "source": [
    "cpu_count = os.cpu_count()\n",
    "print('# of cpus:', cpu_count)\n",
    "\n",
    "base_params = dict(boosting_type='rf',\n",
    "                   objective='regression',\n",
    "                   bagging_freq=1,\n",
    "                   n_jobs=cpu_count,\n",
    "                   verbose=-1)"
   ]
  },
  {
   "cell_type": "markdown",
   "metadata": {},
   "source": [
    "### Hyperparameter Options"
   ]
  },
  {
   "cell_type": "markdown",
   "metadata": {},
   "source": [
    "We run this experiment with different parameters for the bagging and feature fractions that determine the degree of randomization as well as the minimum number of samples for a split to control overfitting:"
   ]
  },
  {
   "cell_type": "code",
   "execution_count": 19,
   "metadata": {
    "ExecuteTime": {
     "end_time": "2021-02-23T21:06:43.723643Z",
     "start_time": "2021-02-23T21:06:43.721635Z"
    },
    "scrolled": true
   },
   "outputs": [
    {
     "name": "stdout",
     "output_type": "stream",
     "text": [
      "time: 476 µs (started: 2021-04-24 00:29:22 +00:00)\n"
     ]
    }
   ],
   "source": [
    "bagging_fraction_opts = [.5, .75, .95]\n",
    "feature_fraction_opts = [.75, .95]\n",
    "min_data_in_leaf_opts = [250, 500, 1000]"
   ]
  },
  {
   "cell_type": "markdown",
   "metadata": {},
   "source": [
    "This gives us 3x2x3=18 parameter combinations:"
   ]
  },
  {
   "cell_type": "code",
   "execution_count": 20,
   "metadata": {
    "ExecuteTime": {
     "end_time": "2021-02-23T21:06:44.011435Z",
     "start_time": "2021-02-23T21:06:44.008386Z"
    },
    "scrolled": true
   },
   "outputs": [
    {
     "data": {
      "text/plain": [
       "18"
      ]
     },
     "execution_count": 20,
     "metadata": {},
     "output_type": "execute_result"
    },
    {
     "name": "stdout",
     "output_type": "stream",
     "text": [
      "time: 2.69 ms (started: 2021-04-24 00:29:27 +00:00)\n"
     ]
    }
   ],
   "source": [
    "cv_params = list(product(bagging_fraction_opts,\n",
    "                         feature_fraction_opts,\n",
    "                         min_data_in_leaf_opts))\n",
    "n_cv_params = len(cv_params)\n",
    "n_cv_params"
   ]
  },
  {
   "cell_type": "markdown",
   "metadata": {},
   "source": [
    "#### Random Sample"
   ]
  },
  {
   "cell_type": "markdown",
   "metadata": {},
   "source": [
    "To limit the running time, we can randomly sample a subset of the parameter combinations (here: 50%):"
   ]
  },
  {
   "cell_type": "code",
   "execution_count": 21,
   "metadata": {
    "ExecuteTime": {
     "end_time": "2021-02-23T21:06:47.930930Z",
     "start_time": "2021-02-23T21:06:47.927983Z"
    }
   },
   "outputs": [
    {
     "name": "stdout",
     "output_type": "stream",
     "text": [
      "# CV parameters: 9\n",
      "time: 2.77 ms (started: 2021-04-24 00:29:29 +00:00)\n"
     ]
    }
   ],
   "source": [
    "sample_proportion = .5\n",
    "sample_size = int(sample_proportion * n_cv_params)\n",
    "\n",
    "cv_param_sample = np.random.choice(list(range(n_cv_params)), \n",
    "                                     size=int(sample_size), \n",
    "                                     replace=False)\n",
    "cv_params_ = [cv_params[i] for i in cv_param_sample]\n",
    "print('# CV parameters:', len(cv_params_))"
   ]
  },
  {
   "cell_type": "markdown",
   "metadata": {},
   "source": [
    "We tune the number of trees by evaluating a fully grown forest for various smaller sizes:"
   ]
  },
  {
   "cell_type": "code",
   "execution_count": 22,
   "metadata": {
    "ExecuteTime": {
     "end_time": "2021-02-23T21:06:55.150158Z",
     "start_time": "2021-02-23T21:06:55.148138Z"
    },
    "scrolled": true
   },
   "outputs": [
    {
     "name": "stdout",
     "output_type": "stream",
     "text": [
      "time: 521 µs (started: 2021-04-24 00:29:31 +00:00)\n"
     ]
    }
   ],
   "source": [
    "num_iterations = [25] + list(range(50, 501, 25))\n",
    "num_boost_round = num_iterations[-1]"
   ]
  },
  {
   "cell_type": "markdown",
   "metadata": {},
   "source": [
    "### Train/Test Period Lenghts"
   ]
  },
  {
   "cell_type": "markdown",
   "metadata": {},
   "source": [
    "As above for linear regression, we define a range of train/test period length:"
   ]
  },
  {
   "cell_type": "markdown",
   "metadata": {},
   "source": [
    "#### Define parameters"
   ]
  },
  {
   "cell_type": "code",
   "execution_count": 23,
   "metadata": {
    "ExecuteTime": {
     "end_time": "2021-02-23T21:06:58.294789Z",
     "start_time": "2021-02-23T21:06:58.292755Z"
    },
    "scrolled": true
   },
   "outputs": [
    {
     "name": "stdout",
     "output_type": "stream",
     "text": [
      "time: 527 µs (started: 2021-04-24 00:29:35 +00:00)\n"
     ]
    }
   ],
   "source": [
    "train_lengths = [5 * YEAR, 3 * YEAR, YEAR, 126, 63]\n",
    "test_lengths = [5, 21]\n",
    "val_lengths = 2 * YEAR"
   ]
  },
  {
   "cell_type": "code",
   "execution_count": 24,
   "metadata": {
    "ExecuteTime": {
     "end_time": "2021-02-23T21:06:58.593988Z",
     "start_time": "2021-02-23T21:06:58.592185Z"
    }
   },
   "outputs": [
    {
     "name": "stdout",
     "output_type": "stream",
     "text": [
      "time: 450 µs (started: 2021-04-24 00:29:36 +00:00)\n"
     ]
    }
   ],
   "source": [
    "test_params = list(product(train_lengths, test_lengths))\n",
    "n_test_params = len(test_params)"
   ]
  },
  {
   "cell_type": "markdown",
   "metadata": {},
   "source": [
    "#### Random sample"
   ]
  },
  {
   "cell_type": "markdown",
   "metadata": {},
   "source": [
    "Just as for the model parameters, we can randomly sample from the 5 x 2 = 8 training configurations (here: 50%):"
   ]
  },
  {
   "cell_type": "code",
   "execution_count": 25,
   "metadata": {
    "ExecuteTime": {
     "end_time": "2021-02-23T21:07:03.099343Z",
     "start_time": "2021-02-23T21:07:03.096099Z"
    }
   },
   "outputs": [
    {
     "name": "stdout",
     "output_type": "stream",
     "text": [
      "Train configs: 10\n",
      "CV Iterations: 90\n",
      "time: 1.21 ms (started: 2021-04-24 00:29:38 +00:00)\n"
     ]
    }
   ],
   "source": [
    "sample_proportion = 0.5\n",
    "sample_size = int(sample_proportion * n_test_params)\n",
    "\n",
    "test_param_sample = np.random.choice(list(range(n_test_params)), \n",
    "                                     size=int(sample_size), \n",
    "                                     replace=False)\n",
    "test_params_ = [test_params[i] for i in test_param_sample]\n",
    "print('Train configs:', len(test_params_))\n",
    "print('CV Iterations:', len(cv_params_) * len(test_params_))"
   ]
  },
  {
   "cell_type": "markdown",
   "metadata": {},
   "source": [
    "### Categorical Variables"
   ]
  },
  {
   "cell_type": "markdown",
   "metadata": {},
   "source": [
    "To leverage LightGBM's ability to handle categorical variables, we need to define them; we'll also `factorize` them so they are both integer-encoded and start at zero (optional, but otherwise throws a warning) as expected by LightGBM:"
   ]
  },
  {
   "cell_type": "code",
   "execution_count": 26,
   "metadata": {
    "ExecuteTime": {
     "end_time": "2021-02-23T21:07:13.475533Z",
     "start_time": "2021-02-23T21:07:13.416092Z"
    },
    "scrolled": true
   },
   "outputs": [
    {
     "name": "stdout",
     "output_type": "stream",
     "text": [
      "time: 99.1 ms (started: 2021-04-24 00:29:40 +00:00)\n"
     ]
    }
   ],
   "source": [
    "cv_data = (pd.read_csv(path_data / 'stooq_japan_equities_cv_data.csv' , parse_dates=['date'])\n",
    "             .set_index(['ticker','date'])\n",
    "             .sort_index(level=['ticker','date'])      \n",
    "          )\n",
    "categoricals = ['year', 'weekday', 'month']\n",
    "for feature in categoricals:\n",
    "    cv_data[feature] = pd.factorize(cv_data[feature], sort=True)[0]"
   ]
  },
  {
   "cell_type": "markdown",
   "metadata": {},
   "source": [
    "### Run Cross-Validation"
   ]
  },
  {
   "cell_type": "markdown",
   "metadata": {},
   "source": [
    "Set up some helper variabels and storage locations to faciliate the CV process and result storage:"
   ]
  },
  {
   "cell_type": "code",
   "execution_count": 27,
   "metadata": {
    "ExecuteTime": {
     "end_time": "2021-02-23T21:07:19.937133Z",
     "start_time": "2021-02-23T21:07:19.932175Z"
    },
    "scrolled": true
   },
   "outputs": [
    {
     "name": "stdout",
     "output_type": "stream",
     "text": [
      "time: 5.25 ms (started: 2021-04-24 00:29:44 +00:00)\n"
     ]
    }
   ],
   "source": [
    "labels = sorted(cv_data.filter(like='fwd').columns)\n",
    "features = cv_data.columns.difference(labels).tolist()"
   ]
  },
  {
   "cell_type": "code",
   "execution_count": 28,
   "metadata": {
    "ExecuteTime": {
     "end_time": "2021-02-23T21:07:20.139982Z",
     "start_time": "2021-02-23T21:07:20.138149Z"
    },
    "scrolled": true
   },
   "outputs": [
    {
     "name": "stdout",
     "output_type": "stream",
     "text": [
      "time: 414 µs (started: 2021-04-24 00:29:45 +00:00)\n"
     ]
    }
   ],
   "source": [
    "label_dict = dict(zip(lookaheads, labels))"
   ]
  },
  {
   "cell_type": "code",
   "execution_count": 29,
   "metadata": {
    "ExecuteTime": {
     "end_time": "2021-02-23T21:07:20.542696Z",
     "start_time": "2021-02-23T21:07:20.540238Z"
    }
   },
   "outputs": [
    {
     "name": "stdout",
     "output_type": "stream",
     "text": [
      "time: 475 µs (started: 2021-04-24 00:29:46 +00:00)\n"
     ]
    }
   ],
   "source": [
    "ic_cols = ['bagging_fraction',\n",
    "           'feature_fraction',\n",
    "           'min_data_in_leaf',\n",
    "           't'] + [str(n) for n in num_iterations]"
   ]
  },
  {
   "cell_type": "markdown",
   "metadata": {},
   "source": [
    "Now we take the following steps:\n",
    "- we iterate over the prediction horizons and train/test period length, \n",
    "- set up the `MultipleTimeSeriesCV` accordingly\n",
    "- create the binary LightGBM dataset with the appropriate target, and\n",
    "- iterate over the model hyperparamters to train and validate the model while capturing the relevant performance metrics:"
   ]
  },
  {
   "cell_type": "code",
   "execution_count": 30,
   "metadata": {
    "ExecuteTime": {
     "end_time": "2020-06-20T13:37:54.346461Z",
     "start_time": "2020-06-20T04:04:55.813656Z"
    },
    "collapsed": true,
    "jupyter": {
     "outputs_hidden": true
    }
   },
   "outputs": [
    {
     "name": "stdout",
     "output_type": "stream",
     "text": [
      "Lookahead:  1 | Train:  63 | Test: 21 | Params:   9\n",
      "  0 | 00:01:40 | 50% | 75% |   250 |  2.01% |  1.14% |  0.99%\n",
      "  1 | 00:03:30 | 50% | 75% |   500 |  1.90% |  1.23% |  1.38%\n",
      "  2 | 00:05:02 | 75% | 75% | 1,000 |  1.97% |  1.29% |  1.12%\n",
      "  3 | 00:06:27 | 50% | 95% | 1,000 |  2.37% |  1.29% |  1.32%\n",
      "  4 | 00:07:60 | 50% | 95% |   250 |  2.62% |  0.92% |  0.85%\n",
      "  5 | 00:09:30 | 95% | 75% |   500 |  2.07% |  0.86% |  0.99%\n",
      "  6 | 00:10:59 | 95% | 95% |   500 |  2.59% |  0.82% |  0.08%\n",
      "  7 | 00:12:27 | 95% | 95% |   250 |  2.16% |  0.74% |  0.17%\n",
      "  8 | 00:13:57 | 75% | 95% | 1,000 |  2.44% |  1.18% |  0.44%\n",
      "Lookahead:  1 | Train: 756 | Test:  5 | Params:   9\n",
      "  0 | 00:20:19 | 50% | 75% |   250 |  1.56% |  0.98% |  0.75%\n",
      "  1 | 00:40:47 | 50% | 75% |   500 |  1.67% |  1.08% |  0.97%\n",
      "  2 | 00:58:25 | 75% | 75% | 1,000 |  1.93% |  1.14% |  1.15%\n",
      "  3 | 01:20:09 | 50% | 95% | 1,000 |  2.11% |  0.91% |  0.56%\n",
      "  4 | 01:40:38 | 50% | 95% |   250 |  1.94% |  1.01% |  0.91%\n",
      "  5 | 01:58:11 | 95% | 75% |   500 |  1.27% |  1.10% |  1.33%\n",
      "  6 | 02:16:02 | 95% | 95% |   500 |  1.14% |  1.05% |  1.13%\n",
      "  7 | 02:33:57 | 95% | 95% |   250 |  0.91% |  1.15% |  1.27%\n",
      "  8 | 02:51:49 | 75% | 95% | 1,000 |  1.62% |  1.01% |  0.68%\n",
      "Lookahead:  1 | Train: 1260 | Test:  5 | Params:   9\n",
      "  0 | 00:30:44 | 50% | 75% |   250 |  3.89% |  0.06% |  0.06%\n",
      "  1 | 01:02:25 | 50% | 75% |   500 |  4.15% |  0.12% | -0.17%\n",
      "  2 | 01:28:29 | 75% | 75% | 1,000 |  4.08% |  0.15% | -0.33%\n",
      "  3 | 02:01:48 | 50% | 95% | 1,000 |  3.55% |  0.09% | -0.25%\n",
      "  4 | 02:32:53 | 50% | 95% |   250 |  3.56% |  0.08% |  0.13%\n",
      "  5 | 02:59:00 | 95% | 75% |   500 |  4.45% |  0.27% |  0.07%\n",
      "  6 | 03:25:21 | 95% | 95% |   500 |  4.55% |  0.31% |  0.29%\n",
      "  7 | 03:51:19 | 95% | 95% |   250 |  4.51% |  0.36% |  0.58%\n",
      "  8 | 04:16:42 | 75% | 95% | 1,000 |  4.79% |  0.32% |  0.12%\n",
      "Lookahead:  1 | Train: 126 | Test:  5 | Params:   9\n",
      "  0 | 00:05:12 | 50% | 75% |   250 |  3.44% |  1.02% |  1.26%\n",
      "  1 | 00:10:25 | 50% | 75% |   500 |  2.93% |  0.89% |  0.88%\n",
      "  2 | 00:15:16 | 75% | 75% | 1,000 |  2.42% |  0.98% |  0.89%\n",
      "  3 | 00:20:53 | 50% | 95% | 1,000 |  2.64% |  0.80% |  0.51%\n",
      "  4 | 00:26:23 | 50% | 95% |   250 |  3.53% |  0.78% |  0.86%\n",
      "  5 | 00:31:18 | 95% | 75% |   500 |  3.20% |  1.05% |  1.55%\n",
      "  6 | 00:36:32 | 95% | 95% |   500 |  3.33% |  0.82% |  1.14%\n",
      "  7 | 00:41:47 | 95% | 95% |   250 |  3.39% |  1.23% |  1.49%\n",
      "  8 | 00:46:53 | 75% | 95% | 1,000 |  2.43% |  0.88% |  0.67%\n",
      "Lookahead:  1 | Train:  63 | Test:  5 | Params:   9\n",
      "  0 | 00:03:44 | 50% | 75% |   250 |  2.65% |  0.89% |  0.66%\n",
      "  1 | 00:07:25 | 50% | 75% |   500 |  2.82% |  0.97% |  0.81%\n",
      "  2 | 00:10:52 | 75% | 75% | 1,000 |  2.67% |  1.08% |  0.76%\n",
      "  3 | 00:14:12 | 50% | 95% | 1,000 |  3.04% |  1.33% |  0.74%\n",
      "  4 | 00:18:02 | 50% | 95% |   250 |  2.78% |  0.77% |  0.75%\n",
      "  5 | 00:21:35 | 95% | 75% |   500 |  2.42% |  1.14% |  1.08%\n",
      "  6 | 00:25:16 | 95% | 95% |   500 |  2.47% |  1.26% |  1.24%\n",
      "  7 | 00:28:55 | 95% | 95% |   250 |  2.43% |  1.35% |  1.23%\n",
      "  8 | 00:32:25 | 75% | 95% | 1,000 |  3.04% |  0.99% |  0.60%\n",
      "Lookahead:  1 | Train: 252 | Test: 21 | Params:   9\n",
      "  0 | 00:02:38 | 50% | 75% |   250 |  2.18% |  1.14% |  1.51%\n",
      "  1 | 00:05:19 | 50% | 75% |   500 |  1.84% |  1.03% |  1.92%\n",
      "  2 | 00:07:51 | 75% | 75% | 1,000 |  2.11% |  1.06% |  1.50%\n",
      "  3 | 00:10:47 | 50% | 95% | 1,000 |  2.21% |  1.17% |  1.62%\n",
      "  4 | 00:13:31 | 50% | 95% |   250 |  2.75% |  0.98% |  1.42%\n",
      "  5 | 00:15:57 | 95% | 75% |   500 |  2.80% |  1.29% |  2.02%\n",
      "  6 | 00:18:23 | 95% | 95% |   500 |  3.29% |  0.94% |  1.34%\n",
      "  7 | 00:20:51 | 95% | 95% |   250 |  3.49% |  1.10% |  1.44%\n",
      "  8 | 00:23:22 | 75% | 95% | 1,000 |  2.49% |  0.95% |  1.11%\n",
      "Lookahead:  1 | Train: 756 | Test: 21 | Params:   9\n",
      "  0 | 00:05:17 | 50% | 75% |   250 |  2.46% |  1.09% |  1.28%\n",
      "  1 | 00:10:56 | 50% | 75% |   500 |  2.83% |  1.08% |  1.13%\n",
      "  2 | 00:15:41 | 75% | 75% | 1,000 |  2.62% |  1.09% |  1.17%\n",
      "  3 | 00:21:22 | 50% | 95% | 1,000 |  1.81% |  1.14% |  0.97%\n",
      "  4 | 00:26:49 | 50% | 95% |   250 |  1.02% |  0.69% |  0.81%\n",
      "  5 | 00:31:32 | 95% | 75% |   500 |  1.33% |  1.13% |  1.58%\n",
      "  6 | 00:36:10 | 95% | 95% |   500 | -0.26% |  1.05% |  1.08%\n",
      "  7 | 00:40:46 | 95% | 95% |   250 | -0.50% |  1.06% |  1.20%\n",
      "  8 | 00:45:27 | 75% | 95% | 1,000 |  1.35% |  0.94% |  0.90%\n",
      "Lookahead:  1 | Train: 126 | Test: 21 | Params:   9\n",
      "  0 | 00:01:55 | 50% | 75% |   250 |  1.40% |  1.12% |  1.15%\n",
      "  1 | 00:03:52 | 50% | 75% |   500 |  1.94% |  1.08% |  1.58%\n",
      "  2 | 00:05:43 | 75% | 75% | 1,000 |  1.47% |  0.93% |  1.33%\n",
      "  3 | 00:07:43 | 50% | 95% | 1,000 |  2.29% |  0.99% |  1.31%\n",
      "  4 | 00:09:41 | 50% | 95% |   250 |  1.53% |  0.72% |  0.85%\n",
      "  5 | 00:11:29 | 95% | 75% |   500 |  0.74% |  0.99% |  0.83%\n",
      "  6 | 00:13:19 | 95% | 95% |   500 |  0.85% |  0.59% |  0.65%\n",
      "  7 | 00:15:08 | 95% | 95% |   250 |  0.95% |  0.72% |  0.45%\n",
      "  8 | 00:16:59 | 75% | 95% | 1,000 |  1.69% |  0.50% |  0.66%\n",
      "Lookahead:  1 | Train: 1260 | Test: 21 | Params:   9\n",
      "  0 | 00:07:54 | 50% | 75% |   250 |  2.60% |  0.05% |  0.07%\n",
      "  1 | 00:15:57 | 50% | 75% |   500 |  2.53% |  0.16% | -0.05%\n",
      "  2 | 00:22:43 | 75% | 75% | 1,000 |  2.78% |  0.18% |  0.17%\n",
      "  3 | 00:31:12 | 50% | 95% | 1,000 |  2.11% |  0.53% |  0.62%\n",
      "  4 | 00:39:09 | 50% | 95% |   250 |  2.21% |  0.23% |  0.13%\n",
      "  5 | 00:45:50 | 95% | 75% |   500 |  2.89% | -0.11% |  0.16%\n",
      "  6 | 00:52:28 | 95% | 95% |   500 |  3.36% |  0.28% |  0.58%\n",
      "  7 | 00:59:03 | 95% | 95% |   250 |  3.42% |  0.15% |  0.03%\n",
      "  8 | 01:05:40 | 75% | 95% | 1,000 |  3.12% |  0.49% |  0.65%\n",
      "Lookahead:  1 | Train: 252 | Test:  5 | Params:   9\n",
      "  0 | 00:08:07 | 50% | 75% |   250 |  1.27% |  0.56% |  0.59%\n",
      "  1 | 00:16:16 | 50% | 75% |   500 |  2.04% |  0.49% |  1.03%\n",
      "  2 | 00:23:42 | 75% | 75% | 1,000 |  1.78% |  0.55% |  1.13%\n",
      "  3 | 00:32:47 | 50% | 95% | 1,000 |  2.30% |  0.63% |  0.91%\n",
      "  4 | 00:41:28 | 50% | 95% |   250 |  1.77% |  0.54% |  0.85%\n",
      "  5 | 00:49:03 | 95% | 75% |   500 |  0.67% |  0.47% |  0.86%\n",
      "  6 | 00:57:06 | 95% | 95% |   500 |  0.91% |  0.26% |  0.46%\n",
      "  7 | 01:05:17 | 95% | 95% |   250 |  0.98% |  0.40% |  0.67%\n",
      "  8 | 01:13:19 | 75% | 95% | 1,000 |  2.02% |  0.64% |  0.79%\n",
      "Lookahead:  5 | Train:  63 | Test: 21 | Params:   9\n",
      "  0 | 00:01:44 | 50% | 75% |   250 | -4.80% | -2.31% | -1.71%\n",
      "  1 | 00:03:28 | 50% | 75% |   500 | -4.98% | -2.32% | -1.75%\n",
      "  2 | 00:05:04 | 75% | 75% | 1,000 | -4.51% | -2.13% | -1.62%\n",
      "  3 | 00:06:29 | 50% | 95% | 1,000 | -5.45% | -2.50% | -2.15%\n",
      "  4 | 00:08:03 | 50% | 95% |   250 | -5.26% | -2.29% | -1.68%\n",
      "  5 | 00:09:38 | 95% | 75% |   500 | -4.50% | -2.00% | -1.56%\n",
      "  6 | 00:11:08 | 95% | 95% |   500 | -4.76% | -1.60% | -1.37%\n",
      "  7 | 00:12:38 | 95% | 95% |   250 | -4.72% | -1.41% | -0.87%\n",
      "  8 | 00:14:08 | 75% | 95% | 1,000 | -5.06% | -1.77% | -1.62%\n",
      "Lookahead:  5 | Train: 756 | Test:  5 | Params:   9\n",
      "  0 | 00:21:40 | 50% | 75% |   250 | -1.12% |  2.15% |  1.90%\n"
     ]
    },
    {
     "ename": "KeyboardInterrupt",
     "evalue": "",
     "output_type": "error",
     "traceback": [
      "\u001b[0;31m---------------------------------------------------------------------------\u001b[0m",
      "\u001b[0;31mKeyboardInterrupt\u001b[0m                         Traceback (most recent call last)",
      "\u001b[0;32m<ipython-input-30-7f852b940de0>\u001b[0m in \u001b[0;36m<module>\u001b[0;34m\u001b[0m\n\u001b[1;32m     38\u001b[0m                                   \u001b[0mnum_boost_round\u001b[0m\u001b[0;34m=\u001b[0m\u001b[0mnum_boost_round\u001b[0m\u001b[0;34m,\u001b[0m\u001b[0;34m\u001b[0m\u001b[0;34m\u001b[0m\u001b[0m\n\u001b[1;32m     39\u001b[0m                                   \u001b[0mcategorical_feature\u001b[0m\u001b[0;34m=\u001b[0m\u001b[0mcategoricals\u001b[0m\u001b[0;34m,\u001b[0m\u001b[0;34m\u001b[0m\u001b[0;34m\u001b[0m\u001b[0m\n\u001b[0;32m---> 40\u001b[0;31m                                   verbose_eval=False)\n\u001b[0m\u001b[1;32m     41\u001b[0m                 \u001b[0;32mif\u001b[0m \u001b[0mi\u001b[0m \u001b[0;34m==\u001b[0m \u001b[0;36m0\u001b[0m\u001b[0;34m:\u001b[0m\u001b[0;34m\u001b[0m\u001b[0;34m\u001b[0m\u001b[0m\n\u001b[1;32m     42\u001b[0m                     \u001b[0mfi\u001b[0m \u001b[0;34m=\u001b[0m \u001b[0mget_fi\u001b[0m\u001b[0;34m(\u001b[0m\u001b[0mmodel\u001b[0m\u001b[0;34m)\u001b[0m\u001b[0;34m.\u001b[0m\u001b[0mto_frame\u001b[0m\u001b[0;34m(\u001b[0m\u001b[0;34m)\u001b[0m\u001b[0;34m\u001b[0m\u001b[0;34m\u001b[0m\u001b[0m\n",
      "\u001b[0;32m/opt/conda/lib/python3.7/site-packages/lightgbm/engine.py\u001b[0m in \u001b[0;36mtrain\u001b[0;34m(params, train_set, num_boost_round, valid_sets, valid_names, fobj, feval, init_model, feature_name, categorical_feature, early_stopping_rounds, evals_result, verbose_eval, learning_rates, keep_training_booster, callbacks)\u001b[0m\n\u001b[1;32m    247\u001b[0m                                     evaluation_result_list=None))\n\u001b[1;32m    248\u001b[0m \u001b[0;34m\u001b[0m\u001b[0m\n\u001b[0;32m--> 249\u001b[0;31m         \u001b[0mbooster\u001b[0m\u001b[0;34m.\u001b[0m\u001b[0mupdate\u001b[0m\u001b[0;34m(\u001b[0m\u001b[0mfobj\u001b[0m\u001b[0;34m=\u001b[0m\u001b[0mfobj\u001b[0m\u001b[0;34m)\u001b[0m\u001b[0;34m\u001b[0m\u001b[0;34m\u001b[0m\u001b[0m\n\u001b[0m\u001b[1;32m    250\u001b[0m \u001b[0;34m\u001b[0m\u001b[0m\n\u001b[1;32m    251\u001b[0m         \u001b[0mevaluation_result_list\u001b[0m \u001b[0;34m=\u001b[0m \u001b[0;34m[\u001b[0m\u001b[0;34m]\u001b[0m\u001b[0;34m\u001b[0m\u001b[0;34m\u001b[0m\u001b[0m\n",
      "\u001b[0;32m/opt/conda/lib/python3.7/site-packages/lightgbm/basic.py\u001b[0m in \u001b[0;36mupdate\u001b[0;34m(self, train_set, fobj)\u001b[0m\n\u001b[1;32m   2643\u001b[0m             _safe_call(_LIB.LGBM_BoosterUpdateOneIter(\n\u001b[1;32m   2644\u001b[0m                 \u001b[0mself\u001b[0m\u001b[0;34m.\u001b[0m\u001b[0mhandle\u001b[0m\u001b[0;34m,\u001b[0m\u001b[0;34m\u001b[0m\u001b[0;34m\u001b[0m\u001b[0m\n\u001b[0;32m-> 2645\u001b[0;31m                 ctypes.byref(is_finished)))\n\u001b[0m\u001b[1;32m   2646\u001b[0m             \u001b[0mself\u001b[0m\u001b[0;34m.\u001b[0m\u001b[0m__is_predicted_cur_iter\u001b[0m \u001b[0;34m=\u001b[0m \u001b[0;34m[\u001b[0m\u001b[0;32mFalse\u001b[0m \u001b[0;32mfor\u001b[0m \u001b[0m_\u001b[0m \u001b[0;32min\u001b[0m \u001b[0mrange\u001b[0m\u001b[0;34m(\u001b[0m\u001b[0mself\u001b[0m\u001b[0;34m.\u001b[0m\u001b[0m__num_dataset\u001b[0m\u001b[0;34m)\u001b[0m\u001b[0;34m]\u001b[0m\u001b[0;34m\u001b[0m\u001b[0;34m\u001b[0m\u001b[0m\n\u001b[1;32m   2647\u001b[0m             \u001b[0;32mreturn\u001b[0m \u001b[0mis_finished\u001b[0m\u001b[0;34m.\u001b[0m\u001b[0mvalue\u001b[0m \u001b[0;34m==\u001b[0m \u001b[0;36m1\u001b[0m\u001b[0;34m\u001b[0m\u001b[0;34m\u001b[0m\u001b[0m\n",
      "\u001b[0;31mKeyboardInterrupt\u001b[0m: "
     ]
    },
    {
     "name": "stdout",
     "output_type": "stream",
     "text": [
      "time: 13h 45min 43s (started: 2021-04-24 00:29:48 +00:00)\n"
     ]
    }
   ],
   "source": [
    "#for lookahead in lookaheads:\n",
    "for lookahead in lookaheads[1:]:\n",
    "    for train_length, test_length in test_params_:\n",
    "        lgb_result = {}\n",
    "        \n",
    "        n_splits = int(val_lengths / test_length)\n",
    "        print(f'Lookahead: {lookahead:2.0f} | Train: {train_length:3.0f} | '\n",
    "              f'Test: {test_length:2.0f} | Params: {len(cv_params_):3.0f}')\n",
    "\n",
    "        cv = MultipleTimeSeriesCV(n_splits=n_splits,\n",
    "                                  test_period_length=test_length,\n",
    "                                  train_period_length=train_length,\n",
    "                                  lookahead=lookahead)\n",
    "\n",
    "        label = label_dict[lookahead]\n",
    "        #outcome_data = data.loc[:, features + [label]].dropna()\n",
    "        outcome_data = cv_data.loc[:, features + [label]].dropna() #TODO\n",
    "\n",
    "        lgb_data = lgb.Dataset(data=outcome_data.drop(label, axis=1),\n",
    "                               label=outcome_data[label],\n",
    "                               categorical_feature=categoricals,\n",
    "                               free_raw_data=False)\n",
    "        predictions, daily_ic, ic, feature_importance = [], [], [], []\n",
    "        key = f'{lookahead}/{train_length}/{test_length}'\n",
    "        T = 0\n",
    "        for p, (bagging_fraction, feature_fraction, min_data_in_leaf) in enumerate(cv_params_):\n",
    "            params = base_params.copy()\n",
    "            params.update(dict(bagging_fraction=bagging_fraction,\n",
    "                               feature_fraction=feature_fraction,\n",
    "                               min_data_in_leaf=min_data_in_leaf))\n",
    "\n",
    "            start = time()\n",
    "            cv_preds, nrounds = [], []\n",
    "            for i, (train_idx, test_idx) in enumerate(cv.split(X=outcome_data)):\n",
    "                #lgb_train = lgb_data.subset(train_idx.tolist()).construct()\n",
    "                #lgb_test = lgb_data.subset(test_idx.tolist()).construct()\n",
    "                lgb_train = lgb_data.subset(train_idx.tolist())\n",
    "                lgb_test = lgb_data.subset(test_idx.tolist())\n",
    "\n",
    "                model = lgb.train(params=params,\n",
    "                                  train_set=lgb_train,\n",
    "                                  num_boost_round=num_boost_round,\n",
    "                                  categorical_feature=categoricals, \n",
    "                                  verbose_eval=False)\n",
    "                if i == 0:\n",
    "                    fi = get_fi(model).to_frame()\n",
    "                else:\n",
    "                    fi[i] = get_fi(model)\n",
    "\n",
    "                test_set = outcome_data.iloc[test_idx, :]\n",
    "                X_test = test_set.loc[:, model.feature_name()]\n",
    "                y_test = test_set.loc[:, label]\n",
    "                y_pred = {str(n): model.predict(X_test, num_iteration=n)\n",
    "                          for n in num_iterations}\n",
    "                cv_preds.append(y_test.to_frame(\n",
    "                    'y_test').assign(**y_pred).assign(i=i))\n",
    "                nrounds.append(model.best_iteration)\n",
    "            feature_importance.append(fi.T.describe().T.assign(bagging_fraction=bagging_fraction,\n",
    "                                                               feature_fraction=feature_fraction,\n",
    "                                                               min_data_in_leaf=min_data_in_leaf))\n",
    "            cv_preds = pd.concat(cv_preds).assign(bagging_fraction=bagging_fraction,\n",
    "                                                  feature_fraction=feature_fraction,\n",
    "                                                  min_data_in_leaf=min_data_in_leaf)\n",
    "\n",
    "            #predictions.append(cv_preds)\n",
    "            by_day = cv_preds.groupby(level='date')\n",
    "            ic_by_day = pd.concat([by_day.apply(lambda x: spearmanr(x.y_test,\n",
    "                                                                    x[str(n)])[0]).to_frame(n)\n",
    "                                   for n in num_iterations], axis=1)\n",
    "\n",
    "            daily_ic.append(ic_by_day.assign(bagging_fraction=bagging_fraction,\n",
    "                                             feature_fraction=feature_fraction,\n",
    "                                             min_data_in_leaf=min_data_in_leaf))\n",
    "\n",
    "            cv_ic = [spearmanr(cv_preds.y_test, cv_preds[str(n)])[0]\n",
    "                  for n in num_iterations]\n",
    "\n",
    "            T += time() - start\n",
    "            ic.append([bagging_fraction, feature_fraction,\n",
    "                       min_data_in_leaf, lookahead] + cv_ic)\n",
    "\n",
    "            msg = f'{p:3.0f} | {format_time(T)} | '\n",
    "            msg += f'{bagging_fraction:3.0%} | {feature_fraction:3.0%} | {min_data_in_leaf:5,.0f} | '\n",
    "            msg += f'{max(cv_ic):6.2%} | {ic_by_day.mean().max(): 6.2%} | {ic_by_day.median().max(): 6.2%}'\n",
    "            print(msg)\n",
    "            \n",
    "        lgb_result['ic/' + key] = pd.DataFrame(ic, columns=ic_cols)\n",
    "        lgb_result['daily_ic/' + key] = pd.concat(daily_ic)\n",
    "        lgb_result['fi/' + key] = pd.concat(feature_importance)\n",
    "        #lgb_result['predictions/' + key] = pd.concat(predictions)\n",
    "        \n",
    "    fname = f'tuning_stooq_jp_rf_{lookahead}'\n",
    "    fname_pickle = fname + '.pickle'\n",
    "    with open(path_result / fname_pickle, 'wb') as handle: # save to data dir\n",
    "        pickle.dump(lgb_result, handle)"
   ]
  },
  {
   "cell_type": "code",
   "execution_count": 65,
   "metadata": {},
   "outputs": [
    {
     "name": "stdout",
     "output_type": "stream",
     "text": [
      "time: 308 ms (started: 2021-04-24 15:25:24 +00:00)\n"
     ]
    }
   ],
   "source": [
    "from os import listdir\n",
    "from os.path import isfile, join\n",
    "onlyfiles = [f for f in listdir(path_result) if isfile(join(path_result, f))]\n",
    "\n",
    "lgb_result = {}\n",
    "for y in ['daily_ic', 'fi', 'ic']:\n",
    "    for x in onlyfiles:\n",
    "        if x.startswith(y):\n",
    "            #print(x, y, x.lstrip(y).rstrip('.csv'))\n",
    "            #print(x, x.replace(y,'').rstrip('.csv'))\n",
    "            \n",
    "            #print(x, x.replace(y,'').rstrip('.csv').replace('_','/'))\n",
    "            #print(x, y + x.replace(y,'').rstrip('.csv').replace('_','/'))\n",
    "            key = y + x.replace(y,'').rstrip('.csv').replace('_','/')\n",
    "            if y == 'daily_ic':\n",
    "                lgb_result[key] = pd.read_csv(path_result / x, index_col=0, parse_dates=['date'])\n",
    "            else:\n",
    "                lgb_result[key] = pd.read_csv(path_result / x, index_col=0)"
   ]
  },
  {
   "cell_type": "code",
   "execution_count": 71,
   "metadata": {},
   "outputs": [
    {
     "data": {
      "text/html": [
       "<div>\n",
       "<style scoped>\n",
       "    .dataframe tbody tr th:only-of-type {\n",
       "        vertical-align: middle;\n",
       "    }\n",
       "\n",
       "    .dataframe tbody tr th {\n",
       "        vertical-align: top;\n",
       "    }\n",
       "\n",
       "    .dataframe thead th {\n",
       "        text-align: right;\n",
       "    }\n",
       "</style>\n",
       "<table border=\"1\" class=\"dataframe\">\n",
       "  <thead>\n",
       "    <tr style=\"text-align: right;\">\n",
       "      <th></th>\n",
       "      <th>count</th>\n",
       "      <th>mean</th>\n",
       "      <th>std</th>\n",
       "      <th>min</th>\n",
       "      <th>25%</th>\n",
       "      <th>50%</th>\n",
       "      <th>75%</th>\n",
       "      <th>max</th>\n",
       "      <th>bagging_fraction</th>\n",
       "      <th>feature_fraction</th>\n",
       "      <th>min_data_in_leaf</th>\n",
       "    </tr>\n",
       "  </thead>\n",
       "  <tbody>\n",
       "    <tr>\n",
       "      <th>NATR</th>\n",
       "      <td>24.0</td>\n",
       "      <td>0.014463</td>\n",
       "      <td>0.006638</td>\n",
       "      <td>0.003306</td>\n",
       "      <td>0.010389</td>\n",
       "      <td>0.015217</td>\n",
       "      <td>0.018291</td>\n",
       "      <td>0.030741</td>\n",
       "      <td>0.50</td>\n",
       "      <td>0.75</td>\n",
       "      <td>250</td>\n",
       "    </tr>\n",
       "    <tr>\n",
       "      <th>PPO</th>\n",
       "      <td>24.0</td>\n",
       "      <td>0.015437</td>\n",
       "      <td>0.005177</td>\n",
       "      <td>0.004860</td>\n",
       "      <td>0.012034</td>\n",
       "      <td>0.015049</td>\n",
       "      <td>0.018089</td>\n",
       "      <td>0.025954</td>\n",
       "      <td>0.50</td>\n",
       "      <td>0.75</td>\n",
       "      <td>250</td>\n",
       "    </tr>\n",
       "    <tr>\n",
       "      <th>RSI</th>\n",
       "      <td>24.0</td>\n",
       "      <td>0.015121</td>\n",
       "      <td>0.006428</td>\n",
       "      <td>0.006182</td>\n",
       "      <td>0.009237</td>\n",
       "      <td>0.012477</td>\n",
       "      <td>0.020294</td>\n",
       "      <td>0.028948</td>\n",
       "      <td>0.50</td>\n",
       "      <td>0.75</td>\n",
       "      <td>250</td>\n",
       "    </tr>\n",
       "    <tr>\n",
       "      <th>bbl</th>\n",
       "      <td>24.0</td>\n",
       "      <td>0.018906</td>\n",
       "      <td>0.005840</td>\n",
       "      <td>0.010410</td>\n",
       "      <td>0.014527</td>\n",
       "      <td>0.019165</td>\n",
       "      <td>0.022755</td>\n",
       "      <td>0.037243</td>\n",
       "      <td>0.50</td>\n",
       "      <td>0.75</td>\n",
       "      <td>250</td>\n",
       "    </tr>\n",
       "    <tr>\n",
       "      <th>bbu</th>\n",
       "      <td>24.0</td>\n",
       "      <td>0.079815</td>\n",
       "      <td>0.018973</td>\n",
       "      <td>0.053604</td>\n",
       "      <td>0.062232</td>\n",
       "      <td>0.078851</td>\n",
       "      <td>0.093362</td>\n",
       "      <td>0.122148</td>\n",
       "      <td>0.50</td>\n",
       "      <td>0.75</td>\n",
       "      <td>250</td>\n",
       "    </tr>\n",
       "    <tr>\n",
       "      <th>...</th>\n",
       "      <td>...</td>\n",
       "      <td>...</td>\n",
       "      <td>...</td>\n",
       "      <td>...</td>\n",
       "      <td>...</td>\n",
       "      <td>...</td>\n",
       "      <td>...</td>\n",
       "      <td>...</td>\n",
       "      <td>...</td>\n",
       "      <td>...</td>\n",
       "      <td>...</td>\n",
       "    </tr>\n",
       "    <tr>\n",
       "      <th>ret_rel_perc_21</th>\n",
       "      <td>24.0</td>\n",
       "      <td>0.014729</td>\n",
       "      <td>0.014215</td>\n",
       "      <td>0.001176</td>\n",
       "      <td>0.002483</td>\n",
       "      <td>0.012273</td>\n",
       "      <td>0.022925</td>\n",
       "      <td>0.060076</td>\n",
       "      <td>0.75</td>\n",
       "      <td>0.95</td>\n",
       "      <td>1000</td>\n",
       "    </tr>\n",
       "    <tr>\n",
       "      <th>ret_rel_perc_5</th>\n",
       "      <td>24.0</td>\n",
       "      <td>0.014567</td>\n",
       "      <td>0.016612</td>\n",
       "      <td>0.000230</td>\n",
       "      <td>0.002375</td>\n",
       "      <td>0.009008</td>\n",
       "      <td>0.018609</td>\n",
       "      <td>0.057985</td>\n",
       "      <td>0.75</td>\n",
       "      <td>0.95</td>\n",
       "      <td>1000</td>\n",
       "    </tr>\n",
       "    <tr>\n",
       "      <th>ret_rel_perc_63</th>\n",
       "      <td>24.0</td>\n",
       "      <td>0.000245</td>\n",
       "      <td>0.000246</td>\n",
       "      <td>0.000000</td>\n",
       "      <td>0.000063</td>\n",
       "      <td>0.000168</td>\n",
       "      <td>0.000356</td>\n",
       "      <td>0.000821</td>\n",
       "      <td>0.75</td>\n",
       "      <td>0.95</td>\n",
       "      <td>1000</td>\n",
       "    </tr>\n",
       "    <tr>\n",
       "      <th>weekday</th>\n",
       "      <td>24.0</td>\n",
       "      <td>0.187753</td>\n",
       "      <td>0.041186</td>\n",
       "      <td>0.121439</td>\n",
       "      <td>0.152725</td>\n",
       "      <td>0.176222</td>\n",
       "      <td>0.223889</td>\n",
       "      <td>0.256808</td>\n",
       "      <td>0.75</td>\n",
       "      <td>0.95</td>\n",
       "      <td>1000</td>\n",
       "    </tr>\n",
       "    <tr>\n",
       "      <th>year</th>\n",
       "      <td>24.0</td>\n",
       "      <td>0.111354</td>\n",
       "      <td>0.028576</td>\n",
       "      <td>0.058630</td>\n",
       "      <td>0.099949</td>\n",
       "      <td>0.106818</td>\n",
       "      <td>0.125206</td>\n",
       "      <td>0.169576</td>\n",
       "      <td>0.75</td>\n",
       "      <td>0.95</td>\n",
       "      <td>1000</td>\n",
       "    </tr>\n",
       "  </tbody>\n",
       "</table>\n",
       "<p>162 rows × 11 columns</p>\n",
       "</div>"
      ],
      "text/plain": [
       "                 count      mean       std       min       25%       50%  \\\n",
       "NATR              24.0  0.014463  0.006638  0.003306  0.010389  0.015217   \n",
       "PPO               24.0  0.015437  0.005177  0.004860  0.012034  0.015049   \n",
       "RSI               24.0  0.015121  0.006428  0.006182  0.009237  0.012477   \n",
       "bbl               24.0  0.018906  0.005840  0.010410  0.014527  0.019165   \n",
       "bbu               24.0  0.079815  0.018973  0.053604  0.062232  0.078851   \n",
       "...                ...       ...       ...       ...       ...       ...   \n",
       "ret_rel_perc_21   24.0  0.014729  0.014215  0.001176  0.002483  0.012273   \n",
       "ret_rel_perc_5    24.0  0.014567  0.016612  0.000230  0.002375  0.009008   \n",
       "ret_rel_perc_63   24.0  0.000245  0.000246  0.000000  0.000063  0.000168   \n",
       "weekday           24.0  0.187753  0.041186  0.121439  0.152725  0.176222   \n",
       "year              24.0  0.111354  0.028576  0.058630  0.099949  0.106818   \n",
       "\n",
       "                      75%       max  bagging_fraction  feature_fraction  \\\n",
       "NATR             0.018291  0.030741              0.50              0.75   \n",
       "PPO              0.018089  0.025954              0.50              0.75   \n",
       "RSI              0.020294  0.028948              0.50              0.75   \n",
       "bbl              0.022755  0.037243              0.50              0.75   \n",
       "bbu              0.093362  0.122148              0.50              0.75   \n",
       "...                   ...       ...               ...               ...   \n",
       "ret_rel_perc_21  0.022925  0.060076              0.75              0.95   \n",
       "ret_rel_perc_5   0.018609  0.057985              0.75              0.95   \n",
       "ret_rel_perc_63  0.000356  0.000821              0.75              0.95   \n",
       "weekday          0.223889  0.256808              0.75              0.95   \n",
       "year             0.125206  0.169576              0.75              0.95   \n",
       "\n",
       "                 min_data_in_leaf  \n",
       "NATR                          250  \n",
       "PPO                           250  \n",
       "RSI                           250  \n",
       "bbl                           250  \n",
       "bbu                           250  \n",
       "...                           ...  \n",
       "ret_rel_perc_21              1000  \n",
       "ret_rel_perc_5               1000  \n",
       "ret_rel_perc_63              1000  \n",
       "weekday                      1000  \n",
       "year                         1000  \n",
       "\n",
       "[162 rows x 11 columns]"
      ]
     },
     "execution_count": 71,
     "metadata": {},
     "output_type": "execute_result"
    },
    {
     "name": "stdout",
     "output_type": "stream",
     "text": [
      "time: 19.1 ms (started: 2021-04-24 15:26:40 +00:00)\n"
     ]
    }
   ],
   "source": [
    "lgb_result.keys()\n",
    "lgb_result['fi/1/756/21']"
   ]
  },
  {
   "cell_type": "code",
   "execution_count": 70,
   "metadata": {
    "collapsed": true,
    "jupyter": {
     "outputs_hidden": true
    }
   },
   "outputs": [
    {
     "data": {
      "text/html": [
       "<div>\n",
       "<style scoped>\n",
       "    .dataframe tbody tr th:only-of-type {\n",
       "        vertical-align: middle;\n",
       "    }\n",
       "\n",
       "    .dataframe tbody tr th {\n",
       "        vertical-align: top;\n",
       "    }\n",
       "\n",
       "    .dataframe thead th {\n",
       "        text-align: right;\n",
       "    }\n",
       "</style>\n",
       "<table border=\"1\" class=\"dataframe\">\n",
       "  <thead>\n",
       "    <tr style=\"text-align: right;\">\n",
       "      <th></th>\n",
       "      <th>count</th>\n",
       "      <th>mean</th>\n",
       "      <th>std</th>\n",
       "      <th>min</th>\n",
       "      <th>25%</th>\n",
       "      <th>50%</th>\n",
       "      <th>75%</th>\n",
       "      <th>max</th>\n",
       "      <th>bagging_fraction</th>\n",
       "      <th>feature_fraction</th>\n",
       "      <th>min_data_in_leaf</th>\n",
       "    </tr>\n",
       "  </thead>\n",
       "  <tbody>\n",
       "    <tr>\n",
       "      <th>NATR</th>\n",
       "      <td>100.0</td>\n",
       "      <td>0.023057</td>\n",
       "      <td>0.009823</td>\n",
       "      <td>0.006364</td>\n",
       "      <td>0.013485</td>\n",
       "      <td>0.025922</td>\n",
       "      <td>0.030988</td>\n",
       "      <td>0.047284</td>\n",
       "      <td>0.5</td>\n",
       "      <td>0.75</td>\n",
       "      <td>250</td>\n",
       "    </tr>\n",
       "    <tr>\n",
       "      <th>PPO</th>\n",
       "      <td>100.0</td>\n",
       "      <td>0.028698</td>\n",
       "      <td>0.008243</td>\n",
       "      <td>0.012740</td>\n",
       "      <td>0.022865</td>\n",
       "      <td>0.028948</td>\n",
       "      <td>0.033283</td>\n",
       "      <td>0.055090</td>\n",
       "      <td>0.5</td>\n",
       "      <td>0.75</td>\n",
       "      <td>250</td>\n",
       "    </tr>\n",
       "    <tr>\n",
       "      <th>RSI</th>\n",
       "      <td>100.0</td>\n",
       "      <td>0.021911</td>\n",
       "      <td>0.007306</td>\n",
       "      <td>0.010028</td>\n",
       "      <td>0.017400</td>\n",
       "      <td>0.020482</td>\n",
       "      <td>0.026028</td>\n",
       "      <td>0.046474</td>\n",
       "      <td>0.5</td>\n",
       "      <td>0.75</td>\n",
       "      <td>250</td>\n",
       "    </tr>\n",
       "    <tr>\n",
       "      <th>bbl</th>\n",
       "      <td>100.0</td>\n",
       "      <td>0.006416</td>\n",
       "      <td>0.002643</td>\n",
       "      <td>0.001895</td>\n",
       "      <td>0.005019</td>\n",
       "      <td>0.005967</td>\n",
       "      <td>0.007613</td>\n",
       "      <td>0.014952</td>\n",
       "      <td>0.5</td>\n",
       "      <td>0.75</td>\n",
       "      <td>250</td>\n",
       "    </tr>\n",
       "    <tr>\n",
       "      <th>bbu</th>\n",
       "      <td>100.0</td>\n",
       "      <td>0.041481</td>\n",
       "      <td>0.020250</td>\n",
       "      <td>0.011852</td>\n",
       "      <td>0.026644</td>\n",
       "      <td>0.039383</td>\n",
       "      <td>0.053815</td>\n",
       "      <td>0.088888</td>\n",
       "      <td>0.5</td>\n",
       "      <td>0.75</td>\n",
       "      <td>250</td>\n",
       "    </tr>\n",
       "    <tr>\n",
       "      <th>month</th>\n",
       "      <td>100.0</td>\n",
       "      <td>0.422280</td>\n",
       "      <td>0.046706</td>\n",
       "      <td>0.298509</td>\n",
       "      <td>0.389589</td>\n",
       "      <td>0.432652</td>\n",
       "      <td>0.457422</td>\n",
       "      <td>0.501979</td>\n",
       "      <td>0.5</td>\n",
       "      <td>0.75</td>\n",
       "      <td>250</td>\n",
       "    </tr>\n",
       "    <tr>\n",
       "      <th>ret_1</th>\n",
       "      <td>100.0</td>\n",
       "      <td>0.013360</td>\n",
       "      <td>0.004541</td>\n",
       "      <td>0.005749</td>\n",
       "      <td>0.009436</td>\n",
       "      <td>0.012722</td>\n",
       "      <td>0.016570</td>\n",
       "      <td>0.022918</td>\n",
       "      <td>0.5</td>\n",
       "      <td>0.75</td>\n",
       "      <td>250</td>\n",
       "    </tr>\n",
       "    <tr>\n",
       "      <th>ret_10</th>\n",
       "      <td>100.0</td>\n",
       "      <td>0.067838</td>\n",
       "      <td>0.029192</td>\n",
       "      <td>0.026380</td>\n",
       "      <td>0.035232</td>\n",
       "      <td>0.074150</td>\n",
       "      <td>0.092900</td>\n",
       "      <td>0.124679</td>\n",
       "      <td>0.5</td>\n",
       "      <td>0.75</td>\n",
       "      <td>250</td>\n",
       "    </tr>\n",
       "    <tr>\n",
       "      <th>ret_21</th>\n",
       "      <td>100.0</td>\n",
       "      <td>0.063054</td>\n",
       "      <td>0.037353</td>\n",
       "      <td>0.009659</td>\n",
       "      <td>0.031675</td>\n",
       "      <td>0.060444</td>\n",
       "      <td>0.096421</td>\n",
       "      <td>0.123996</td>\n",
       "      <td>0.5</td>\n",
       "      <td>0.75</td>\n",
       "      <td>250</td>\n",
       "    </tr>\n",
       "    <tr>\n",
       "      <th>ret_5</th>\n",
       "      <td>100.0</td>\n",
       "      <td>0.049052</td>\n",
       "      <td>0.021916</td>\n",
       "      <td>0.007146</td>\n",
       "      <td>0.036698</td>\n",
       "      <td>0.048337</td>\n",
       "      <td>0.060050</td>\n",
       "      <td>0.110897</td>\n",
       "      <td>0.5</td>\n",
       "      <td>0.75</td>\n",
       "      <td>250</td>\n",
       "    </tr>\n",
       "    <tr>\n",
       "      <th>ret_63</th>\n",
       "      <td>100.0</td>\n",
       "      <td>0.023213</td>\n",
       "      <td>0.010095</td>\n",
       "      <td>0.009664</td>\n",
       "      <td>0.014773</td>\n",
       "      <td>0.023221</td>\n",
       "      <td>0.027841</td>\n",
       "      <td>0.051698</td>\n",
       "      <td>0.5</td>\n",
       "      <td>0.75</td>\n",
       "      <td>250</td>\n",
       "    </tr>\n",
       "    <tr>\n",
       "      <th>ret_rel_perc_1</th>\n",
       "      <td>100.0</td>\n",
       "      <td>0.003133</td>\n",
       "      <td>0.002838</td>\n",
       "      <td>0.000456</td>\n",
       "      <td>0.000936</td>\n",
       "      <td>0.001957</td>\n",
       "      <td>0.004238</td>\n",
       "      <td>0.011171</td>\n",
       "      <td>0.5</td>\n",
       "      <td>0.75</td>\n",
       "      <td>250</td>\n",
       "    </tr>\n",
       "    <tr>\n",
       "      <th>ret_rel_perc_10</th>\n",
       "      <td>100.0</td>\n",
       "      <td>0.017624</td>\n",
       "      <td>0.010791</td>\n",
       "      <td>0.004871</td>\n",
       "      <td>0.007375</td>\n",
       "      <td>0.013156</td>\n",
       "      <td>0.029135</td>\n",
       "      <td>0.039128</td>\n",
       "      <td>0.5</td>\n",
       "      <td>0.75</td>\n",
       "      <td>250</td>\n",
       "    </tr>\n",
       "    <tr>\n",
       "      <th>ret_rel_perc_21</th>\n",
       "      <td>100.0</td>\n",
       "      <td>0.035305</td>\n",
       "      <td>0.023873</td>\n",
       "      <td>0.002899</td>\n",
       "      <td>0.014177</td>\n",
       "      <td>0.030909</td>\n",
       "      <td>0.059675</td>\n",
       "      <td>0.071111</td>\n",
       "      <td>0.5</td>\n",
       "      <td>0.75</td>\n",
       "      <td>250</td>\n",
       "    </tr>\n",
       "    <tr>\n",
       "      <th>ret_rel_perc_5</th>\n",
       "      <td>100.0</td>\n",
       "      <td>0.016656</td>\n",
       "      <td>0.006021</td>\n",
       "      <td>0.001319</td>\n",
       "      <td>0.014754</td>\n",
       "      <td>0.018250</td>\n",
       "      <td>0.020123</td>\n",
       "      <td>0.028498</td>\n",
       "      <td>0.5</td>\n",
       "      <td>0.75</td>\n",
       "      <td>250</td>\n",
       "    </tr>\n",
       "    <tr>\n",
       "      <th>ret_rel_perc_63</th>\n",
       "      <td>100.0</td>\n",
       "      <td>0.010495</td>\n",
       "      <td>0.004899</td>\n",
       "      <td>0.003164</td>\n",
       "      <td>0.006856</td>\n",
       "      <td>0.010192</td>\n",
       "      <td>0.012642</td>\n",
       "      <td>0.028840</td>\n",
       "      <td>0.5</td>\n",
       "      <td>0.75</td>\n",
       "      <td>250</td>\n",
       "    </tr>\n",
       "    <tr>\n",
       "      <th>weekday</th>\n",
       "      <td>100.0</td>\n",
       "      <td>0.013772</td>\n",
       "      <td>0.007005</td>\n",
       "      <td>0.005804</td>\n",
       "      <td>0.008061</td>\n",
       "      <td>0.012504</td>\n",
       "      <td>0.014645</td>\n",
       "      <td>0.035792</td>\n",
       "      <td>0.5</td>\n",
       "      <td>0.75</td>\n",
       "      <td>250</td>\n",
       "    </tr>\n",
       "    <tr>\n",
       "      <th>year</th>\n",
       "      <td>100.0</td>\n",
       "      <td>0.142656</td>\n",
       "      <td>0.032107</td>\n",
       "      <td>0.091631</td>\n",
       "      <td>0.121838</td>\n",
       "      <td>0.142578</td>\n",
       "      <td>0.160971</td>\n",
       "      <td>0.283590</td>\n",
       "      <td>0.5</td>\n",
       "      <td>0.75</td>\n",
       "      <td>250</td>\n",
       "    </tr>\n",
       "  </tbody>\n",
       "</table>\n",
       "</div>"
      ],
      "text/plain": [
       "                 count      mean       std       min       25%       50%  \\\n",
       "NATR             100.0  0.023057  0.009823  0.006364  0.013485  0.025922   \n",
       "PPO              100.0  0.028698  0.008243  0.012740  0.022865  0.028948   \n",
       "RSI              100.0  0.021911  0.007306  0.010028  0.017400  0.020482   \n",
       "bbl              100.0  0.006416  0.002643  0.001895  0.005019  0.005967   \n",
       "bbu              100.0  0.041481  0.020250  0.011852  0.026644  0.039383   \n",
       "month            100.0  0.422280  0.046706  0.298509  0.389589  0.432652   \n",
       "ret_1            100.0  0.013360  0.004541  0.005749  0.009436  0.012722   \n",
       "ret_10           100.0  0.067838  0.029192  0.026380  0.035232  0.074150   \n",
       "ret_21           100.0  0.063054  0.037353  0.009659  0.031675  0.060444   \n",
       "ret_5            100.0  0.049052  0.021916  0.007146  0.036698  0.048337   \n",
       "ret_63           100.0  0.023213  0.010095  0.009664  0.014773  0.023221   \n",
       "ret_rel_perc_1   100.0  0.003133  0.002838  0.000456  0.000936  0.001957   \n",
       "ret_rel_perc_10  100.0  0.017624  0.010791  0.004871  0.007375  0.013156   \n",
       "ret_rel_perc_21  100.0  0.035305  0.023873  0.002899  0.014177  0.030909   \n",
       "ret_rel_perc_5   100.0  0.016656  0.006021  0.001319  0.014754  0.018250   \n",
       "ret_rel_perc_63  100.0  0.010495  0.004899  0.003164  0.006856  0.010192   \n",
       "weekday          100.0  0.013772  0.007005  0.005804  0.008061  0.012504   \n",
       "year             100.0  0.142656  0.032107  0.091631  0.121838  0.142578   \n",
       "\n",
       "                      75%       max  bagging_fraction  feature_fraction  \\\n",
       "NATR             0.030988  0.047284               0.5              0.75   \n",
       "PPO              0.033283  0.055090               0.5              0.75   \n",
       "RSI              0.026028  0.046474               0.5              0.75   \n",
       "bbl              0.007613  0.014952               0.5              0.75   \n",
       "bbu              0.053815  0.088888               0.5              0.75   \n",
       "month            0.457422  0.501979               0.5              0.75   \n",
       "ret_1            0.016570  0.022918               0.5              0.75   \n",
       "ret_10           0.092900  0.124679               0.5              0.75   \n",
       "ret_21           0.096421  0.123996               0.5              0.75   \n",
       "ret_5            0.060050  0.110897               0.5              0.75   \n",
       "ret_63           0.027841  0.051698               0.5              0.75   \n",
       "ret_rel_perc_1   0.004238  0.011171               0.5              0.75   \n",
       "ret_rel_perc_10  0.029135  0.039128               0.5              0.75   \n",
       "ret_rel_perc_21  0.059675  0.071111               0.5              0.75   \n",
       "ret_rel_perc_5   0.020123  0.028498               0.5              0.75   \n",
       "ret_rel_perc_63  0.012642  0.028840               0.5              0.75   \n",
       "weekday          0.014645  0.035792               0.5              0.75   \n",
       "year             0.160971  0.283590               0.5              0.75   \n",
       "\n",
       "                 min_data_in_leaf  \n",
       "NATR                          250  \n",
       "PPO                           250  \n",
       "RSI                           250  \n",
       "bbl                           250  \n",
       "bbu                           250  \n",
       "month                         250  \n",
       "ret_1                         250  \n",
       "ret_10                        250  \n",
       "ret_21                        250  \n",
       "ret_5                         250  \n",
       "ret_63                        250  \n",
       "ret_rel_perc_1                250  \n",
       "ret_rel_perc_10               250  \n",
       "ret_rel_perc_21               250  \n",
       "ret_rel_perc_5                250  \n",
       "ret_rel_perc_63               250  \n",
       "weekday                       250  \n",
       "year                          250  "
      ]
     },
     "execution_count": 70,
     "metadata": {},
     "output_type": "execute_result"
    },
    {
     "name": "stdout",
     "output_type": "stream",
     "text": [
      "time: 20.5 ms (started: 2021-04-24 15:26:35 +00:00)\n"
     ]
    }
   ],
   "source": [
    "#m\n",
    "#pd.concat(daily_ic)\n",
    "pd.concat(feature_importance)"
   ]
  },
  {
   "cell_type": "code",
   "execution_count": 72,
   "metadata": {},
   "outputs": [
    {
     "name": "stdout",
     "output_type": "stream",
     "text": [
      "time: 16 ms (started: 2021-04-24 15:28:46 +00:00)\n"
     ]
    }
   ],
   "source": [
    "import pickle\n",
    "fname = f'tuning_stooq_jp_rf_{lookaheads[0]}'\n",
    "fname_pickle = fname + '.pickle'\n",
    "with open(path_result / fname_pickle, 'wb') as handle: # save to data dir\n",
    "    pickle.dump(lgb_result, handle)"
   ]
  },
  {
   "cell_type": "markdown",
   "metadata": {},
   "source": [
    "## Analyse Cross-Validation Results"
   ]
  },
  {
   "cell_type": "markdown",
   "metadata": {},
   "source": [
    "### Collect Data"
   ]
  },
  {
   "cell_type": "markdown",
   "metadata": {},
   "source": [
    "We'll now combine the CV results that we stored separately for each fold (to avoid loosing results in case something goes wrong along the way):"
   ]
  },
  {
   "cell_type": "code",
   "execution_count": 10,
   "metadata": {},
   "outputs": [
    {
     "name": "stdout",
     "output_type": "stream",
     "text": [
      "Copying gs://finance_data_bucket/stooq_jp_result.zip...\n",
      "/ [1 files][  6.7 MiB/  6.7 MiB]                                                \n",
      "Operation completed over 1 objects/6.7 MiB.                                      \n",
      "Archive:  stooq_jp_result.zip\n",
      "  inflating: result/lin_reg_performance.csv  \n",
      "  inflating: result/tuning_stooq_jp_rf_1.pickle  \n",
      "time: 1.92 s (started: 2021-04-25 00:08:52 +00:00)\n"
     ]
    }
   ],
   "source": [
    "### load result from bucket\n",
    "!gsutil cp gs://finance_data_bucket/stooq_jp_result.zip .\n",
    "!unzip stooq_jp_result.zip"
   ]
  },
  {
   "cell_type": "code",
   "execution_count": 9,
   "metadata": {},
   "outputs": [
    {
     "name": "stdout",
     "output_type": "stream",
     "text": [
      "time: 94.7 ms (started: 2021-04-27 06:29:53 +00:00)\n"
     ]
    }
   ],
   "source": [
    "# concat result\n",
    "from os import listdir\n",
    "from os.path import isfile, join\n",
    "pfiles = [f for f in listdir(path_result) if isfile(join(path_result, f))]\n",
    "pfiles = [f for f in pfiles if f.endswith('pickle')]\n",
    "\n",
    "import pickle\n",
    "lgb_result = {}\n",
    "for fname_pickle in pfiles:\n",
    "    with open(path_result / fname_pickle, 'rb') as handle:\n",
    "        lgb_result.update(pickle.load(handle))"
   ]
  },
  {
   "cell_type": "code",
   "execution_count": 11,
   "metadata": {},
   "outputs": [
    {
     "name": "stdout",
     "output_type": "stream",
     "text": [
      "time: 455 µs (started: 2021-04-27 06:30:07 +00:00)\n"
     ]
    }
   ],
   "source": [
    "#lookaheads = [1, 5, 10, 21]\n",
    "lookaheads = [1, 5, 10]"
   ]
  },
  {
   "cell_type": "code",
   "execution_count": 12,
   "metadata": {
    "ExecuteTime": {
     "end_time": "2021-02-23T21:08:11.601163Z",
     "start_time": "2021-02-23T21:08:11.598884Z"
    }
   },
   "outputs": [
    {
     "name": "stdout",
     "output_type": "stream",
     "text": [
      "time: 458 µs (started: 2021-04-27 06:30:08 +00:00)\n"
     ]
    }
   ],
   "source": [
    "id_vars = ['train_length',\n",
    "           'test_length',\n",
    "           'bagging_fraction',\n",
    "           'feature_fraction',\n",
    "           'min_data_in_leaf',\n",
    "           't', 'date']"
   ]
  },
  {
   "cell_type": "markdown",
   "metadata": {},
   "source": [
    "We'll look at the financial performance in the notebook `alphalens_signal_quality`."
   ]
  },
  {
   "cell_type": "code",
   "execution_count": 13,
   "metadata": {
    "ExecuteTime": {
     "end_time": "2021-02-23T21:09:53.526684Z",
     "start_time": "2021-02-23T21:09:52.554548Z"
    },
    "scrolled": true
   },
   "outputs": [
    {
     "name": "stdout",
     "output_type": "stream",
     "text": [
      "1\n",
      "756 21\n",
      "756 5\n",
      "126 5\n",
      "252 21\n",
      "126 21\n",
      "63 21\n",
      "1260 21\n",
      "63 5\n",
      "252 5\n",
      "1260 5\n",
      "63 21\n",
      "756 5\n",
      "1260 5\n",
      "126 5\n",
      "63 5\n",
      "252 21\n",
      "756 21\n",
      "126 21\n",
      "1260 21\n",
      "252 5\n",
      "5\n",
      "63 21\n",
      "756 5\n",
      "1260 5\n",
      "126 5\n",
      "63 5\n",
      "252 21\n",
      "756 21\n",
      "126 21\n",
      "1260 21\n",
      "252 5\n",
      "10\n",
      "63 21\n",
      "756 5\n",
      "1260 5\n",
      "126 5\n",
      "63 5\n",
      "252 21\n",
      "756 21\n",
      "126 21\n",
      "1260 21\n",
      "252 5\n",
      "time: 3.48 s (started: 2021-04-27 06:30:17 +00:00)\n"
     ]
    }
   ],
   "source": [
    "daily_ic, ic = [], []\n",
    "for t in lookaheads:\n",
    "    print(t)\n",
    "    store = lgb_result\n",
    "    keys = [k[1:] for k in store.keys() if k.startswith(f'fi/{t}')]\n",
    "    for key in keys:\n",
    "        train_length, test_length = key.split('/')[2:]\n",
    "        print(train_length, test_length)\n",
    "        k = f'{t}/{train_length}/{test_length}'\n",
    "        cols = {'t': t,\n",
    "                'train_length': int(train_length),\n",
    "                'test_length': int(test_length)}\n",
    "\n",
    "        ic.append(pd.melt(store['ic/' + k]\n",
    "                          .assign(**cols),\n",
    "                          id_vars=id_vars[:-1],\n",
    "                          value_name='ic',\n",
    "                          var_name='rounds')\n",
    "                  .apply(pd.to_numeric))\n",
    "\n",
    "        df = store['daily_ic/' + k].assign(**cols).reset_index()\n",
    "        daily_ic.append(pd.melt(df,\n",
    "                                id_vars=id_vars,\n",
    "                                value_name='daily_ic',\n",
    "                                var_name='rounds')\n",
    "                        .set_index('date')\n",
    "                        .apply(pd.to_numeric)\n",
    "                        .reset_index())            \n",
    "ic = pd.concat(ic, ignore_index=True)\n",
    "daily_ic = pd.concat(daily_ic, ignore_index=True)"
   ]
  },
  {
   "cell_type": "markdown",
   "metadata": {},
   "source": [
    "### Predictive Performance: CV Information Coefficient by Day"
   ]
  },
  {
   "cell_type": "markdown",
   "metadata": {},
   "source": [
    "We first look at the daily IC, the metric we ultimately care about for a daily trading strategy. The best results for all prediction horizons are typically achieved with three years of training; the shorter horizons work better with 21 day testing period length. More regularization often improves the result but the impact of the bagging and feature fraction parameters are a little less clear cut and likely depend on other parameters."
   ]
  },
  {
   "cell_type": "code",
   "execution_count": 14,
   "metadata": {
    "ExecuteTime": {
     "end_time": "2021-02-23T21:09:56.260286Z",
     "start_time": "2021-02-23T21:09:56.033651Z"
    }
   },
   "outputs": [
    {
     "data": {
      "text/html": [
       "<div>\n",
       "<style scoped>\n",
       "    .dataframe tbody tr th:only-of-type {\n",
       "        vertical-align: middle;\n",
       "    }\n",
       "\n",
       "    .dataframe tbody tr th {\n",
       "        vertical-align: top;\n",
       "    }\n",
       "\n",
       "    .dataframe thead th {\n",
       "        text-align: right;\n",
       "    }\n",
       "</style>\n",
       "<table border=\"1\" class=\"dataframe\">\n",
       "  <thead>\n",
       "    <tr style=\"text-align: right;\">\n",
       "      <th></th>\n",
       "      <th>t</th>\n",
       "      <th>train_length</th>\n",
       "      <th>test_length</th>\n",
       "      <th>bagging_fraction</th>\n",
       "      <th>feature_fraction</th>\n",
       "      <th>min_data_in_leaf</th>\n",
       "      <th>rounds</th>\n",
       "      <th>ic</th>\n",
       "    </tr>\n",
       "  </thead>\n",
       "  <tbody>\n",
       "    <tr>\n",
       "      <th>147</th>\n",
       "      <td>1</td>\n",
       "      <td>63</td>\n",
       "      <td>5</td>\n",
       "      <td>0.95</td>\n",
       "      <td>0.95</td>\n",
       "      <td>250</td>\n",
       "      <td>200</td>\n",
       "      <td>0.013486</td>\n",
       "    </tr>\n",
       "    <tr>\n",
       "      <th>146</th>\n",
       "      <td>1</td>\n",
       "      <td>63</td>\n",
       "      <td>5</td>\n",
       "      <td>0.95</td>\n",
       "      <td>0.95</td>\n",
       "      <td>250</td>\n",
       "      <td>175</td>\n",
       "      <td>0.013454</td>\n",
       "    </tr>\n",
       "    <tr>\n",
       "      <th>148</th>\n",
       "      <td>1</td>\n",
       "      <td>63</td>\n",
       "      <td>5</td>\n",
       "      <td>0.95</td>\n",
       "      <td>0.95</td>\n",
       "      <td>250</td>\n",
       "      <td>225</td>\n",
       "      <td>0.013362</td>\n",
       "    </tr>\n",
       "    <tr>\n",
       "      <th>3180</th>\n",
       "      <td>5</td>\n",
       "      <td>756</td>\n",
       "      <td>21</td>\n",
       "      <td>0.95</td>\n",
       "      <td>0.75</td>\n",
       "      <td>500</td>\n",
       "      <td>25</td>\n",
       "      <td>0.022753</td>\n",
       "    </tr>\n",
       "    <tr>\n",
       "      <th>2900</th>\n",
       "      <td>5</td>\n",
       "      <td>756</td>\n",
       "      <td>5</td>\n",
       "      <td>0.50</td>\n",
       "      <td>0.75</td>\n",
       "      <td>500</td>\n",
       "      <td>25</td>\n",
       "      <td>0.021845</td>\n",
       "    </tr>\n",
       "    <tr>\n",
       "      <th>2901</th>\n",
       "      <td>5</td>\n",
       "      <td>756</td>\n",
       "      <td>5</td>\n",
       "      <td>0.50</td>\n",
       "      <td>0.75</td>\n",
       "      <td>500</td>\n",
       "      <td>50</td>\n",
       "      <td>0.021750</td>\n",
       "    </tr>\n",
       "    <tr>\n",
       "      <th>5265</th>\n",
       "      <td>10</td>\n",
       "      <td>1260</td>\n",
       "      <td>21</td>\n",
       "      <td>0.50</td>\n",
       "      <td>0.95</td>\n",
       "      <td>250</td>\n",
       "      <td>150</td>\n",
       "      <td>0.020888</td>\n",
       "    </tr>\n",
       "    <tr>\n",
       "      <th>5240</th>\n",
       "      <td>10</td>\n",
       "      <td>1260</td>\n",
       "      <td>21</td>\n",
       "      <td>0.50</td>\n",
       "      <td>0.75</td>\n",
       "      <td>500</td>\n",
       "      <td>25</td>\n",
       "      <td>0.019946</td>\n",
       "    </tr>\n",
       "    <tr>\n",
       "      <th>5285</th>\n",
       "      <td>10</td>\n",
       "      <td>1260</td>\n",
       "      <td>21</td>\n",
       "      <td>0.50</td>\n",
       "      <td>0.95</td>\n",
       "      <td>1000</td>\n",
       "      <td>150</td>\n",
       "      <td>0.019803</td>\n",
       "    </tr>\n",
       "  </tbody>\n",
       "</table>\n",
       "</div>"
      ],
      "text/plain": [
       "       t  train_length  test_length  bagging_fraction  feature_fraction  \\\n",
       "147    1            63            5              0.95              0.95   \n",
       "146    1            63            5              0.95              0.95   \n",
       "148    1            63            5              0.95              0.95   \n",
       "3180   5           756           21              0.95              0.75   \n",
       "2900   5           756            5              0.50              0.75   \n",
       "2901   5           756            5              0.50              0.75   \n",
       "5265  10          1260           21              0.50              0.95   \n",
       "5240  10          1260           21              0.50              0.75   \n",
       "5285  10          1260           21              0.50              0.95   \n",
       "\n",
       "      min_data_in_leaf  rounds        ic  \n",
       "147                250     200  0.013486  \n",
       "146                250     175  0.013454  \n",
       "148                250     225  0.013362  \n",
       "3180               500      25  0.022753  \n",
       "2900               500      25  0.021845  \n",
       "2901               500      50  0.021750  \n",
       "5265               250     150  0.020888  \n",
       "5240               500      25  0.019946  \n",
       "5285              1000     150  0.019803  "
      ]
     },
     "execution_count": 14,
     "metadata": {},
     "output_type": "execute_result"
    },
    {
     "name": "stdout",
     "output_type": "stream",
     "text": [
      "time: 901 ms (started: 2021-04-27 06:30:30 +00:00)\n"
     ]
    }
   ],
   "source": [
    "group_cols = ['t','train_length', 'test_length', \n",
    "              'bagging_fraction', 'feature_fraction', 'min_data_in_leaf']\n",
    "daily_ic_avg = daily_ic.groupby(group_cols + ['rounds']).daily_ic.mean().to_frame('ic').reset_index()\n",
    "daily_ic_avg.groupby('t', group_keys=False).apply(lambda x: x.nlargest(3, 'ic'))"
   ]
  },
  {
   "cell_type": "code",
   "execution_count": 15,
   "metadata": {
    "ExecuteTime": {
     "end_time": "2021-02-23T21:09:57.084490Z",
     "start_time": "2021-02-23T21:09:57.076867Z"
    }
   },
   "outputs": [
    {
     "name": "stdout",
     "output_type": "stream",
     "text": [
      "<class 'pandas.core.frame.DataFrame'>\n",
      "RangeIndex: 5400 entries, 0 to 5399\n",
      "Data columns (total 8 columns):\n",
      " #   Column            Non-Null Count  Dtype  \n",
      "---  ------            --------------  -----  \n",
      " 0   t                 5400 non-null   int64  \n",
      " 1   train_length      5400 non-null   int64  \n",
      " 2   test_length       5400 non-null   int64  \n",
      " 3   bagging_fraction  5400 non-null   float64\n",
      " 4   feature_fraction  5400 non-null   float64\n",
      " 5   min_data_in_leaf  5400 non-null   int64  \n",
      " 6   rounds            5400 non-null   int64  \n",
      " 7   ic                5400 non-null   float64\n",
      "dtypes: float64(3), int64(5)\n",
      "memory usage: 337.6 KB\n",
      "time: 19 ms (started: 2021-04-27 06:30:39 +00:00)\n"
     ]
    }
   ],
   "source": [
    "daily_ic_avg.info(null_counts=True)"
   ]
  },
  {
   "cell_type": "markdown",
   "metadata": {},
   "source": [
    "For a 1-day forecast horizon, over 75% of the predictions yield a positive daily IC; the same is true for 21 days which, unsurprisingly, also shows a wider range."
   ]
  },
  {
   "cell_type": "code",
   "execution_count": 16,
   "metadata": {
    "ExecuteTime": {
     "end_time": "2021-02-23T21:09:59.239313Z",
     "start_time": "2021-02-23T21:09:59.116945Z"
    }
   },
   "outputs": [
    {
     "data": {
      "image/png": "[encoded data removed]",
      "text/plain": [
       "<Figure size 432x288 with 1 Axes>"
      ]
     },
     "metadata": {},
     "output_type": "display_data"
    },
    {
     "name": "stdout",
     "output_type": "stream",
     "text": [
      "time: 240 ms (started: 2021-04-27 06:30:42 +00:00)\n"
     ]
    }
   ],
   "source": [
    "ax = sns.boxenplot(x='t', y='ic', data=daily_ic_avg)\n",
    "ax.axhline(0, ls='--', lw=1, c='k');"
   ]
  },
  {
   "cell_type": "code",
   "execution_count": 20,
   "metadata": {
    "ExecuteTime": {
     "end_time": "2021-02-23T21:10:00.267110Z",
     "start_time": "2021-02-23T21:09:59.282710Z"
    }
   },
   "outputs": [
    {
     "data": {
      "image/png": "[encoded data removed]",
      "text/plain": [
       "<Figure size 1800x360 with 5 Axes>"
      ]
     },
     "metadata": {},
     "output_type": "display_data"
    },
    {
     "name": "stdout",
     "output_type": "stream",
     "text": [
      "time: 2.03 s (started: 2021-04-27 06:37:03 +00:00)\n"
     ]
    }
   ],
   "source": [
    "#test_length = 5\n",
    "test_length = 21\n",
    "g = sns.catplot(x='t',\n",
    "                y='ic',\n",
    "                col='train_length',\n",
    "                row='test_length',\n",
    "                data=daily_ic_avg[(daily_ic_avg.test_length == test_length)],\n",
    "                kind='boxen')\n",
    "g.savefig(results_path / f'daily_ic_test_{test_length:02}', dpi=300);"
   ]
  },
  {
   "cell_type": "markdown",
   "metadata": {},
   "source": [
    "### HyperParameter Impact: Linear Regression"
   ]
  },
  {
   "cell_type": "markdown",
   "metadata": {},
   "source": [
    "To get a better idea of how the various CV parameters impact the forecast quality, we can run a linear regression with the daily IC as outcome and the one-hot encoded hyperparameters as inputs:"
   ]
  },
  {
   "cell_type": "code",
   "execution_count": 51,
   "metadata": {
    "ExecuteTime": {
     "end_time": "2021-02-23T21:10:03.122098Z",
     "start_time": "2021-02-23T21:10:03.056750Z"
    }
   },
   "outputs": [],
   "source": [
    "lin_reg = {}\n",
    "for t in [1, 5]:\n",
    "    df_ = daily_ic_avg[(daily_ic_avg.t==t)&(daily_ic_avg.rounds<=250)].dropna()\n",
    "    y, X = df_.ic, df_.drop(['ic', 't'], axis=1)\n",
    "    X = sm.add_constant(pd.get_dummies(X, columns=X.columns, drop_first=True))\n",
    "    model = sm.OLS(endog=y, exog=X)\n",
    "    lin_reg[t] = model.fit()\n",
    "    s = lin_reg[t].summary()\n",
    "    coefs = pd.read_csv(StringIO(s.tables[1].as_csv())).rename(\n",
    "        columns=lambda x: x.strip())\n",
    "    coefs.columns = ['variable', 'coef', 'std_err',\n",
    "                     't', 'p_value', 'ci_low', 'ci_high']\n",
    "    coefs.to_csv(results_path / f'lr_result_{t:02}.csv', index=False)"
   ]
  },
  {
   "cell_type": "code",
   "execution_count": 52,
   "metadata": {
    "ExecuteTime": {
     "end_time": "2021-02-23T21:10:03.695084Z",
     "start_time": "2021-02-23T21:10:03.686275Z"
    }
   },
   "outputs": [],
   "source": [
    "def visualize_lr_result(model, ax):\n",
    "    ci = model.conf_int()\n",
    "    errors = ci[1].sub(ci[0]).div(2)\n",
    "\n",
    "    coefs = (model.params.to_frame('coef').assign(error=errors)\n",
    "             .reset_index().rename(columns={'index': 'variable'}))\n",
    "    coefs = coefs[~coefs['variable'].str.startswith(\n",
    "        'date') & (coefs.variable != 'const')]\n",
    "    coefs.variable = coefs.variable.str.split('_').str[-1]\n",
    "\n",
    "    coefs.plot(x='variable', y='coef', kind='bar', ax=ax, \n",
    "               color='none', capsize=3, yerr='error', legend=False, rot=0)    \n",
    "    ax.set_ylabel('IC')\n",
    "    ax.set_xlabel('')\n",
    "    ax.scatter(x=pd.np.arange(len(coefs)), marker='_', s=120, y=coefs['coef'], color='black')\n",
    "    ax.axhline(y=0, linestyle='--', color='black', linewidth=1)\n",
    "    ax.xaxis.set_ticks_position('none')\n",
    "\n",
    "    ax.annotate('Train\\nLength', xy=(.09, -0.1), xytext=(.09, -0.2),\n",
    "                xycoords='axes fraction',\n",
    "                textcoords='axes fraction',\n",
    "                fontsize=11, ha='center', va='bottom',\n",
    "                bbox=dict(boxstyle='square', fc='white', ec='black'),\n",
    "                arrowprops=dict(arrowstyle='-[, widthB=5, lengthB=0.8', lw=1.0, color='black'))\n",
    "\n",
    "    ax.annotate('Test\\nLength', xy=(.23, -0.1), xytext=(.23, -0.2),\n",
    "                xycoords='axes fraction',\n",
    "                textcoords='axes fraction',\n",
    "                fontsize=11, ha='center', va='bottom',\n",
    "                bbox=dict(boxstyle='square', fc='white', ec='black'),\n",
    "                arrowprops=dict(arrowstyle='-[, widthB=2, lengthB=0.8', lw=1.0, color='black'))\n",
    "\n",
    "    ax.annotate('Bagging\\nFraction', xy=(.32, -0.1), xytext=(.32, -0.2),\n",
    "                xycoords='axes fraction',\n",
    "                textcoords='axes fraction',\n",
    "                fontsize=11, ha='center', va='bottom',\n",
    "                bbox=dict(boxstyle='square', fc='white', ec='black'),\n",
    "                arrowprops=dict(arrowstyle='-[, widthB=2.7, lengthB=0.8', lw=1.0, color='black'))\n",
    "\n",
    "\n",
    "    ax.annotate('Feature\\nFraction', xy=(.44, -0.1), xytext=(.44, -0.2),\n",
    "                xycoords='axes fraction',\n",
    "                textcoords='axes fraction',\n",
    "                fontsize=11, ha='center', va='bottom',\n",
    "                bbox=dict(boxstyle='square', fc='white', ec='black'),\n",
    "                arrowprops=dict(arrowstyle='-[, widthB=3.4, lengthB=1.0', lw=1.0, color='black'))\n",
    "    \n",
    "\n",
    "    ax.annotate('Min.\\nSamples', xy=(.55, -0.1), xytext=(.55, -0.2),\n",
    "                xycoords='axes fraction',\n",
    "                textcoords='axes fraction',\n",
    "                fontsize=11, ha='center', va='bottom',\n",
    "                bbox=dict(boxstyle='square', fc='white', ec='black'),\n",
    "                arrowprops=dict(arrowstyle='-[, widthB=2.5, lengthB=1.0', lw=1.0, color='black'))    \n",
    "    \n",
    "    ax.annotate('Number of\\nRounds', xy=(.8, -0.1), xytext=(.8, -0.2),\n",
    "                xycoords='axes fraction',\n",
    "                textcoords='axes fraction',\n",
    "                fontsize=11, ha='center', va='bottom',\n",
    "                bbox=dict(boxstyle='square', fc='white', ec='black'),\n",
    "                arrowprops=dict(arrowstyle='-[, widthB=11.2, lengthB=1.0', lw=1.0, color='black'))"
   ]
  },
  {
   "cell_type": "markdown",
   "metadata": {},
   "source": [
    "The below plot shows the regression coefficient values and their confidence intervals. The intercept (not shown) has a small positive value and is statistically signifant; it captures the impact of the dropped categories (the smallest value for each parameter).\n",
    "\n",
    "For 1-day forecasts, some but not all results are insightful: 21-day testing is better, and so is `min_samples_leaf` of 500 or 1,000. 100-200 trees seem to work best, but both shorter and longer training periods are better than intermediate values."
   ]
  },
  {
   "cell_type": "code",
   "execution_count": 53,
   "metadata": {
    "ExecuteTime": {
     "end_time": "2021-02-23T21:10:06.305149Z",
     "start_time": "2021-02-23T21:10:05.696990Z"
    }
   },
   "outputs": [
    {
     "data": {
      "image/png": "[encoded data removed]",
      "text/plain": [
       "<Figure size 1440x432 with 2 Axes>"
      ]
     },
     "metadata": {},
     "output_type": "display_data"
    }
   ],
   "source": [
    "with sns.axes_style('white'):\n",
    "    fig, axes = plt.subplots(nrows=1, ncols=2, figsize=(20, 6))\n",
    "    axes = axes.flatten()\n",
    "    for i, t in enumerate([1, 5]):\n",
    "        visualize_lr_result(lin_reg[t], axes[i])\n",
    "        axes[i].set_title(f'Lookahead: {t} Day(s)')\n",
    "    fig.suptitle('OLS Coefficients & Confidence Intervals', fontsize=20)\n",
    "    fig.tight_layout()\n",
    "    fig.subplots_adjust(top=.92)"
   ]
  },
  {
   "cell_type": "markdown",
   "metadata": {},
   "source": [
    "### Information Coefficient: Overall"
   ]
  },
  {
   "cell_type": "markdown",
   "metadata": {},
   "source": [
    "We'll also take a look at the overall IC value, which is often reported but does not necessarily match the goal of a daily trading strategy that uses the model return predictions as well as the daily IC."
   ]
  },
  {
   "cell_type": "code",
   "execution_count": 21,
   "metadata": {
    "ExecuteTime": {
     "end_time": "2021-02-23T21:10:24.159865Z",
     "start_time": "2021-02-23T21:10:24.148886Z"
    }
   },
   "outputs": [
    {
     "name": "stdout",
     "output_type": "stream",
     "text": [
      "<class 'pandas.core.frame.DataFrame'>\n",
      "RangeIndex: 7200 entries, 0 to 7199\n",
      "Data columns (total 8 columns):\n",
      " #   Column            Non-Null Count  Dtype  \n",
      "---  ------            --------------  -----  \n",
      " 0   train_length      7200 non-null   int64  \n",
      " 1   test_length       7200 non-null   int64  \n",
      " 2   bagging_fraction  7200 non-null   float64\n",
      " 3   feature_fraction  7200 non-null   float64\n",
      " 4   min_data_in_leaf  7200 non-null   int64  \n",
      " 5   t                 7200 non-null   int64  \n",
      " 6   rounds            7200 non-null   int64  \n",
      " 7   ic                7200 non-null   float64\n",
      "dtypes: float64(3), int64(5)\n",
      "memory usage: 450.1 KB\n",
      "time: 17.4 ms (started: 2021-04-27 06:37:28 +00:00)\n"
     ]
    }
   ],
   "source": [
    "ic.info()"
   ]
  },
  {
   "cell_type": "markdown",
   "metadata": {},
   "source": [
    "#### Best Parameters"
   ]
  },
  {
   "cell_type": "markdown",
   "metadata": {},
   "source": [
    "Directionally, and for shorter periods, similar hyperparameter settings work best (while the IC values are higher):"
   ]
  },
  {
   "cell_type": "code",
   "execution_count": 22,
   "metadata": {
    "ExecuteTime": {
     "end_time": "2021-02-23T21:10:26.999923Z",
     "start_time": "2021-02-23T21:10:26.983402Z"
    }
   },
   "outputs": [
    {
     "data": {
      "text/html": [
       "<div>\n",
       "<style scoped>\n",
       "    .dataframe tbody tr th:only-of-type {\n",
       "        vertical-align: middle;\n",
       "    }\n",
       "\n",
       "    .dataframe tbody tr th {\n",
       "        vertical-align: top;\n",
       "    }\n",
       "\n",
       "    .dataframe thead th {\n",
       "        text-align: right;\n",
       "    }\n",
       "</style>\n",
       "<table border=\"1\" class=\"dataframe\">\n",
       "  <thead>\n",
       "    <tr style=\"text-align: right;\">\n",
       "      <th></th>\n",
       "      <th></th>\n",
       "      <th>train_length</th>\n",
       "      <th>test_length</th>\n",
       "      <th>bagging_fraction</th>\n",
       "      <th>feature_fraction</th>\n",
       "      <th>min_data_in_leaf</th>\n",
       "      <th>t</th>\n",
       "      <th>rounds</th>\n",
       "      <th>ic</th>\n",
       "    </tr>\n",
       "    <tr>\n",
       "      <th>t</th>\n",
       "      <th></th>\n",
       "      <th></th>\n",
       "      <th></th>\n",
       "      <th></th>\n",
       "      <th></th>\n",
       "      <th></th>\n",
       "      <th></th>\n",
       "      <th></th>\n",
       "      <th></th>\n",
       "    </tr>\n",
       "  </thead>\n",
       "  <tbody>\n",
       "    <tr>\n",
       "      <th rowspan=\"3\" valign=\"top\">1</th>\n",
       "      <th>1628</th>\n",
       "      <td>1260</td>\n",
       "      <td>5</td>\n",
       "      <td>0.75</td>\n",
       "      <td>0.95</td>\n",
       "      <td>1000</td>\n",
       "      <td>1</td>\n",
       "      <td>25</td>\n",
       "      <td>0.047854</td>\n",
       "    </tr>\n",
       "    <tr>\n",
       "      <th>2168</th>\n",
       "      <td>1260</td>\n",
       "      <td>5</td>\n",
       "      <td>0.75</td>\n",
       "      <td>0.95</td>\n",
       "      <td>1000</td>\n",
       "      <td>1</td>\n",
       "      <td>25</td>\n",
       "      <td>0.047854</td>\n",
       "    </tr>\n",
       "    <tr>\n",
       "      <th>1680</th>\n",
       "      <td>1260</td>\n",
       "      <td>5</td>\n",
       "      <td>0.95</td>\n",
       "      <td>0.95</td>\n",
       "      <td>500</td>\n",
       "      <td>1</td>\n",
       "      <td>175</td>\n",
       "      <td>0.045532</td>\n",
       "    </tr>\n",
       "    <tr>\n",
       "      <th rowspan=\"3\" valign=\"top\">5</th>\n",
       "      <th>5041</th>\n",
       "      <td>1260</td>\n",
       "      <td>21</td>\n",
       "      <td>0.50</td>\n",
       "      <td>0.75</td>\n",
       "      <td>500</td>\n",
       "      <td>5</td>\n",
       "      <td>25</td>\n",
       "      <td>0.068586</td>\n",
       "    </tr>\n",
       "    <tr>\n",
       "      <th>5050</th>\n",
       "      <td>1260</td>\n",
       "      <td>21</td>\n",
       "      <td>0.50</td>\n",
       "      <td>0.75</td>\n",
       "      <td>500</td>\n",
       "      <td>5</td>\n",
       "      <td>50</td>\n",
       "      <td>0.068092</td>\n",
       "    </tr>\n",
       "    <tr>\n",
       "      <th>5098</th>\n",
       "      <td>1260</td>\n",
       "      <td>21</td>\n",
       "      <td>0.50</td>\n",
       "      <td>0.95</td>\n",
       "      <td>250</td>\n",
       "      <td>5</td>\n",
       "      <td>175</td>\n",
       "      <td>0.067691</td>\n",
       "    </tr>\n",
       "    <tr>\n",
       "      <th rowspan=\"3\" valign=\"top\">10</th>\n",
       "      <th>5594</th>\n",
       "      <td>756</td>\n",
       "      <td>5</td>\n",
       "      <td>0.95</td>\n",
       "      <td>0.75</td>\n",
       "      <td>500</td>\n",
       "      <td>10</td>\n",
       "      <td>50</td>\n",
       "      <td>0.065383</td>\n",
       "    </tr>\n",
       "    <tr>\n",
       "      <th>6786</th>\n",
       "      <td>126</td>\n",
       "      <td>21</td>\n",
       "      <td>0.50</td>\n",
       "      <td>0.75</td>\n",
       "      <td>250</td>\n",
       "      <td>10</td>\n",
       "      <td>375</td>\n",
       "      <td>0.064898</td>\n",
       "    </tr>\n",
       "    <tr>\n",
       "      <th>6787</th>\n",
       "      <td>126</td>\n",
       "      <td>21</td>\n",
       "      <td>0.50</td>\n",
       "      <td>0.75</td>\n",
       "      <td>500</td>\n",
       "      <td>10</td>\n",
       "      <td>375</td>\n",
       "      <td>0.064442</td>\n",
       "    </tr>\n",
       "  </tbody>\n",
       "</table>\n",
       "</div>"
      ],
      "text/plain": [
       "         train_length  test_length  bagging_fraction  feature_fraction  \\\n",
       "t                                                                        \n",
       "1  1628          1260            5              0.75              0.95   \n",
       "   2168          1260            5              0.75              0.95   \n",
       "   1680          1260            5              0.95              0.95   \n",
       "5  5041          1260           21              0.50              0.75   \n",
       "   5050          1260           21              0.50              0.75   \n",
       "   5098          1260           21              0.50              0.95   \n",
       "10 5594           756            5              0.95              0.75   \n",
       "   6786           126           21              0.50              0.75   \n",
       "   6787           126           21              0.50              0.75   \n",
       "\n",
       "         min_data_in_leaf   t  rounds        ic  \n",
       "t                                                \n",
       "1  1628              1000   1      25  0.047854  \n",
       "   2168              1000   1      25  0.047854  \n",
       "   1680               500   1     175  0.045532  \n",
       "5  5041               500   5      25  0.068586  \n",
       "   5050               500   5      50  0.068092  \n",
       "   5098               250   5     175  0.067691  \n",
       "10 5594               500  10      50  0.065383  \n",
       "   6786               250  10     375  0.064898  \n",
       "   6787               500  10     375  0.064442  "
      ]
     },
     "execution_count": 22,
     "metadata": {},
     "output_type": "execute_result"
    },
    {
     "name": "stdout",
     "output_type": "stream",
     "text": [
      "time: 31.7 ms (started: 2021-04-27 06:37:35 +00:00)\n"
     ]
    }
   ],
   "source": [
    "ic.groupby('t').apply(lambda x: x.nlargest(3, 'ic'))"
   ]
  },
  {
   "cell_type": "markdown",
   "metadata": {},
   "source": [
    "#### Visualiztion"
   ]
  },
  {
   "cell_type": "code",
   "execution_count": 23,
   "metadata": {
    "ExecuteTime": {
     "end_time": "2021-02-23T21:10:28.369762Z",
     "start_time": "2021-02-23T21:10:27.970520Z"
    }
   },
   "outputs": [
    {
     "data": {
      "image/png": "[encoded data removed]",
      "text/plain": [
       "<Figure size 1800x360 with 5 Axes>"
      ]
     },
     "metadata": {},
     "output_type": "display_data"
    },
    {
     "name": "stdout",
     "output_type": "stream",
     "text": [
      "time: 1.17 s (started: 2021-04-27 06:37:40 +00:00)\n"
     ]
    }
   ],
   "source": [
    "g = sns.catplot(x='t',\n",
    "                y='ic',\n",
    "                col='train_length',\n",
    "                row='test_length',\n",
    "                data=ic[(ic.test_length == 21) & (ic.t < 21)],\n",
    "                kind='box')"
   ]
  },
  {
   "cell_type": "code",
   "execution_count": 24,
   "metadata": {
    "ExecuteTime": {
     "end_time": "2021-02-23T21:10:37.904492Z",
     "start_time": "2021-02-23T21:10:30.194796Z"
    }
   },
   "outputs": [
    {
     "data": {
      "image/png": "[encoded data removed]",
      "text/plain": [
       "<Figure size 812.25x1080 with 6 Axes>"
      ]
     },
     "metadata": {},
     "output_type": "display_data"
    },
    {
     "name": "stdout",
     "output_type": "stream",
     "text": [
      "time: 10.9 s (started: 2021-04-27 06:38:26 +00:00)\n"
     ]
    }
   ],
   "source": [
    "t = 1\n",
    "train_length = 756\n",
    "test_length = 21\n",
    "g = sns.catplot(x='rounds',\n",
    "    y='ic',\n",
    "    col='feature_fraction',\n",
    "    hue='bagging_fraction',\n",
    "    row='min_data_in_leaf',\n",
    "    data=ic[(ic.t == t) &\n",
    "            (ic.train_length == train_length) &\n",
    "            (ic.test_length == test_length)],\n",
    "    kind='swarm');"
   ]
  },
  {
   "cell_type": "markdown",
   "metadata": {},
   "source": [
    "### Random Forest vs Linear Regression "
   ]
  },
  {
   "cell_type": "markdown",
   "metadata": {},
   "source": [
    "Let's compare the best-performing (in-sample) random forest models to our linear regression baseline:"
   ]
  },
  {
   "cell_type": "code",
   "execution_count": 25,
   "metadata": {
    "ExecuteTime": {
     "end_time": "2021-02-23T21:10:51.280229Z",
     "start_time": "2021-02-23T21:10:51.271304Z"
    }
   },
   "outputs": [
    {
     "name": "stdout",
     "output_type": "stream",
     "text": [
      "<class 'pandas.core.frame.DataFrame'>\n",
      "RangeIndex: 40 entries, 0 to 39\n",
      "Data columns (total 5 columns):\n",
      " #   Column        Non-Null Count  Dtype  \n",
      "---  ------        --------------  -----  \n",
      " 0   lookahead     40 non-null     int64  \n",
      " 1   train_length  40 non-null     int64  \n",
      " 2   test_length   40 non-null     int64  \n",
      " 3   ic_by_day     40 non-null     float64\n",
      " 4   ic            40 non-null     float64\n",
      "dtypes: float64(2), int64(3)\n",
      "memory usage: 1.7 KB\n",
      "time: 21.2 ms (started: 2021-04-27 06:39:06 +00:00)\n"
     ]
    }
   ],
   "source": [
    "lr_metrics = pd.read_csv(results_path / 'lin_reg_performance.csv')\n",
    "lr_metrics.info()"
   ]
  },
  {
   "cell_type": "code",
   "execution_count": 26,
   "metadata": {
    "ExecuteTime": {
     "end_time": "2021-02-23T21:10:52.660412Z",
     "start_time": "2021-02-23T21:10:52.652725Z"
    }
   },
   "outputs": [
    {
     "name": "stdout",
     "output_type": "stream",
     "text": [
      "<class 'pandas.core.frame.DataFrame'>\n",
      "RangeIndex: 5400 entries, 0 to 5399\n",
      "Data columns (total 8 columns):\n",
      " #   Column            Non-Null Count  Dtype  \n",
      "---  ------            --------------  -----  \n",
      " 0   t                 5400 non-null   int64  \n",
      " 1   train_length      5400 non-null   int64  \n",
      " 2   test_length       5400 non-null   int64  \n",
      " 3   bagging_fraction  5400 non-null   float64\n",
      " 4   feature_fraction  5400 non-null   float64\n",
      " 5   min_data_in_leaf  5400 non-null   int64  \n",
      " 6   rounds            5400 non-null   int64  \n",
      " 7   ic                5400 non-null   float64\n",
      "dtypes: float64(3), int64(5)\n",
      "memory usage: 337.6 KB\n",
      "time: 19.3 ms (started: 2021-04-27 06:39:08 +00:00)\n"
     ]
    }
   ],
   "source": [
    "daily_ic_avg.info()"
   ]
  },
  {
   "cell_type": "markdown",
   "metadata": {},
   "source": [
    "The results are mixed: for the shortest and longest horizons, the random forest outperforms (slightly for 1 day), while linear regression is competitive for the intermediate horizons:"
   ]
  },
  {
   "cell_type": "code",
   "execution_count": 27,
   "metadata": {
    "ExecuteTime": {
     "end_time": "2021-02-23T21:10:55.223622Z",
     "start_time": "2021-02-23T21:10:55.032734Z"
    }
   },
   "outputs": [
    {
     "data": {
      "image/png": "[encoded data removed]",
      "text/plain": [
       "<Figure size 432x288 with 1 Axes>"
      ]
     },
     "metadata": {},
     "output_type": "display_data"
    },
    {
     "name": "stdout",
     "output_type": "stream",
     "text": [
      "time: 303 ms (started: 2021-04-27 06:39:17 +00:00)\n"
     ]
    }
   ],
   "source": [
    "with sns.axes_style(\"white\"):\n",
    "    ax = (ic.groupby('t').ic.max().to_frame('Random Forest')\n",
    "     .join(lr_metrics.groupby('lookahead').ic.max().to_frame('Linear Regression')).plot.barh())\n",
    "    ax.set_ylabel('Lookahead')\n",
    "    ax.set_xlabel('Information Coefficient')\n",
    "    sns.despine()\n",
    "    plt.tight_layout();"
   ]
  },
  {
   "cell_type": "markdown",
   "metadata": {},
   "source": [
    "## Generate predictions"
   ]
  },
  {
   "cell_type": "markdown",
   "metadata": {},
   "source": [
    "To build and evaluate a trading strategy, we create predictions for the 2018-19 period using the 10 best models that we then ensemble:"
   ]
  },
  {
   "cell_type": "code",
   "execution_count": 54,
   "metadata": {},
   "outputs": [
    {
     "name": "stdout",
     "output_type": "stream",
     "text": [
      "Copying gs://finance_data_bucket/data_stooq.zip...\n",
      "==> NOTE: You are downloading one or more large file(s), which would            \n",
      "run significantly faster if you enabled sliced object downloads. This\n",
      "feature is enabled by default but requires that compiled crcmod be\n",
      "installed (see \"gsutil help crcmod\").\n",
      "\n",
      "/ [1 files][651.8 MiB/651.8 MiB]                                                \n",
      "Operation completed over 1 objects/651.8 MiB.                                    \n",
      "Archive:  data_stooq.zip\n",
      "  inflating: data/stooq_jp_tse_stocks_prices.csv  \n",
      "  inflating: data/stooq_jp_tse_stocks_tickers.csv  \n",
      "  inflating: data/stooq_us_nasdaq_etfs_prices.csv  \n",
      "  inflating: data/stooq_us_nasdaq_etfs_tickers.csv  \n",
      "  inflating: data/stooq_us_nasdaq_stocks_prices.csv  \n",
      "  inflating: data/stooq_us_nasdaq_stocks_tickers.csv  \n",
      "  inflating: data/stooq_us_nyse_etfs_prices.csv  \n",
      "  inflating: data/stooq_us_nyse_etfs_tickers.csv  \n",
      "  inflating: data/stooq_us_nyse_stocks_prices.csv  \n",
      "  inflating: data/stooq_us_nyse_stocks_tickers.csv  \n",
      "  inflating: data/stooq_us_nysemkt_stocks_prices.csv  \n",
      "  inflating: data/stooq_us_nysemkt_stocks_tickers.csv  \n",
      "  inflating: data/stooq_japan_equities.csv  \n",
      "time: 31.7 s (started: 2021-04-25 01:20:39 +00:00)\n"
     ]
    }
   ],
   "source": [
    "!gsutil cp gs://finance_data_bucket/data_stooq.zip .\n",
    "!unzip data_stooq.zip"
   ]
  },
  {
   "cell_type": "code",
   "execution_count": 28,
   "metadata": {
    "ExecuteTime": {
     "end_time": "2021-02-23T21:10:56.276550Z",
     "start_time": "2021-02-23T21:10:56.274762Z"
    }
   },
   "outputs": [
    {
     "name": "stdout",
     "output_type": "stream",
     "text": [
      "time: 436 µs (started: 2021-04-27 06:39:50 +00:00)\n"
     ]
    }
   ],
   "source": [
    "param_cols = ['train_length', 'test_length', 'bagging_fraction',\n",
    "              'feature_fraction', 'min_data_in_leaf', 'rounds']"
   ]
  },
  {
   "cell_type": "code",
   "execution_count": 29,
   "metadata": {
    "ExecuteTime": {
     "end_time": "2021-02-23T21:10:58.310089Z",
     "start_time": "2021-02-23T21:10:58.304594Z"
    }
   },
   "outputs": [
    {
     "name": "stdout",
     "output_type": "stream",
     "text": [
      "time: 672 µs (started: 2021-04-27 06:39:51 +00:00)\n"
     ]
    }
   ],
   "source": [
    "def get_params(data, t=5, best=0):\n",
    "    df = data[data.t == t].sort_values('ic', ascending=False).iloc[best]\n",
    "    df = df.loc[param_cols]\n",
    "    rounds = int(df.rounds)\n",
    "    params = pd.to_numeric(df.drop('rounds'))\n",
    "    return params, rounds"
   ]
  },
  {
   "cell_type": "code",
   "execution_count": 30,
   "metadata": {
    "ExecuteTime": {
     "end_time": "2021-02-23T21:10:58.550817Z",
     "start_time": "2021-02-23T21:10:58.548693Z"
    }
   },
   "outputs": [
    {
     "name": "stdout",
     "output_type": "stream",
     "text": [
      "# of cpus: 2\n",
      "time: 829 µs (started: 2021-04-27 06:39:53 +00:00)\n"
     ]
    }
   ],
   "source": [
    "cpu_count = os.cpu_count()\n",
    "print('# of cpus:', cpu_count)\n",
    "\n",
    "base_params = dict(boosting_type='rf',\n",
    "                   objective='regression',\n",
    "                   bagging_freq=1,\n",
    "                   n_jobs=cpu_count,\n",
    "                   verbose=-1)"
   ]
  },
  {
   "cell_type": "code",
   "execution_count": 32,
   "metadata": {
    "ExecuteTime": {
     "end_time": "2021-02-23T21:39:01.014230Z",
     "start_time": "2021-02-23T21:29:25.042746Z"
    }
   },
   "outputs": [
    {
     "name": "stdout",
     "output_type": "stream",
     "text": [
      "\n",
      "Lookahead: 01\n",
      "\tPosition: 00\n",
      "\tPosition: 01\n",
      "\tPosition: 02\n",
      "\tPosition: 03\n",
      "\tPosition: 04\n",
      "\tPosition: 05\n",
      "\tPosition: 06\n",
      "\tPosition: 07\n",
      "\tPosition: 08\n",
      "\tPosition: 09\n",
      "time: 32min 46s (started: 2021-04-27 06:40:25 +00:00)\n"
     ]
    }
   ],
   "source": [
    "for lookahead in [1, 5, 10, 21]:\n",
    "    if lookahead > 1: \n",
    "        continue\n",
    "    print(f'\\nLookahead: {lookahead:02}')\n",
    "    data = (pd.read_csv(path_data / 'stooq_japan_equities.csv', parse_dates=['date'])\n",
    "              .set_index(['ticker','date'])\n",
    "              .sort_index(level=['ticker','date']))\n",
    "    labels = sorted(data.filter(like='fwd').columns)\n",
    "    features = data.columns.difference(labels).tolist()\n",
    "    label = f'fwd_ret_{lookahead:02}'\n",
    "    data = data.loc[:, features + [label]].dropna()\n",
    "\n",
    "    categoricals = ['year', 'weekday', 'month']\n",
    "    for feature in categoricals:\n",
    "        data[feature] = pd.factorize(data[feature], sort=True)[0]\n",
    "\n",
    "    lgb_data = lgb.Dataset(data=data[features],\n",
    "                           label=data[label],\n",
    "                           categorical_feature=categoricals,\n",
    "                           free_raw_data=False)\n",
    "    \n",
    "    for position in range(10):\n",
    "        params, num_boost_round = get_params(daily_ic_avg,\n",
    "                                             t=lookahead,\n",
    "                                             best=position)\n",
    "        params = params.to_dict()\n",
    "        params['min_data_in_leaf'] = int(params['min_data_in_leaf'])\n",
    "        train_length = int(params.pop('train_length'))\n",
    "        test_length = int(params.pop('test_length'))\n",
    "        params.update(base_params)\n",
    "\n",
    "        print(f'\\tPosition: {position:02}')\n",
    "\n",
    "        n_splits = int(2 * YEAR / test_length)\n",
    "        cv = MultipleTimeSeriesCV(n_splits=n_splits,\n",
    "                                  test_period_length=test_length,\n",
    "                                  lookahead=lookahead,\n",
    "                                  train_period_length=train_length)\n",
    "\n",
    "        predictions = []\n",
    "        start = time()\n",
    "        for i, (train_idx, test_idx) in enumerate(cv.split(X=data), 1):\n",
    "            train_set = lgb_data.subset(used_indices=train_idx.tolist(),\n",
    "                                        #params=params).construct()\n",
    "                                        params=params)\n",
    "    \n",
    "            model = lgb.train(params=params,\n",
    "                              train_set=train_set,\n",
    "                              num_boost_round=num_boost_round,\n",
    "                              categorical_feature=categoricals, \n",
    "                              verbose_eval=False)\n",
    "        \n",
    "            test_set = data.iloc[test_idx, :]\n",
    "            y_test = test_set.loc[:, label].to_frame('y_test')\n",
    "            y_pred = model.predict(test_set.loc[:, model.feature_name()])\n",
    "            predictions.append(y_test.assign(prediction=y_pred))\n",
    "\n",
    "        if position == 0:\n",
    "            test_predictions = (pd.concat(predictions)\n",
    "                                .rename(columns={'prediction': position}))\n",
    "        else:\n",
    "            test_predictions[position] = pd.concat(predictions).prediction\n",
    "        \n",
    "\n",
    "    by_day = test_predictions.groupby(level='date')\n",
    "    for position in range(10):\n",
    "        if position == 0:\n",
    "            ic_by_day = by_day.apply(lambda x: spearmanr(x.y_test, x[position])[0]).to_frame()\n",
    "        else:\n",
    "            ic_by_day[position] = by_day.apply(lambda x: spearmanr(x.y_test, x[position])[0])\n",
    "\n",
    "    test_predictions.to_csv(path_result / f'test_{lookahead:02}.csv')"
   ]
  },
  {
   "cell_type": "code",
   "execution_count": 36,
   "metadata": {},
   "outputs": [
    {
     "name": "stdout",
     "output_type": "stream",
     "text": [
      "  adding: result/test_01.csv (deflated 64%)\n",
      "time: 10.2 s (started: 2021-04-27 07:27:07 +00:00)\n"
     ]
    }
   ],
   "source": [
    "!zip -u stooq_jp_result.zip result/test_01.csv"
   ]
  },
  {
   "cell_type": "code",
   "execution_count": 33,
   "metadata": {},
   "outputs": [
    {
     "name": "stdout",
     "output_type": "stream",
     "text": [
      "<class 'pandas.core.frame.DataFrame'>\n",
      "MultiIndex: 470500 entries, ('1332.JP', Timestamp('2019-12-23 00:00:00')) to ('9990.JP', Timestamp('2017-12-15 00:00:00'))\n",
      "Data columns (total 11 columns):\n",
      " #   Column  Non-Null Count   Dtype  \n",
      "---  ------  --------------   -----  \n",
      " 0   y_test  470500 non-null  float64\n",
      " 1   0       470500 non-null  float64\n",
      " 2   1       470500 non-null  float64\n",
      " 3   2       470500 non-null  float64\n",
      " 4   3       470500 non-null  float64\n",
      " 5   4       470500 non-null  float64\n",
      " 6   5       470500 non-null  float64\n",
      " 7   6       470500 non-null  float64\n",
      " 8   7       470500 non-null  float64\n",
      " 9   8       470500 non-null  float64\n",
      " 10  9       470500 non-null  float64\n",
      "dtypes: float64(11)\n",
      "memory usage: 41.3+ MB\n",
      "time: 39.4 ms (started: 2021-04-27 07:22:06 +00:00)\n"
     ]
    }
   ],
   "source": [
    "test_predictions.info()"
   ]
  },
  {
   "cell_type": "code",
   "execution_count": 34,
   "metadata": {},
   "outputs": [
    {
     "data": {
      "text/html": [
       "<div>\n",
       "<style scoped>\n",
       "    .dataframe tbody tr th:only-of-type {\n",
       "        vertical-align: middle;\n",
       "    }\n",
       "\n",
       "    .dataframe tbody tr th {\n",
       "        vertical-align: top;\n",
       "    }\n",
       "\n",
       "    .dataframe thead th {\n",
       "        text-align: right;\n",
       "    }\n",
       "</style>\n",
       "<table border=\"1\" class=\"dataframe\">\n",
       "  <thead>\n",
       "    <tr style=\"text-align: right;\">\n",
       "      <th></th>\n",
       "      <th></th>\n",
       "      <th>y_test</th>\n",
       "      <th>0</th>\n",
       "      <th>1</th>\n",
       "      <th>2</th>\n",
       "      <th>3</th>\n",
       "      <th>4</th>\n",
       "      <th>5</th>\n",
       "      <th>6</th>\n",
       "      <th>7</th>\n",
       "      <th>8</th>\n",
       "      <th>9</th>\n",
       "    </tr>\n",
       "    <tr>\n",
       "      <th>ticker</th>\n",
       "      <th>date</th>\n",
       "      <th></th>\n",
       "      <th></th>\n",
       "      <th></th>\n",
       "      <th></th>\n",
       "      <th></th>\n",
       "      <th></th>\n",
       "      <th></th>\n",
       "      <th></th>\n",
       "      <th></th>\n",
       "      <th></th>\n",
       "      <th></th>\n",
       "    </tr>\n",
       "  </thead>\n",
       "  <tbody>\n",
       "    <tr>\n",
       "      <th rowspan=\"5\" valign=\"top\">1332.JP</th>\n",
       "      <th>2019-12-23</th>\n",
       "      <td>0.018612</td>\n",
       "      <td>0.005532</td>\n",
       "      <td>0.005587</td>\n",
       "      <td>0.005416</td>\n",
       "      <td>0.005364</td>\n",
       "      <td>0.005124</td>\n",
       "      <td>0.005311</td>\n",
       "      <td>0.005126</td>\n",
       "      <td>0.005067</td>\n",
       "      <td>0.005115</td>\n",
       "      <td>0.005084</td>\n",
       "    </tr>\n",
       "    <tr>\n",
       "      <th>2019-12-24</th>\n",
       "      <td>-0.013696</td>\n",
       "      <td>-0.001066</td>\n",
       "      <td>-0.001069</td>\n",
       "      <td>-0.001064</td>\n",
       "      <td>-0.001072</td>\n",
       "      <td>-0.000557</td>\n",
       "      <td>-0.000526</td>\n",
       "      <td>-0.000424</td>\n",
       "      <td>-0.000430</td>\n",
       "      <td>-0.000469</td>\n",
       "      <td>-0.000532</td>\n",
       "    </tr>\n",
       "    <tr>\n",
       "      <th>2019-12-25</th>\n",
       "      <td>0.009247</td>\n",
       "      <td>-0.001083</td>\n",
       "      <td>-0.001088</td>\n",
       "      <td>-0.001084</td>\n",
       "      <td>-0.001094</td>\n",
       "      <td>-0.001260</td>\n",
       "      <td>-0.001204</td>\n",
       "      <td>-0.001107</td>\n",
       "      <td>-0.001101</td>\n",
       "      <td>-0.001187</td>\n",
       "      <td>-0.001212</td>\n",
       "    </tr>\n",
       "    <tr>\n",
       "      <th>2019-12-26</th>\n",
       "      <td>0.001538</td>\n",
       "      <td>-0.001081</td>\n",
       "      <td>-0.001057</td>\n",
       "      <td>-0.001095</td>\n",
       "      <td>-0.001115</td>\n",
       "      <td>0.000621</td>\n",
       "      <td>0.000653</td>\n",
       "      <td>0.000798</td>\n",
       "      <td>0.000813</td>\n",
       "      <td>0.000672</td>\n",
       "      <td>0.000757</td>\n",
       "    </tr>\n",
       "    <tr>\n",
       "      <th>2019-12-27</th>\n",
       "      <td>-0.004590</td>\n",
       "      <td>-0.000579</td>\n",
       "      <td>-0.000562</td>\n",
       "      <td>-0.000609</td>\n",
       "      <td>-0.000671</td>\n",
       "      <td>0.001096</td>\n",
       "      <td>0.000901</td>\n",
       "      <td>0.001034</td>\n",
       "      <td>0.001039</td>\n",
       "      <td>0.001062</td>\n",
       "      <td>0.000819</td>\n",
       "    </tr>\n",
       "  </tbody>\n",
       "</table>\n",
       "</div>"
      ],
      "text/plain": [
       "                      y_test         0         1         2         3  \\\n",
       "ticker  date                                                           \n",
       "1332.JP 2019-12-23  0.018612  0.005532  0.005587  0.005416  0.005364   \n",
       "        2019-12-24 -0.013696 -0.001066 -0.001069 -0.001064 -0.001072   \n",
       "        2019-12-25  0.009247 -0.001083 -0.001088 -0.001084 -0.001094   \n",
       "        2019-12-26  0.001538 -0.001081 -0.001057 -0.001095 -0.001115   \n",
       "        2019-12-27 -0.004590 -0.000579 -0.000562 -0.000609 -0.000671   \n",
       "\n",
       "                           4         5         6         7         8         9  \n",
       "ticker  date                                                                    \n",
       "1332.JP 2019-12-23  0.005124  0.005311  0.005126  0.005067  0.005115  0.005084  \n",
       "        2019-12-24 -0.000557 -0.000526 -0.000424 -0.000430 -0.000469 -0.000532  \n",
       "        2019-12-25 -0.001260 -0.001204 -0.001107 -0.001101 -0.001187 -0.001212  \n",
       "        2019-12-26  0.000621  0.000653  0.000798  0.000813  0.000672  0.000757  \n",
       "        2019-12-27  0.001096  0.000901  0.001034  0.001039  0.001062  0.000819  "
      ]
     },
     "execution_count": 34,
     "metadata": {},
     "output_type": "execute_result"
    },
    {
     "name": "stdout",
     "output_type": "stream",
     "text": [
      "time: 16.6 ms (started: 2021-04-27 07:24:18 +00:00)\n"
     ]
    }
   ],
   "source": [
    "test_predictions.head()"
   ]
  },
  {
   "cell_type": "code",
   "execution_count": null,
   "metadata": {},
   "outputs": [],
   "source": []
  }
 ],
 "metadata": {
  "environment": {
   "name": "common-cpu.m65",
   "type": "gcloud",
   "uri": "gcr.io/deeplearning-platform-release/base-cpu:m65"
  },
  "kernelspec": {
   "display_name": "Python 3",
   "language": "python",
   "name": "python3"
  },
  "language_info": {
   "codemirror_mode": {
    "name": "ipython",
    "version": 3
   },
   "file_extension": ".py",
   "mimetype": "text/x-python",
   "name": "python",
   "nbconvert_exporter": "python",
   "pygments_lexer": "ipython3",
   "version": "3.7.10"
  },
  "toc": {
   "base_numbering": 1,
   "nav_menu": {},
   "number_sections": true,
   "sideBar": true,
   "skip_h1_title": true,
   "title_cell": "Table of Contents",
   "title_sidebar": "Contents",
   "toc_cell": false,
   "toc_position": {
    "height": "calc(100% - 180px)",
    "left": "10px",
    "top": "150px",
    "width": "374.162px"
   },
   "toc_section_display": true,
   "toc_window_display": true
  }
 },
 "nbformat": 4,
 "nbformat_minor": 4
}
