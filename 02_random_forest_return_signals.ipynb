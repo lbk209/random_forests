{
 "cells": [
  {
   "cell_type": "markdown",
   "metadata": {},
   "source": [
    "# How to generate long-short trading signals with a Random Forest"
   ]
  },
  {
   "cell_type": "markdown",
   "metadata": {},
   "source": [
    "## Imports & Settings"
   ]
  },
  {
   "cell_type": "code",
   "execution_count": 1,
   "metadata": {
    "scrolled": true
   },
   "outputs": [
    {
     "name": "stdout",
     "output_type": "stream",
     "text": [
      "Requirement already satisfied: ipython-autotime in /opt/conda/lib/python3.7/site-packages (0.3.1)\n",
      "Requirement already satisfied: ipython in /opt/conda/lib/python3.7/site-packages (from ipython-autotime) (7.22.0)\n",
      "Requirement already satisfied: traitlets>=4.2 in /opt/conda/lib/python3.7/site-packages (from ipython->ipython-autotime) (5.0.5)\n",
      "Requirement already satisfied: pexpect>4.3 in /opt/conda/lib/python3.7/site-packages (from ipython->ipython-autotime) (4.8.0)\n",
      "Requirement already satisfied: prompt-toolkit!=3.0.0,!=3.0.1,<3.1.0,>=2.0.0 in /opt/conda/lib/python3.7/site-packages (from ipython->ipython-autotime) (3.0.18)\n",
      "Requirement already satisfied: backcall in /opt/conda/lib/python3.7/site-packages (from ipython->ipython-autotime) (0.2.0)\n",
      "Requirement already satisfied: setuptools>=18.5 in /opt/conda/lib/python3.7/site-packages (from ipython->ipython-autotime) (49.6.0.post20210108)\n",
      "Requirement already satisfied: pygments in /opt/conda/lib/python3.7/site-packages (from ipython->ipython-autotime) (2.8.1)\n",
      "Requirement already satisfied: pickleshare in /opt/conda/lib/python3.7/site-packages (from ipython->ipython-autotime) (0.7.5)\n",
      "Requirement already satisfied: decorator in /opt/conda/lib/python3.7/site-packages (from ipython->ipython-autotime) (5.0.7)\n",
      "Requirement already satisfied: jedi>=0.16 in /opt/conda/lib/python3.7/site-packages (from ipython->ipython-autotime) (0.18.0)\n",
      "Requirement already satisfied: parso<0.9.0,>=0.8.0 in /opt/conda/lib/python3.7/site-packages (from jedi>=0.16->ipython->ipython-autotime) (0.8.2)\n",
      "Requirement already satisfied: ptyprocess>=0.5 in /opt/conda/lib/python3.7/site-packages (from pexpect>4.3->ipython->ipython-autotime) (0.7.0)\n",
      "Requirement already satisfied: wcwidth in /opt/conda/lib/python3.7/site-packages (from prompt-toolkit!=3.0.0,!=3.0.1,<3.1.0,>=2.0.0->ipython->ipython-autotime) (0.2.5)\n",
      "Requirement already satisfied: ipython-genutils in /opt/conda/lib/python3.7/site-packages (from traitlets>=4.2->ipython->ipython-autotime) (0.2.0)\n",
      "Collecting lightgbm\n",
      "  Downloading lightgbm-3.2.1-py3-none-manylinux1_x86_64.whl (2.0 MB)\n",
      "\u001b[K     |████████████████████████████████| 2.0 MB 9.2 MB/s eta 0:00:01\n",
      "\u001b[?25hRequirement already satisfied: wheel in /opt/conda/lib/python3.7/site-packages (from lightgbm) (0.36.2)\n",
      "Requirement already satisfied: scipy in /opt/conda/lib/python3.7/site-packages (from lightgbm) (1.6.2)\n",
      "Requirement already satisfied: scikit-learn!=0.22.0 in /opt/conda/lib/python3.7/site-packages (from lightgbm) (0.24.1)\n",
      "Requirement already satisfied: numpy in /opt/conda/lib/python3.7/site-packages (from lightgbm) (1.19.5)\n",
      "Requirement already satisfied: threadpoolctl>=2.0.0 in /opt/conda/lib/python3.7/site-packages (from scikit-learn!=0.22.0->lightgbm) (2.1.0)\n",
      "Requirement already satisfied: joblib>=0.11 in /opt/conda/lib/python3.7/site-packages (from scikit-learn!=0.22.0->lightgbm) (1.0.1)\n",
      "Installing collected packages: lightgbm\n",
      "Successfully installed lightgbm-3.2.1\n"
     ]
    }
   ],
   "source": [
    "!pip install ipython-autotime\n",
    "!pip install lightgbm"
   ]
  },
  {
   "cell_type": "code",
   "execution_count": 156,
   "metadata": {
    "ExecuteTime": {
     "end_time": "2021-02-23T21:02:37.880680Z",
     "start_time": "2021-02-23T21:02:37.878801Z"
    }
   },
   "outputs": [
    {
     "name": "stdout",
     "output_type": "stream",
     "text": [
      "time: 536 µs (started: 2021-04-28 22:13:19 +00:00)\n"
     ]
    }
   ],
   "source": [
    "import warnings\n",
    "warnings.filterwarnings('ignore')"
   ]
  },
  {
   "cell_type": "code",
   "execution_count": 113,
   "metadata": {
    "ExecuteTime": {
     "end_time": "2021-02-23T21:02:39.119332Z",
     "start_time": "2021-02-23T21:02:38.229457Z"
    }
   },
   "outputs": [
    {
     "name": "stdout",
     "output_type": "stream",
     "text": [
      "The autotime extension is already loaded. To reload it, use:\n",
      "  %reload_ext autotime\n",
      "time: 8.96 ms (started: 2021-04-28 11:05:39 +00:00)\n"
     ]
    }
   ],
   "source": [
    "%matplotlib inline\n",
    "%load_ext autotime\n",
    "\n",
    "from time import time\n",
    "from io import StringIO\n",
    "import sys, os\n",
    "from tqdm import tqdm\n",
    "\n",
    "from itertools import product\n",
    "from pathlib import Path\n",
    "\n",
    "import numpy as np\n",
    "import pandas as pd\n",
    "import statsmodels.api as sm\n",
    "\n",
    "import matplotlib.pyplot as plt\n",
    "import seaborn as sns\n",
    "\n",
    "import lightgbm as lgb\n",
    "\n",
    "from sklearn.linear_model import LinearRegression\n",
    "from scipy.stats import spearmanr\n",
    "\n",
    "from utils import MultipleTimeSeriesCV, format_time\n",
    "\n",
    "sns.set_style('whitegrid')\n",
    "np.random.seed(42) # for cv\n",
    "idx = pd.IndexSlice\n",
    "YEAR = 252"
   ]
  },
  {
   "cell_type": "code",
   "execution_count": 114,
   "metadata": {
    "ExecuteTime": {
     "end_time": "2021-02-23T21:02:39.192310Z",
     "start_time": "2021-02-23T21:02:39.185309Z"
    }
   },
   "outputs": [
    {
     "name": "stdout",
     "output_type": "stream",
     "text": [
      "time: 948 µs (started: 2021-04-28 11:05:41 +00:00)\n"
     ]
    }
   ],
   "source": [
    "### set path\n",
    "import os\n",
    "from pathlib import Path\n",
    "path_home = os.getcwd()\n",
    "path_home = Path(path_home)\n",
    "path_data = path_home / 'data'\n",
    "path_result = path_home / 'result'\n",
    "if not path_result.exists():\n",
    "    path_result.mkdir()"
   ]
  },
  {
   "cell_type": "markdown",
   "metadata": {},
   "source": [
    "## Get Data"
   ]
  },
  {
   "cell_type": "markdown",
   "metadata": {},
   "source": [
    "See the notebook [japanese_equity_features](03_japanese_equity_features.ipynb) in this directory for data preparation."
   ]
  },
  {
   "cell_type": "code",
   "execution_count": null,
   "metadata": {},
   "outputs": [],
   "source": [
    "!gs cp gs://finance_data_bucket/lbk/rf/stooq_jp_data.zip\n",
    "!unzip stooq_jp_data.zip"
   ]
  },
  {
   "cell_type": "code",
   "execution_count": 195,
   "metadata": {
    "ExecuteTime": {
     "end_time": "2021-02-23T21:02:42.139113Z",
     "start_time": "2021-02-23T21:02:41.254125Z"
    }
   },
   "outputs": [
    {
     "name": "stdout",
     "output_type": "stream",
     "text": [
      "<class 'pandas.core.frame.DataFrame'>\n",
      "MultiIndex: 2304509 entries, ('1332.JP', Timestamp('2010-01-04 00:00:00')) to ('9990.JP', Timestamp('2019-12-30 00:00:00'))\n",
      "Data columns (total 23 columns):\n",
      " #   Column           Non-Null Count    Dtype  \n",
      "---  ------           --------------    -----  \n",
      " 0   ret_1            2303568 non-null  float64\n",
      " 1   ret_rel_perc_1   2303568 non-null  float64\n",
      " 2   ret_5            2299804 non-null  float64\n",
      " 3   ret_rel_perc_5   2299804 non-null  float64\n",
      " 4   ret_10           2295099 non-null  float64\n",
      " 5   ret_rel_perc_10  2295099 non-null  float64\n",
      " 6   ret_21           2284748 non-null  float64\n",
      " 7   ret_rel_perc_21  2284748 non-null  float64\n",
      " 8   ret_63           2245226 non-null  float64\n",
      " 9   ret_rel_perc_63  2245226 non-null  float64\n",
      " 10  PPO              2280984 non-null  float64\n",
      " 11  NATR             2291335 non-null  float64\n",
      " 12  RSI              2291335 non-null  float64\n",
      " 13  bbl              2300745 non-null  float64\n",
      " 14  bbu              2300745 non-null  float64\n",
      " 15  weekday          2304509 non-null  int64  \n",
      " 16  month            2304509 non-null  int64  \n",
      " 17  year             2304509 non-null  int64  \n",
      " 18  fwd_ret_01       2303568 non-null  float64\n",
      " 19  fwd_ret_05       2299804 non-null  float64\n",
      " 20  fwd_ret_10       2295099 non-null  float64\n",
      " 21  fwd_ret_21       2284748 non-null  float64\n",
      " 22  fwd_ret_63       2245226 non-null  float64\n",
      "dtypes: float64(20), int64(3)\n",
      "memory usage: 413.3+ MB\n",
      "time: 13.4 s (started: 2021-04-28 22:56:31 +00:00)\n"
     ]
    }
   ],
   "source": [
    "data = (pd.read_csv(path_data / 'stooq_jp_equities.csv', parse_dates=['date'])\n",
    "          .set_index(['ticker','date'])\n",
    "          .sort_index(level=['ticker','date'])      \n",
    "       )\n",
    "data.info(null_counts=True)"
   ]
  },
  {
   "cell_type": "markdown",
   "metadata": {},
   "source": [
    "We start with 941 tickers."
   ]
  },
  {
   "cell_type": "code",
   "execution_count": 116,
   "metadata": {
    "ExecuteTime": {
     "end_time": "2021-02-23T21:02:42.201856Z",
     "start_time": "2021-02-23T21:02:42.140240Z"
    }
   },
   "outputs": [
    {
     "data": {
      "text/plain": [
       "941"
      ]
     },
     "execution_count": 116,
     "metadata": {},
     "output_type": "execute_result"
    },
    {
     "name": "stdout",
     "output_type": "stream",
     "text": [
      "time: 25.6 ms (started: 2021-04-28 11:06:50 +00:00)\n"
     ]
    }
   ],
   "source": [
    "len(data.index.unique('ticker'))"
   ]
  },
  {
   "cell_type": "markdown",
   "metadata": {},
   "source": [
    "### Select universe of 250 most-liquid stocks"
   ]
  },
  {
   "cell_type": "markdown",
   "metadata": {},
   "source": [
    "We rank the stocks by their daily average dollar volume and select those with the 250 lowest average ranks and thus highest average volumes for the 2010-2017 period."
   ]
  },
  {
   "cell_type": "code",
   "execution_count": 117,
   "metadata": {
    "ExecuteTime": {
     "end_time": "2021-02-23T21:02:50.607742Z",
     "start_time": "2021-02-23T21:02:42.227048Z"
    }
   },
   "outputs": [
    {
     "name": "stdout",
     "output_type": "stream",
     "text": [
      "time: 13.8 s (started: 2021-04-28 11:07:07 +00:00)\n"
     ]
    }
   ],
   "source": [
    "prices = (pd.read_csv(path_data / 'stooq_jp_tse_stocks_prices.csv', parse_dates=['date'])\n",
    "          .set_index(['ticker','date'])\n",
    "          .sort_index(level=['ticker','date'])    \n",
    "          .loc[idx[:, '2010': '2017'], :]\n",
    "         )"
   ]
  },
  {
   "cell_type": "code",
   "execution_count": 118,
   "metadata": {
    "ExecuteTime": {
     "end_time": "2021-02-23T21:02:52.631450Z",
     "start_time": "2021-02-23T21:02:50.608766Z"
    }
   },
   "outputs": [
    {
     "name": "stdout",
     "output_type": "stream",
     "text": [
      "time: 3.61 s (started: 2021-04-28 11:07:21 +00:00)\n"
     ]
    }
   ],
   "source": [
    "dollar_vol = prices.close.mul(prices.volume)\n",
    "dollar_vol_rank = dollar_vol.groupby(level='date').rank(ascending=False)\n",
    "universe = dollar_vol_rank.groupby(level='ticker').mean().nsmallest(250).index"
   ]
  },
  {
   "cell_type": "markdown",
   "metadata": {},
   "source": [
    "## MultipleTimeSeriesCV"
   ]
  },
  {
   "cell_type": "markdown",
   "metadata": {},
   "source": [
    "For each fold, the train and test periods are separated by a `lookahead` number of periods and thus do not overlap:"
   ]
  },
  {
   "cell_type": "code",
   "execution_count": 196,
   "metadata": {},
   "outputs": [
    {
     "name": "stdout",
     "output_type": "stream",
     "text": [
      "Training: 2017-10-24-2019-11-25  (508 days) | Test: 2019-12-02-2019-12-30 (21 days)\n",
      "Training: 2017-09-22-2019-10-24  (508 days) | Test: 2019-10-31-2019-11-29 (21 days)\n",
      "Training: 2017-08-23-2019-09-20  (508 days) | Test: 2019-09-30-2019-10-30 (21 days)\n",
      "Training: 2017-07-24-2019-08-21  (508 days) | Test: 2019-08-28-2019-09-27 (21 days)\n",
      "time: 7.7 s (started: 2021-04-28 22:57:29 +00:00)\n"
     ]
    }
   ],
   "source": [
    "def train_test_perdios_msg(train_idx, test_idx, data):\n",
    "    train = data.iloc[train_idx]\n",
    "    train_dates = train.index.get_level_values('date')\n",
    "    test = data.iloc[test_idx]\n",
    "    test_dates = test.index.get_level_values('date')\n",
    "    df = train.reset_index().append(test.reset_index())\n",
    "    n = len(df)\n",
    "    assert n== len(df.drop_duplicates())\n",
    "    msg = f'Training: {train_dates.min().date()}-{train_dates.max().date()} '\n",
    "    msg += f' ({train.groupby(level=\"ticker\").size().value_counts().index[0]:,.0f} days) | '\n",
    "    msg += f'Test: {test_dates.min().date()}-{test_dates.max().date()} '\n",
    "    msg += f'({test.groupby(level=\"ticker\").size().value_counts().index[0]:,.0f} days)'\n",
    "    print(msg)\n",
    "    \n",
    "cv = MultipleTimeSeriesCV(n_splits=36,\n",
    "                          test_period_length=21,\n",
    "                          lookahead=5,\n",
    "                          train_period_length=2 * 252)\n",
    "\n",
    "for i, (train_idx, test_idx) in enumerate(cv.split(X=data)):\n",
    "    train_test_perdios_msg(train_idx, test_idx, data)\n",
    "    if i == 3:\n",
    "        break"
   ]
  },
  {
   "cell_type": "markdown",
   "metadata": {},
   "source": [
    "## Model Selection: Time Period and Horizon"
   ]
  },
  {
   "cell_type": "markdown",
   "metadata": {},
   "source": [
    "For the model selection step, we restrict training and validation sets to the 2010-2017 period."
   ]
  },
  {
   "cell_type": "code",
   "execution_count": 120,
   "metadata": {
    "ExecuteTime": {
     "end_time": "2021-02-23T21:03:05.380614Z",
     "start_time": "2021-02-23T21:03:02.618027Z"
    },
    "scrolled": true
   },
   "outputs": [
    {
     "name": "stdout",
     "output_type": "stream",
     "text": [
      "<class 'pandas.core.frame.DataFrame'>\n",
      "MultiIndex: 420082 entries, ('7203.JP', Timestamp('2010-01-04 00:00:00')) to ('4021.JP', Timestamp('2017-12-29 00:00:00'))\n",
      "Data columns (total 23 columns):\n",
      " #   Column           Non-Null Count   Dtype  \n",
      "---  ------           --------------   -----  \n",
      " 0   ret_1            419868 non-null  float64\n",
      " 1   ret_rel_perc_1   419868 non-null  float64\n",
      " 2   ret_5            419012 non-null  float64\n",
      " 3   ret_rel_perc_5   419012 non-null  float64\n",
      " 4   ret_10           417942 non-null  float64\n",
      " 5   ret_rel_perc_10  417942 non-null  float64\n",
      " 6   ret_21           415588 non-null  float64\n",
      " 7   ret_rel_perc_21  415588 non-null  float64\n",
      " 8   ret_63           406600 non-null  float64\n",
      " 9   ret_rel_perc_63  406600 non-null  float64\n",
      " 10  PPO              414732 non-null  float64\n",
      " 11  NATR             417086 non-null  float64\n",
      " 12  RSI              417086 non-null  float64\n",
      " 13  bbl              419226 non-null  float64\n",
      " 14  bbu              419226 non-null  float64\n",
      " 15  weekday          420082 non-null  int64  \n",
      " 16  month            420082 non-null  int64  \n",
      " 17  year             420082 non-null  int64  \n",
      " 18  fwd_ret_01       420082 non-null  float64\n",
      " 19  fwd_ret_05       420082 non-null  float64\n",
      " 20  fwd_ret_10       420082 non-null  float64\n",
      " 21  fwd_ret_21       420082 non-null  float64\n",
      " 22  fwd_ret_63       420082 non-null  float64\n",
      "dtypes: float64(20), int64(3)\n",
      "memory usage: 75.4+ MB\n",
      "time: 4.54 s (started: 2021-04-28 11:08:03 +00:00)\n"
     ]
    }
   ],
   "source": [
    "cv_data = data.loc[idx[universe, :'2017'], :]\n",
    "tickers = cv_data.index.unique('ticker')\n",
    "cv_data.info()"
   ]
  },
  {
   "cell_type": "markdown",
   "metadata": {},
   "source": [
    "Persist the data to save some time when running another experiment:"
   ]
  },
  {
   "cell_type": "code",
   "execution_count": 11,
   "metadata": {
    "ExecuteTime": {
     "end_time": "2021-02-23T21:03:05.443610Z",
     "start_time": "2021-02-23T21:03:05.381787Z"
    }
   },
   "outputs": [
    {
     "name": "stdout",
     "output_type": "stream",
     "text": [
      "  adding: data/stooq_jp_equities_cv.csv (deflated 65%)\n",
      "time: 24.5 s (started: 2021-04-28 01:39:03 +00:00)\n"
     ]
    }
   ],
   "source": [
    "cv_data.to_csv(path_data / 'stooq_jp_equities_cv.csv')\n",
    "!zip -u stooq_jp_data.zip data/stooq_jp_equities_cv.csv"
   ]
  },
  {
   "cell_type": "markdown",
   "metadata": {},
   "source": [
    "We're picking prediction horizons of 1, 5, 10 and 21 days:"
   ]
  },
  {
   "cell_type": "code",
   "execution_count": 121,
   "metadata": {
    "ExecuteTime": {
     "end_time": "2021-02-23T21:03:07.317733Z",
     "start_time": "2021-02-23T21:03:07.315943Z"
    }
   },
   "outputs": [
    {
     "name": "stdout",
     "output_type": "stream",
     "text": [
      "time: 523 µs (started: 2021-04-28 11:08:46 +00:00)\n"
     ]
    }
   ],
   "source": [
    "lookaheads = [1, 5, 10, 21]"
   ]
  },
  {
   "cell_type": "markdown",
   "metadata": {},
   "source": [
    "## Baseline: Linear Regression"
   ]
  },
  {
   "cell_type": "markdown",
   "metadata": {},
   "source": [
    "Since it's quick to run and quite informative, we generate linear regression baseline predictions. See [Chapter 7 - Linear Models](../07_linear_models) for details."
   ]
  },
  {
   "cell_type": "code",
   "execution_count": 13,
   "metadata": {
    "ExecuteTime": {
     "end_time": "2021-02-23T21:03:10.361623Z",
     "start_time": "2021-02-23T21:03:10.359925Z"
    }
   },
   "outputs": [
    {
     "name": "stdout",
     "output_type": "stream",
     "text": [
      "time: 440 µs (started: 2021-04-28 01:40:01 +00:00)\n"
     ]
    }
   ],
   "source": [
    "lr = LinearRegression(n_jobs=-1)"
   ]
  },
  {
   "cell_type": "code",
   "execution_count": 14,
   "metadata": {
    "ExecuteTime": {
     "end_time": "2021-02-23T21:03:10.484894Z",
     "start_time": "2021-02-23T21:03:10.479559Z"
    }
   },
   "outputs": [
    {
     "name": "stdout",
     "output_type": "stream",
     "text": [
      "time: 11.8 ms (started: 2021-04-28 01:40:07 +00:00)\n"
     ]
    }
   ],
   "source": [
    "labels = sorted(cv_data.filter(like='fwd').columns)\n",
    "features = cv_data.columns.difference(labels).tolist()"
   ]
  },
  {
   "cell_type": "markdown",
   "metadata": {},
   "source": [
    "### CV Parameters"
   ]
  },
  {
   "cell_type": "markdown",
   "metadata": {},
   "source": [
    "We set five different training lengths from 3 months to 5 years, and two test periods as follows:"
   ]
  },
  {
   "cell_type": "code",
   "execution_count": 18,
   "metadata": {
    "ExecuteTime": {
     "end_time": "2021-02-23T21:03:13.489653Z",
     "start_time": "2021-02-23T21:03:13.487857Z"
    }
   },
   "outputs": [
    {
     "name": "stdout",
     "output_type": "stream",
     "text": [
      "time: 584 µs (started: 2021-04-28 01:42:02 +00:00)\n"
     ]
    }
   ],
   "source": [
    "train_lengths = [5 * YEAR, 3 * YEAR, YEAR, 126, 63]\n",
    "test_lengths = [5, 21]\n",
    "val_length = 2 * YEAR"
   ]
  },
  {
   "cell_type": "markdown",
   "metadata": {},
   "source": [
    "Since linear regression has no hyperparameters, our CV parameters are the cartesian product of prediction horizon and train/test period lengths:"
   ]
  },
  {
   "cell_type": "code",
   "execution_count": 16,
   "metadata": {
    "ExecuteTime": {
     "end_time": "2021-02-23T21:03:13.862028Z",
     "start_time": "2021-02-23T21:03:13.860080Z"
    }
   },
   "outputs": [
    {
     "data": {
      "text/plain": [
       "40"
      ]
     },
     "execution_count": 16,
     "metadata": {},
     "output_type": "execute_result"
    },
    {
     "name": "stdout",
     "output_type": "stream",
     "text": [
      "time: 3.04 ms (started: 2021-04-28 01:40:46 +00:00)\n"
     ]
    }
   ],
   "source": [
    "test_params = list(product(lookaheads, train_lengths, test_lengths))\n",
    "len(test_params)"
   ]
  },
  {
   "cell_type": "markdown",
   "metadata": {},
   "source": [
    "Now we iterate over these parameters and train/validate the linear regression model while capturing the information coefficient of the model predictions, measure both on a daily basis and for each complete fold:"
   ]
  },
  {
   "cell_type": "code",
   "execution_count": 19,
   "metadata": {
    "ExecuteTime": {
     "end_time": "2021-02-23T21:06:13.550374Z",
     "start_time": "2021-02-23T21:03:14.743079Z"
    }
   },
   "outputs": [
    {
     "name": "stderr",
     "output_type": "stream",
     "text": [
      "100%|██████████| 40/40 [04:21<00:00,  6.55s/it]"
     ]
    },
    {
     "name": "stdout",
     "output_type": "stream",
     "text": [
      "time: 4min 21s (started: 2021-04-28 01:42:05 +00:00)\n"
     ]
    },
    {
     "name": "stderr",
     "output_type": "stream",
     "text": [
      "\n"
     ]
    }
   ],
   "source": [
    "lr_metrics = []\n",
    "for lookahead, train_length, test_length in tqdm(test_params):\n",
    "    label = f'fwd_ret_{lookahead:02}'\n",
    "    df = cv_data.loc[:, features + [label]].dropna()\n",
    "    X, y = df.drop(label, axis=1), df[label]\n",
    "\n",
    "    n_splits = int(val_length / test_length)\n",
    "    cv = MultipleTimeSeriesCV(n_splits=n_splits,\n",
    "                              test_period_length=test_length,\n",
    "                              lookahead=lookahead,\n",
    "                              train_period_length=train_length)\n",
    "\n",
    "    ic, preds = [], []\n",
    "    for i, (train_idx, test_idx) in enumerate(cv.split(X=X)):\n",
    "        X_train, y_train = X.iloc[train_idx], y.iloc[train_idx]\n",
    "        X_test, y_test = X.iloc[test_idx], y.iloc[test_idx]\n",
    "        lr.fit(X_train, y_train)\n",
    "        y_pred = lr.predict(X_test)\n",
    "        preds.append(y_test.to_frame('y_true').assign(y_pred=y_pred))\n",
    "        ic.append(spearmanr(y_test, y_pred)[0])\n",
    "    preds = pd.concat(preds)\n",
    "    lr_metrics.append([\n",
    "        lookahead, train_length, test_length,\n",
    "        np.mean(ic),\n",
    "        spearmanr(preds.y_true, preds.y_pred)[0]\n",
    "    ])\n",
    "\n",
    "columns = ['lookahead', 'train_length', 'test_length', 'ic_by_day', 'ic']\n",
    "lr_metrics = pd.DataFrame(lr_metrics, columns=columns)"
   ]
  },
  {
   "cell_type": "code",
   "execution_count": 20,
   "metadata": {
    "ExecuteTime": {
     "end_time": "2021-02-23T21:06:13.559369Z",
     "start_time": "2021-02-23T21:06:13.551735Z"
    }
   },
   "outputs": [
    {
     "name": "stdout",
     "output_type": "stream",
     "text": [
      "<class 'pandas.core.frame.DataFrame'>\n",
      "RangeIndex: 40 entries, 0 to 39\n",
      "Data columns (total 5 columns):\n",
      " #   Column        Non-Null Count  Dtype  \n",
      "---  ------        --------------  -----  \n",
      " 0   lookahead     40 non-null     int64  \n",
      " 1   train_length  40 non-null     int64  \n",
      " 2   test_length   40 non-null     int64  \n",
      " 3   ic_by_day     40 non-null     float64\n",
      " 4   ic            40 non-null     float64\n",
      "dtypes: float64(2), int64(3)\n",
      "memory usage: 1.7 KB\n",
      "time: 14.4 ms (started: 2021-04-28 01:48:32 +00:00)\n"
     ]
    }
   ],
   "source": [
    "lr_metrics.info()"
   ]
  },
  {
   "cell_type": "markdown",
   "metadata": {},
   "source": [
    "### Information Coefficient distribution by Lookahead"
   ]
  },
  {
   "cell_type": "markdown",
   "metadata": {},
   "source": [
    "Convert the data to long `seaborn`-friendly format:"
   ]
  },
  {
   "cell_type": "code",
   "execution_count": 21,
   "metadata": {
    "ExecuteTime": {
     "end_time": "2021-02-23T21:06:13.581232Z",
     "start_time": "2021-02-23T21:06:13.560493Z"
    }
   },
   "outputs": [
    {
     "name": "stdout",
     "output_type": "stream",
     "text": [
      "<class 'pandas.core.frame.DataFrame'>\n",
      "Int64Index: 80 entries, 0 to 39\n",
      "Data columns (total 5 columns):\n",
      " #   Column        Non-Null Count  Dtype  \n",
      "---  ------        --------------  -----  \n",
      " 0   Lookahead     80 non-null     int64  \n",
      " 1   Train Length  80 non-null     int64  \n",
      " 2   Test Length   80 non-null     int64  \n",
      " 3   IC            80 non-null     float64\n",
      " 4   Measure       80 non-null     object \n",
      "dtypes: float64(1), int64(3), object(1)\n",
      "memory usage: 3.8+ KB\n",
      "time: 18.1 ms (started: 2021-04-28 01:48:49 +00:00)\n"
     ]
    }
   ],
   "source": [
    "lr_metrics_long = pd.concat([(lr_metrics.drop('ic', axis=1)\n",
    "                              .rename(columns={'ic_by_day': 'ic'})\n",
    "                              .assign(Measured='By Day')),\n",
    "                             lr_metrics.drop('ic_by_day', axis=1)\n",
    "                             .assign(Measured='Overall')])\n",
    "lr_metrics_long.columns=['Lookahead', 'Train Length', 'Test Length', 'IC', 'Measure']\n",
    "lr_metrics_long.info()"
   ]
  },
  {
   "cell_type": "markdown",
   "metadata": {},
   "source": [
    "Plot both IC measures for the various CV parameters:"
   ]
  },
  {
   "cell_type": "code",
   "execution_count": 22,
   "metadata": {
    "ExecuteTime": {
     "end_time": "2021-02-23T21:06:14.939908Z",
     "start_time": "2021-02-23T21:06:13.694370Z"
    }
   },
   "outputs": [
    {
     "data": {
      "text/plain": [
       "<seaborn.axisgrid.FacetGrid at 0x7fdd209a6810>"
      ]
     },
     "execution_count": 22,
     "metadata": {},
     "output_type": "execute_result"
    },
    {
     "data": {
      "image/png": "[encoded data removed]",
      "text/plain": [
       "<Figure size 1505.12x720 with 8 Axes>"
      ]
     },
     "metadata": {},
     "output_type": "display_data"
    },
    {
     "name": "stdout",
     "output_type": "stream",
     "text": [
      "time: 1.9 s (started: 2021-04-28 01:48:55 +00:00)\n"
     ]
    }
   ],
   "source": [
    "sns.catplot(x='Train Length',\n",
    "            y='IC',\n",
    "            hue='Test Length',\n",
    "            col='Lookahead',\n",
    "            row='Measure',\n",
    "            data=lr_metrics_long,\n",
    "            kind='bar')"
   ]
  },
  {
   "cell_type": "markdown",
   "metadata": {},
   "source": [
    "Compare the distributions of each IC metric for the different prediction horizons:"
   ]
  },
  {
   "cell_type": "code",
   "execution_count": 23,
   "metadata": {
    "ExecuteTime": {
     "end_time": "2021-02-23T21:06:21.531611Z",
     "start_time": "2021-02-23T21:06:21.262501Z"
    }
   },
   "outputs": [
    {
     "data": {
      "image/png": "[encoded data removed]",
      "text/plain": [
       "<Figure size 1008x360 with 2 Axes>"
      ]
     },
     "metadata": {},
     "output_type": "display_data"
    },
    {
     "name": "stdout",
     "output_type": "stream",
     "text": [
      "time: 442 ms (started: 2021-04-28 01:49:27 +00:00)\n"
     ]
    }
   ],
   "source": [
    "fig, axes =plt.subplots(ncols=2, figsize=(14,5), sharey=True)\n",
    "sns.boxplot(x='lookahead', y='ic_by_day',data=lr_metrics, ax=axes[0])\n",
    "axes[0].set_title('IC by Day')\n",
    "sns.boxplot(x='lookahead', y='ic',data=lr_metrics, ax=axes[1])\n",
    "axes[1].set_title('IC Overall')\n",
    "axes[0].set_ylabel('Information Coefficient')\n",
    "axes[1].set_ylabel('')\n",
    "sns.despine()\n",
    "fig.tight_layout()"
   ]
  },
  {
   "cell_type": "markdown",
   "metadata": {},
   "source": [
    "### Best Train/Test Period Lengths"
   ]
  },
  {
   "cell_type": "markdown",
   "metadata": {},
   "source": [
    "Show the best train/test period settings for the four prediction horizons:"
   ]
  },
  {
   "cell_type": "code",
   "execution_count": 24,
   "metadata": {
    "ExecuteTime": {
     "end_time": "2021-02-23T21:06:38.980665Z",
     "start_time": "2021-02-23T21:06:38.968811Z"
    }
   },
   "outputs": [
    {
     "data": {
      "text/html": [
       "<div>\n",
       "<style scoped>\n",
       "    .dataframe tbody tr th:only-of-type {\n",
       "        vertical-align: middle;\n",
       "    }\n",
       "\n",
       "    .dataframe tbody tr th {\n",
       "        vertical-align: top;\n",
       "    }\n",
       "\n",
       "    .dataframe thead th {\n",
       "        text-align: right;\n",
       "    }\n",
       "</style>\n",
       "<table border=\"1\" class=\"dataframe\">\n",
       "  <thead>\n",
       "    <tr style=\"text-align: right;\">\n",
       "      <th></th>\n",
       "      <th>lookahead</th>\n",
       "      <th>train_length</th>\n",
       "      <th>test_length</th>\n",
       "      <th>ic_by_day</th>\n",
       "      <th>ic</th>\n",
       "    </tr>\n",
       "  </thead>\n",
       "  <tbody>\n",
       "    <tr>\n",
       "      <th>9</th>\n",
       "      <td>1</td>\n",
       "      <td>63</td>\n",
       "      <td>21</td>\n",
       "      <td>0.033615</td>\n",
       "      <td>0.037822</td>\n",
       "    </tr>\n",
       "    <tr>\n",
       "      <th>7</th>\n",
       "      <td>1</td>\n",
       "      <td>126</td>\n",
       "      <td>21</td>\n",
       "      <td>0.015814</td>\n",
       "      <td>0.037618</td>\n",
       "    </tr>\n",
       "    <tr>\n",
       "      <th>5</th>\n",
       "      <td>1</td>\n",
       "      <td>252</td>\n",
       "      <td>21</td>\n",
       "      <td>0.042732</td>\n",
       "      <td>0.031847</td>\n",
       "    </tr>\n",
       "    <tr>\n",
       "      <th>19</th>\n",
       "      <td>5</td>\n",
       "      <td>63</td>\n",
       "      <td>21</td>\n",
       "      <td>0.148540</td>\n",
       "      <td>0.110126</td>\n",
       "    </tr>\n",
       "    <tr>\n",
       "      <th>17</th>\n",
       "      <td>5</td>\n",
       "      <td>126</td>\n",
       "      <td>21</td>\n",
       "      <td>0.115812</td>\n",
       "      <td>0.101829</td>\n",
       "    </tr>\n",
       "    <tr>\n",
       "      <th>16</th>\n",
       "      <td>5</td>\n",
       "      <td>126</td>\n",
       "      <td>5</td>\n",
       "      <td>0.114283</td>\n",
       "      <td>0.074268</td>\n",
       "    </tr>\n",
       "    <tr>\n",
       "      <th>26</th>\n",
       "      <td>10</td>\n",
       "      <td>126</td>\n",
       "      <td>5</td>\n",
       "      <td>0.098941</td>\n",
       "      <td>0.140911</td>\n",
       "    </tr>\n",
       "    <tr>\n",
       "      <th>27</th>\n",
       "      <td>10</td>\n",
       "      <td>126</td>\n",
       "      <td>21</td>\n",
       "      <td>0.158797</td>\n",
       "      <td>0.138540</td>\n",
       "    </tr>\n",
       "    <tr>\n",
       "      <th>28</th>\n",
       "      <td>10</td>\n",
       "      <td>63</td>\n",
       "      <td>5</td>\n",
       "      <td>0.080264</td>\n",
       "      <td>0.122674</td>\n",
       "    </tr>\n",
       "    <tr>\n",
       "      <th>39</th>\n",
       "      <td>21</td>\n",
       "      <td>63</td>\n",
       "      <td>21</td>\n",
       "      <td>0.174340</td>\n",
       "      <td>0.163393</td>\n",
       "    </tr>\n",
       "    <tr>\n",
       "      <th>38</th>\n",
       "      <td>21</td>\n",
       "      <td>63</td>\n",
       "      <td>5</td>\n",
       "      <td>0.071355</td>\n",
       "      <td>0.116145</td>\n",
       "    </tr>\n",
       "    <tr>\n",
       "      <th>37</th>\n",
       "      <td>21</td>\n",
       "      <td>126</td>\n",
       "      <td>21</td>\n",
       "      <td>0.162746</td>\n",
       "      <td>0.114384</td>\n",
       "    </tr>\n",
       "  </tbody>\n",
       "</table>\n",
       "</div>"
      ],
      "text/plain": [
       "    lookahead  train_length  test_length  ic_by_day        ic\n",
       "9           1            63           21   0.033615  0.037822\n",
       "7           1           126           21   0.015814  0.037618\n",
       "5           1           252           21   0.042732  0.031847\n",
       "19          5            63           21   0.148540  0.110126\n",
       "17          5           126           21   0.115812  0.101829\n",
       "16          5           126            5   0.114283  0.074268\n",
       "26         10           126            5   0.098941  0.140911\n",
       "27         10           126           21   0.158797  0.138540\n",
       "28         10            63            5   0.080264  0.122674\n",
       "39         21            63           21   0.174340  0.163393\n",
       "38         21            63            5   0.071355  0.116145\n",
       "37         21           126           21   0.162746  0.114384"
      ]
     },
     "execution_count": 24,
     "metadata": {},
     "output_type": "execute_result"
    },
    {
     "name": "stdout",
     "output_type": "stream",
     "text": [
      "time: 29.3 ms (started: 2021-04-28 01:49:36 +00:00)\n"
     ]
    }
   ],
   "source": [
    "(lr_metrics.groupby('lookahead', group_keys=False)\n",
    " .apply(lambda x: x.nlargest(3, 'ic')))"
   ]
  },
  {
   "cell_type": "code",
   "execution_count": 26,
   "metadata": {
    "ExecuteTime": {
     "end_time": "2021-02-23T21:06:39.692899Z",
     "start_time": "2021-02-23T21:06:39.687816Z"
    }
   },
   "outputs": [
    {
     "name": "stdout",
     "output_type": "stream",
     "text": [
      "  adding: result/lin_reg_performance.csv (deflated 53%)\n",
      "time: 138 ms (started: 2021-04-28 01:50:25 +00:00)\n"
     ]
    }
   ],
   "source": [
    "lr_metrics.to_csv(path_result / 'lin_reg_performance.csv', index=False)\n",
    "!zip stooq_jp_result.zip result/lin_reg_performance.csv"
   ]
  },
  {
   "cell_type": "markdown",
   "metadata": {},
   "source": [
    "## LightGBM Random Forest Model Tuning"
   ]
  },
  {
   "cell_type": "markdown",
   "metadata": {},
   "source": [
    "Helper function to obtain the LightGBM feature importance metrics:"
   ]
  },
  {
   "cell_type": "code",
   "execution_count": 122,
   "metadata": {
    "ExecuteTime": {
     "end_time": "2021-02-23T21:06:42.973574Z",
     "start_time": "2021-02-23T21:06:42.971491Z"
    }
   },
   "outputs": [
    {
     "name": "stdout",
     "output_type": "stream",
     "text": [
      "time: 694 µs (started: 2021-04-28 11:10:11 +00:00)\n"
     ]
    }
   ],
   "source": [
    "def get_fi(model):\n",
    "    fi = model.feature_importance(importance_type='gain')\n",
    "    return (pd.Series(fi / fi.sum(),\n",
    "                      index=model.feature_name()))"
   ]
  },
  {
   "cell_type": "markdown",
   "metadata": {},
   "source": [
    "LightGBM base parameter settings that are independent of hyperparameter tuning:"
   ]
  },
  {
   "cell_type": "code",
   "execution_count": 123,
   "metadata": {
    "ExecuteTime": {
     "end_time": "2021-02-23T21:06:43.275439Z",
     "start_time": "2021-02-23T21:06:43.273605Z"
    }
   },
   "outputs": [
    {
     "name": "stdout",
     "output_type": "stream",
     "text": [
      "# of cpus: 4\n",
      "time: 1.32 ms (started: 2021-04-28 11:10:14 +00:00)\n"
     ]
    }
   ],
   "source": [
    "cpu_count = os.cpu_count()\n",
    "print('# of cpus:', cpu_count)\n",
    "\n",
    "base_params = dict(boosting_type='rf',\n",
    "                   objective='regression',\n",
    "                   bagging_freq=1,\n",
    "                   n_jobs=cpu_count,\n",
    "                   verbose=-1)"
   ]
  },
  {
   "cell_type": "markdown",
   "metadata": {},
   "source": [
    "### Hyperparameter Options"
   ]
  },
  {
   "cell_type": "markdown",
   "metadata": {},
   "source": [
    "We run this experiment with different parameters for the bagging and feature fractions that determine the degree of randomization as well as the minimum number of samples for a split to control overfitting:"
   ]
  },
  {
   "cell_type": "code",
   "execution_count": 124,
   "metadata": {
    "ExecuteTime": {
     "end_time": "2021-02-23T21:06:43.723643Z",
     "start_time": "2021-02-23T21:06:43.721635Z"
    }
   },
   "outputs": [
    {
     "name": "stdout",
     "output_type": "stream",
     "text": [
      "time: 512 µs (started: 2021-04-28 11:10:29 +00:00)\n"
     ]
    }
   ],
   "source": [
    "bagging_fraction_opts = [.5, .75, .95]\n",
    "feature_fraction_opts = [.75, .95]\n",
    "min_data_in_leaf_opts = [250, 500, 1000]"
   ]
  },
  {
   "cell_type": "markdown",
   "metadata": {},
   "source": [
    "This gives us 3x2x3=18 parameter combinations:"
   ]
  },
  {
   "cell_type": "code",
   "execution_count": 125,
   "metadata": {
    "ExecuteTime": {
     "end_time": "2021-02-23T21:06:44.011435Z",
     "start_time": "2021-02-23T21:06:44.008386Z"
    }
   },
   "outputs": [
    {
     "data": {
      "text/plain": [
       "18"
      ]
     },
     "execution_count": 125,
     "metadata": {},
     "output_type": "execute_result"
    },
    {
     "name": "stdout",
     "output_type": "stream",
     "text": [
      "time: 3 ms (started: 2021-04-28 11:10:34 +00:00)\n"
     ]
    }
   ],
   "source": [
    "cv_params = list(product(bagging_fraction_opts,\n",
    "                         feature_fraction_opts,\n",
    "                         min_data_in_leaf_opts))\n",
    "n_cv_params = len(cv_params)\n",
    "n_cv_params"
   ]
  },
  {
   "cell_type": "markdown",
   "metadata": {},
   "source": [
    "#### Random Sample"
   ]
  },
  {
   "cell_type": "markdown",
   "metadata": {},
   "source": [
    "To limit the running time, we can randomly sample a subset of the parameter combinations (here: 50%):"
   ]
  },
  {
   "cell_type": "code",
   "execution_count": 146,
   "metadata": {
    "ExecuteTime": {
     "end_time": "2021-02-23T21:06:47.930930Z",
     "start_time": "2021-02-23T21:06:47.927983Z"
    }
   },
   "outputs": [
    {
     "name": "stdout",
     "output_type": "stream",
     "text": [
      "# CV parameters: 9\n",
      "time: 1.84 ms (started: 2021-04-28 11:42:25 +00:00)\n"
     ]
    }
   ],
   "source": [
    "sample_proportion = .5\n",
    "#sample_proportion = .2 # testing\n",
    "sample_size = int(sample_proportion * n_cv_params)\n",
    "\n",
    "cv_param_sample = np.random.choice(list(range(n_cv_params)), \n",
    "                                     size=int(sample_size), \n",
    "                                     replace=False)\n",
    "cv_params_ = [cv_params[i] for i in cv_param_sample]\n",
    "print('# CV parameters:', len(cv_params_))"
   ]
  },
  {
   "cell_type": "markdown",
   "metadata": {},
   "source": [
    "We tune the number of trees by evaluating a fully grown forest for various smaller sizes:"
   ]
  },
  {
   "cell_type": "code",
   "execution_count": 147,
   "metadata": {
    "ExecuteTime": {
     "end_time": "2021-02-23T21:06:55.150158Z",
     "start_time": "2021-02-23T21:06:55.148138Z"
    }
   },
   "outputs": [
    {
     "name": "stdout",
     "output_type": "stream",
     "text": [
      "time: 486 µs (started: 2021-04-28 11:42:27 +00:00)\n"
     ]
    }
   ],
   "source": [
    "num_iterations = [25] + list(range(50, 501, 25))\n",
    "num_boost_round = num_iterations[-1]"
   ]
  },
  {
   "cell_type": "markdown",
   "metadata": {},
   "source": [
    "### Train/Test Period Lenghts"
   ]
  },
  {
   "cell_type": "markdown",
   "metadata": {},
   "source": [
    "As above for linear regression, we define a range of train/test period length:"
   ]
  },
  {
   "cell_type": "markdown",
   "metadata": {},
   "source": [
    "#### Define parameters"
   ]
  },
  {
   "cell_type": "code",
   "execution_count": 148,
   "metadata": {
    "ExecuteTime": {
     "end_time": "2021-02-23T21:06:58.294789Z",
     "start_time": "2021-02-23T21:06:58.292755Z"
    }
   },
   "outputs": [
    {
     "name": "stdout",
     "output_type": "stream",
     "text": [
      "time: 665 µs (started: 2021-04-28 11:42:30 +00:00)\n"
     ]
    }
   ],
   "source": [
    "train_lengths = [5 * YEAR, 3 * YEAR, YEAR, 126, 63]\n",
    "test_lengths = [5, 21]\n",
    "val_lengths = 2 * YEAR\n",
    "\n",
    "test_params = list(product(train_lengths, test_lengths))\n",
    "n_test_params = len(test_params)"
   ]
  },
  {
   "cell_type": "markdown",
   "metadata": {},
   "source": [
    "#### Random sample"
   ]
  },
  {
   "cell_type": "markdown",
   "metadata": {},
   "source": [
    "Just as for the model parameters, we can randomly sample from the 5 x 2 = 8 training configurations (here: 50%):"
   ]
  },
  {
   "cell_type": "code",
   "execution_count": 157,
   "metadata": {
    "ExecuteTime": {
     "end_time": "2021-02-23T21:07:03.099343Z",
     "start_time": "2021-02-23T21:07:03.096099Z"
    }
   },
   "outputs": [
    {
     "name": "stdout",
     "output_type": "stream",
     "text": [
      "lookaheads: 4\n",
      "Train configs: 5\n",
      "CV Iterations: 9\n",
      "# of run: 180\n",
      "time: 3.46 ms (started: 2021-04-28 22:15:29 +00:00)\n"
     ]
    }
   ],
   "source": [
    "sample_proportion = 0.5\n",
    "#sample_proportion = .2 # testing\n",
    "sample_size = int(sample_proportion * n_test_params)\n",
    "\n",
    "test_param_sample = np.random.choice(list(range(n_test_params)), \n",
    "                                     size=int(sample_size), \n",
    "                                     replace=False)\n",
    "test_params_ = [test_params[i] for i in test_param_sample]\n",
    "print('lookaheads:', len(lookaheads))\n",
    "print('Train configs:', len(test_params_))\n",
    "print('CV Iterations:', len(cv_params_))\n",
    "print('# of run:', len(lookaheads) * len(test_params_) * len(cv_params_))"
   ]
  },
  {
   "cell_type": "markdown",
   "metadata": {},
   "source": [
    "### Categorical Variables"
   ]
  },
  {
   "cell_type": "markdown",
   "metadata": {},
   "source": [
    "To leverage LightGBM's ability to handle categorical variables, we need to define them; we'll also `factorize` them so they are both integer-encoded and start at zero (optional, but otherwise throws a warning) as expected by LightGBM:"
   ]
  },
  {
   "cell_type": "code",
   "execution_count": 150,
   "metadata": {
    "ExecuteTime": {
     "end_time": "2021-02-23T21:07:13.475533Z",
     "start_time": "2021-02-23T21:07:13.416092Z"
    }
   },
   "outputs": [
    {
     "name": "stdout",
     "output_type": "stream",
     "text": [
      "<class 'pandas.core.frame.DataFrame'>\n",
      "MultiIndex: 420082 entries, ('1605.JP', Timestamp('2010-01-04 00:00:00')) to ('9984.JP', Timestamp('2017-12-29 00:00:00'))\n",
      "Data columns (total 23 columns):\n",
      " #   Column           Non-Null Count   Dtype  \n",
      "---  ------           --------------   -----  \n",
      " 0   ret_1            419868 non-null  float64\n",
      " 1   ret_rel_perc_1   419868 non-null  float64\n",
      " 2   ret_5            419012 non-null  float64\n",
      " 3   ret_rel_perc_5   419012 non-null  float64\n",
      " 4   ret_10           417942 non-null  float64\n",
      " 5   ret_rel_perc_10  417942 non-null  float64\n",
      " 6   ret_21           415588 non-null  float64\n",
      " 7   ret_rel_perc_21  415588 non-null  float64\n",
      " 8   ret_63           406600 non-null  float64\n",
      " 9   ret_rel_perc_63  406600 non-null  float64\n",
      " 10  PPO              414732 non-null  float64\n",
      " 11  NATR             417086 non-null  float64\n",
      " 12  RSI              417086 non-null  float64\n",
      " 13  bbl              419226 non-null  float64\n",
      " 14  bbu              419226 non-null  float64\n",
      " 15  weekday          420082 non-null  int64  \n",
      " 16  month            420082 non-null  int64  \n",
      " 17  year             420082 non-null  int64  \n",
      " 18  fwd_ret_01       420082 non-null  float64\n",
      " 19  fwd_ret_05       420082 non-null  float64\n",
      " 20  fwd_ret_10       420082 non-null  float64\n",
      " 21  fwd_ret_21       420082 non-null  float64\n",
      " 22  fwd_ret_63       420082 non-null  float64\n",
      "dtypes: float64(20), int64(3)\n",
      "memory usage: 75.4+ MB\n",
      "time: 2.43 s (started: 2021-04-28 11:42:44 +00:00)\n"
     ]
    }
   ],
   "source": [
    "cv_data = (pd.read_csv(path_data / 'stooq_jp_equities_cv.csv' , parse_dates=['date'])\n",
    "             .set_index(['ticker','date'])\n",
    "             .sort_index(level=['ticker','date'])      \n",
    "          )\n",
    "categoricals = ['year', 'weekday', 'month']\n",
    "for feature in categoricals:\n",
    "    cv_data[feature] = pd.factorize(cv_data[feature], sort=True)[0]\n",
    "cv_data.info()"
   ]
  },
  {
   "cell_type": "markdown",
   "metadata": {},
   "source": [
    "### Run Cross-Validation"
   ]
  },
  {
   "cell_type": "markdown",
   "metadata": {},
   "source": [
    "Set up some helper variabels and storage locations to faciliate the CV process and result storage:"
   ]
  },
  {
   "cell_type": "code",
   "execution_count": 151,
   "metadata": {
    "ExecuteTime": {
     "end_time": "2021-02-23T21:07:19.937133Z",
     "start_time": "2021-02-23T21:07:19.932175Z"
    }
   },
   "outputs": [
    {
     "name": "stdout",
     "output_type": "stream",
     "text": [
      "time: 5.96 ms (started: 2021-04-28 11:43:03 +00:00)\n"
     ]
    }
   ],
   "source": [
    "labels = sorted(cv_data.filter(like='fwd').columns)\n",
    "features = cv_data.columns.difference(labels).tolist()\n",
    "label_dict = dict(zip(lookaheads, labels))"
   ]
  },
  {
   "cell_type": "code",
   "execution_count": 152,
   "metadata": {
    "ExecuteTime": {
     "end_time": "2021-02-23T21:07:20.542696Z",
     "start_time": "2021-02-23T21:07:20.540238Z"
    }
   },
   "outputs": [
    {
     "name": "stdout",
     "output_type": "stream",
     "text": [
      "time: 509 µs (started: 2021-04-28 11:43:04 +00:00)\n"
     ]
    }
   ],
   "source": [
    "ic_cols = ['bagging_fraction',\n",
    "           'feature_fraction',\n",
    "           'min_data_in_leaf',\n",
    "           't'] + [str(n) for n in num_iterations]"
   ]
  },
  {
   "cell_type": "markdown",
   "metadata": {},
   "source": [
    "Now we take the following steps:\n",
    "- we iterate over the prediction horizons and train/test period length, \n",
    "- set up the `MultipleTimeSeriesCV` accordingly\n",
    "- create the binary LightGBM dataset with the appropriate target, and\n",
    "- iterate over the model hyperparamters to train and validate the model while capturing the relevant performance metrics:"
   ]
  },
  {
   "cell_type": "code",
   "execution_count": 153,
   "metadata": {},
   "outputs": [
    {
     "name": "stdout",
     "output_type": "stream",
     "text": [
      "time: 738 µs (started: 2021-04-28 11:43:07 +00:00)\n"
     ]
    }
   ],
   "source": [
    "from google.cloud import storage\n",
    "\n",
    "def upload_blob(source_file_name, \n",
    "                destination_dir='lbk/rf/', \n",
    "                bucket_name='finance_data_bucket'):\n",
    "    \"\"\"Uploads a file to the bucket.\"\"\"\n",
    "    # The ID of your GCS bucket\n",
    "    # bucket_name = \"your-bucket-name\"\n",
    "    # The path to your file to upload\n",
    "    # source_file_name = \"local/path/to/file\"\n",
    "    # The ID of your GCS object\n",
    "    # destination_blob_name = \"storage-object-name\"\n",
    "\n",
    "    destination_blob_name = destination_dir + str(source_file_name).split('/')[-1]\n",
    "    storage_client = storage.Client()\n",
    "    bucket = storage_client.bucket(bucket_name)\n",
    "    blob = bucket.blob(destination_blob_name)\n",
    "    blob.upload_from_filename(source_file_name)\n",
    "    print(\n",
    "        \"File {} uploaded to {}.\".format(\n",
    "            source_file_name, destination_blob_name\n",
    "        )\n",
    "    )"
   ]
  },
  {
   "cell_type": "code",
   "execution_count": 158,
   "metadata": {
    "ExecuteTime": {
     "end_time": "2020-06-20T13:37:54.346461Z",
     "start_time": "2020-06-20T04:04:55.813656Z"
    },
    "scrolled": true
   },
   "outputs": [
    {
     "name": "stdout",
     "output_type": "stream",
     "text": [
      "Lookahead:  5 | Train: 126 | Test:  5 | Params:   9\n"
     ]
    },
    {
     "ename": "KeyboardInterrupt",
     "evalue": "",
     "output_type": "error",
     "traceback": [
      "\u001b[0;31m---------------------------------------------------------------------------\u001b[0m",
      "\u001b[0;31mKeyboardInterrupt\u001b[0m                         Traceback (most recent call last)",
      "\u001b[0;32m<ipython-input-158-b0262ecd9945>\u001b[0m in \u001b[0;36m<module>\u001b[0;34m\u001b[0m\n\u001b[1;32m     44\u001b[0m                                   \u001b[0mnum_boost_round\u001b[0m\u001b[0;34m=\u001b[0m\u001b[0mnum_boost_round\u001b[0m\u001b[0;34m,\u001b[0m\u001b[0;34m\u001b[0m\u001b[0;34m\u001b[0m\u001b[0m\n\u001b[1;32m     45\u001b[0m                                   \u001b[0mcategorical_feature\u001b[0m\u001b[0;34m=\u001b[0m\u001b[0mcategoricals\u001b[0m\u001b[0;34m,\u001b[0m\u001b[0;34m\u001b[0m\u001b[0;34m\u001b[0m\u001b[0m\n\u001b[0;32m---> 46\u001b[0;31m                                   verbose_eval=False)\n\u001b[0m\u001b[1;32m     47\u001b[0m                 \u001b[0;32mif\u001b[0m \u001b[0mi\u001b[0m \u001b[0;34m==\u001b[0m \u001b[0;36m0\u001b[0m\u001b[0;34m:\u001b[0m\u001b[0;34m\u001b[0m\u001b[0;34m\u001b[0m\u001b[0m\n\u001b[1;32m     48\u001b[0m                     \u001b[0mfi\u001b[0m \u001b[0;34m=\u001b[0m \u001b[0mget_fi\u001b[0m\u001b[0;34m(\u001b[0m\u001b[0mmodel\u001b[0m\u001b[0;34m)\u001b[0m\u001b[0;34m.\u001b[0m\u001b[0mto_frame\u001b[0m\u001b[0;34m(\u001b[0m\u001b[0;34m)\u001b[0m\u001b[0;34m\u001b[0m\u001b[0;34m\u001b[0m\u001b[0m\n",
      "\u001b[0;32m/opt/conda/lib/python3.7/site-packages/lightgbm/engine.py\u001b[0m in \u001b[0;36mtrain\u001b[0;34m(params, train_set, num_boost_round, valid_sets, valid_names, fobj, feval, init_model, feature_name, categorical_feature, early_stopping_rounds, evals_result, verbose_eval, learning_rates, keep_training_booster, callbacks)\u001b[0m\n\u001b[1;32m    247\u001b[0m                                     evaluation_result_list=None))\n\u001b[1;32m    248\u001b[0m \u001b[0;34m\u001b[0m\u001b[0m\n\u001b[0;32m--> 249\u001b[0;31m         \u001b[0mbooster\u001b[0m\u001b[0;34m.\u001b[0m\u001b[0mupdate\u001b[0m\u001b[0;34m(\u001b[0m\u001b[0mfobj\u001b[0m\u001b[0;34m=\u001b[0m\u001b[0mfobj\u001b[0m\u001b[0;34m)\u001b[0m\u001b[0;34m\u001b[0m\u001b[0;34m\u001b[0m\u001b[0m\n\u001b[0m\u001b[1;32m    250\u001b[0m \u001b[0;34m\u001b[0m\u001b[0m\n\u001b[1;32m    251\u001b[0m         \u001b[0mevaluation_result_list\u001b[0m \u001b[0;34m=\u001b[0m \u001b[0;34m[\u001b[0m\u001b[0;34m]\u001b[0m\u001b[0;34m\u001b[0m\u001b[0;34m\u001b[0m\u001b[0m\n",
      "\u001b[0;32m/opt/conda/lib/python3.7/site-packages/lightgbm/basic.py\u001b[0m in \u001b[0;36mupdate\u001b[0;34m(self, train_set, fobj)\u001b[0m\n\u001b[1;32m   2643\u001b[0m             _safe_call(_LIB.LGBM_BoosterUpdateOneIter(\n\u001b[1;32m   2644\u001b[0m                 \u001b[0mself\u001b[0m\u001b[0;34m.\u001b[0m\u001b[0mhandle\u001b[0m\u001b[0;34m,\u001b[0m\u001b[0;34m\u001b[0m\u001b[0;34m\u001b[0m\u001b[0m\n\u001b[0;32m-> 2645\u001b[0;31m                 ctypes.byref(is_finished)))\n\u001b[0m\u001b[1;32m   2646\u001b[0m             \u001b[0mself\u001b[0m\u001b[0;34m.\u001b[0m\u001b[0m__is_predicted_cur_iter\u001b[0m \u001b[0;34m=\u001b[0m \u001b[0;34m[\u001b[0m\u001b[0;32mFalse\u001b[0m \u001b[0;32mfor\u001b[0m \u001b[0m_\u001b[0m \u001b[0;32min\u001b[0m \u001b[0mrange\u001b[0m\u001b[0;34m(\u001b[0m\u001b[0mself\u001b[0m\u001b[0;34m.\u001b[0m\u001b[0m__num_dataset\u001b[0m\u001b[0;34m)\u001b[0m\u001b[0;34m]\u001b[0m\u001b[0;34m\u001b[0m\u001b[0;34m\u001b[0m\u001b[0m\n\u001b[1;32m   2647\u001b[0m             \u001b[0;32mreturn\u001b[0m \u001b[0mis_finished\u001b[0m\u001b[0;34m.\u001b[0m\u001b[0mvalue\u001b[0m \u001b[0;34m==\u001b[0m \u001b[0;36m1\u001b[0m\u001b[0;34m\u001b[0m\u001b[0;34m\u001b[0m\u001b[0m\n",
      "\u001b[0;31mKeyboardInterrupt\u001b[0m: "
     ]
    },
    {
     "name": "stdout",
     "output_type": "stream",
     "text": [
      "time: 31.8 s (started: 2021-04-28 22:15:52 +00:00)\n"
     ]
    }
   ],
   "source": [
    "import pickle\n",
    "\n",
    "#for lookahead in lookaheads:\n",
    "for lookahead in lookaheads[1:]: # testing\n",
    "    lgb_result = {}\n",
    "    for train_length, test_length in test_params_:\n",
    "        lgb_result_tmp = {}\n",
    "        \n",
    "        n_splits = int(val_lengths / test_length)\n",
    "        print(f'Lookahead: {lookahead:2.0f} | Train: {train_length:3.0f} | '\n",
    "              f'Test: {test_length:2.0f} | Params: {len(cv_params_):3.0f}')\n",
    "\n",
    "        cv = MultipleTimeSeriesCV(n_splits=n_splits,\n",
    "                                  test_period_length=test_length,\n",
    "                                  train_period_length=train_length,\n",
    "                                  lookahead=lookahead)\n",
    "\n",
    "        label = label_dict[lookahead]\n",
    "        outcome_data = cv_data.loc[:, features + [label]].dropna()\n",
    "\n",
    "        lgb_data = lgb.Dataset(data=outcome_data.drop(label, axis=1),\n",
    "                               label=outcome_data[label],\n",
    "                               categorical_feature=categoricals,\n",
    "                               free_raw_data=False)\n",
    "        predictions, daily_ic, ic, feature_importance = [], [], [], []\n",
    "        key = f'{lookahead}/{train_length}/{test_length}'\n",
    "        T = 0\n",
    "        for p, (bagging_fraction, feature_fraction, min_data_in_leaf) in enumerate(cv_params_):\n",
    "            params = base_params.copy()\n",
    "            params.update(dict(bagging_fraction=bagging_fraction,\n",
    "                               feature_fraction=feature_fraction,\n",
    "                               min_data_in_leaf=min_data_in_leaf))\n",
    "\n",
    "            start = time()\n",
    "            cv_preds, nrounds = [], []\n",
    "            for i, (train_idx, test_idx) in enumerate(cv.split(X=outcome_data)):\n",
    "                #lgb_train = lgb_data.subset(train_idx.tolist()).construct()\n",
    "                #lgb_test = lgb_data.subset(test_idx.tolist()).construct()\n",
    "                lgb_train = lgb_data.subset(train_idx.tolist())\n",
    "                lgb_test = lgb_data.subset(test_idx.tolist())\n",
    "\n",
    "                model = lgb.train(params=params,\n",
    "                                  train_set=lgb_train,\n",
    "                                  num_boost_round=num_boost_round,\n",
    "                                  categorical_feature=categoricals, \n",
    "                                  verbose_eval=False)\n",
    "                if i == 0:\n",
    "                    fi = get_fi(model).to_frame()\n",
    "                else:\n",
    "                    fi[i] = get_fi(model)\n",
    "\n",
    "                test_set = outcome_data.iloc[test_idx, :]\n",
    "                X_test = test_set.loc[:, model.feature_name()]\n",
    "                y_test = test_set.loc[:, label]\n",
    "                y_pred = {str(n): model.predict(X_test, num_iteration=n)\n",
    "                          for n in num_iterations}\n",
    "                cv_preds.append(y_test.to_frame(\n",
    "                    'y_test').assign(**y_pred).assign(i=i))\n",
    "                nrounds.append(model.best_iteration)\n",
    "            feature_importance.append(fi.T.describe().T.assign(bagging_fraction=bagging_fraction,\n",
    "                                                               feature_fraction=feature_fraction,\n",
    "                                                               min_data_in_leaf=min_data_in_leaf))\n",
    "            cv_preds = pd.concat(cv_preds).assign(bagging_fraction=bagging_fraction,\n",
    "                                                  feature_fraction=feature_fraction,\n",
    "                                                  min_data_in_leaf=min_data_in_leaf)\n",
    "\n",
    "            #predictions.append(cv_preds)\n",
    "            by_day = cv_preds.groupby(level='date')\n",
    "            ic_by_day = pd.concat([by_day.apply(lambda x: spearmanr(x.y_test,\n",
    "                                                                    x[str(n)])[0]).to_frame(n)\n",
    "                                   for n in num_iterations], axis=1)\n",
    "\n",
    "            daily_ic.append(ic_by_day.assign(bagging_fraction=bagging_fraction,\n",
    "                                             feature_fraction=feature_fraction,\n",
    "                                             min_data_in_leaf=min_data_in_leaf))\n",
    "\n",
    "            cv_ic = [spearmanr(cv_preds.y_test, cv_preds[str(n)])[0]\n",
    "                  for n in num_iterations]\n",
    "\n",
    "            T += time() - start\n",
    "            ic.append([bagging_fraction, feature_fraction,\n",
    "                       min_data_in_leaf, lookahead] + cv_ic)\n",
    "\n",
    "            msg = f'{p:3.0f} | {format_time(T)} | '\n",
    "            msg += f'{bagging_fraction:3.0%} | {feature_fraction:3.0%} | {min_data_in_leaf:5,.0f} | '\n",
    "            msg += f'{max(cv_ic):6.2%} | {ic_by_day.mean().max(): 6.2%} | {ic_by_day.median().max(): 6.2%}'\n",
    "            print(msg)\n",
    "            \n",
    "        lgb_result['ic/' + key] = lgb_result_tmp['ic/' + key] = pd.DataFrame(ic, columns=ic_cols)\n",
    "        lgb_result['daily_ic/' + key] = lgb_result_tmp['daily_ic/' + key] = pd.concat(daily_ic)\n",
    "        lgb_result['fi/' + key] = lgb_result_tmp['fi/' + key] = pd.concat(feature_importance)\n",
    "        #lgb_result['predictions/' + key] = pd.concat(predictions)\n",
    "        \n",
    "        fname = f'rf_reg_tuning_{lookahead}_tmp_{train_length}_{test_length}.pickle'\n",
    "        with open(path_result / fname, 'wb') as handle: # save to data dir\n",
    "            pickle.dump(lgb_result_tmp, handle)\n",
    "        upload_blob(path_result / fname)\n",
    "        \n",
    "    fname = f'rf_reg_tuning_{lookahead}.pickle'\n",
    "    with open(path_result / fname, 'wb') as handle: # save to data dir\n",
    "        pickle.dump(lgb_result, handle)"
   ]
  },
  {
   "cell_type": "code",
   "execution_count": null,
   "metadata": {},
   "outputs": [],
   "source": [
    "!zip stooq_jp_result_cv.zip result/*pickle"
   ]
  },
  {
   "cell_type": "markdown",
   "metadata": {},
   "source": [
    "## Analyse Cross-Validation Results"
   ]
  },
  {
   "cell_type": "markdown",
   "metadata": {},
   "source": [
    "### Collect Data"
   ]
  },
  {
   "cell_type": "markdown",
   "metadata": {},
   "source": [
    "We'll now combine the CV results that we stored separately for each fold (to avoid loosing results in case something goes wrong along the way):"
   ]
  },
  {
   "cell_type": "code",
   "execution_count": 164,
   "metadata": {},
   "outputs": [
    {
     "data": {
      "text/plain": [
       "dict_keys(['ic/1/63/5', 'daily_ic/1/63/5', 'fi/1/63/5', 'ic/1/126/5', 'daily_ic/1/126/5', 'fi/1/126/5', 'ic/1/126/21', 'daily_ic/1/126/21', 'fi/1/126/21', 'ic/1/1260/5', 'daily_ic/1/1260/5', 'fi/1/1260/5', 'ic/1/756/5', 'daily_ic/1/756/5', 'fi/1/756/5'])"
      ]
     },
     "execution_count": 164,
     "metadata": {},
     "output_type": "execute_result"
    },
    {
     "name": "stdout",
     "output_type": "stream",
     "text": [
      "time: 157 ms (started: 2021-04-28 22:21:17 +00:00)\n"
     ]
    }
   ],
   "source": [
    "# concat cv result\n",
    "from os import listdir\n",
    "from os.path import isfile, join\n",
    "files = [f for f in listdir(path_result) if isfile(join(path_result, f))]\n",
    "#files = [f for f in files if f.endswith('pickle')]\n",
    "files = [f for f in files if f.endswith('pickle') and f.find('tmp') > 0]\n",
    "\n",
    "import pickle\n",
    "lgb_result = {}\n",
    "for fname_pickle in files:\n",
    "    with open(path_result / fname_pickle, 'rb') as handle:\n",
    "        lgb_result.update(pickle.load(handle))\n",
    "lgb_result.keys()"
   ]
  },
  {
   "cell_type": "code",
   "execution_count": 165,
   "metadata": {},
   "outputs": [
    {
     "name": "stdout",
     "output_type": "stream",
     "text": [
      "time: 542 µs (started: 2021-04-28 22:22:20 +00:00)\n"
     ]
    }
   ],
   "source": [
    "try:\n",
    "    lookaheads\n",
    "except NameError:\n",
    "    lookaheads = [1, 5, 10, 21]"
   ]
  },
  {
   "cell_type": "code",
   "execution_count": 166,
   "metadata": {
    "ExecuteTime": {
     "end_time": "2021-02-23T21:08:11.601163Z",
     "start_time": "2021-02-23T21:08:11.598884Z"
    }
   },
   "outputs": [
    {
     "name": "stdout",
     "output_type": "stream",
     "text": [
      "time: 502 µs (started: 2021-04-28 22:22:21 +00:00)\n"
     ]
    }
   ],
   "source": [
    "id_vars = ['train_length',\n",
    "           'test_length',\n",
    "           'bagging_fraction',\n",
    "           'feature_fraction',\n",
    "           'min_data_in_leaf',\n",
    "           't', 'date']"
   ]
  },
  {
   "cell_type": "markdown",
   "metadata": {},
   "source": [
    "We'll look at the financial performance in the notebook `alphalens_signal_quality`."
   ]
  },
  {
   "cell_type": "code",
   "execution_count": 168,
   "metadata": {
    "ExecuteTime": {
     "end_time": "2021-02-23T21:09:53.526684Z",
     "start_time": "2021-02-23T21:09:52.554548Z"
    },
    "scrolled": true
   },
   "outputs": [
    {
     "name": "stdout",
     "output_type": "stream",
     "text": [
      "lookahead: 1\n",
      "train/test length: 63 5\n",
      "train/test length: 126 5\n",
      "train/test length: 126 21\n",
      "train/test length: 1260 5\n",
      "train/test length: 756 5\n",
      "lookahead: 5\n",
      "lookahead: 10\n",
      "lookahead: 21\n",
      "time: 207 ms (started: 2021-04-28 22:24:19 +00:00)\n"
     ]
    }
   ],
   "source": [
    "daily_ic, ic = [], []\n",
    "for t in lookaheads:\n",
    "    print('lookahead:', t)\n",
    "    store = lgb_result\n",
    "    keys = [k[1:] for k in store.keys() if k.startswith(f'fi/{t}')]\n",
    "    for key in keys:\n",
    "        train_length, test_length = key.split('/')[2:]\n",
    "        print('train/test length:', train_length, test_length)\n",
    "        k = f'{t}/{train_length}/{test_length}'\n",
    "        cols = {'t': t,\n",
    "                'train_length': int(train_length),\n",
    "                'test_length': int(test_length)}\n",
    "\n",
    "        ic.append(pd.melt(store['ic/' + k]\n",
    "                          .assign(**cols),\n",
    "                          id_vars=id_vars[:-1],\n",
    "                          value_name='ic',\n",
    "                          var_name='rounds')\n",
    "                  .apply(pd.to_numeric))\n",
    "\n",
    "        df = store['daily_ic/' + k].assign(**cols).reset_index()\n",
    "        daily_ic.append(pd.melt(df,\n",
    "                                id_vars=id_vars,\n",
    "                                value_name='daily_ic',\n",
    "                                var_name='rounds')\n",
    "                        .set_index('date')\n",
    "                        .apply(pd.to_numeric)\n",
    "                        .reset_index())            \n",
    "ic = pd.concat(ic, ignore_index=True)\n",
    "daily_ic = pd.concat(daily_ic, ignore_index=True)"
   ]
  },
  {
   "cell_type": "markdown",
   "metadata": {},
   "source": [
    "### Predictive Performance: CV Information Coefficient by Day"
   ]
  },
  {
   "cell_type": "markdown",
   "metadata": {},
   "source": [
    "We first look at the daily IC, the metric we ultimately care about for a daily trading strategy. The best results for all prediction horizons are typically achieved with three years of training; the shorter horizons work better with 21 day testing period length. More regularization often improves the result but the impact of the bagging and feature fraction parameters are a little less clear cut and likely depend on other parameters."
   ]
  },
  {
   "cell_type": "code",
   "execution_count": 169,
   "metadata": {
    "ExecuteTime": {
     "end_time": "2021-02-23T21:09:56.260286Z",
     "start_time": "2021-02-23T21:09:56.033651Z"
    }
   },
   "outputs": [
    {
     "data": {
      "text/html": [
       "<div>\n",
       "<style scoped>\n",
       "    .dataframe tbody tr th:only-of-type {\n",
       "        vertical-align: middle;\n",
       "    }\n",
       "\n",
       "    .dataframe tbody tr th {\n",
       "        vertical-align: top;\n",
       "    }\n",
       "\n",
       "    .dataframe thead th {\n",
       "        text-align: right;\n",
       "    }\n",
       "</style>\n",
       "<table border=\"1\" class=\"dataframe\">\n",
       "  <thead>\n",
       "    <tr style=\"text-align: right;\">\n",
       "      <th></th>\n",
       "      <th>t</th>\n",
       "      <th>train_length</th>\n",
       "      <th>test_length</th>\n",
       "      <th>bagging_fraction</th>\n",
       "      <th>feature_fraction</th>\n",
       "      <th>min_data_in_leaf</th>\n",
       "      <th>rounds</th>\n",
       "      <th>ic</th>\n",
       "    </tr>\n",
       "  </thead>\n",
       "  <tbody>\n",
       "    <tr>\n",
       "      <th>380</th>\n",
       "      <td>1</td>\n",
       "      <td>126</td>\n",
       "      <td>21</td>\n",
       "      <td>0.5</td>\n",
       "      <td>0.95</td>\n",
       "      <td>500</td>\n",
       "      <td>25</td>\n",
       "      <td>0.018387</td>\n",
       "    </tr>\n",
       "    <tr>\n",
       "      <th>381</th>\n",
       "      <td>1</td>\n",
       "      <td>126</td>\n",
       "      <td>21</td>\n",
       "      <td>0.5</td>\n",
       "      <td>0.95</td>\n",
       "      <td>500</td>\n",
       "      <td>50</td>\n",
       "      <td>0.016734</td>\n",
       "    </tr>\n",
       "    <tr>\n",
       "      <th>382</th>\n",
       "      <td>1</td>\n",
       "      <td>126</td>\n",
       "      <td>21</td>\n",
       "      <td>0.5</td>\n",
       "      <td>0.95</td>\n",
       "      <td>500</td>\n",
       "      <td>75</td>\n",
       "      <td>0.016595</td>\n",
       "    </tr>\n",
       "  </tbody>\n",
       "</table>\n",
       "</div>"
      ],
      "text/plain": [
       "     t  train_length  test_length  bagging_fraction  feature_fraction  \\\n",
       "380  1           126           21               0.5              0.95   \n",
       "381  1           126           21               0.5              0.95   \n",
       "382  1           126           21               0.5              0.95   \n",
       "\n",
       "     min_data_in_leaf  rounds        ic  \n",
       "380               500      25  0.018387  \n",
       "381               500      50  0.016734  \n",
       "382               500      75  0.016595  "
      ]
     },
     "execution_count": 169,
     "metadata": {},
     "output_type": "execute_result"
    },
    {
     "name": "stdout",
     "output_type": "stream",
     "text": [
      "time: 76.9 ms (started: 2021-04-28 22:24:26 +00:00)\n"
     ]
    }
   ],
   "source": [
    "group_cols = ['t','train_length', 'test_length', \n",
    "              'bagging_fraction', 'feature_fraction', 'min_data_in_leaf']\n",
    "daily_ic_avg = daily_ic.groupby(group_cols + ['rounds']).daily_ic.mean().to_frame('ic').reset_index()\n",
    "daily_ic_avg.groupby('t', group_keys=False).apply(lambda x: x.nlargest(3, 'ic'))"
   ]
  },
  {
   "cell_type": "code",
   "execution_count": 170,
   "metadata": {
    "ExecuteTime": {
     "end_time": "2021-02-23T21:09:57.084490Z",
     "start_time": "2021-02-23T21:09:57.076867Z"
    }
   },
   "outputs": [
    {
     "name": "stdout",
     "output_type": "stream",
     "text": [
      "<class 'pandas.core.frame.DataFrame'>\n",
      "RangeIndex: 900 entries, 0 to 899\n",
      "Data columns (total 8 columns):\n",
      " #   Column            Non-Null Count  Dtype  \n",
      "---  ------            --------------  -----  \n",
      " 0   t                 900 non-null    int64  \n",
      " 1   train_length      900 non-null    int64  \n",
      " 2   test_length       900 non-null    int64  \n",
      " 3   bagging_fraction  900 non-null    float64\n",
      " 4   feature_fraction  900 non-null    float64\n",
      " 5   min_data_in_leaf  900 non-null    int64  \n",
      " 6   rounds            900 non-null    int64  \n",
      " 7   ic                900 non-null    float64\n",
      "dtypes: float64(3), int64(5)\n",
      "memory usage: 56.4 KB\n",
      "time: 10.5 ms (started: 2021-04-28 22:24:35 +00:00)\n"
     ]
    }
   ],
   "source": [
    "daily_ic_avg.info(null_counts=True)"
   ]
  },
  {
   "cell_type": "markdown",
   "metadata": {},
   "source": [
    "For a 1-day forecast horizon, over 75% of the predictions yield a positive daily IC; the same is true for 21 days which, unsurprisingly, also shows a wider range."
   ]
  },
  {
   "cell_type": "code",
   "execution_count": 171,
   "metadata": {
    "ExecuteTime": {
     "end_time": "2021-02-23T21:09:59.239313Z",
     "start_time": "2021-02-23T21:09:59.116945Z"
    }
   },
   "outputs": [
    {
     "data": {
      "image/png": "[encoded data removed]",
      "text/plain": [
       "<Figure size 432x288 with 1 Axes>"
      ]
     },
     "metadata": {},
     "output_type": "display_data"
    },
    {
     "name": "stdout",
     "output_type": "stream",
     "text": [
      "time: 166 ms (started: 2021-04-28 22:24:37 +00:00)\n"
     ]
    }
   ],
   "source": [
    "ax = sns.boxenplot(x='t', y='ic', data=daily_ic_avg)\n",
    "ax.axhline(0, ls='--', lw=1, c='k');"
   ]
  },
  {
   "cell_type": "code",
   "execution_count": 173,
   "metadata": {
    "ExecuteTime": {
     "end_time": "2021-02-23T21:10:00.267110Z",
     "start_time": "2021-02-23T21:09:59.282710Z"
    }
   },
   "outputs": [
    {
     "data": {
      "image/png": "[encoded data removed]",
      "text/plain": [
       "<Figure size 360x360 with 1 Axes>"
      ]
     },
     "metadata": {},
     "output_type": "display_data"
    },
    {
     "name": "stdout",
     "output_type": "stream",
     "text": [
      "time: 429 ms (started: 2021-04-28 22:25:25 +00:00)\n"
     ]
    }
   ],
   "source": [
    "#test_length = 5\n",
    "test_length = 21\n",
    "g = sns.catplot(x='t',\n",
    "                y='ic',\n",
    "                col='train_length',\n",
    "                row='test_length',\n",
    "                data=daily_ic_avg[(daily_ic_avg.test_length == test_length)],\n",
    "                kind='boxen')\n",
    "g.savefig(path_result / f'daily_ic_test_{test_length:02}', dpi=300);"
   ]
  },
  {
   "cell_type": "markdown",
   "metadata": {},
   "source": [
    "### HyperParameter Impact: Linear Regression"
   ]
  },
  {
   "cell_type": "markdown",
   "metadata": {},
   "source": [
    "To get a better idea of how the various CV parameters impact the forecast quality, we can run a linear regression with the daily IC as outcome and the one-hot encoded hyperparameters as inputs:"
   ]
  },
  {
   "cell_type": "code",
   "execution_count": 174,
   "metadata": {
    "ExecuteTime": {
     "end_time": "2021-02-23T21:10:03.122098Z",
     "start_time": "2021-02-23T21:10:03.056750Z"
    }
   },
   "outputs": [
    {
     "name": "stdout",
     "output_type": "stream",
     "text": [
      "time: 40.5 ms (started: 2021-04-28 22:25:55 +00:00)\n"
     ]
    }
   ],
   "source": [
    "lin_reg = {}\n",
    "#for t in [1, 5]:\n",
    "for t in [1]: # testing\n",
    "    df_ = daily_ic_avg[(daily_ic_avg.t==t)&(daily_ic_avg.rounds<=250)].dropna()\n",
    "    y, X = df_.ic, df_.drop(['ic', 't'], axis=1)\n",
    "    X = sm.add_constant(pd.get_dummies(X, columns=X.columns, drop_first=True))\n",
    "    model = sm.OLS(endog=y, exog=X)\n",
    "    lin_reg[t] = model.fit()\n",
    "    s = lin_reg[t].summary()\n",
    "    coefs = pd.read_csv(StringIO(s.tables[1].as_csv())).rename(\n",
    "        columns=lambda x: x.strip())\n",
    "    coefs.columns = ['variable', 'coef', 'std_err',\n",
    "                     't', 'p_value', 'ci_low', 'ci_high']\n",
    "    coefs.to_csv(path_result / f'lr_result_{t:02}.csv', index=False)"
   ]
  },
  {
   "cell_type": "code",
   "execution_count": 175,
   "metadata": {
    "ExecuteTime": {
     "end_time": "2021-02-23T21:10:03.695084Z",
     "start_time": "2021-02-23T21:10:03.686275Z"
    }
   },
   "outputs": [
    {
     "name": "stdout",
     "output_type": "stream",
     "text": [
      "time: 1.18 ms (started: 2021-04-28 22:26:16 +00:00)\n"
     ]
    }
   ],
   "source": [
    "def visualize_lr_result(model, ax):\n",
    "    ci = model.conf_int()\n",
    "    errors = ci[1].sub(ci[0]).div(2)\n",
    "\n",
    "    coefs = (model.params.to_frame('coef').assign(error=errors)\n",
    "             .reset_index().rename(columns={'index': 'variable'}))\n",
    "    coefs = coefs[~coefs['variable'].str.startswith(\n",
    "        'date') & (coefs.variable != 'const')]\n",
    "    #coefs.variable = coefs.variable.str.split('_').str[-1]\n",
    "\n",
    "    coefs.plot(x='variable', y='coef', kind='bar', ax=ax, \n",
    "               color='none', capsize=3, yerr='error', legend=False, rot=0)    \n",
    "    ax.set_ylabel('IC')\n",
    "    ax.set_xlabel('')\n",
    "    ax.scatter(x=pd.np.arange(len(coefs)), marker='_', s=120, y=coefs['coef'], color='black')\n",
    "    ax.axhline(y=0, linestyle='--', color='black', linewidth=1)\n",
    "    ax.xaxis.set_ticks_position('none')"
   ]
  },
  {
   "cell_type": "markdown",
   "metadata": {},
   "source": [
    "The below plot shows the regression coefficient values and their confidence intervals. The intercept (not shown) has a small positive value and is statistically signifant; it captures the impact of the dropped categories (the smallest value for each parameter).\n",
    "\n",
    "For 1-day forecasts, some but not all results are insightful: 21-day testing is better, and so is `min_samples_leaf` of 500 or 1,000. 100-200 trees seem to work best, but both shorter and longer training periods are better than intermediate values."
   ]
  },
  {
   "cell_type": "code",
   "execution_count": 176,
   "metadata": {
    "ExecuteTime": {
     "end_time": "2021-02-23T21:10:06.305149Z",
     "start_time": "2021-02-23T21:10:05.696990Z"
    }
   },
   "outputs": [
    {
     "ename": "KeyError",
     "evalue": "5",
     "output_type": "error",
     "traceback": [
      "\u001b[0;31m---------------------------------------------------------------------------\u001b[0m",
      "\u001b[0;31mKeyError\u001b[0m                                  Traceback (most recent call last)",
      "\u001b[0;32m<ipython-input-176-1c77223b8768>\u001b[0m in \u001b[0;36m<module>\u001b[0;34m\u001b[0m\n\u001b[1;32m      4\u001b[0m     \u001b[0;32mfor\u001b[0m \u001b[0mi\u001b[0m\u001b[0;34m,\u001b[0m \u001b[0mt\u001b[0m \u001b[0;32min\u001b[0m \u001b[0menumerate\u001b[0m\u001b[0;34m(\u001b[0m\u001b[0;34m[\u001b[0m\u001b[0;36m1\u001b[0m\u001b[0;34m,\u001b[0m \u001b[0;36m5\u001b[0m\u001b[0;34m]\u001b[0m\u001b[0;34m)\u001b[0m\u001b[0;34m:\u001b[0m\u001b[0;34m\u001b[0m\u001b[0;34m\u001b[0m\u001b[0m\n\u001b[1;32m      5\u001b[0m     \u001b[0;31m#for i, t in enumerate([1]): # testing\u001b[0m\u001b[0;34m\u001b[0m\u001b[0;34m\u001b[0m\u001b[0;34m\u001b[0m\u001b[0m\n\u001b[0;32m----> 6\u001b[0;31m         \u001b[0mvisualize_lr_result\u001b[0m\u001b[0;34m(\u001b[0m\u001b[0mlin_reg\u001b[0m\u001b[0;34m[\u001b[0m\u001b[0mt\u001b[0m\u001b[0;34m]\u001b[0m\u001b[0;34m,\u001b[0m \u001b[0maxes\u001b[0m\u001b[0;34m[\u001b[0m\u001b[0mi\u001b[0m\u001b[0;34m]\u001b[0m\u001b[0;34m)\u001b[0m\u001b[0;34m\u001b[0m\u001b[0;34m\u001b[0m\u001b[0m\n\u001b[0m\u001b[1;32m      7\u001b[0m         \u001b[0maxes\u001b[0m\u001b[0;34m[\u001b[0m\u001b[0mi\u001b[0m\u001b[0;34m]\u001b[0m\u001b[0;34m.\u001b[0m\u001b[0mset_title\u001b[0m\u001b[0;34m(\u001b[0m\u001b[0;34mf'Lookahead: {t} Day(s)'\u001b[0m\u001b[0;34m)\u001b[0m\u001b[0;34m\u001b[0m\u001b[0;34m\u001b[0m\u001b[0m\n\u001b[1;32m      8\u001b[0m         \u001b[0maxes\u001b[0m\u001b[0;34m[\u001b[0m\u001b[0mi\u001b[0m\u001b[0;34m]\u001b[0m\u001b[0;34m.\u001b[0m\u001b[0mset_xticklabels\u001b[0m\u001b[0;34m(\u001b[0m\u001b[0maxes\u001b[0m\u001b[0;34m[\u001b[0m\u001b[0mi\u001b[0m\u001b[0;34m]\u001b[0m\u001b[0;34m.\u001b[0m\u001b[0mget_xticklabels\u001b[0m\u001b[0;34m(\u001b[0m\u001b[0;34m)\u001b[0m\u001b[0;34m,\u001b[0m \u001b[0mrotation\u001b[0m \u001b[0;34m=\u001b[0m \u001b[0;36m45\u001b[0m\u001b[0;34m,\u001b[0m \u001b[0mha\u001b[0m\u001b[0;34m=\u001b[0m\u001b[0;34m\"right\"\u001b[0m\u001b[0;34m)\u001b[0m\u001b[0;34m\u001b[0m\u001b[0;34m\u001b[0m\u001b[0m\n",
      "\u001b[0;31mKeyError\u001b[0m: 5"
     ]
    },
    {
     "data": {
      "image/png": "[encoded data removed]",
      "text/plain": [
       "<Figure size 1152x360 with 2 Axes>"
      ]
     },
     "metadata": {},
     "output_type": "display_data"
    },
    {
     "name": "stdout",
     "output_type": "stream",
     "text": [
      "time: 481 ms (started: 2021-04-28 22:26:18 +00:00)\n"
     ]
    }
   ],
   "source": [
    "with sns.axes_style('white'):\n",
    "    fig, axes = plt.subplots(nrows=1, ncols=2, figsize=(16, 5))\n",
    "    axes = axes.flatten()\n",
    "    for i, t in enumerate([1, 5]):\n",
    "        visualize_lr_result(lin_reg[t], axes[i])\n",
    "        axes[i].set_title(f'Lookahead: {t} Day(s)')\n",
    "        axes[i].set_xticklabels(axes[i].get_xticklabels(), rotation = 45, ha=\"right\")\n",
    "    fig.suptitle('OLS Coefficients & Confidence Intervals', fontsize=20)\n",
    "    fig.tight_layout()\n",
    "    fig.subplots_adjust(top=.84)"
   ]
  },
  {
   "cell_type": "markdown",
   "metadata": {},
   "source": [
    "### Information Coefficient: Overall"
   ]
  },
  {
   "cell_type": "markdown",
   "metadata": {},
   "source": [
    "We'll also take a look at the overall IC value, which is often reported but does not necessarily match the goal of a daily trading strategy that uses the model return predictions as well as the daily IC."
   ]
  },
  {
   "cell_type": "code",
   "execution_count": 76,
   "metadata": {
    "ExecuteTime": {
     "end_time": "2021-02-23T21:10:24.159865Z",
     "start_time": "2021-02-23T21:10:24.148886Z"
    }
   },
   "outputs": [
    {
     "name": "stdout",
     "output_type": "stream",
     "text": [
      "<class 'pandas.core.frame.DataFrame'>\n",
      "RangeIndex: 60 entries, 0 to 59\n",
      "Data columns (total 8 columns):\n",
      " #   Column            Non-Null Count  Dtype  \n",
      "---  ------            --------------  -----  \n",
      " 0   train_length      60 non-null     int64  \n",
      " 1   test_length       60 non-null     int64  \n",
      " 2   bagging_fraction  60 non-null     float64\n",
      " 3   feature_fraction  60 non-null     float64\n",
      " 4   min_data_in_leaf  60 non-null     int64  \n",
      " 5   t                 60 non-null     int64  \n",
      " 6   rounds            60 non-null     int64  \n",
      " 7   ic                60 non-null     float64\n",
      "dtypes: float64(3), int64(5)\n",
      "memory usage: 3.9 KB\n",
      "time: 11.5 ms (started: 2021-04-28 03:52:16 +00:00)\n"
     ]
    }
   ],
   "source": [
    "ic.info()"
   ]
  },
  {
   "cell_type": "markdown",
   "metadata": {},
   "source": [
    "#### Best Parameters"
   ]
  },
  {
   "cell_type": "markdown",
   "metadata": {},
   "source": [
    "Directionally, and for shorter periods, similar hyperparameter settings work best (while the IC values are higher):"
   ]
  },
  {
   "cell_type": "code",
   "execution_count": 177,
   "metadata": {
    "ExecuteTime": {
     "end_time": "2021-02-23T21:10:26.999923Z",
     "start_time": "2021-02-23T21:10:26.983402Z"
    }
   },
   "outputs": [
    {
     "data": {
      "text/html": [
       "<div>\n",
       "<style scoped>\n",
       "    .dataframe tbody tr th:only-of-type {\n",
       "        vertical-align: middle;\n",
       "    }\n",
       "\n",
       "    .dataframe tbody tr th {\n",
       "        vertical-align: top;\n",
       "    }\n",
       "\n",
       "    .dataframe thead th {\n",
       "        text-align: right;\n",
       "    }\n",
       "</style>\n",
       "<table border=\"1\" class=\"dataframe\">\n",
       "  <thead>\n",
       "    <tr style=\"text-align: right;\">\n",
       "      <th></th>\n",
       "      <th></th>\n",
       "      <th>train_length</th>\n",
       "      <th>test_length</th>\n",
       "      <th>bagging_fraction</th>\n",
       "      <th>feature_fraction</th>\n",
       "      <th>min_data_in_leaf</th>\n",
       "      <th>t</th>\n",
       "      <th>rounds</th>\n",
       "      <th>ic</th>\n",
       "    </tr>\n",
       "    <tr>\n",
       "      <th>t</th>\n",
       "      <th></th>\n",
       "      <th></th>\n",
       "      <th></th>\n",
       "      <th></th>\n",
       "      <th></th>\n",
       "      <th></th>\n",
       "      <th></th>\n",
       "      <th></th>\n",
       "      <th></th>\n",
       "    </tr>\n",
       "  </thead>\n",
       "  <tbody>\n",
       "    <tr>\n",
       "      <th rowspan=\"3\" valign=\"top\">1</th>\n",
       "      <th>727</th>\n",
       "      <td>756</td>\n",
       "      <td>5</td>\n",
       "      <td>0.95</td>\n",
       "      <td>0.95</td>\n",
       "      <td>250</td>\n",
       "      <td>1</td>\n",
       "      <td>25</td>\n",
       "      <td>0.013029</td>\n",
       "    </tr>\n",
       "    <tr>\n",
       "      <th>736</th>\n",
       "      <td>756</td>\n",
       "      <td>5</td>\n",
       "      <td>0.95</td>\n",
       "      <td>0.95</td>\n",
       "      <td>250</td>\n",
       "      <td>1</td>\n",
       "      <td>50</td>\n",
       "      <td>0.009372</td>\n",
       "    </tr>\n",
       "    <tr>\n",
       "      <th>745</th>\n",
       "      <td>756</td>\n",
       "      <td>5</td>\n",
       "      <td>0.95</td>\n",
       "      <td>0.95</td>\n",
       "      <td>250</td>\n",
       "      <td>1</td>\n",
       "      <td>75</td>\n",
       "      <td>0.008658</td>\n",
       "    </tr>\n",
       "  </tbody>\n",
       "</table>\n",
       "</div>"
      ],
      "text/plain": [
       "       train_length  test_length  bagging_fraction  feature_fraction  \\\n",
       "t                                                                      \n",
       "1 727           756            5              0.95              0.95   \n",
       "  736           756            5              0.95              0.95   \n",
       "  745           756            5              0.95              0.95   \n",
       "\n",
       "       min_data_in_leaf  t  rounds        ic  \n",
       "t                                             \n",
       "1 727               250  1      25  0.013029  \n",
       "  736               250  1      50  0.009372  \n",
       "  745               250  1      75  0.008658  "
      ]
     },
     "execution_count": 177,
     "metadata": {},
     "output_type": "execute_result"
    },
    {
     "name": "stdout",
     "output_type": "stream",
     "text": [
      "time: 18.1 ms (started: 2021-04-28 22:27:18 +00:00)\n"
     ]
    }
   ],
   "source": [
    "ic.groupby('t').apply(lambda x: x.nlargest(3, 'ic'))"
   ]
  },
  {
   "cell_type": "markdown",
   "metadata": {},
   "source": [
    "#### Visualiztion"
   ]
  },
  {
   "cell_type": "code",
   "execution_count": 179,
   "metadata": {
    "ExecuteTime": {
     "end_time": "2021-02-23T21:10:28.369762Z",
     "start_time": "2021-02-23T21:10:27.970520Z"
    }
   },
   "outputs": [
    {
     "data": {
      "image/png": "[encoded data removed]",
      "text/plain": [
       "<Figure size 1440x360 with 4 Axes>"
      ]
     },
     "metadata": {},
     "output_type": "display_data"
    },
    {
     "name": "stdout",
     "output_type": "stream",
     "text": [
      "time: 702 ms (started: 2021-04-28 22:28:23 +00:00)\n"
     ]
    }
   ],
   "source": [
    "test_length = 5\n",
    "g = sns.catplot(x='t',\n",
    "                y='ic',\n",
    "                col='train_length',\n",
    "                row='test_length',\n",
    "                data=ic[(ic.test_length == test_length) & (ic.t < test_length)],\n",
    "                kind='box')"
   ]
  },
  {
   "cell_type": "code",
   "execution_count": 180,
   "metadata": {
    "ExecuteTime": {
     "end_time": "2021-02-23T21:10:37.904492Z",
     "start_time": "2021-02-23T21:10:30.194796Z"
    }
   },
   "outputs": [
    {
     "ename": "ValueError",
     "evalue": "min() arg is an empty sequence",
     "output_type": "error",
     "traceback": [
      "\u001b[0;31m---------------------------------------------------------------------------\u001b[0m",
      "\u001b[0;31mValueError\u001b[0m                                Traceback (most recent call last)",
      "\u001b[0;32m<ipython-input-180-cd600bf4d948>\u001b[0m in \u001b[0;36m<module>\u001b[0;34m\u001b[0m\n\u001b[1;32m     10\u001b[0m             \u001b[0;34m(\u001b[0m\u001b[0mic\u001b[0m\u001b[0;34m.\u001b[0m\u001b[0mtrain_length\u001b[0m \u001b[0;34m==\u001b[0m \u001b[0mtrain_length\u001b[0m\u001b[0;34m)\u001b[0m \u001b[0;34m&\u001b[0m\u001b[0;34m\u001b[0m\u001b[0;34m\u001b[0m\u001b[0m\n\u001b[1;32m     11\u001b[0m             (ic.test_length == test_length)],\n\u001b[0;32m---> 12\u001b[0;31m     kind='swarm');\n\u001b[0m",
      "\u001b[0;32m/opt/conda/lib/python3.7/site-packages/seaborn/_decorators.py\u001b[0m in \u001b[0;36minner_f\u001b[0;34m(*args, **kwargs)\u001b[0m\n\u001b[1;32m     44\u001b[0m             )\n\u001b[1;32m     45\u001b[0m         \u001b[0mkwargs\u001b[0m\u001b[0;34m.\u001b[0m\u001b[0mupdate\u001b[0m\u001b[0;34m(\u001b[0m\u001b[0;34m{\u001b[0m\u001b[0mk\u001b[0m\u001b[0;34m:\u001b[0m \u001b[0marg\u001b[0m \u001b[0;32mfor\u001b[0m \u001b[0mk\u001b[0m\u001b[0;34m,\u001b[0m \u001b[0marg\u001b[0m \u001b[0;32min\u001b[0m \u001b[0mzip\u001b[0m\u001b[0;34m(\u001b[0m\u001b[0msig\u001b[0m\u001b[0;34m.\u001b[0m\u001b[0mparameters\u001b[0m\u001b[0;34m,\u001b[0m \u001b[0margs\u001b[0m\u001b[0;34m)\u001b[0m\u001b[0;34m}\u001b[0m\u001b[0;34m)\u001b[0m\u001b[0;34m\u001b[0m\u001b[0;34m\u001b[0m\u001b[0m\n\u001b[0;32m---> 46\u001b[0;31m         \u001b[0;32mreturn\u001b[0m \u001b[0mf\u001b[0m\u001b[0;34m(\u001b[0m\u001b[0;34m**\u001b[0m\u001b[0mkwargs\u001b[0m\u001b[0;34m)\u001b[0m\u001b[0;34m\u001b[0m\u001b[0;34m\u001b[0m\u001b[0m\n\u001b[0m\u001b[1;32m     47\u001b[0m     \u001b[0;32mreturn\u001b[0m \u001b[0minner_f\u001b[0m\u001b[0;34m\u001b[0m\u001b[0;34m\u001b[0m\u001b[0m\n\u001b[1;32m     48\u001b[0m \u001b[0;34m\u001b[0m\u001b[0m\n",
      "\u001b[0;32m/opt/conda/lib/python3.7/site-packages/seaborn/categorical.py\u001b[0m in \u001b[0;36mcatplot\u001b[0;34m(x, y, hue, data, row, col, col_wrap, estimator, ci, n_boot, units, seed, order, hue_order, row_order, col_order, kind, height, aspect, orient, color, palette, legend, legend_out, sharex, sharey, margin_titles, facet_kws, **kwargs)\u001b[0m\n\u001b[1;32m   3811\u001b[0m     \u001b[0;31m# so we need to define ``palette`` to get default behavior for the\u001b[0m\u001b[0;34m\u001b[0m\u001b[0;34m\u001b[0m\u001b[0;34m\u001b[0m\u001b[0m\n\u001b[1;32m   3812\u001b[0m     \u001b[0;31m# categorical functions\u001b[0m\u001b[0;34m\u001b[0m\u001b[0;34m\u001b[0m\u001b[0;34m\u001b[0m\u001b[0m\n\u001b[0;32m-> 3813\u001b[0;31m     \u001b[0mp\u001b[0m\u001b[0;34m.\u001b[0m\u001b[0mestablish_colors\u001b[0m\u001b[0;34m(\u001b[0m\u001b[0mcolor\u001b[0m\u001b[0;34m,\u001b[0m \u001b[0mpalette\u001b[0m\u001b[0;34m,\u001b[0m \u001b[0;36m1\u001b[0m\u001b[0;34m)\u001b[0m\u001b[0;34m\u001b[0m\u001b[0;34m\u001b[0m\u001b[0m\n\u001b[0m\u001b[1;32m   3814\u001b[0m     \u001b[0;32mif\u001b[0m \u001b[0mkind\u001b[0m \u001b[0;34m!=\u001b[0m \u001b[0;34m\"point\"\u001b[0m \u001b[0;32mor\u001b[0m \u001b[0mhue\u001b[0m \u001b[0;32mis\u001b[0m \u001b[0;32mnot\u001b[0m \u001b[0;32mNone\u001b[0m\u001b[0;34m:\u001b[0m\u001b[0;34m\u001b[0m\u001b[0;34m\u001b[0m\u001b[0m\n\u001b[1;32m   3815\u001b[0m         \u001b[0mpalette\u001b[0m \u001b[0;34m=\u001b[0m \u001b[0mp\u001b[0m\u001b[0;34m.\u001b[0m\u001b[0mcolors\u001b[0m\u001b[0;34m\u001b[0m\u001b[0;34m\u001b[0m\u001b[0m\n",
      "\u001b[0;32m/opt/conda/lib/python3.7/site-packages/seaborn/categorical.py\u001b[0m in \u001b[0;36mestablish_colors\u001b[0;34m(self, color, palette, saturation)\u001b[0m\n\u001b[1;32m    317\u001b[0m         \u001b[0;31m# Determine the gray color to use for the lines framing the plot\u001b[0m\u001b[0;34m\u001b[0m\u001b[0;34m\u001b[0m\u001b[0;34m\u001b[0m\u001b[0m\n\u001b[1;32m    318\u001b[0m         \u001b[0mlight_vals\u001b[0m \u001b[0;34m=\u001b[0m \u001b[0;34m[\u001b[0m\u001b[0mcolorsys\u001b[0m\u001b[0;34m.\u001b[0m\u001b[0mrgb_to_hls\u001b[0m\u001b[0;34m(\u001b[0m\u001b[0;34m*\u001b[0m\u001b[0mc\u001b[0m\u001b[0;34m)\u001b[0m\u001b[0;34m[\u001b[0m\u001b[0;36m1\u001b[0m\u001b[0;34m]\u001b[0m \u001b[0;32mfor\u001b[0m \u001b[0mc\u001b[0m \u001b[0;32min\u001b[0m \u001b[0mrgb_colors\u001b[0m\u001b[0;34m]\u001b[0m\u001b[0;34m\u001b[0m\u001b[0;34m\u001b[0m\u001b[0m\n\u001b[0;32m--> 319\u001b[0;31m         \u001b[0mlum\u001b[0m \u001b[0;34m=\u001b[0m \u001b[0mmin\u001b[0m\u001b[0;34m(\u001b[0m\u001b[0mlight_vals\u001b[0m\u001b[0;34m)\u001b[0m \u001b[0;34m*\u001b[0m \u001b[0;36m.6\u001b[0m\u001b[0;34m\u001b[0m\u001b[0;34m\u001b[0m\u001b[0m\n\u001b[0m\u001b[1;32m    320\u001b[0m         \u001b[0mgray\u001b[0m \u001b[0;34m=\u001b[0m \u001b[0mmpl\u001b[0m\u001b[0;34m.\u001b[0m\u001b[0mcolors\u001b[0m\u001b[0;34m.\u001b[0m\u001b[0mrgb2hex\u001b[0m\u001b[0;34m(\u001b[0m\u001b[0;34m(\u001b[0m\u001b[0mlum\u001b[0m\u001b[0;34m,\u001b[0m \u001b[0mlum\u001b[0m\u001b[0;34m,\u001b[0m \u001b[0mlum\u001b[0m\u001b[0;34m)\u001b[0m\u001b[0;34m)\u001b[0m\u001b[0;34m\u001b[0m\u001b[0;34m\u001b[0m\u001b[0m\n\u001b[1;32m    321\u001b[0m \u001b[0;34m\u001b[0m\u001b[0m\n",
      "\u001b[0;31mValueError\u001b[0m: min() arg is an empty sequence"
     ]
    },
    {
     "name": "stdout",
     "output_type": "stream",
     "text": [
      "time: 23.6 ms (started: 2021-04-28 22:30:21 +00:00)\n"
     ]
    }
   ],
   "source": [
    "t = 1\n",
    "train_length = 756\n",
    "test_length = 21\n",
    "g = sns.catplot(x='rounds',\n",
    "    y='ic',\n",
    "    col='feature_fraction',\n",
    "    hue='bagging_fraction',\n",
    "    row='min_data_in_leaf',\n",
    "    data=ic[(ic.t == t) &\n",
    "            (ic.train_length == train_length) &\n",
    "            (ic.test_length == test_length)],\n",
    "    kind='swarm');"
   ]
  },
  {
   "cell_type": "markdown",
   "metadata": {},
   "source": [
    "### Random Forest vs Linear Regression "
   ]
  },
  {
   "cell_type": "markdown",
   "metadata": {},
   "source": [
    "Let's compare the best-performing (in-sample) random forest models to our linear regression baseline:"
   ]
  },
  {
   "cell_type": "code",
   "execution_count": 181,
   "metadata": {
    "ExecuteTime": {
     "end_time": "2021-02-23T21:10:51.280229Z",
     "start_time": "2021-02-23T21:10:51.271304Z"
    }
   },
   "outputs": [
    {
     "name": "stdout",
     "output_type": "stream",
     "text": [
      "<class 'pandas.core.frame.DataFrame'>\n",
      "RangeIndex: 40 entries, 0 to 39\n",
      "Data columns (total 5 columns):\n",
      " #   Column        Non-Null Count  Dtype  \n",
      "---  ------        --------------  -----  \n",
      " 0   lookahead     40 non-null     int64  \n",
      " 1   train_length  40 non-null     int64  \n",
      " 2   test_length   40 non-null     int64  \n",
      " 3   ic_by_day     40 non-null     float64\n",
      " 4   ic            40 non-null     float64\n",
      "dtypes: float64(2), int64(3)\n",
      "memory usage: 1.7 KB\n",
      "time: 12.9 ms (started: 2021-04-28 22:30:55 +00:00)\n"
     ]
    }
   ],
   "source": [
    "lr_metrics = pd.read_csv(path_result / 'lin_reg_performance.csv')\n",
    "lr_metrics.info()"
   ]
  },
  {
   "cell_type": "code",
   "execution_count": 80,
   "metadata": {
    "ExecuteTime": {
     "end_time": "2021-02-23T21:10:52.660412Z",
     "start_time": "2021-02-23T21:10:52.652725Z"
    }
   },
   "outputs": [
    {
     "name": "stdout",
     "output_type": "stream",
     "text": [
      "<class 'pandas.core.frame.DataFrame'>\n",
      "RangeIndex: 60 entries, 0 to 59\n",
      "Data columns (total 8 columns):\n",
      " #   Column            Non-Null Count  Dtype  \n",
      "---  ------            --------------  -----  \n",
      " 0   t                 60 non-null     int64  \n",
      " 1   train_length      60 non-null     int64  \n",
      " 2   test_length       60 non-null     int64  \n",
      " 3   bagging_fraction  60 non-null     float64\n",
      " 4   feature_fraction  60 non-null     float64\n",
      " 5   min_data_in_leaf  60 non-null     int64  \n",
      " 6   rounds            60 non-null     int64  \n",
      " 7   ic                60 non-null     float64\n",
      "dtypes: float64(3), int64(5)\n",
      "memory usage: 3.9 KB\n",
      "time: 10.3 ms (started: 2021-04-28 03:52:51 +00:00)\n"
     ]
    }
   ],
   "source": [
    "daily_ic_avg.info()"
   ]
  },
  {
   "cell_type": "markdown",
   "metadata": {},
   "source": [
    "The results are mixed: for the shortest and longest horizons, the random forest outperforms (slightly for 1 day), while linear regression is competitive for the intermediate horizons:"
   ]
  },
  {
   "cell_type": "code",
   "execution_count": 182,
   "metadata": {
    "ExecuteTime": {
     "end_time": "2021-02-23T21:10:55.223622Z",
     "start_time": "2021-02-23T21:10:55.032734Z"
    }
   },
   "outputs": [
    {
     "data": {
      "image/png": "[encoded data removed]",
      "text/plain": [
       "<Figure size 432x288 with 1 Axes>"
      ]
     },
     "metadata": {},
     "output_type": "display_data"
    },
    {
     "name": "stdout",
     "output_type": "stream",
     "text": [
      "time: 259 ms (started: 2021-04-28 22:31:00 +00:00)\n"
     ]
    }
   ],
   "source": [
    "with sns.axes_style(\"white\"):\n",
    "    ax = (ic.groupby('t').ic.max().to_frame('Random Forest')\n",
    "     .join(lr_metrics.groupby('lookahead').ic.max().to_frame('Linear Regression')).plot.barh())\n",
    "    ax.set_ylabel('Lookahead')\n",
    "    ax.set_xlabel('Information Coefficient')\n",
    "    sns.despine()\n",
    "    plt.tight_layout();"
   ]
  },
  {
   "cell_type": "markdown",
   "metadata": {},
   "source": [
    "## Generate predictions"
   ]
  },
  {
   "cell_type": "markdown",
   "metadata": {},
   "source": [
    "To build and evaluate a trading strategy, we create predictions for the 2017-19 period using the 10 best models that we then ensemble:"
   ]
  },
  {
   "cell_type": "code",
   "execution_count": 54,
   "metadata": {},
   "outputs": [
    {
     "name": "stdout",
     "output_type": "stream",
     "text": [
      "Copying gs://finance_data_bucket/data_stooq.zip...\n",
      "==> NOTE: You are downloading one or more large file(s), which would            \n",
      "run significantly faster if you enabled sliced object downloads. This\n",
      "feature is enabled by default but requires that compiled crcmod be\n",
      "installed (see \"gsutil help crcmod\").\n",
      "\n",
      "/ [1 files][651.8 MiB/651.8 MiB]                                                \n",
      "Operation completed over 1 objects/651.8 MiB.                                    \n",
      "Archive:  data_stooq.zip\n",
      "  inflating: data/stooq_jp_tse_stocks_prices.csv  \n",
      "  inflating: data/stooq_jp_tse_stocks_tickers.csv  \n",
      "  inflating: data/stooq_us_nasdaq_etfs_prices.csv  \n",
      "  inflating: data/stooq_us_nasdaq_etfs_tickers.csv  \n",
      "  inflating: data/stooq_us_nasdaq_stocks_prices.csv  \n",
      "  inflating: data/stooq_us_nasdaq_stocks_tickers.csv  \n",
      "  inflating: data/stooq_us_nyse_etfs_prices.csv  \n",
      "  inflating: data/stooq_us_nyse_etfs_tickers.csv  \n",
      "  inflating: data/stooq_us_nyse_stocks_prices.csv  \n",
      "  inflating: data/stooq_us_nyse_stocks_tickers.csv  \n",
      "  inflating: data/stooq_us_nysemkt_stocks_prices.csv  \n",
      "  inflating: data/stooq_us_nysemkt_stocks_tickers.csv  \n",
      "  inflating: data/stooq_japan_equities.csv  \n",
      "time: 31.7 s (started: 2021-04-25 01:20:39 +00:00)\n"
     ]
    }
   ],
   "source": [
    "!gsutil cp gs://finance_data_bucket/lbk/rf/stooq_jp_data.zip .\n",
    "!unzip stooq_jp_data.zip"
   ]
  },
  {
   "cell_type": "code",
   "execution_count": 183,
   "metadata": {
    "ExecuteTime": {
     "end_time": "2021-02-23T21:10:56.276550Z",
     "start_time": "2021-02-23T21:10:56.274762Z"
    }
   },
   "outputs": [
    {
     "name": "stdout",
     "output_type": "stream",
     "text": [
      "time: 458 µs (started: 2021-04-28 22:31:25 +00:00)\n"
     ]
    }
   ],
   "source": [
    "param_cols = ['train_length', 'test_length', 'bagging_fraction',\n",
    "              'feature_fraction', 'min_data_in_leaf', 'rounds']"
   ]
  },
  {
   "cell_type": "code",
   "execution_count": 184,
   "metadata": {
    "ExecuteTime": {
     "end_time": "2021-02-23T21:10:58.310089Z",
     "start_time": "2021-02-23T21:10:58.304594Z"
    }
   },
   "outputs": [
    {
     "name": "stdout",
     "output_type": "stream",
     "text": [
      "time: 638 µs (started: 2021-04-28 22:31:28 +00:00)\n"
     ]
    }
   ],
   "source": [
    "def get_params(data, t=5, best=0):\n",
    "    df = data[data.t == t].sort_values('ic', ascending=False).iloc[best]\n",
    "    df = df.loc[param_cols]\n",
    "    rounds = int(df.rounds)\n",
    "    params = pd.to_numeric(df.drop('rounds'))\n",
    "    return params, rounds"
   ]
  },
  {
   "cell_type": "code",
   "execution_count": 185,
   "metadata": {
    "ExecuteTime": {
     "end_time": "2021-02-23T21:10:58.550817Z",
     "start_time": "2021-02-23T21:10:58.548693Z"
    }
   },
   "outputs": [
    {
     "name": "stdout",
     "output_type": "stream",
     "text": [
      "# of cpus: 4\n",
      "time: 896 µs (started: 2021-04-28 22:31:32 +00:00)\n"
     ]
    }
   ],
   "source": [
    "cpu_count = os.cpu_count()\n",
    "print('# of cpus:', cpu_count)\n",
    "\n",
    "base_params = dict(boosting_type='rf',\n",
    "                   objective='regression',\n",
    "                   bagging_freq=1,\n",
    "                   n_jobs=cpu_count,\n",
    "                   verbose=-1)"
   ]
  },
  {
   "cell_type": "code",
   "execution_count": 201,
   "metadata": {
    "ExecuteTime": {
     "end_time": "2021-02-23T21:39:01.014230Z",
     "start_time": "2021-02-23T21:29:25.042746Z"
    }
   },
   "outputs": [
    {
     "name": "stdout",
     "output_type": "stream",
     "text": [
      "\n",
      "Lookahead: 01\n",
      "Position: 00\n",
      "Training: 2018-05-30-2018-11-28  (126 days) | Test: 2018-11-29-2018-12-28 (21 days)\n",
      "Training: 2018-04-26-2018-10-29  (126 days) | Test: 2018-10-30-2018-11-28 (21 days)\n",
      "Training: 2018-03-28-2018-09-27  (126 days) | Test: 2018-09-28-2018-10-29 (21 days)\n",
      "Training: 2018-02-26-2018-08-27  (126 days) | Test: 2018-08-28-2018-09-27 (21 days)\n",
      "Training: 2018-01-25-2018-07-27  (126 days) | Test: 2018-07-30-2018-08-27 (21 days)\n",
      "Training: 2017-12-21-2018-06-27  (126 days) | Test: 2018-06-28-2018-07-27 (21 days)\n",
      "Training: 2017-11-21-2018-05-29  (126 days) | Test: 2018-05-30-2018-06-27 (21 days)\n",
      "Training: 2017-10-20-2018-04-25  (126 days) | Test: 2018-04-26-2018-05-29 (21 days)\n",
      "Training: 2017-09-20-2018-03-27  (126 days) | Test: 2018-03-28-2018-04-25 (21 days)\n",
      "Training: 2017-08-21-2018-02-23  (126 days) | Test: 2018-02-26-2018-03-27 (21 days)\n",
      "Training: 2017-07-20-2018-01-24  (126 days) | Test: 2018-01-25-2018-02-23 (21 days)\n",
      "Training: 2017-06-20-2017-12-20  (126 days) | Test: 2017-12-21-2018-01-24 (21 days)\n",
      "Position: 01\n",
      "Training: 2018-05-30-2018-11-28  (126 days) | Test: 2018-11-29-2018-12-28 (21 days)\n",
      "Training: 2018-04-26-2018-10-29  (126 days) | Test: 2018-10-30-2018-11-28 (21 days)\n",
      "Training: 2018-03-28-2018-09-27  (126 days) | Test: 2018-09-28-2018-10-29 (21 days)\n",
      "Training: 2018-02-26-2018-08-27  (126 days) | Test: 2018-08-28-2018-09-27 (21 days)\n",
      "Training: 2018-01-25-2018-07-27  (126 days) | Test: 2018-07-30-2018-08-27 (21 days)\n",
      "Training: 2017-12-21-2018-06-27  (126 days) | Test: 2018-06-28-2018-07-27 (21 days)\n",
      "Training: 2017-11-21-2018-05-29  (126 days) | Test: 2018-05-30-2018-06-27 (21 days)\n",
      "Training: 2017-10-20-2018-04-25  (126 days) | Test: 2018-04-26-2018-05-29 (21 days)\n",
      "Training: 2017-09-20-2018-03-27  (126 days) | Test: 2018-03-28-2018-04-25 (21 days)\n",
      "Training: 2017-08-21-2018-02-23  (126 days) | Test: 2018-02-26-2018-03-27 (21 days)\n",
      "Training: 2017-07-20-2018-01-24  (126 days) | Test: 2018-01-25-2018-02-23 (21 days)\n",
      "Training: 2017-06-20-2017-12-20  (126 days) | Test: 2017-12-21-2018-01-24 (21 days)\n",
      "Position: 02\n",
      "Training: 2018-05-30-2018-11-28  (126 days) | Test: 2018-11-29-2018-12-28 (21 days)\n",
      "Training: 2018-04-26-2018-10-29  (126 days) | Test: 2018-10-30-2018-11-28 (21 days)\n",
      "Training: 2018-03-28-2018-09-27  (126 days) | Test: 2018-09-28-2018-10-29 (21 days)\n",
      "Training: 2018-02-26-2018-08-27  (126 days) | Test: 2018-08-28-2018-09-27 (21 days)\n",
      "Training: 2018-01-25-2018-07-27  (126 days) | Test: 2018-07-30-2018-08-27 (21 days)\n",
      "Training: 2017-12-21-2018-06-27  (126 days) | Test: 2018-06-28-2018-07-27 (21 days)\n",
      "Training: 2017-11-21-2018-05-29  (126 days) | Test: 2018-05-30-2018-06-27 (21 days)\n",
      "Training: 2017-10-20-2018-04-25  (126 days) | Test: 2018-04-26-2018-05-29 (21 days)\n",
      "Training: 2017-09-20-2018-03-27  (126 days) | Test: 2018-03-28-2018-04-25 (21 days)\n",
      "Training: 2017-08-21-2018-02-23  (126 days) | Test: 2018-02-26-2018-03-27 (21 days)\n",
      "Training: 2017-07-20-2018-01-24  (126 days) | Test: 2018-01-25-2018-02-23 (21 days)\n",
      "Training: 2017-06-20-2017-12-20  (126 days) | Test: 2017-12-21-2018-01-24 (21 days)\n",
      "Position: 03\n",
      "Training: 2018-05-30-2018-11-28  (126 days) | Test: 2018-11-29-2018-12-28 (21 days)\n",
      "Training: 2018-04-26-2018-10-29  (126 days) | Test: 2018-10-30-2018-11-28 (21 days)\n",
      "Training: 2018-03-28-2018-09-27  (126 days) | Test: 2018-09-28-2018-10-29 (21 days)\n",
      "Training: 2018-02-26-2018-08-27  (126 days) | Test: 2018-08-28-2018-09-27 (21 days)\n",
      "Training: 2018-01-25-2018-07-27  (126 days) | Test: 2018-07-30-2018-08-27 (21 days)\n",
      "Training: 2017-12-21-2018-06-27  (126 days) | Test: 2018-06-28-2018-07-27 (21 days)\n",
      "Training: 2017-11-21-2018-05-29  (126 days) | Test: 2018-05-30-2018-06-27 (21 days)\n",
      "Training: 2017-10-20-2018-04-25  (126 days) | Test: 2018-04-26-2018-05-29 (21 days)\n",
      "Training: 2017-09-20-2018-03-27  (126 days) | Test: 2018-03-28-2018-04-25 (21 days)\n",
      "Training: 2017-08-21-2018-02-23  (126 days) | Test: 2018-02-26-2018-03-27 (21 days)\n",
      "Training: 2017-07-20-2018-01-24  (126 days) | Test: 2018-01-25-2018-02-23 (21 days)\n",
      "Training: 2017-06-20-2017-12-20  (126 days) | Test: 2017-12-21-2018-01-24 (21 days)\n",
      "Position: 04\n",
      "Training: 2018-05-30-2018-11-28  (126 days) | Test: 2018-11-29-2018-12-28 (21 days)\n",
      "Training: 2018-04-26-2018-10-29  (126 days) | Test: 2018-10-30-2018-11-28 (21 days)\n",
      "Training: 2018-03-28-2018-09-27  (126 days) | Test: 2018-09-28-2018-10-29 (21 days)\n",
      "Training: 2018-02-26-2018-08-27  (126 days) | Test: 2018-08-28-2018-09-27 (21 days)\n",
      "Training: 2018-01-25-2018-07-27  (126 days) | Test: 2018-07-30-2018-08-27 (21 days)\n",
      "Training: 2017-12-21-2018-06-27  (126 days) | Test: 2018-06-28-2018-07-27 (21 days)\n",
      "Training: 2017-11-21-2018-05-29  (126 days) | Test: 2018-05-30-2018-06-27 (21 days)\n",
      "Training: 2017-10-20-2018-04-25  (126 days) | Test: 2018-04-26-2018-05-29 (21 days)\n",
      "Training: 2017-09-20-2018-03-27  (126 days) | Test: 2018-03-28-2018-04-25 (21 days)\n",
      "Training: 2017-08-21-2018-02-23  (126 days) | Test: 2018-02-26-2018-03-27 (21 days)\n",
      "Training: 2017-07-20-2018-01-24  (126 days) | Test: 2018-01-25-2018-02-23 (21 days)\n",
      "Training: 2017-06-20-2017-12-20  (126 days) | Test: 2017-12-21-2018-01-24 (21 days)\n",
      "Position: 05\n",
      "Training: 2018-05-30-2018-11-28  (126 days) | Test: 2018-11-29-2018-12-28 (21 days)\n",
      "Training: 2018-04-26-2018-10-29  (126 days) | Test: 2018-10-30-2018-11-28 (21 days)\n",
      "Training: 2018-03-28-2018-09-27  (126 days) | Test: 2018-09-28-2018-10-29 (21 days)\n",
      "Training: 2018-02-26-2018-08-27  (126 days) | Test: 2018-08-28-2018-09-27 (21 days)\n",
      "Training: 2018-01-25-2018-07-27  (126 days) | Test: 2018-07-30-2018-08-27 (21 days)\n",
      "Training: 2017-12-21-2018-06-27  (126 days) | Test: 2018-06-28-2018-07-27 (21 days)\n",
      "Training: 2017-11-21-2018-05-29  (126 days) | Test: 2018-05-30-2018-06-27 (21 days)\n",
      "Training: 2017-10-20-2018-04-25  (126 days) | Test: 2018-04-26-2018-05-29 (21 days)\n",
      "Training: 2017-09-20-2018-03-27  (126 days) | Test: 2018-03-28-2018-04-25 (21 days)\n",
      "Training: 2017-08-21-2018-02-23  (126 days) | Test: 2018-02-26-2018-03-27 (21 days)\n",
      "Training: 2017-07-20-2018-01-24  (126 days) | Test: 2018-01-25-2018-02-23 (21 days)\n",
      "Training: 2017-06-20-2017-12-20  (126 days) | Test: 2017-12-21-2018-01-24 (21 days)\n",
      "Position: 06\n",
      "Training: 2018-05-30-2018-11-28  (126 days) | Test: 2018-11-29-2018-12-28 (21 days)\n",
      "Training: 2018-04-26-2018-10-29  (126 days) | Test: 2018-10-30-2018-11-28 (21 days)\n",
      "Training: 2018-03-28-2018-09-27  (126 days) | Test: 2018-09-28-2018-10-29 (21 days)\n",
      "Training: 2018-02-26-2018-08-27  (126 days) | Test: 2018-08-28-2018-09-27 (21 days)\n",
      "Training: 2018-01-25-2018-07-27  (126 days) | Test: 2018-07-30-2018-08-27 (21 days)\n",
      "Training: 2017-12-21-2018-06-27  (126 days) | Test: 2018-06-28-2018-07-27 (21 days)\n",
      "Training: 2017-11-21-2018-05-29  (126 days) | Test: 2018-05-30-2018-06-27 (21 days)\n",
      "Training: 2017-10-20-2018-04-25  (126 days) | Test: 2018-04-26-2018-05-29 (21 days)\n",
      "Training: 2017-09-20-2018-03-27  (126 days) | Test: 2018-03-28-2018-04-25 (21 days)\n",
      "Training: 2017-08-21-2018-02-23  (126 days) | Test: 2018-02-26-2018-03-27 (21 days)\n",
      "Training: 2017-07-20-2018-01-24  (126 days) | Test: 2018-01-25-2018-02-23 (21 days)\n",
      "Training: 2017-06-20-2017-12-20  (126 days) | Test: 2017-12-21-2018-01-24 (21 days)\n",
      "Position: 07\n",
      "Training: 2018-05-30-2018-11-28  (126 days) | Test: 2018-11-29-2018-12-28 (21 days)\n",
      "Training: 2018-04-26-2018-10-29  (126 days) | Test: 2018-10-30-2018-11-28 (21 days)\n",
      "Training: 2018-03-28-2018-09-27  (126 days) | Test: 2018-09-28-2018-10-29 (21 days)\n",
      "Training: 2018-02-26-2018-08-27  (126 days) | Test: 2018-08-28-2018-09-27 (21 days)\n",
      "Training: 2018-01-25-2018-07-27  (126 days) | Test: 2018-07-30-2018-08-27 (21 days)\n",
      "Training: 2017-12-21-2018-06-27  (126 days) | Test: 2018-06-28-2018-07-27 (21 days)\n",
      "Training: 2017-11-21-2018-05-29  (126 days) | Test: 2018-05-30-2018-06-27 (21 days)\n",
      "Training: 2017-10-20-2018-04-25  (126 days) | Test: 2018-04-26-2018-05-29 (21 days)\n",
      "Training: 2017-09-20-2018-03-27  (126 days) | Test: 2018-03-28-2018-04-25 (21 days)\n",
      "Training: 2017-08-21-2018-02-23  (126 days) | Test: 2018-02-26-2018-03-27 (21 days)\n",
      "Training: 2017-07-20-2018-01-24  (126 days) | Test: 2018-01-25-2018-02-23 (21 days)\n",
      "Training: 2017-06-20-2017-12-20  (126 days) | Test: 2017-12-21-2018-01-24 (21 days)\n",
      "Position: 08\n",
      "Training: 2018-05-30-2018-11-28  (126 days) | Test: 2018-11-29-2018-12-28 (21 days)\n",
      "Training: 2018-04-26-2018-10-29  (126 days) | Test: 2018-10-30-2018-11-28 (21 days)\n",
      "Training: 2018-03-28-2018-09-27  (126 days) | Test: 2018-09-28-2018-10-29 (21 days)\n",
      "Training: 2018-02-26-2018-08-27  (126 days) | Test: 2018-08-28-2018-09-27 (21 days)\n",
      "Training: 2018-01-25-2018-07-27  (126 days) | Test: 2018-07-30-2018-08-27 (21 days)\n",
      "Training: 2017-12-21-2018-06-27  (126 days) | Test: 2018-06-28-2018-07-27 (21 days)\n",
      "Training: 2017-11-21-2018-05-29  (126 days) | Test: 2018-05-30-2018-06-27 (21 days)\n",
      "Training: 2017-10-20-2018-04-25  (126 days) | Test: 2018-04-26-2018-05-29 (21 days)\n",
      "Training: 2017-09-20-2018-03-27  (126 days) | Test: 2018-03-28-2018-04-25 (21 days)\n",
      "Training: 2017-08-21-2018-02-23  (126 days) | Test: 2018-02-26-2018-03-27 (21 days)\n",
      "Training: 2017-07-20-2018-01-24  (126 days) | Test: 2018-01-25-2018-02-23 (21 days)\n",
      "Training: 2017-06-20-2017-12-20  (126 days) | Test: 2017-12-21-2018-01-24 (21 days)\n",
      "Position: 09\n",
      "Training: 2018-05-30-2018-11-28  (126 days) | Test: 2018-11-29-2018-12-28 (21 days)\n",
      "Training: 2018-04-26-2018-10-29  (126 days) | Test: 2018-10-30-2018-11-28 (21 days)\n",
      "Training: 2018-03-28-2018-09-27  (126 days) | Test: 2018-09-28-2018-10-29 (21 days)\n",
      "Training: 2018-02-26-2018-08-27  (126 days) | Test: 2018-08-28-2018-09-27 (21 days)\n",
      "Training: 2018-01-25-2018-07-27  (126 days) | Test: 2018-07-30-2018-08-27 (21 days)\n",
      "Training: 2017-12-21-2018-06-27  (126 days) | Test: 2018-06-28-2018-07-27 (21 days)\n",
      "Training: 2017-11-21-2018-05-29  (126 days) | Test: 2018-05-30-2018-06-27 (21 days)\n",
      "Training: 2017-10-20-2018-04-25  (126 days) | Test: 2018-04-26-2018-05-29 (21 days)\n",
      "Training: 2017-09-20-2018-03-27  (126 days) | Test: 2018-03-28-2018-04-25 (21 days)\n",
      "Training: 2017-08-21-2018-02-23  (126 days) | Test: 2018-02-26-2018-03-27 (21 days)\n",
      "Training: 2017-07-20-2018-01-24  (126 days) | Test: 2018-01-25-2018-02-23 (21 days)\n",
      "Training: 2017-06-20-2017-12-20  (126 days) | Test: 2017-12-21-2018-01-24 (21 days)\n",
      "time: 4min 4s (started: 2021-04-28 23:21:05 +00:00)\n"
     ]
    }
   ],
   "source": [
    "num_models = 10\n",
    "#num_models = 1 # testing\n",
    "\n",
    "for lookahead in [1, 5, 10, 21]:\n",
    "    if lookahead > 1: \n",
    "        continue\n",
    "    print(f'\\nLookahead: {lookahead:02}')\n",
    "    data = (pd.read_csv(path_data / 'stooq_jp_equities.csv', parse_dates=['date'])\n",
    "              .set_index(['ticker','date'])\n",
    "              .sort_index(level=['ticker','date'])\n",
    "              .loc[idx[:, '2010': '2018'], :]\n",
    "              )\n",
    "    labels = sorted(data.filter(like='fwd').columns)\n",
    "    features = data.columns.difference(labels).tolist()\n",
    "    label = f'fwd_ret_{lookahead:02}'\n",
    "    data = data.loc[:, features + [label]].dropna()\n",
    "\n",
    "    categoricals = ['year', 'weekday', 'month']\n",
    "    for feature in categoricals:\n",
    "        data[feature] = pd.factorize(data[feature], sort=True)[0]\n",
    "\n",
    "    lgb_data = lgb.Dataset(data=data[features],\n",
    "                           label=data[label],\n",
    "                           categorical_feature=categoricals,\n",
    "                           free_raw_data=False)\n",
    "    \n",
    "    for position in range(num_models):\n",
    "        params, num_boost_round = get_params(daily_ic_avg,\n",
    "                                             t=lookahead,\n",
    "                                             best=position)\n",
    "        params = params.to_dict()\n",
    "        params['min_data_in_leaf'] = int(params['min_data_in_leaf'])\n",
    "        train_length = int(params.pop('train_length'))\n",
    "        test_length = int(params.pop('test_length'))\n",
    "        params.update(base_params)\n",
    "\n",
    "        print(f'Position: {position:02}')\n",
    "\n",
    "        n_splits = int(val_length / test_length)\n",
    "        cv = MultipleTimeSeriesCV(n_splits=n_splits,\n",
    "                                  test_period_length=test_length,\n",
    "                                  lookahead=lookahead,\n",
    "                                  train_period_length=train_length)\n",
    "\n",
    "        predictions = []\n",
    "        start = time()\n",
    "        for i, (train_idx, test_idx) in enumerate(cv.split(X=data), 1):\n",
    "            train_set = lgb_data.subset(used_indices=train_idx.tolist(),\n",
    "                                        #params=params).construct()\n",
    "                                        params=params)\n",
    "    \n",
    "            model = lgb.train(params=params,\n",
    "                              train_set=train_set,\n",
    "                              num_boost_round=num_boost_round,\n",
    "                              categorical_feature=categoricals, \n",
    "                              verbose_eval=False)\n",
    "        \n",
    "            test_set = data.iloc[test_idx, :]\n",
    "            y_test = test_set.loc[:, label].to_frame('y_test')\n",
    "            y_pred = model.predict(test_set.loc[:, model.feature_name()])\n",
    "            predictions.append(y_test.assign(prediction=y_pred))\n",
    "            train_test_perdios_msg(train_idx, test_idx, data)\n",
    "\n",
    "        if position == 0:\n",
    "            test_predictions = (pd.concat(predictions)\n",
    "                                .rename(columns={'prediction': position}))\n",
    "        else:\n",
    "            test_predictions[position] = pd.concat(predictions).prediction\n",
    "        \n",
    "    by_day = test_predictions.groupby(level='date')\n",
    "    for position in range(num_models):\n",
    "        if position == 0:\n",
    "            ic_by_day = by_day.apply(lambda x: spearmanr(x.y_test, x[position])[0]).to_frame()\n",
    "        else:\n",
    "            ic_by_day[position] = by_day.apply(lambda x: spearmanr(x.y_test, x[position])[0])\n",
    "\n",
    "    test_predictions.to_csv(path_result / f'test_{lookahead:02}.csv')\n",
    "\n",
    "# plot ic\n",
    "ax = sns.boxenplot(x='position', y='ic by day', \n",
    "                   data=pd.melt(ic_by_day).rename(columns={'variable':'position', 'value':'ic by day'}))\n",
    "ax.axhline(0, ls='--', lw=1, c='k');"
   ]
  },
  {
   "cell_type": "code",
   "execution_count": null,
   "metadata": {},
   "outputs": [],
   "source": [
    "fig, ax = plt.subplots(figsize=(10, 5))\n",
    "sns.boxenplot(x='position', y='ic daily', \n",
    "                   data=pd.melt(ic_by_day).rename(columns={'variable':'position', 'value':'ic daily'},)\n",
    "                   ax=ax )\n",
    "ax.axhline(0, ls='--', lw=1, c='k');"
   ]
  },
  {
   "cell_type": "code",
   "execution_count": 202,
   "metadata": {},
   "outputs": [
    {
     "name": "stdout",
     "output_type": "stream",
     "text": [
      "<class 'pandas.core.frame.DataFrame'>\n",
      "MultiIndex: 237132 entries, ('9990.JP', Timestamp('2018-12-28 00:00:00')) to ('1332.JP', Timestamp('2017-12-21 00:00:00'))\n",
      "Data columns (total 11 columns):\n",
      " #   Column  Non-Null Count   Dtype  \n",
      "---  ------  --------------   -----  \n",
      " 0   y_test  237132 non-null  float64\n",
      " 1   0       237132 non-null  float64\n",
      " 2   1       237132 non-null  float64\n",
      " 3   2       237132 non-null  float64\n",
      " 4   3       237132 non-null  float64\n",
      " 5   4       237132 non-null  float64\n",
      " 6   5       237132 non-null  float64\n",
      " 7   6       237132 non-null  float64\n",
      " 8   7       237132 non-null  float64\n",
      " 9   8       237132 non-null  float64\n",
      " 10  9       237132 non-null  float64\n",
      "dtypes: float64(11)\n",
      "memory usage: 20.9+ MB\n",
      "time: 21.1 ms (started: 2021-04-28 23:25:34 +00:00)\n"
     ]
    }
   ],
   "source": [
    "test_predictions.info()"
   ]
  },
  {
   "cell_type": "code",
   "execution_count": 36,
   "metadata": {},
   "outputs": [
    {
     "name": "stdout",
     "output_type": "stream",
     "text": [
      "  adding: result/test_01.csv (deflated 64%)\n",
      "time: 10.2 s (started: 2021-04-27 07:27:07 +00:00)\n"
     ]
    }
   ],
   "source": [
    "!zip -u stooq_jp_result.zip result/test_01.csv"
   ]
  },
  {
   "cell_type": "code",
   "execution_count": 190,
   "metadata": {},
   "outputs": [
    {
     "data": {
      "text/plain": [
       "DatetimeIndex(['2019-11-29', '2019-12-02', '2019-12-03', '2019-12-04',\n",
       "               '2019-12-05', '2019-12-06', '2019-12-09', '2019-12-10',\n",
       "               '2019-12-11', '2019-12-12',\n",
       "               ...\n",
       "               '2018-12-28', '2019-01-04', '2019-01-07', '2019-01-08',\n",
       "               '2019-01-09', '2019-01-10', '2019-01-11', '2019-01-15',\n",
       "               '2019-01-16', '2019-01-17'],\n",
       "              dtype='datetime64[ns]', name='date', length=252, freq=None)"
      ]
     },
     "execution_count": 190,
     "metadata": {},
     "output_type": "execute_result"
    },
    {
     "name": "stdout",
     "output_type": "stream",
     "text": [
      "time: 8.25 ms (started: 2021-04-28 22:39:54 +00:00)\n"
     ]
    }
   ],
   "source": [
    "test_predictions.head()\n",
    "test_predictions.index.unique('date')"
   ]
  },
  {
   "cell_type": "code",
   "execution_count": null,
   "metadata": {},
   "outputs": [],
   "source": []
  }
 ],
 "metadata": {
  "environment": {
   "name": "common-cpu.m65",
   "type": "gcloud",
   "uri": "gcr.io/deeplearning-platform-release/base-cpu:m65"
  },
  "kernelspec": {
   "display_name": "Python 3",
   "language": "python",
   "name": "python3"
  },
  "language_info": {
   "codemirror_mode": {
    "name": "ipython",
    "version": 3
   },
   "file_extension": ".py",
   "mimetype": "text/x-python",
   "name": "python",
   "nbconvert_exporter": "python",
   "pygments_lexer": "ipython3",
   "version": "3.7.10"
  },
  "toc": {
   "base_numbering": 1,
   "nav_menu": {},
   "number_sections": true,
   "sideBar": true,
   "skip_h1_title": true,
   "title_cell": "Table of Contents",
   "title_sidebar": "Contents",
   "toc_cell": false,
   "toc_position": {
    "height": "calc(100% - 180px)",
    "left": "10px",
    "top": "150px",
    "width": "374.162px"
   },
   "toc_section_display": true,
   "toc_window_display": true
  }
 },
 "nbformat": 4,
 "nbformat_minor": 4
}
