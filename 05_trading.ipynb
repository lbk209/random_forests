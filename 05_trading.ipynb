{
 "cells": [
  {
   "cell_type": "code",
   "execution_count": null,
   "id": "adcd8c2b",
   "metadata": {},
   "outputs": [],
   "source": [
    "!pip install ipython-autotime\n",
    "!pip install lightgbm"
   ]
  },
  {
   "cell_type": "code",
   "execution_count": 1,
   "id": "9ed40245",
   "metadata": {},
   "outputs": [
    {
     "name": "stdout",
     "output_type": "stream",
     "text": [
      "time: 1.44 s (started: 2021-04-30 14:34:36 +00:00)\n"
     ]
    }
   ],
   "source": [
    "%matplotlib inline\n",
    "%load_ext autotime\n",
    "\n",
    "from time import time\n",
    "from io import StringIO\n",
    "import sys, os\n",
    "from tqdm import tqdm\n",
    "\n",
    "from itertools import product\n",
    "from pathlib import Path\n",
    "\n",
    "import numpy as np\n",
    "import pandas as pd\n",
    "import statsmodels.api as sm\n",
    "\n",
    "import matplotlib.pyplot as plt\n",
    "import seaborn as sns\n",
    "\n",
    "import lightgbm as lgb\n",
    "\n",
    "from sklearn.linear_model import LinearRegression\n",
    "from scipy.stats import spearmanr\n",
    "\n",
    "from utils import MultipleTimeSeriesCV, format_time\n",
    "\n",
    "sns.set_style('whitegrid')\n",
    "#np.random.seed(42) # for consistent cv\n",
    "idx = pd.IndexSlice\n"
   ]
  },
  {
   "cell_type": "code",
   "execution_count": 8,
   "id": "c227a6d8",
   "metadata": {},
   "outputs": [
    {
     "name": "stdout",
     "output_type": "stream",
     "text": [
      "time: 512 µs (started: 2021-04-30 14:46:22 +00:00)\n"
     ]
    }
   ],
   "source": [
    "# ignore following\n",
    "# /opt/conda/lib/python3.7/site-packages/lightgbm/basic.py:1433: UserWarning: Overriding the parameters from Reference Dataset.\n",
    "#  _log_warning('Overriding the parameters from Reference Dataset.')\n",
    "import warnings\n",
    "warnings.filterwarnings('ignore')"
   ]
  },
  {
   "cell_type": "code",
   "execution_count": 2,
   "id": "27d10659",
   "metadata": {},
   "outputs": [
    {
     "name": "stdout",
     "output_type": "stream",
     "text": [
      "time: 755 µs (started: 2021-04-30 14:34:39 +00:00)\n"
     ]
    }
   ],
   "source": [
    "### set path\n",
    "import os\n",
    "from pathlib import Path\n",
    "path_home = os.getcwd()\n",
    "path_home = Path(path_home)\n",
    "path_data = path_home / 'data'\n",
    "path_result = path_home / 'result'"
   ]
  },
  {
   "cell_type": "code",
   "execution_count": null,
   "id": "161700f0",
   "metadata": {},
   "outputs": [],
   "source": [
    "!gsutil cp gs://finance_data_bucket/lbk/rf/stooq_jp_data.zip .\n",
    "!unzip stooq_jp_data.zip\n",
    "\n",
    "!gsutil cp gs://finance_data_bucket/lbk/rf/stooq_jp_result.zip .\n",
    "!unzip stooq_jp_result.zip"
   ]
  },
  {
   "cell_type": "code",
   "execution_count": 3,
   "id": "cfb12b1d",
   "metadata": {},
   "outputs": [
    {
     "name": "stdout",
     "output_type": "stream",
     "text": [
      "time: 595 µs (started: 2021-04-30 14:34:57 +00:00)\n"
     ]
    }
   ],
   "source": [
    "YEAR = 252\n",
    "train_lengths = [5 * YEAR, 3 * YEAR, YEAR, 126, 63]\n",
    "test_lengths = [5, 21]\n",
    "val_length = 2 * YEAR"
   ]
  },
  {
   "cell_type": "code",
   "execution_count": 4,
   "id": "81ad6241",
   "metadata": {},
   "outputs": [
    {
     "name": "stdout",
     "output_type": "stream",
     "text": [
      "time: 739 µs (started: 2021-04-30 14:34:57 +00:00)\n"
     ]
    }
   ],
   "source": [
    "param_cols = ['train_length', 'test_length', 'bagging_fraction',\n",
    "              'feature_fraction', 'min_data_in_leaf', 'rounds']\n",
    "\n",
    "def get_params(data, t=5, best=0):\n",
    "    df = data[data.t == t].sort_values('ic', ascending=False).iloc[best]\n",
    "    df = df.loc[param_cols]\n",
    "    rounds = int(df.rounds)\n",
    "    params = pd.to_numeric(df.drop('rounds'))\n",
    "    return params, rounds"
   ]
  },
  {
   "cell_type": "code",
   "execution_count": 5,
   "id": "64862980",
   "metadata": {},
   "outputs": [
    {
     "name": "stdout",
     "output_type": "stream",
     "text": [
      "# of cpus: 2\n",
      "time: 1.25 ms (started: 2021-04-30 14:34:59 +00:00)\n"
     ]
    }
   ],
   "source": [
    "cpu_count = os.cpu_count()\n",
    "print('# of cpus:', cpu_count)\n",
    "\n",
    "base_params = dict(boosting_type='rf',\n",
    "                   objective='regression',\n",
    "                   bagging_freq=1,\n",
    "                   n_jobs=cpu_count,\n",
    "                   verbose=-1)"
   ]
  },
  {
   "cell_type": "code",
   "execution_count": 6,
   "id": "b764c86d",
   "metadata": {},
   "outputs": [
    {
     "data": {
      "text/html": [
       "<div>\n",
       "<style scoped>\n",
       "    .dataframe tbody tr th:only-of-type {\n",
       "        vertical-align: middle;\n",
       "    }\n",
       "\n",
       "    .dataframe tbody tr th {\n",
       "        vertical-align: top;\n",
       "    }\n",
       "\n",
       "    .dataframe thead th {\n",
       "        text-align: right;\n",
       "    }\n",
       "</style>\n",
       "<table border=\"1\" class=\"dataframe\">\n",
       "  <thead>\n",
       "    <tr style=\"text-align: right;\">\n",
       "      <th></th>\n",
       "      <th>t</th>\n",
       "      <th>train_length</th>\n",
       "      <th>test_length</th>\n",
       "      <th>bagging_fraction</th>\n",
       "      <th>feature_fraction</th>\n",
       "      <th>min_data_in_leaf</th>\n",
       "      <th>rounds</th>\n",
       "      <th>ic</th>\n",
       "    </tr>\n",
       "  </thead>\n",
       "  <tbody>\n",
       "    <tr>\n",
       "      <th>0</th>\n",
       "      <td>1</td>\n",
       "      <td>63</td>\n",
       "      <td>5</td>\n",
       "      <td>0.5</td>\n",
       "      <td>0.75</td>\n",
       "      <td>250</td>\n",
       "      <td>25</td>\n",
       "      <td>0.005485</td>\n",
       "    </tr>\n",
       "    <tr>\n",
       "      <th>1</th>\n",
       "      <td>1</td>\n",
       "      <td>63</td>\n",
       "      <td>5</td>\n",
       "      <td>0.5</td>\n",
       "      <td>0.75</td>\n",
       "      <td>250</td>\n",
       "      <td>50</td>\n",
       "      <td>0.004826</td>\n",
       "    </tr>\n",
       "    <tr>\n",
       "      <th>2</th>\n",
       "      <td>1</td>\n",
       "      <td>63</td>\n",
       "      <td>5</td>\n",
       "      <td>0.5</td>\n",
       "      <td>0.75</td>\n",
       "      <td>250</td>\n",
       "      <td>75</td>\n",
       "      <td>0.005358</td>\n",
       "    </tr>\n",
       "    <tr>\n",
       "      <th>3</th>\n",
       "      <td>1</td>\n",
       "      <td>63</td>\n",
       "      <td>5</td>\n",
       "      <td>0.5</td>\n",
       "      <td>0.75</td>\n",
       "      <td>250</td>\n",
       "      <td>100</td>\n",
       "      <td>0.004369</td>\n",
       "    </tr>\n",
       "    <tr>\n",
       "      <th>4</th>\n",
       "      <td>1</td>\n",
       "      <td>63</td>\n",
       "      <td>5</td>\n",
       "      <td>0.5</td>\n",
       "      <td>0.75</td>\n",
       "      <td>250</td>\n",
       "      <td>125</td>\n",
       "      <td>0.003739</td>\n",
       "    </tr>\n",
       "  </tbody>\n",
       "</table>\n",
       "</div>"
      ],
      "text/plain": [
       "   t  train_length  test_length  bagging_fraction  feature_fraction  \\\n",
       "0  1            63            5               0.5              0.75   \n",
       "1  1            63            5               0.5              0.75   \n",
       "2  1            63            5               0.5              0.75   \n",
       "3  1            63            5               0.5              0.75   \n",
       "4  1            63            5               0.5              0.75   \n",
       "\n",
       "   min_data_in_leaf  rounds        ic  \n",
       "0               250      25  0.005485  \n",
       "1               250      50  0.004826  \n",
       "2               250      75  0.005358  \n",
       "3               250     100  0.004369  \n",
       "4               250     125  0.003739  "
      ]
     },
     "execution_count": 6,
     "metadata": {},
     "output_type": "execute_result"
    },
    {
     "name": "stdout",
     "output_type": "stream",
     "text": [
      "time: 23.4 ms (started: 2021-04-30 14:35:00 +00:00)\n"
     ]
    }
   ],
   "source": [
    "daily_ic_avg = pd.read_csv(path_result / 'daily_ic_avg.csv')\n",
    "daily_ic_avg.head()"
   ]
  },
  {
   "cell_type": "code",
   "execution_count": 7,
   "id": "e5c9b34c",
   "metadata": {},
   "outputs": [
    {
     "name": "stdout",
     "output_type": "stream",
     "text": [
      "\n",
      "Lookahead: 01\n",
      "Position: 00\n"
     ]
    },
    {
     "name": "stderr",
     "output_type": "stream",
     "text": [
      "/opt/conda/lib/python3.7/site-packages/lightgbm/basic.py:1433: UserWarning: Overriding the parameters from Reference Dataset.\n",
      "  _log_warning('Overriding the parameters from Reference Dataset.')\n"
     ]
    },
    {
     "name": "stdout",
     "output_type": "stream",
     "text": [
      "Position: 01\n"
     ]
    },
    {
     "name": "stderr",
     "output_type": "stream",
     "text": [
      "/opt/conda/lib/python3.7/site-packages/lightgbm/basic.py:1433: UserWarning: Overriding the parameters from Reference Dataset.\n",
      "  _log_warning('Overriding the parameters from Reference Dataset.')\n"
     ]
    },
    {
     "name": "stdout",
     "output_type": "stream",
     "text": [
      "Position: 02\n"
     ]
    },
    {
     "name": "stderr",
     "output_type": "stream",
     "text": [
      "/opt/conda/lib/python3.7/site-packages/lightgbm/basic.py:1433: UserWarning: Overriding the parameters from Reference Dataset.\n",
      "  _log_warning('Overriding the parameters from Reference Dataset.')\n"
     ]
    },
    {
     "name": "stdout",
     "output_type": "stream",
     "text": [
      "Position: 03\n"
     ]
    },
    {
     "name": "stderr",
     "output_type": "stream",
     "text": [
      "/opt/conda/lib/python3.7/site-packages/lightgbm/basic.py:1433: UserWarning: Overriding the parameters from Reference Dataset.\n",
      "  _log_warning('Overriding the parameters from Reference Dataset.')\n"
     ]
    },
    {
     "name": "stdout",
     "output_type": "stream",
     "text": [
      "Position: 04\n"
     ]
    },
    {
     "name": "stderr",
     "output_type": "stream",
     "text": [
      "/opt/conda/lib/python3.7/site-packages/lightgbm/basic.py:1433: UserWarning: Overriding the parameters from Reference Dataset.\n",
      "  _log_warning('Overriding the parameters from Reference Dataset.')\n"
     ]
    },
    {
     "name": "stdout",
     "output_type": "stream",
     "text": [
      "Position: 05\n"
     ]
    },
    {
     "name": "stderr",
     "output_type": "stream",
     "text": [
      "/opt/conda/lib/python3.7/site-packages/lightgbm/basic.py:1433: UserWarning: Overriding the parameters from Reference Dataset.\n",
      "  _log_warning('Overriding the parameters from Reference Dataset.')\n"
     ]
    },
    {
     "name": "stdout",
     "output_type": "stream",
     "text": [
      "Position: 06\n"
     ]
    },
    {
     "name": "stderr",
     "output_type": "stream",
     "text": [
      "/opt/conda/lib/python3.7/site-packages/lightgbm/basic.py:1433: UserWarning: Overriding the parameters from Reference Dataset.\n",
      "  _log_warning('Overriding the parameters from Reference Dataset.')\n"
     ]
    },
    {
     "name": "stdout",
     "output_type": "stream",
     "text": [
      "Position: 07\n"
     ]
    },
    {
     "name": "stderr",
     "output_type": "stream",
     "text": [
      "/opt/conda/lib/python3.7/site-packages/lightgbm/basic.py:1433: UserWarning: Overriding the parameters from Reference Dataset.\n",
      "  _log_warning('Overriding the parameters from Reference Dataset.')\n"
     ]
    },
    {
     "name": "stdout",
     "output_type": "stream",
     "text": [
      "Position: 08\n"
     ]
    },
    {
     "name": "stderr",
     "output_type": "stream",
     "text": [
      "/opt/conda/lib/python3.7/site-packages/lightgbm/basic.py:1433: UserWarning: Overriding the parameters from Reference Dataset.\n",
      "  _log_warning('Overriding the parameters from Reference Dataset.')\n"
     ]
    },
    {
     "name": "stdout",
     "output_type": "stream",
     "text": [
      "Position: 09\n"
     ]
    },
    {
     "name": "stderr",
     "output_type": "stream",
     "text": [
      "/opt/conda/lib/python3.7/site-packages/lightgbm/basic.py:1433: UserWarning: Overriding the parameters from Reference Dataset.\n",
      "  _log_warning('Overriding the parameters from Reference Dataset.')\n"
     ]
    },
    {
     "data": {
      "image/png": "[encoded data removed]",
      "text/plain": [
       "<Figure size 1152x288 with 1 Axes>"
      ]
     },
     "metadata": {},
     "output_type": "display_data"
    },
    {
     "name": "stdout",
     "output_type": "stream",
     "text": [
      "time: 11min 20s (started: 2021-04-30 14:35:02 +00:00)\n"
     ]
    }
   ],
   "source": [
    "num_models = 10\n",
    "lookaheads = [1, 5, 10, 21]\n",
    "lookaheads = lookaheads[:1]\n",
    "train_start_year = '2012'\n",
    "\n",
    "for lookahead in lookaheads:\n",
    "    print(f'\\nLookahead: {lookahead:02}')\n",
    "    data = (pd.read_csv(path_data / 'stooq_jp_equities.csv', parse_dates=['date'])\n",
    "              .set_index(['ticker','date'])\n",
    "              .sort_index(level=['ticker','date'])\n",
    "              .loc[idx[:, train_start_year:], :]\n",
    "              )\n",
    "    labels = sorted(data.filter(like='fwd').columns)\n",
    "    features = data.columns.difference(labels).tolist()\n",
    "    label = f'fwd_ret_{lookahead:02}'\n",
    "    data = data.loc[:, features + [label]].dropna()\n",
    "\n",
    "    categoricals = ['year', 'weekday', 'month']\n",
    "    for feature in categoricals:\n",
    "        data[feature] = pd.factorize(data[feature], sort=True)[0]\n",
    "\n",
    "    lgb_data = lgb.Dataset(data=data[features],\n",
    "                           label=data[label],\n",
    "                           categorical_feature=categoricals,\n",
    "                           free_raw_data=False)\n",
    "    \n",
    "    for position in range(num_models):\n",
    "        params, num_boost_round = get_params(daily_ic_avg,\n",
    "                                             t=lookahead,\n",
    "                                             best=position)\n",
    "        params = params.to_dict()\n",
    "        params['min_data_in_leaf'] = int(params['min_data_in_leaf'])\n",
    "        train_length = int(params.pop('train_length'))\n",
    "        test_length = int(params.pop('test_length'))\n",
    "        params.update(base_params)\n",
    "\n",
    "        print(f'Position: {position:02}')\n",
    "\n",
    "        n_splits = int(val_length / test_length)\n",
    "        cv = MultipleTimeSeriesCV(n_splits=n_splits,\n",
    "                                  test_period_length=test_length,\n",
    "                                  lookahead=lookahead,\n",
    "                                  train_period_length=train_length)\n",
    "\n",
    "        predictions = []\n",
    "        start = time()\n",
    "        for i, (train_idx, test_idx) in enumerate(cv.split(X=data), 1):\n",
    "            train_set = lgb_data.subset(used_indices=train_idx.tolist(),\n",
    "                                        #params=params).construct()\n",
    "                                        params=params)\n",
    "    \n",
    "            model = lgb.train(params=params,\n",
    "                              train_set=train_set,\n",
    "                              num_boost_round=num_boost_round,\n",
    "                              categorical_feature=categoricals, \n",
    "                              verbose_eval=False)\n",
    "        \n",
    "            test_set = data.iloc[test_idx, :]\n",
    "            y_test = test_set.loc[:, label].to_frame('y_test')\n",
    "            y_pred = model.predict(test_set.loc[:, model.feature_name()])\n",
    "            predictions.append(y_test.assign(prediction=y_pred))\n",
    "            #train_test_perdios_msg(train_idx, test_idx, data)\n",
    "            \n",
    "        if position == 0:\n",
    "            test_predictions = (pd.concat(predictions)\n",
    "                                .rename(columns={'prediction': position}))\n",
    "        else:\n",
    "            test_predictions[position] = pd.concat(predictions).prediction\n",
    "        \n",
    "    by_day = test_predictions.groupby(level='date')\n",
    "    for position in range(num_models):\n",
    "        if position == 0:\n",
    "            ic_by_day = by_day.apply(lambda x: spearmanr(x.y_test, x[position])[0]).to_frame()\n",
    "        else:\n",
    "            ic_by_day[position] = by_day.apply(lambda x: spearmanr(x.y_test, x[position])[0])\n",
    "    test_predictions = test_predictions.sort_index(level=['ticker','date'])\n",
    "    test_predictions.to_csv(path_result / f'test_{lookahead:02}.csv')\n",
    "\n",
    "# plot ic\n",
    "fig, ax = plt.subplots(figsize=(16, 4))\n",
    "sns.boxenplot(x='position', y='ic daily', \n",
    "                   data=pd.melt(ic_by_day).rename(columns={'variable':'position', 'value':'ic daily'}),\n",
    "                   ax=ax )\n",
    "ax.axhline(0, ls='--', lw=1, c='k');"
   ]
  },
  {
   "cell_type": "code",
   "execution_count": 10,
   "id": "48d82bcc",
   "metadata": {},
   "outputs": [
    {
     "data": {
      "text/html": [
       "<div>\n",
       "<style scoped>\n",
       "    .dataframe tbody tr th:only-of-type {\n",
       "        vertical-align: middle;\n",
       "    }\n",
       "\n",
       "    .dataframe tbody tr th {\n",
       "        vertical-align: top;\n",
       "    }\n",
       "\n",
       "    .dataframe thead th {\n",
       "        text-align: right;\n",
       "    }\n",
       "</style>\n",
       "<table border=\"1\" class=\"dataframe\">\n",
       "  <thead>\n",
       "    <tr style=\"text-align: right;\">\n",
       "      <th></th>\n",
       "      <th></th>\n",
       "      <th>y_test</th>\n",
       "      <th>0</th>\n",
       "      <th>1</th>\n",
       "      <th>2</th>\n",
       "      <th>3</th>\n",
       "      <th>4</th>\n",
       "      <th>5</th>\n",
       "      <th>6</th>\n",
       "      <th>7</th>\n",
       "      <th>8</th>\n",
       "      <th>9</th>\n",
       "    </tr>\n",
       "    <tr>\n",
       "      <th>ticker</th>\n",
       "      <th>date</th>\n",
       "      <th></th>\n",
       "      <th></th>\n",
       "      <th></th>\n",
       "      <th></th>\n",
       "      <th></th>\n",
       "      <th></th>\n",
       "      <th></th>\n",
       "      <th></th>\n",
       "      <th></th>\n",
       "      <th></th>\n",
       "      <th></th>\n",
       "    </tr>\n",
       "  </thead>\n",
       "  <tbody>\n",
       "    <tr>\n",
       "      <th rowspan=\"5\" valign=\"top\">9990.JP</th>\n",
       "      <th>2019-12-23</th>\n",
       "      <td>0.000000</td>\n",
       "      <td>0.001846</td>\n",
       "      <td>0.002281</td>\n",
       "      <td>0.002532</td>\n",
       "      <td>0.002624</td>\n",
       "      <td>0.002454</td>\n",
       "      <td>0.002568</td>\n",
       "      <td>0.002120</td>\n",
       "      <td>0.001899</td>\n",
       "      <td>0.001989</td>\n",
       "      <td>0.003142</td>\n",
       "    </tr>\n",
       "    <tr>\n",
       "      <th>2019-12-24</th>\n",
       "      <td>-0.009687</td>\n",
       "      <td>-0.007577</td>\n",
       "      <td>-0.007517</td>\n",
       "      <td>-0.007333</td>\n",
       "      <td>-0.007140</td>\n",
       "      <td>-0.007887</td>\n",
       "      <td>-0.007141</td>\n",
       "      <td>-0.008148</td>\n",
       "      <td>-0.008292</td>\n",
       "      <td>-0.008336</td>\n",
       "      <td>-0.010199</td>\n",
       "    </tr>\n",
       "    <tr>\n",
       "      <th>2019-12-25</th>\n",
       "      <td>0.001071</td>\n",
       "      <td>-0.006976</td>\n",
       "      <td>-0.007154</td>\n",
       "      <td>-0.007083</td>\n",
       "      <td>-0.006929</td>\n",
       "      <td>-0.001734</td>\n",
       "      <td>-0.006902</td>\n",
       "      <td>-0.001968</td>\n",
       "      <td>-0.002126</td>\n",
       "      <td>-0.002060</td>\n",
       "      <td>-0.001598</td>\n",
       "    </tr>\n",
       "    <tr>\n",
       "      <th>2019-12-26</th>\n",
       "      <td>0.000000</td>\n",
       "      <td>-0.007262</td>\n",
       "      <td>-0.007413</td>\n",
       "      <td>-0.007475</td>\n",
       "      <td>-0.007359</td>\n",
       "      <td>-0.007828</td>\n",
       "      <td>-0.007233</td>\n",
       "      <td>-0.008084</td>\n",
       "      <td>-0.008249</td>\n",
       "      <td>-0.008295</td>\n",
       "      <td>-0.010199</td>\n",
       "    </tr>\n",
       "    <tr>\n",
       "      <th>2019-12-27</th>\n",
       "      <td>-0.003257</td>\n",
       "      <td>-0.008236</td>\n",
       "      <td>-0.008439</td>\n",
       "      <td>-0.008359</td>\n",
       "      <td>-0.008038</td>\n",
       "      <td>-0.007035</td>\n",
       "      <td>-0.007970</td>\n",
       "      <td>-0.007296</td>\n",
       "      <td>-0.007470</td>\n",
       "      <td>-0.007516</td>\n",
       "      <td>-0.009217</td>\n",
       "    </tr>\n",
       "  </tbody>\n",
       "</table>\n",
       "</div>"
      ],
      "text/plain": [
       "                      y_test         0         1         2         3  \\\n",
       "ticker  date                                                           \n",
       "9990.JP 2019-12-23  0.000000  0.001846  0.002281  0.002532  0.002624   \n",
       "        2019-12-24 -0.009687 -0.007577 -0.007517 -0.007333 -0.007140   \n",
       "        2019-12-25  0.001071 -0.006976 -0.007154 -0.007083 -0.006929   \n",
       "        2019-12-26  0.000000 -0.007262 -0.007413 -0.007475 -0.007359   \n",
       "        2019-12-27 -0.003257 -0.008236 -0.008439 -0.008359 -0.008038   \n",
       "\n",
       "                           4         5         6         7         8         9  \n",
       "ticker  date                                                                    \n",
       "9990.JP 2019-12-23  0.002454  0.002568  0.002120  0.001899  0.001989  0.003142  \n",
       "        2019-12-24 -0.007887 -0.007141 -0.008148 -0.008292 -0.008336 -0.010199  \n",
       "        2019-12-25 -0.001734 -0.006902 -0.001968 -0.002126 -0.002060 -0.001598  \n",
       "        2019-12-26 -0.007828 -0.007233 -0.008084 -0.008249 -0.008295 -0.010199  \n",
       "        2019-12-27 -0.007035 -0.007970 -0.007296 -0.007470 -0.007516 -0.009217  "
      ]
     },
     "execution_count": 10,
     "metadata": {},
     "output_type": "execute_result"
    },
    {
     "name": "stdout",
     "output_type": "stream",
     "text": [
      "time: 16.3 ms (started: 2021-04-30 15:45:42 +00:00)\n"
     ]
    }
   ],
   "source": [
    "# implemet for the case of y_test not known yet\n",
    "test_predictions.tail()"
   ]
  },
  {
   "cell_type": "code",
   "execution_count": null,
   "id": "eba7f37c",
   "metadata": {},
   "outputs": [],
   "source": []
  },
  {
   "cell_type": "code",
   "execution_count": null,
   "id": "d872e237",
   "metadata": {},
   "outputs": [],
   "source": []
  },
  {
   "cell_type": "code",
   "execution_count": null,
   "id": "41b87d9b",
   "metadata": {},
   "outputs": [],
   "source": []
  },
  {
   "cell_type": "code",
   "execution_count": null,
   "id": "0d1ed26a",
   "metadata": {},
   "outputs": [],
   "source": []
  },
  {
   "cell_type": "code",
   "execution_count": null,
   "id": "b728fcc1",
   "metadata": {},
   "outputs": [],
   "source": []
  },
  {
   "cell_type": "code",
   "execution_count": null,
   "id": "414af7a3",
   "metadata": {},
   "outputs": [],
   "source": []
  }
 ],
 "metadata": {
  "environment": {
   "name": "common-cpu.m65",
   "type": "gcloud",
   "uri": "gcr.io/deeplearning-platform-release/base-cpu:m65"
  },
  "kernelspec": {
   "display_name": "Python 3",
   "language": "python",
   "name": "python3"
  },
  "language_info": {
   "codemirror_mode": {
    "name": "ipython",
    "version": 3
   },
   "file_extension": ".py",
   "mimetype": "text/x-python",
   "name": "python",
   "nbconvert_exporter": "python",
   "pygments_lexer": "ipython3",
   "version": "3.7.10"
  }
 },
 "nbformat": 4,
 "nbformat_minor": 5
}
